{
 "cells": [
  {
   "cell_type": "markdown",
   "metadata": {},
   "source": [
    "# Assessment\n",
    "\n",
    "There are two components of assessment in this course:\n",
    "\n",
    "- Individual coursework (50%)\n",
    "- Group coursework (50%)\n",
    "\n",
    "---\n",
    "\n",
    "## Individual coursework\n",
    "\n",
    "**Due date: Week 9**\n",
    "\n",
    "This is an automatically marked programming exercise. The notebook file is [here](/{{root}}/assets/assessment/mock/ind/assignment.ipynb)\n",
    "\n",
    "---\n",
    "\n",
    "## Group coursework\n",
    "\n",
    "As a group you will submit a 2 page paper and give an oral presentation on an application of Game theory to a problem of your choice.\n",
    "\n",
    "### 2 Page Paper\n",
    "\n",
    "- **Summary**: Has a clear description of the high-level work undertaken been given.  [10%]\n",
    "- **A statement of need**: Do the authors clearly state what problems their work is applied to.\n",
    "- **State of the field**: Do the authors describe how any other work relates to theirs? [10%]\n",
    "- **Quality of writing**: Is the paper well written (i.e., it does not\n",
    "  require editing for structure, language, or writing quality)? [10%]\n",
    "- **References**: Is the list of references complete, and is everything\n",
    "  cited appropriately that should be cited (e.g., papers, datasets,\n",
    "  software)? Do references in the text use the proper citation syntax? [10%]\n",
    "\n",
    "### 15 Minute Presentation\n",
    "\n",
    "- **Scope**: Are the details of the work clear? [10%]\n",
    "- **Theory**: Is an understanding of relevant theory demonstrated?\n",
    "  [10%]\n",
    "- **Code**: Is code well written and appropriate? [10%]\n",
    "- **Accuracy**: Is the work correct? [10%]\n",
    "- **Presentation**: Was the presentation format used appropriately? Were the\n",
    "  visual aids appropriate? [10%]\n",
    "\n",
    "\n",
    "Examples of presentations are available at: https://vknight.org/pop/"
   ]
  }
 ],
 "metadata": {
  "anaconda-cloud": {},
  "kernelspec": {
   "display_name": "Python 3",
   "language": "python",
   "name": "python3"
  },
  "language_info": {
   "codemirror_mode": {
    "name": "ipython",
    "version": 3
   },
   "file_extension": ".py",
   "mimetype": "text/x-python",
   "name": "python",
   "nbconvert_exporter": "python",
   "pygments_lexer": "ipython3",
   "version": "3.8.3"
  }
 },
 "nbformat": 4,
 "nbformat_minor": 2
}
