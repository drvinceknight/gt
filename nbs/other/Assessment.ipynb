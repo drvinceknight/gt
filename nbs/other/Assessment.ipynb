{
 "cells": [
  {
   "cell_type": "markdown",
   "metadata": {},
   "source": [
    "# Assessment\n",
    "\n",
    "There are two components of assessment in this course:\n",
    "\n",
    "- Individual coursework (25%)\n",
    "- Exam (75%)\n",
    "\n",
    "---\n",
    "\n",
    "## Individual coursework\n",
    "\n",
    "**Due date: 2020-03-27 (Week 9)**\n",
    "\n",
    "**Goal:** Demonstrate your understanding of an aspect of game theory.\n",
    "\n",
    "**How:** Write a 2 page (**strict** upper limit) report that illustrates an aspect of game theory using a programming language.\n",
    "\n",
    "I recommend you use Python for the programming language (you can make use of the various code snippets included in the notes) but you are free to use any software you want. \n",
    "\n",
    "**You will submit a pdf via turnitin on learning central.**\n",
    "\n",
    "### Marking critera\n",
    "\n",
    "- Scope 50%: Your depth of understanding of the subject.\n",
    "- Presentation 25% - How well written the report is.\n",
    "- Code 25% - Your use of code.\n",
    "\n",
    "**The choice of subject is yours, here are two potential general directions:**\n",
    "\n",
    "- Prove and illustrate a theorem from the notes (or otherwise);\n",
    "- Model a real world scenario using game theory.\n",
    "\n",
    "---\n",
    "\n",
    "## Exam\n",
    "\n",
    "This will be a standard 3rd year Cardiff University, School of Mathematics exam: you will choose 3 questions from a collection of 4.\n",
    "\n",
    "Each question will be out of 25 marks. This is to be seen to roughly correspond to:\n",
    "\n",
    "- 10 marks covering aspects directly seen in the notes (proving seen theorems, performing similar calculations;\n",
    "- 10 marks extending things seen in the notes (proving similar theorems, considering particular games);\n",
    "- 5 marks on unseen materials\n",
    "\n",
    "A slight particularity of the course is that it is possible that you are asked questions about current contemporary research based on the papers discussed in http://vknight.org/gt/chapters/13/"
   ]
  }
 ],
 "metadata": {
  "anaconda-cloud": {},
  "kernelspec": {
   "display_name": "GT",
   "language": "python",
   "name": "gt"
  },
  "language_info": {
   "codemirror_mode": {
    "name": "ipython",
    "version": 3
   },
   "file_extension": ".py",
   "mimetype": "text/x-python",
   "name": "python",
   "nbconvert_exporter": "python",
   "pygments_lexer": "ipython3",
   "version": "3.6.8"
  }
 },
 "nbformat": 4,
 "nbformat_minor": 2
}
