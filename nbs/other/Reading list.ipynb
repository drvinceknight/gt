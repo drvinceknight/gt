{
 "cells": [
  {
   "cell_type": "markdown",
   "metadata": {},
   "source": [
    "# Reading list\n",
    "\n",
    "## Books\n",
    "\n",
    "**The 3 main texts that complement/follow this course are:**\n",
    "\n",
    "- Nash equilibrium [Algorithmic Game Theory by Noam Nisan, Tim Roughgarden, Eva Tardos and Vijay V. Vazirani](https://www.amazon.co.uk/d/Books/Algorithmic-Game-Theory-Noam-Nisan/0521872820/ref=sr_1_2?ie=UTF8&qid=1500820951&sr=8-2&keywords=algorithmic+game+theory).\n",
    "- Repeated games [The evolution of cooperation by Robert Axelrod](https://www.amazon.co.uk/Evolution-Co-Operation-Penguin-Press-Science/dp/0140124950/ref=sr_1_1?ie=UTF8&qid=1500830024&sr=8-1&keywords=the+evolution+of+cooperation).\n",
    "- Evolutionary game theory [Evolutionary dynamics by Martin Nowak](https://www.amazon.co.uk/Evolutionary-Dynamics-Exploring-Equations-Life-x/dp/0674023382/ref=sr_1_1?ie=UTF8&qid=1500830048&sr=8-1&keywords=evolutionary+dynamics+nowak).\n",
    "\n",
    "Other books:\n",
    "\n",
    "- [Game Theory by Michael Maschler, Eilon Solan and Shmuel Zamir](https://www.amazon.co.uk/Game-Theory-Michael-Maschler/dp/1107005485)\n",
    "- [GAME THEORY An open access textbook with 165 solved exercises by Giacomo Bonanno](https://arxiv.org/abs/1512.06808)\n",
    "- [Strategy: An introduction to Game Theory by Joel Watson](https://www.amazon.co.uk/gp/product/0393929345/ref=pd_lpo_sbs_dp_ss_1?pf_rd_p=103612307&pf_rd_s=lpo-top-stripe&pf_rd_t=201&pf_rd_i=0393976483&pf_rd_m=A3P5ROKL5A1OLE&pf_rd_r=0BE4W0BXXBE8Q2YNV72B)\n",
    "- [An Introduction to Game Theory by Martin Osborne](https://www.amazon.co.uk/Introduction-Game-Theory-Martin-Osborne/dp/0195128958/ref=sr_1_1?s=books&ie=UTF8&qid=1390326628&sr=1-1&keywords=osborne+game+theory)\n",
    "- [Think complexity by Allen Downey](http://greenteapress.com/wp/think-complexity/)\n",
    "\n",
    "## Web resources:\n",
    "\n",
    "- [Ben Polak's Yale course youtube playlist](https://www.youtube.com/playlist?list=PL6EF60E1027E1A10B&feature=plcp)\n",
    "- [www.gametheory.net/](http://www.gametheory.net/)\n",
    "- [Game theory reddit sub](https://www.reddit.com/r/GAMETHEORY/)\n",
    "- [A very cool interactive web game about the Prisoners Dilemma and Moran Processes](http://ncase.me/trust/)\n",
    "- [Documentation for the Axelrod library with background information](http://axelrod.readthedocs.io/en/stable/)\n",
    "- [Documentation for the Nashpy library with background information](http://nashpy.readthedocs.io/en/stable/)\n",
    "- [EGT blog - an evolutionary game theory blog](https://egtheory.wordpress.com/)\n",
    "- [Twitter account for the Axelrod library with tweets of matches and tournaments](https://twitter.com/AxelrodPython/)\n",
    "- [Recent research pre prints on Game Theory](https://arxiv.org/list/cs.GT/recent)\n",
    "\n",
    "## Some game theorists:\n",
    "\n",
    "- [Twitter account for David Basanta](https://twitter.com/dbasanta)\n",
    "- [Twitter account for Jacob G Scott](https://twitter.com/CancerConnector)\n",
    "- [Twitter account for Artem Kaznatcheev](https://twitter.com/kaznatcheev)\n",
    "- [Twitter account for Martin Nowak](https://twitter.com/DrMANowak)\n",
    "- [Twitter account for Jorge Peña](https://twitter.com/jorgeapenas)\n",
    "- [Twitter account for Yoav Shoham](https://twitter.com/yshoham?lang=en)\n",
    "- [Twitter account for Kevin Leyton Brown](https://twitter.com/k_leyton_brown?lang=en)"
   ]
  }
 ],
 "metadata": {
  "anaconda-cloud": {},
  "kernelspec": {
   "display_name": "Python [conda env:gt]",
   "language": "python",
   "name": "conda-env-gt-py"
  },
  "language_info": {
   "codemirror_mode": {
    "name": "ipython",
    "version": 3
   },
   "file_extension": ".py",
   "mimetype": "text/x-python",
   "name": "python",
   "nbconvert_exporter": "python",
   "pygments_lexer": "ipython3",
   "version": "3.6.1"
  }
 },
 "nbformat": 4,
 "nbformat_minor": 2
}
