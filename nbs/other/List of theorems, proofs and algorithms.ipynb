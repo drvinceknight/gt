{
 "cells": [
  {
   "cell_type": "markdown",
   "metadata": {},
   "source": [
    "# List of theorems, proofs and algorithms\n",
    "\n",
    "This **is not** an exhaustive list of examinable material. It is meant as a helpful page with hyperlinks to corresponds sections.\n",
    "\n",
    "## Theorems and proofs\n",
    "\n",
    "1. [Best response condition](http://vknight.org/gt/chapters/04/#Best-response-condition)\n",
    "2. [Nash's theorem](http://vknight.org/gt/chapters/05/#Nash's-theorem)  (proof not examinable)\n",
    "3. [Theorem of sequence of stage Nash equiliria](http://vknight.org/gt/chapters/08/#Theorem-of-sequence-of-stage-Nash-equilibria)\n",
    "4. [Steady state probabilities for match between reactive players](http://vknight.org/gt/chapters/09/#Theorem:-steady-state-probabilities-for-match-between-reactive-players)\n",
    "5. [General condition for evolutionary stability](http://vknight.org/gt/chapters/11/#General-condition-for-ESS)\n",
    "6. [Fixation probabilities for the birth death process](http://vknight.org/gt/chapters/12/#Theorem:-Fixation-probabilities-for-the-birth-death-process)\n",
    "\n",
    "## Algorithms\n",
    "\n",
    "1. [Support enumeration algorithm](http://vknight.org/gt/chapters/05/#Support-enumeration-algorithm)\n",
    "2. [Vertex enumeration algorithm](http://vknight.org/gt/chapters/06/#Vertex-enumeration-algorithm)\n",
    "3. [The Lemke Howson algorithm](http://vknight.org/gt/chapters/07/#The-Lemke-Howson-algorithm)"
   ]
  }
 ],
 "metadata": {
  "anaconda-cloud": {},
  "kernelspec": {
   "display_name": "Python [conda env:gt]",
   "language": "python",
   "name": "conda-env-gt-py"
  },
  "language_info": {
   "codemirror_mode": {
    "name": "ipython",
    "version": 3
   },
   "file_extension": ".py",
   "mimetype": "text/x-python",
   "name": "python",
   "nbconvert_exporter": "python",
   "pygments_lexer": "ipython3",
   "version": "3.6.1"
  }
 },
 "nbformat": 4,
 "nbformat_minor": 2
}
