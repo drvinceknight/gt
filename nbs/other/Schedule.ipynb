{
 "cells": [
  {
   "cell_type": "markdown",
   "metadata": {},
   "source": [
    "# Approximate weekly schedule\n",
    "\n",
    "- Week 1:\n",
    "    - About the course\n",
    "    - Normal form games\n",
    "- Week 2:\n",
    "    - Calculating utilities of strategies\n",
    "    - Rationalisation\n",
    "- Week 3:\n",
    "    - Nash equilibria\n",
    "- Week 4:\n",
    "    - Repeated Games\n",
    "    - Prisoners Dilemma\n",
    "- Week 5:\n",
    "    - Evolutionary Game Theory \n",
    "- Week 6:\n",
    "    - Moran processes\n",
    "    - Release of individual coursework Friday the 11th of March\n",
    "- Week 7:\n",
    "    - Mock coursework\n",
    "- Week 8:\n",
    "    - Slack\n",
    "- Week 9:\n",
    "    - Individual coursework deadline: Friday the 1st of April\n",
    "- Week 10:\n",
    "    - Principles of presentation: https://vknight.org/pop/\n",
    "    - Group coursework paper deadline: Friday the 29th of April\n",
    "- Week 11:\n",
    "    - Group presentations"
   ]
  }
 ],
 "metadata": {
  "kernelspec": {
   "display_name": "Python 3",
   "language": "python",
   "name": "python3"
  },
  "language_info": {
   "codemirror_mode": {
    "name": "ipython",
    "version": 3
   },
   "file_extension": ".py",
   "mimetype": "text/x-python",
   "name": "python",
   "nbconvert_exporter": "python",
   "pygments_lexer": "ipython3",
   "version": "3.8.3"
  }
 },
 "nbformat": 4,
 "nbformat_minor": 4
}
