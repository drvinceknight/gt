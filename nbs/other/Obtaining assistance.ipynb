{
 "cells": [
  {
   "cell_type": "markdown",
   "metadata": {},
   "source": [
    "# Obtaining assistance\n",
    "\n",
    "There are numerous ways for a student on the course to get in touch with me. Choose any of the following that you feel most comfortable with:\n",
    "\n",
    "- My email: knightva@cardiff.ac.uk\n",
    "- I will be sending invitations to a discord server (a messaging application).\n",
    "- Come and talk to me during weekly office hours.\n",
    "\n",
    "When getting in touch there are a few things you can do to help me provide the required assistance efficiently:\n",
    "\n",
    "- Provide some context. For example, on the class site you can obtain a link for a specific header on any page. For example the Best response theorem can be found here: http://vknight.org/gt/chapters/04/#Best-response-condition. Using this might let me help you more quickly than \"in that theorem thing we looked at a couple of weeks ago\" (true story...).\n",
    "- Let me know what you've tried and what's not working. For example: \"I've worked through the calculation at http://vknight.org/gt/chapters/05/#2-by-2-example-of-support-enumeration but I seem unable to find the equations you have in step 3\" will let me help you faster than \"I don't understand anything about support enumeration\" (true story...).\n",
    "\n",
    "Don't worry if you're not actually too sure of the context or what you have tried. I'm always glad if a student gets in touch with questions and we will work together to figure out what you don't understand and address it. :)"
   ]
  }
 ],
 "metadata": {
  "anaconda-cloud": {},
  "kernelspec": {
   "display_name": "Python 3",
   "language": "python",
   "name": "python3"
  },
  "language_info": {
   "codemirror_mode": {
    "name": "ipython",
    "version": 3
   },
   "file_extension": ".py",
   "mimetype": "text/x-python",
   "name": "python",
   "nbconvert_exporter": "python",
   "pygments_lexer": "ipython3",
   "version": "3.8.3"
  }
 },
 "nbformat": 4,
 "nbformat_minor": 2
}
