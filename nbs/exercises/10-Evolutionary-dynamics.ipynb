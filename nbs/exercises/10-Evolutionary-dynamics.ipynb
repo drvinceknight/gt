{
 "cells": [
  {
   "cell_type": "markdown",
   "metadata": {},
   "source": [
    "# Evolutionary dynamics - exercises\n",
    "\n",
    "1. Verify that $x(t)=x_0e^{at}\\text{ where }x_0=x(0)$ is the solution to the following differential equation:\n",
    "   $$\\frac{dx}{dt}=ax$$\n",
    "2. Verify that $\\rho(t) = \\rho_0e^{(a-b)t}\\text{ where }\\rho_0=\\rho(0)$ is the expression for $\\rho(t)=\\frac{x(t)}{y(t)}$ where:\n",
    "   $$\\frac{dx}{dt}=ax\\qquad\\frac{dy}{dt}=by$$\n",
    "3. What is the mean fitness in a population with:\n",
    "   1. $x=.6$, $y=.4$ and $a=5$, $b=12$.\n",
    "   2. $x=.2$, $y=.8$ and $a=6$, $b=3$.\n",
    "   3. $x=.5$, $y=.5$ and $a=53$, $b=1$.\n",
    "\n",
    "4. Show that the following system of differential equation has 3 potential stable solutions (what are they): $$\\frac{dx}{dt}=x(a - \\phi)\\qquad\\frac{dy}{dt}=y(b - \\phi)$$"
   ]
  }
 ],
 "metadata": {
  "anaconda-cloud": {},
  "kernelspec": {
   "display_name": "Python [conda env:gt]",
   "language": "python",
   "name": "conda-env-gt-py"
  },
  "language_info": {
   "codemirror_mode": {
    "name": "ipython",
    "version": 3
   },
   "file_extension": ".py",
   "mimetype": "text/x-python",
   "name": "python",
   "nbconvert_exporter": "python",
   "pygments_lexer": "ipython3",
   "version": "3.6.1"
  }
 },
 "nbformat": 4,
 "nbformat_minor": 2
}
