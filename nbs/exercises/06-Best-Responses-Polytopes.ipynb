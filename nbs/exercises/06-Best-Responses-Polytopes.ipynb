{
 "cells": [
  {
   "cell_type": "markdown",
   "metadata": {},
   "source": [
    "# Best response polytopes - exercises\n",
    "\n",
    "1. Define a polytope as a convex hull\n",
    "2. Define a polytope as an intersection of halfspaces\n",
    "3. For the following set of vertices draw the corresponding polytope **and** obtain their definition as an intersection of halfspaces:\n",
    "   1. V = $\\{(0, 0), (0, 1), (1, 0), (1, 1)\\}$\n",
    "   2. V = $\\{(0, 0), (0, 1/4), (1, 2/3), (2, 1/5)\\}$\n",
    "   3. V = $\\{(0, 0), (0, 1/4), (1, 2/3), (2, 1/5), (1, 0)\\}$\n",
    "4. Define the best response polytopes.\n",
    "5. For the following games, obtain the best response polytopes, label the vertices and identify all Nash equilibria:\n",
    "   1. $\n",
    "   A =\n",
    "   \\begin{pmatrix}\n",
    "   3 & -1\\\\\n",
    "   2 & 7\\end{pmatrix}\n",
    "   \\qquad\n",
    "   B =\n",
    "   \\begin{pmatrix}\n",
    "   -3 & 1\\\\\n",
    "   1 & -6\\end{pmatrix}\n",
    "   $  \n",
    "   2. $\n",
    "   A =\n",
    "   \\begin{pmatrix}\n",
    "   2 & -1\\\\\n",
    "   1 & 3\\end{pmatrix}\n",
    "   \\qquad\n",
    "   B =\n",
    "   \\begin{pmatrix}\n",
    "   -2 & 2\\\\\n",
    "   1 & -2\\end{pmatrix}\n",
    "   $"
   ]
  }
 ],
 "metadata": {
  "anaconda-cloud": {},
  "kernelspec": {
   "display_name": "Python [conda env:gt]",
   "language": "python",
   "name": "conda-env-gt-py"
  },
  "language_info": {
   "codemirror_mode": {
    "name": "ipython",
    "version": 3
   },
   "file_extension": ".py",
   "mimetype": "text/x-python",
   "name": "python",
   "nbconvert_exporter": "python",
   "pygments_lexer": "ipython3",
   "version": "3.6.1"
  }
 },
 "nbformat": 4,
 "nbformat_minor": 2
}
