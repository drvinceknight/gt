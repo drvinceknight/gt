{
 "cells": [
  {
   "cell_type": "markdown",
   "metadata": {},
   "source": [
    "# Calculating utilities of strategies - Exercises\n",
    "\n",
    "1. Give the definition of a mixed strategy.\n",
    "2. For the following vectors explain which ones are valid mixed strategy vectors for a strategy set of size 5. If there are not: explain why.\n",
    "   1. $\\sigma=(1, 0, 0, 0, 0)$\n",
    "   2. $\\sigma=(1/4, 1/4, 0, 0, 1/4)$\n",
    "   3. $\\sigma=(1/4, 1/4, 1/2, -1/2, 1/2)$\n",
    "   4. $\\sigma=(1/4, 1/4, 0, 0, 11/20)$\n",
    "   5. $\\sigma=(1/5, 1/5, 1/5, 1/5, 1/5)$\n",
    "3. Calculate the utilities (for both the row and column player) for the following game for the following strategy pairs:\n",
    "\n",
    "   $$\n",
    "   A =\n",
    "   \\begin{pmatrix}\n",
    "   1 & -1\\\\\n",
    "   -3 & 1\\end{pmatrix}\n",
    "   \\qquad\n",
    "   B =\n",
    "   \\begin{pmatrix}\n",
    "   -1 & 2\\\\\n",
    "   1 & -1\\end{pmatrix}\n",
    "   $$\n",
    "\n",
    "   1. $\\sigma_r = (.2, .8)\\qquad\\sigma_c = (.6, .4)$\n",
    "   2. $\\sigma_r = (.3, .7)\\qquad\\sigma_c = (.2, .8)$\n",
    "   3. $\\sigma_r = (.9, .1)\\qquad\\sigma_c = (.5, .5)$\n",
    "    \n",
    "4. Consider two column player strategies $z^{(1)}$ and $z^{(2)}$, obtain a linear algebraic expression for the expected utility to the row player playing against both these strategies, in terms of a row strategy $\\sigma_r$, a payoff matrix $A$ and $\\sigma_c=\\frac{z^{(1)} + z^{(2)}}{2}$"
   ]
  }
 ],
 "metadata": {
  "anaconda-cloud": {},
  "kernelspec": {
   "display_name": "Python [conda env:gt]",
   "language": "python",
   "name": "conda-env-gt-py"
  },
  "language_info": {
   "codemirror_mode": {
    "name": "ipython",
    "version": 3
   },
   "file_extension": ".py",
   "mimetype": "text/x-python",
   "name": "python",
   "nbconvert_exporter": "python",
   "pygments_lexer": "ipython3",
   "version": "3.6.1"
  }
 },
 "nbformat": 4,
 "nbformat_minor": 2
}
