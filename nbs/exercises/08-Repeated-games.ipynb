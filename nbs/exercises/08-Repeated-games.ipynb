{
 "cells": [
  {
   "cell_type": "markdown",
   "metadata": {},
   "source": [
    "# Repeated games - exercises\n",
    "\n",
    "1. Define a repeated game.\n",
    "2. Define a strategy for a repeated game.\n",
    "3. Write the full potential history $\\bigcup_{t=0}^{T-1}H(t)$ for repeated games with $T$ periods in the following cases:\n",
    "   1. $S_1=S_2=\\{0, 1\\}$ and $T=2$\n",
    "   2. $S_1=\\{r_1, r_2\\}\\;S_2=\\{c_1, c_2\\}$ and $T=3$\n",
    "4. Obtain a formula for $\\left|\\bigcup_{t=0}^{T-1}H(t)\\right|$ in terms of $S_1, S_2$ and $T$.\n",
    "5. State and prove the theorem of sequence of stage Nash equilibria.\n",
    "6. Obtain all sequence of stage Nash equilibria as well as another Nash equilibrium for the following repeated games:\n",
    "   1. $\n",
    "   A =\n",
    "   \\begin{pmatrix}\n",
    "   3 & -1\\\\\n",
    "   2 & 4\\\\\n",
    "   3 & 1\n",
    "   \\end{pmatrix}\n",
    "   \\qquad\n",
    "   B =\n",
    "   \\begin{pmatrix}\n",
    "   13 & -1\\\\\n",
    "   6 & 2\\\\\n",
    "   3 & 1\n",
    "   \\end{pmatrix}\n",
    "   \\qquad\n",
    "   T=2\n",
    "   $ \n",
    "   2. $\n",
    "   A =\n",
    "   \\begin{pmatrix}\n",
    "   2 & -1 & 8\\\\\n",
    "   4 & 2 & 9\n",
    "   \\end{pmatrix}\n",
    "   \\qquad\n",
    "   B =\n",
    "   \\begin{pmatrix}\n",
    "   13 & 14 & -1\\\\\n",
    "   6 & 2 & 6\n",
    "   \\end{pmatrix}\n",
    "   $"
   ]
  }
 ],
 "metadata": {
  "anaconda-cloud": {},
  "kernelspec": {
   "display_name": "Python [conda env:gt]",
   "language": "python",
   "name": "conda-env-gt-py"
  },
  "language_info": {
   "codemirror_mode": {
    "name": "ipython",
    "version": 3
   },
   "file_extension": ".py",
   "mimetype": "text/x-python",
   "name": "python",
   "nbconvert_exporter": "python",
   "pygments_lexer": "ipython3",
   "version": "3.6.1"
  }
 },
 "nbformat": 4,
 "nbformat_minor": 2
}
