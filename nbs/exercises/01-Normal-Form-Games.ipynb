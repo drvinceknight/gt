{
 "cells": [
  {
   "cell_type": "markdown",
   "metadata": {},
   "source": [
    "# Normal Form Games - Exercises\n",
    "\n",
    "1. Give the definition of a Normal Form Game.\n",
    "\n",
    "2. Give the definition of a zero sum game. Obtain the full game representations $(A, B)$ for the zero sum games with row play payoff matrix given by:\n",
    "   1. $A =\\begin{pmatrix}1 & 3\\\\ -1 & 4\\end{pmatrix}$\n",
    "   2. $A =\\begin{pmatrix}1 & -2\\\\ -1 & 2\\end{pmatrix}$\n",
    "   3. $A =\\begin{pmatrix}1 & -2 & 4\\\\ 2 & -1 & 2\\\\ 7 & -7 & 6\\end{pmatrix}$\n",
    "   \n",
    "3. Consider the game described as follows:\n",
    "\n",
    "   > An airline loses two suitcases belonging to two different travelers. Both suitcases have the same value. An airline manager tasked to settle the claims of both travelers explains that the airline is liable for a maximum of £5 per suitcase. \n",
    "\n",
    "   > To determine an honest appraised value of the suitcases, the manager separates both travelers and asks them to write down the amount of their value at no less than £2 and no larger than £5 (to the single dollar):\n",
    "   > - If both write down the same number, that number as the true dollar value of both suitcases and reimburse both travelers that amount. \n",
    "   > - However, if one writes down a smaller number than the other, this smaller number will be taken as the true dollar value, and both travelers will receive that amount along with a bonus/malus: £2 extra will be paid to the traveler who wrote down the lower value and a £2 deduction will be taken from the person who wrote down the higher amount. \n",
    "   \n",
    "   Represent this as a Normal Form Game.\n",
    "   \n",
    "4. For each of the following give a Normal Form Game representation or explain why this is not possible.\n",
    "\n",
    "   1. Alice, Bob and Celine are childhood friends that would like to communicate online. They have a choice between 3 messaging platforms: facebook messenger, whatsapp or signal. They need to choose without prior communication.\n",
    "   2. Alice must choose a number $0 < x < 1$, she receives a utility of $f(x)$ for some function $f:\\mathbb{R}\\to\\mathbb{R}$\n",
    "   3. Rock Paper Scissors (official rules: http://worldrps.com/game-basics/the-official-rules-of-rock-paper-scissors/)."
   ]
  }
 ],
 "metadata": {
  "anaconda-cloud": {},
  "kernelspec": {
   "display_name": "Python [conda env:gt]",
   "language": "python",
   "name": "conda-env-gt-py"
  },
  "language_info": {
   "codemirror_mode": {
    "name": "ipython",
    "version": 3
   },
   "file_extension": ".py",
   "mimetype": "text/x-python",
   "name": "python",
   "nbconvert_exporter": "python",
   "pygments_lexer": "ipython3",
   "version": "3.6.1"
  }
 },
 "nbformat": 4,
 "nbformat_minor": 2
}
