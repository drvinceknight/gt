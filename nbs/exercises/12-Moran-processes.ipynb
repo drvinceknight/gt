{
 "cells": [
  {
   "cell_type": "markdown",
   "metadata": {},
   "source": [
    "# Moran processes - exercises\n",
    "\n",
    "1. Describe the transition probabilities for the Moran process with neutral drift.\n",
    "2. Obtain the transition probability matrix for the Moran process with neutral drift with $N=4$ individuals.\n",
    "3. State and prove the theorem for fixation probabilities in a birth death process.\n",
    "4. Extend the formulae of question 3 to the case of a Moran process on a game.\n",
    "5. For the following games, obtain the fixation probability $x_1$ for $N=4$:\n",
    "   1. $A=\\begin{pmatrix}1 & 1 \\\\ 1 & 1\\end{pmatrix}$\n",
    "   2. $A=\\begin{pmatrix}1 & 2 \\\\ 3 & 1\\end{pmatrix}$\n",
    "6. Consider the game $A=\\begin{pmatrix}r & 1 \\\\ 1 & 1\\end{pmatrix}$ for $r>1$ and $N$, and obtain $x_1$ as a function of $r$. How does $r$ effect the chance of fixation?"
   ]
  },
  {
   "cell_type": "code",
   "execution_count": null,
   "metadata": {},
   "outputs": [],
   "source": []
  }
 ],
 "metadata": {
  "anaconda-cloud": {},
  "kernelspec": {
   "display_name": "Python [conda env:gt]",
   "language": "python",
   "name": "conda-env-gt-py"
  },
  "language_info": {
   "codemirror_mode": {
    "name": "ipython",
    "version": 3
   },
   "file_extension": ".py",
   "mimetype": "text/x-python",
   "name": "python",
   "nbconvert_exporter": "python",
   "pygments_lexer": "ipython3",
   "version": "3.6.1"
  }
 },
 "nbformat": 4,
 "nbformat_minor": 2
}
