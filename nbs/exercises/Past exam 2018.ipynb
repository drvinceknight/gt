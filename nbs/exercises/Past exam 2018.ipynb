{
 "cells": [
  {
   "cell_type": "markdown",
   "metadata": {},
   "source": [
    "# Mock exam paper\n",
    "\n",
    "[The 2017-2018 paper](/{{root}}/assets/exm/2018/main.pdf) aims to generally follow the template that approximately: \n",
    "\n",
    "- 40 % of marks demonstrate a basic level of familiarity with the course;\n",
    "- 40 % demonstrate some understanding;\n",
    "- 20 % aim to allow student to demonstrate a deaper understanding of the concepts\n",
    "\n",
    "## Question 1: Normal form games and best responses\n",
    "\n",
    "This question is a general overview of Normal form games, one difference from previous years is that it also contains a question on a contemporary piece of research. Students have seen the attached text before.\n",
    "\n",
    "- There are 10 marks available that are pure bookwork (definitions and theorem).\n",
    "- 5 marks that are using the theorem: this is similar to work done in class but with a different game.\n",
    "- 10 marks are based on the contemporary research: 5 of them are relatively straightforward and 5 of them are pushing student to critique the work.\n",
    "\n",
    "## Question 2: Repeated games\n",
    "\n",
    "This question is looking at repeated games and includes some theoretic and algorithmic questions.\n",
    "\n",
    "- There are 8 marks for definitions and theorems.\n",
    "- 12 marks that are similar exercises to what has been done in class but with different games.\n",
    "- 5 marks ask students to prove a result not seen in class that requires a combinatorial argument.\n",
    "\n",
    "## Question 3:  Polytopes\n",
    "\n",
    "This question is about best response polytopes and the Lemke-Howson algorithm.\n",
    "\n",
    "- There are 7 marks available that are pure bookwork (definitions and algorithms).\n",
    "- 12 marks as an application of the definition (with an unseen game that is of higher dimension than seen before)\n",
    "- 6 marks asking students to apply the definition of vertex labelling in a previously unseen way because the game is degenerate.\n",
    "\n",
    "## Question 4: Moran processes\n",
    "\n",
    "- There are 10 marks available that are pure bookwork (definitions and theorem).\n",
    "- 6 marks are a numeric application of a definition but with a symbolic variable adding to the complexity.\n",
    "- 9 marks ask students to carry out algebraic manipulations to prove a given result (this is unseen)."
   ]
  }
 ],
 "metadata": {
  "anaconda-cloud": {},
  "kernelspec": {
   "display_name": "Python [conda env:gt]",
   "language": "python",
   "name": "conda-env-gt-py"
  },
  "language_info": {
   "codemirror_mode": {
    "name": "ipython",
    "version": 3
   },
   "file_extension": ".py",
   "mimetype": "text/x-python",
   "name": "python",
   "nbconvert_exporter": "python",
   "pygments_lexer": "ipython3",
   "version": "3.6.1"
  }
 },
 "nbformat": 4,
 "nbformat_minor": 2
}
