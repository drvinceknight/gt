{
 "cells": [
  {
   "cell_type": "markdown",
   "metadata": {},
   "source": [
    "# Evolutionary game theory - exercises\n",
    "\n",
    "1. Assume the frequency dependent selection model for a population with two types of individuals: $x=(x_1, x_2)$ such that $x_1 + x_2 = 1$. Obtain all the stable distribution for the sytem defined by the following fitness functions:\n",
    "   1. $f_1(x)=x_1 - x_2\\qquad f_2(x)=x_2 - 2 x_1$\n",
    "   2. $f_1(x)=x_1x_2 - x_2\\qquad f_2(x)=x_2 - x_1 + 1/2$\n",
    "   3. $f_1(x)=x_1 ^ 2 \\qquad f_2(x)=x_2^2$\n",
    "2. For the following games, obtain all the stable distributions for the evolutionary game:\n",
    "   1. $A = \\begin{pmatrix}2 & 4 \\\\ 5 & 3\\end{pmatrix}$\n",
    "   2. $A = \\begin{pmatrix}1 & 0 \\\\ 0 & 1\\end{pmatrix}$\n",
    "3. Define:\n",
    "   1. mutated population.\n",
    "   2. Evolutionary stable strategies\n",
    "4. State and prove the general condition for ESS theorem.\n",
    "5. Using the general condition for ESS theorem identify what strategies are evolutionarily stable for the games of question 2."
   ]
  }
 ],
 "metadata": {
  "anaconda-cloud": {},
  "kernelspec": {
   "display_name": "Python [conda env:gt]",
   "language": "python",
   "name": "conda-env-gt-py"
  },
  "language_info": {
   "codemirror_mode": {
    "name": "ipython",
    "version": 3
   },
   "file_extension": ".py",
   "mimetype": "text/x-python",
   "name": "python",
   "nbconvert_exporter": "python",
   "pygments_lexer": "ipython3",
   "version": "3.6.1"
  }
 },
 "nbformat": 4,
 "nbformat_minor": 2
}
