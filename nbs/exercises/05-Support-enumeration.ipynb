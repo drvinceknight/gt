{
 "cells": [
  {
   "cell_type": "markdown",
   "metadata": {},
   "source": [
    "# Support enumeration - exercises\n",
    "\n",
    "1. Define the support of a strategy.\n",
    "2. Obtain the supports for the following strategy vectors:\n",
    "   1. $\\sigma = (1, 0, 0, 0)$\n",
    "   2. $\\sigma = (.5, 0, .5, 0)$\n",
    "   3. $\\sigma = (.25, .25, .25, .25)$\n",
    "3. Define a degenerate game.\n",
    "4. Construct a degenerate $3\\times 3$ game.\n",
    "5. Describe the support enumeration algorithm.\n",
    "6. Use support enumeration to find Nash equilibria for the following games:\n",
    "\n",
    "   1. $\n",
    "   A =\n",
    "   \\begin{pmatrix}\n",
    "   3  & 3 & 2 \\\\\n",
    "   2  & 1 & 3 \n",
    "   \\end{pmatrix}\n",
    "   \\qquad\n",
    "   B =\n",
    "   \\begin{pmatrix}\n",
    "   2  & 1 & 3 \\\\\n",
    "   2  & 3 & 2 \n",
    "   \\end{pmatrix}\n",
    "   $\n",
    "   \n",
    "   2. $\n",
    "   A =\n",
    "   \\begin{pmatrix}\n",
    "   3 & -1\\\\\n",
    "   2 & 7\\end{pmatrix}\n",
    "   \\qquad\n",
    "   B =\n",
    "   \\begin{pmatrix}\n",
    "   -3 & 1\\\\\n",
    "   1 & -6\\end{pmatrix}\n",
    "   $  "
   ]
  }
 ],
 "metadata": {
  "anaconda-cloud": {},
  "kernelspec": {
   "display_name": "Python [conda env:gt]",
   "language": "python",
   "name": "conda-env-gt-py"
  },
  "language_info": {
   "codemirror_mode": {
    "name": "ipython",
    "version": 3
   },
   "file_extension": ".py",
   "mimetype": "text/x-python",
   "name": "python",
   "nbconvert_exporter": "python",
   "pygments_lexer": "ipython3",
   "version": "3.6.1"
  }
 },
 "nbformat": 4,
 "nbformat_minor": 2
}
