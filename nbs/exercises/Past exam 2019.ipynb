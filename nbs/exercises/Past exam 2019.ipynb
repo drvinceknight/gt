{
 "cells": [
  {
   "cell_type": "markdown",
   "metadata": {},
   "source": [
    "# 2019 exam paper\n",
    "\n",
    "[The 2018-2019 paper](/{{root}}/assets/exm/2019/main.pdf) aims to generally follow the template that approximately: \n",
    "\n",
    "- 40 % of marks demonstrate a basic level of familiarity with the course;\n",
    "- 40 % demonstrate some understanding;\n",
    "- 20 % aim to allow student to demonstrate a deaper understanding of the concepts\n",
    "\n",
    "## Question 1: Normal form games and best responses\n",
    "\n",
    "This question is a general overview of normal form games.\n",
    "\n",
    "- There are 8 marks available that are pure bookwork (definitions and theorem).\n",
    "- 4 marks that might push students a bit as they need to recognise a strategy is dominated.\n",
    "- 13 marks are exercises similar to those done in class and require the students to carry out calculations.\n",
    "\n",
    "## Question 2: Repeated games\n",
    "\n",
    "This question is looking at repeated games and includes some theoretic and algorithmic questions as well as an unseen venture in to extensive form games and their connection to normal form games.\n",
    "\n",
    "- There are 10 marks for definitions and basic calculations.\n",
    "- 6 marks push students to use their understanding of repeated games to consider a previously unseen extensive form game.\n",
    "- 9 marks are exercises similar to those done in class and require the students to carry out calculations.\n",
    "\n",
    "\n",
    "## Question 3:  Prisoners Dilemma\n",
    "\n",
    "This question is about the Prisoners Dilemma, in general it is a lot of bookwork however there is some previously unseen algebraic exercises that should push students.\n",
    "\n",
    "- There are 10 marks available that are bookwork and basic calculations.\n",
    "- 8 marks are obtainable through algebraic manipulation of seen definitions.\n",
    "- 7 marks ask students to apply the definitions and carry out algebraic manipulations in a completely unseed way. 3 of these marks are arguably a bit difficult, however the intuitive answer for those who understand the underlying game theoretic principles should push them in the correct direction.\n",
    "\n",
    "## Question 4: Evolutionary game theory\n",
    "\n",
    "- There are 10 marks available that are pure bookwork (definitions and theorem).\n",
    "- 5 marks are a numeric application of a method seen in class on a previously unseen game.\n",
    "- 10 marks are based on the contemporary research: 5 of them are relatively straightforward and 5 of them are pushing student to critique the work."
   ]
  }
 ],
 "metadata": {
  "anaconda-cloud": {},
  "kernelspec": {
   "display_name": "Python [conda env:gt]",
   "language": "python",
   "name": "conda-env-gt-py"
  },
  "language_info": {
   "codemirror_mode": {
    "name": "ipython",
    "version": 3
   },
   "file_extension": ".py",
   "mimetype": "text/x-python",
   "name": "python",
   "nbconvert_exporter": "python",
   "pygments_lexer": "ipython3",
   "version": "3.6.1"
  }
 },
 "nbformat": 4,
 "nbformat_minor": 2
}
