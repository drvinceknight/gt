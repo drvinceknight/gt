{
 "cells": [
  {
   "cell_type": "markdown",
   "metadata": {},
   "source": [
    "# Moran processes - solutions\n",
    "\n",
    "1. Give the transition probabilities for the Moran process with neutral drift.\n",
    "\n",
    "   Bookwork: https://vknight.org/gt/chapters/12/#Moran-process-with-neutral-drift\n",
    "\n",
    "2. Obtain the transition probability matrix for the Moran process with neutral drift with $N=4$ individuals.\n",
    "\n",
    "$$\n",
    "M = \\begin{pmatrix}\n",
    "   1&0&0&0&0\\\\\n",
    "   3/16&5/8&3/16&0&0\\\\\n",
    "   0&1/4&1/2&1/4&0\\\\\n",
    "   0&0&3/16&5/8&3/16\\\\\n",
    "   0&0&0&0&1\\\\\n",
    "\\end{pmatrix}\n",
    "$$  \n",
    "\n",
    "`3`. State and prove the theorem for fixation probabilities in a birth death process.\n",
    "\n",
    "   Bookwork: https://vknight.org/gt/chapters/12/#Theorem:-Fixation-probabilities-for-the-birth-death-process\n",
    "\n",
    "`4`. Extend the formulae of question 3 to the case of a Moran process on a game.\n",
    "\n",
    "   Boookwork: https://vknight.org/gt/chapters/12/#Moran-process-on-a-game\n",
    "\n",
    "`5`. For the following games, obtain the fixation probabilities for $N=4$:\n",
    "\n",
    "   1. $A=\\begin{pmatrix}1 & 1 \\\\ 1 & 1\\end{pmatrix}$\n",
    "   \n",
    "      This game corresponds to neutral drift, thus:\n",
    "      \n",
    "      $x_1=1/N=1/4$ (for both strategies).\n",
    "   \n",
    "   2. $A=\\begin{pmatrix}1 & 2 \\\\ 3 & 1\\end{pmatrix}$\n",
    "\n",
    "      Assuming $i$ individuals of the first type, for this game we have $N=4$ and $(a, b, c, d)=(1, 2, 3, 1)$ the fitness of both types is given respectively by:\n",
    "\n",
    "      $$f_{1i}=\\frac{a(i-1)+b(N-i)}{N-1}=\\frac{7-i}{3}$$\n",
    "      $$f_{2i}=\\frac{c(i)+d(N-i-1)}{N-1}=\\frac{2i+3}{3}$$\n",
    "\n",
    "      which gives:\n",
    "\n",
    "      $$\\gamma_i=\\frac{f_{2i}}{f_{1i}}=\\frac{2i+3}{7-i}$$\n",
    "\n",
    "      thus:\n",
    "\n",
    "      $$\n",
    "      x_1=\\frac{1}{1+\\sum_{j=1}^{3}\\prod_{k=1}^j\\frac{2k+3}{5-k}}=\\frac{1}{1+5/6+(5/6)(7/5)+(5/6)(7/5)(9/4)}=\\frac{8}{45}\n",
    "      $$\n",
    "      \n",
    "      Some code to verify this:"
   ]
  },
  {
   "cell_type": "code",
   "execution_count": 1,
   "metadata": {},
   "outputs": [],
   "source": [
    "import sympy as sym\n",
    "import numpy as np\n",
    "def theoretic_fixation(N, game, i=1):\n",
    "    \"\"\"\n",
    "    Calculate x_i as given by the above formula\n",
    "    \"\"\"\n",
    "    f_ones = np.array([(game[0, 0] * (i - 1) + game[0, 1] * (N - i)) / (N - 1) for i in range(1, N)])\n",
    "    f_twos = np.array([(game[1, 0] * i + game[1, 1] * (N - i - 1)) / (N - 1) for i in range(1, N)])\n",
    "    gammas = f_twos / f_ones\n",
    "    return (1 + np.sum(np.cumprod(gammas[:i-1]))) / (1 + np.sum(np.cumprod(gammas)))"
   ]
  },
  {
   "cell_type": "code",
   "execution_count": 2,
   "metadata": {},
   "outputs": [
    {
     "data": {
      "text/plain": [
       "8/45"
      ]
     },
     "execution_count": 2,
     "metadata": {},
     "output_type": "execute_result"
    }
   ],
   "source": [
    "game = np.array([[sym.S(1), sym.S(2)], [sym.S(3), sym.S(1)]])\n",
    "theoretic_fixation(N=4, game=game)"
   ]
  },
  {
   "cell_type": "markdown",
   "metadata": {},
   "source": [
    "`6`. Consider the game $A=\\begin{pmatrix}r & 1 \\\\ 1 & 1\\end{pmatrix}$ for $r>1$, and obtain $x_1$ as a function of $r$ and $N$. How does $r$ effect the chance of fixation?\n",
    "\n",
    "Assuming $i$ individuals of the first type, for this game we have $N=4$ and $(a, b, c, d)=(r, 1, 1, 1)$ the fitness of both types is given respectively by:\n",
    "\n",
    "$$f_{1i}=\\frac{r(i-1)+(N-i)}{N-1}$$\n",
    "$$f_{2i}=\\frac{(i)+(N-i-1)}{N-1}=1$$\n",
    "\n",
    "which gives:\n",
    "\n",
    "$$\\gamma_i=\\frac{f_{2i}}{f_{1i}}=\\frac{N-1}{r(i-1)+(N-i)}$$\n",
    "\n",
    "thus:\n",
    "\n",
    "$$\n",
    "  x_1=\\frac{1}{1+\\sum_{j=1}^{N-1}\\prod_{k=1}^j\\frac{N-1}{r(k-1)+(N-k)}}\n",
    "$$\n",
    "\n",
    "Note that as $r$ increases the denominator of $x_1$ decreases (each term in the product decreases), thus $x_1$ increases as a function of $r$ (as expected)."
   ]
  }
 ],
 "metadata": {
  "anaconda-cloud": {},
  "kernelspec": {
   "display_name": "GT",
   "language": "python",
   "name": "gt"
  },
  "language_info": {
   "codemirror_mode": {
    "name": "ipython",
    "version": 3
   },
   "file_extension": ".py",
   "mimetype": "text/x-python",
   "name": "python",
   "nbconvert_exporter": "python",
   "pygments_lexer": "ipython3",
   "version": "3.6.8"
  }
 },
 "nbformat": 4,
 "nbformat_minor": 2
}
