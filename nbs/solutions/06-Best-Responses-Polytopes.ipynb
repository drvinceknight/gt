{
 "cells": [
  {
   "cell_type": "markdown",
   "metadata": {},
   "source": [
    "# Best response polytopes - solutions\n",
    "\n",
    "1. Define a polytope as a convex hull\n",
    "\n",
    "   Bookwork: https://vknight.org/gt/chapters/06/#Definition-of-a-Polytope-as-a-convex-hull\n",
    "   \n",
    "2. Define a polytope as an intersection of halfspaces\n",
    "\n",
    "   Bookwork: https://vknight.org/gt/chapters/06/#Definition-of-a-Polytope-as-an-intersection-of-halfspaces\n",
    " \n",
    "3. For the following set of vertices draw the corresponding polytope **and** obtain their definition as an intersection of halfspaces:\n",
    "\n",
    "   `A`. V = $\\{(0, 0), (0, 1), (1, 0), (1, 1)\\}$"
   ]
  },
  {
   "cell_type": "code",
   "execution_count": 1,
   "metadata": {
    "tags": [
     "nbval-ignore-output"
    ]
   },
   "outputs": [
    {
     "data": {
      "image/png": "[encoded data removed]",
      "text/plain": [
       "<matplotlib.figure.Figure at 0x7f148c381eb8>"
      ]
     },
     "metadata": {},
     "output_type": "display_data"
    }
   ],
   "source": [
    "%matplotlib inline\n",
    "\n",
    "import matplotlib.pyplot as plt\n",
    "import numpy as np\n",
    "import scipy.spatial\n",
    "\n",
    "V = [np.array([0, 0]), np.array([0, 1]), np.array([1, 0]), np.array([1, 1])]\n",
    "P = scipy.spatial.ConvexHull(V)\n",
    "scipy.spatial.convex_hull_plot_2d(P);"
   ]
  },
  {
   "cell_type": "markdown",
   "metadata": {},
   "source": [
    "The definition as an intersection of halfspaces:\n",
    "\n",
    "$$\n",
    "\\begin{align}\n",
    "- x_1       & \\leq 0\\\\\n",
    "-x_2        & \\leq 0\\\\\n",
    "x_1        & \\leq 1\\\\\n",
    "x_2        & \\leq 1\n",
    "\\end{align}\n",
    "$$"
   ]
  },
  {
   "cell_type": "markdown",
   "metadata": {},
   "source": [
    "`B`. V = $\\{(0, 0), (0, 1/4), (1, 2/3), (2, 1/5)\\}$"
   ]
  },
  {
   "cell_type": "code",
   "execution_count": 2,
   "metadata": {
    "tags": [
     "nbval-ignore-output"
    ]
   },
   "outputs": [
    {
     "data": {
      "image/png": "[encoded data removed]",
      "text/plain": [
       "<matplotlib.figure.Figure at 0x7f1490e67f98>"
      ]
     },
     "metadata": {},
     "output_type": "display_data"
    }
   ],
   "source": [
    "V = [np.array([0, 0]), np.array([0, 1 / 4]), np.array([1, 2  / 3]), np.array([2, 1 / 5])]\n",
    "P = scipy.spatial.ConvexHull(V)\n",
    "scipy.spatial.convex_hull_plot_2d(P);"
   ]
  },
  {
   "cell_type": "markdown",
   "metadata": {},
   "source": [
    "Let us first find the equations for each boundary:\n",
    "\n",
    "- Between $(0, 0)$ and $(0, 1/4)$: $x_1=0$\n",
    "- Between $(0, 1/4)$ and $(1, 2/3)$: $x_2=(5/12)x_1+1/4$\n",
    "- Between $(1, 2/3)$ and $(2, 1/5)$: $x_2=(-7/15)x_1+17/15$\n",
    "- Between $(2, 1/5)$ and $(0, 0)$: $x_2=(1/10)x_1$\n",
    "\n",
    "The definition as an intersection of halfspaces (obtained by identifying the lines corresponding to each boundary of the polytope):\n",
    "\n",
    "$$\n",
    "\\begin{align}\n",
    "-x_1       & \\leq 0\\\\\n",
    "12x_2 - 5x_1       & \\leq 3\\\\\n",
    "15x_2 + 7x_1        & \\leq 17\\\\\n",
    "x_1 -10x_2       & \\leq 0\n",
    "\\end{align}\n",
    "$$"
   ]
  },
  {
   "cell_type": "markdown",
   "metadata": {},
   "source": [
    "`C`. V = $\\{(0, 0), (0, 1/4), (1, 2/3), (2, 1/5), (1, 0)\\}$"
   ]
  },
  {
   "cell_type": "code",
   "execution_count": 3,
   "metadata": {
    "tags": [
     "nbval-ignore-output"
    ]
   },
   "outputs": [
    {
     "data": {
      "image/png": "[encoded data removed]",
      "text/plain": [
       "<matplotlib.figure.Figure at 0x7f145f02bd30>"
      ]
     },
     "metadata": {},
     "output_type": "display_data"
    }
   ],
   "source": [
    "V = [np.array([0, 0]), np.array([0, 1 / 4]), np.array([1, 2  / 3]), np.array([2, 1 / 5]), np.array([1, 0])]\n",
    "P = scipy.spatial.ConvexHull(V)\n",
    "scipy.spatial.convex_hull_plot_2d(P);"
   ]
  },
  {
   "cell_type": "markdown",
   "metadata": {},
   "source": [
    "Let us first find the equations for each boundary:\n",
    "\n",
    "- Between $(0, 0)$ and $(0, 1/4)$: $x_1=0$\n",
    "- Between $(0, 1/4)$ and $(1, 2/3)$: $x_2=(5/12)x_1+1/4$\n",
    "- Between $(1, 2/3)$ and $(2, 1/5)$: $x_2=(-7/15)x_1+17/15$\n",
    "- Between $(2, 1/5)$ and $(1, 0)$: $x_2=(1/5)x_1-1/5$\n",
    "- Between $(1, 0)$ and $(0, 0)$: $x_2=0$\n",
    "\n",
    "The definition as an intersection of halfspaces (obtained by identifying the lines corresponding to each boundary of the polytope):\n",
    "\n",
    "$$\n",
    "\\begin{align}\n",
    "-x_1       & \\leq 0\\\\\n",
    "12x_2 - 5x_1       & \\leq 3\\\\\n",
    "15x_2 + 7x_1        & \\leq 17\\\\\n",
    "5x_2 -x_1       & \\leq -1\\\\\n",
    "-x_2       & \\leq 0\n",
    "\\end{align}\n",
    "$$"
   ]
  },
  {
   "cell_type": "markdown",
   "metadata": {},
   "source": [
    "`4`. Define the best response polytopes.\n",
    "\n",
    "   Bookwork: https://vknight.org/gt/chapters/06/#Definition-of-best-response-polytopes\n",
    "\n",
    "`5`. For the following games, obtain the best response polytopes, label the vertices and identify all Nash equilibria:\n",
    "   1. $\n",
    "   A =\n",
    "   \\begin{pmatrix}\n",
    "   3 & -1\\\\\n",
    "   2 & 7\\end{pmatrix}\n",
    "   \\qquad\n",
    "   B =\n",
    "   \\begin{pmatrix}\n",
    "   -3 & 1\\\\\n",
    "   1 & -6\\end{pmatrix}\n",
    "   $  \n",
    "   \n",
    "   First we need nonegative valued matrices:\n",
    "   \n",
    "   \n",
    "   $$\n",
    "   A \\to A + 2 =\n",
    "   \\begin{pmatrix}\n",
    "   5 & 1\\\\\n",
    "   4 & 9\\end{pmatrix}\n",
    "   \\qquad\n",
    "   B \\to B + 7 =\n",
    "   \\begin{pmatrix}\n",
    "   4 & 8\\\\\n",
    "   8 & 1\\end{pmatrix}\n",
    "   $$\n",
    "   \n",
    "   The inequalities of $\\mathcal{P}$ are then given by:\n",
    "   \n",
    "   $$\n",
    "   \\begin{align}\n",
    "    -x_1       & \\leq 0\\\\\n",
    "    -x_2       & \\leq 0\\\\\n",
    "    4x_1 + 8x_2       & \\leq 1\\\\\n",
    "    8x_1 + 1x_2        & \\leq 1\\\n",
    "    \\end{align}\n",
    "   $$\n",
    "   \n",
    "   which corresponds to:\n",
    "   \n",
    "   $$\n",
    "   \\begin{align}\n",
    "    x_1       & \\geq 0\\\\\n",
    "    x_2       & \\geq 0\\\\\n",
    "    x_2       & \\leq 1/8 - (1/2)x_1\\\\\n",
    "    x_2       & \\leq 1 - 8x_1\n",
    "    \\end{align}\n",
    "   $$\n",
    "   \n",
    "   The vertices are given by:\n",
    "   \n",
    "   $$V=\\{(0, 0), (0, 1/8), (1/8, 0), (7/60, 1/15)\\}$$\n",
    "   \n",
    "   The labels of our vertices (using the ordering of the inequalities):\n",
    "   \n",
    "   - $(0, 0)$: $\\{0, 1\\}$\n",
    "   - $(0, 1/8)$: $\\{0, 2\\}$\n",
    "   - $(1/8, 0)$: $\\{1, 3\\}$\n",
    "   - $(7/60, 1/15)$: $\\{2, 3\\}$\n",
    "        \n",
    "   The inequalities of $\\mathcal{Q}$ are given by:\n",
    "   \n",
    "   $$\n",
    "   \\begin{align}\n",
    "    5x_1 + x_2       & \\leq 1\\\\\n",
    "    4x_1 + 9x_2        & \\leq 1\\\\\n",
    "    -x_1       & \\leq 0\\\\\n",
    "    -x_2       & \\leq 0\n",
    "    \\end{align}\n",
    "   $$\n",
    "   \n",
    "   which corresponds to:\n",
    "   \n",
    "   $$\n",
    "   \\begin{align}\n",
    "    x_2       & \\leq 1 - 5x_1\\\\\n",
    "    x_2       & \\leq 1/9 - (4/9)x_1\\\\\n",
    "    x_1       & \\geq 0\\\\\n",
    "    x_2       & \\geq 0\n",
    "    \\end{align}\n",
    "   $$\n",
    "   \n",
    "   The vertices are given by:\n",
    "   \n",
    "   $$V=\\{(0, 0), (0, 1/9), (1/5, 0), (8/41, 1/41)\\}$$\n",
    "   \n",
    "   The labels of our vertices (using the ordering of the inequalities):\n",
    "   \n",
    "       - $(0, 0)$: $\\{2, 3\\}$\n",
    "       - $(0, 1/9)$: $\\{1, 2\\}$\n",
    "       - $(1/5, 0)$: $\\{0, 3\\}$\n",
    "       - $(8/41, 1/41)$: $\\{0, 1\\}$\n",
    "       \n",
    "   The only fully labeled vertex pair is given by:\n",
    "   \n",
    "   $$((7/60, 1/15), (8/41, 1/41))$$\n",
    "   \n",
    "   which gives the normalised Nash equilibrium:\n",
    "   \n",
    "   $$((7/11, 4/11), (8/9, 1/9))$$\n",
    "   \n",
    "   Here is some code to verify this numerically:"
   ]
  },
  {
   "cell_type": "code",
   "execution_count": 12,
   "metadata": {},
   "outputs": [
    {
     "name": "stdout",
     "output_type": "stream",
     "text": [
      "[ 0.125  0.   ]\n",
      "[ 0.     0.125]\n",
      "[ 0.11666667  0.06666667]\n"
     ]
    }
   ],
   "source": [
    "import nash\n",
    "# Obtaining the row player best response polytope vertices\n",
    "B = np.array([[4, 8], [8, 1]])\n",
    "halfspaces = nash.polytope.build_halfspaces(B.transpose())\n",
    "for v, l in nash.polytope.non_trivial_vertices(halfspaces):\n",
    "    print(v)"
   ]
  },
  {
   "cell_type": "code",
   "execution_count": 13,
   "metadata": {},
   "outputs": [
    {
     "name": "stdout",
     "output_type": "stream",
     "text": [
      "[  6.93889390e-18   1.11111111e-01]\n",
      "[ 0.19512195  0.02439024]\n",
      "[  2.00000000e-01  -6.93889390e-18]\n"
     ]
    }
   ],
   "source": [
    "# Obtaining the column player best response polytope vertices\n",
    "A = np.array([[5, 1], [4, 9]])\n",
    "halfspaces = nash.polytope.build_halfspaces(A)\n",
    "for v, l in nash.polytope.non_trivial_vertices(halfspaces):\n",
    "    print(v)"
   ]
  },
  {
   "cell_type": "code",
   "execution_count": 15,
   "metadata": {},
   "outputs": [
    {
     "data": {
      "text/plain": [
       "([(array([ 0.63636364,  0.36363636]), array([ 0.88888889,  0.11111111]))],\n",
       " (0.6363636363636364, 0.36363636363636365),\n",
       " (0.8888888888888888, 0.1111111111111111))"
      ]
     },
     "execution_count": 15,
     "metadata": {},
     "output_type": "execute_result"
    }
   ],
   "source": [
    "# Verifying the Nash equilibria:\n",
    "A = A - 2  # Scaling back down (note this makes no difference)\n",
    "B = B - 7 \n",
    "game = nash.Game(A, B)\n",
    "list(game.vertex_enumeration()), (7/11, 4/11), (8/9, 1/9)"
   ]
  },
  {
   "cell_type": "markdown",
   "metadata": {},
   "source": [
    "   `2`. $\n",
    "   A =\n",
    "   \\begin{pmatrix}\n",
    "   2 & -1\\\\\n",
    "   1 & 3\\end{pmatrix}\n",
    "   \\qquad\n",
    "   B =\n",
    "   \\begin{pmatrix}\n",
    "   -2 & 2\\\\\n",
    "   1 & -2\\end{pmatrix}\n",
    "   $\n",
    "   \n",
    "   \n",
    "   First we need nonegative valued matrices:\n",
    "   \n",
    "   \n",
    "   $$\n",
    "   A \\to A + 2 =\n",
    "   \\begin{pmatrix}\n",
    "   4 & 1\\\\\n",
    "   3 & 5\\end{pmatrix}\n",
    "   \\qquad\n",
    "   B \\to B + 3 =\n",
    "   \\begin{pmatrix}\n",
    "   1 & 5\\\\\n",
    "   4 & 1\\end{pmatrix}\n",
    "   $$\n",
    "\n",
    "   The inequalities of $\\mathcal{P}$ are then given by:\n",
    "   \n",
    "   $$\n",
    "   \\begin{align}\n",
    "    -x_1       & \\leq 0\\\\\n",
    "    -x_2       & \\leq 0\\\\\n",
    "    x_1 + 4x_2       & \\leq 1\\\\\n",
    "    5x_1 + x_2        & \\leq 1\\\n",
    "    \\end{align}\n",
    "   $$\n",
    "   \n",
    "   which corresponds to:\n",
    "   \n",
    "   $$\n",
    "   \\begin{align}\n",
    "    x_1       & \\geq 0\\\\\n",
    "    x_2       & \\geq 0\\\\\n",
    "    x_2       & \\leq 1/4 - (1/4)x_1\\\\\n",
    "    x_2       & \\leq 1 - 5x_1\n",
    "    \\end{align}\n",
    "   $$\n",
    "   \n",
    "   The vertices are given by:\n",
    "   \n",
    "   $$V=\\{(0, 0), (0, 1/4), (1/5, 0), (3/19, 4/19)\\}$$\n",
    "   \n",
    "   The labels of our vertices (using the ordering of the inequalities):\n",
    "   \n",
    "   - $(0, 0)$: $\\{0, 1\\}$\n",
    "   - $(0, 1/4)$: $\\{0, 2\\}$\n",
    "   - $(1/5, 0)$: $\\{1, 3\\}$\n",
    "   - $(3/19, 4/19)$: $\\{2, 3\\}$\n",
    "        \n",
    "   \n",
    "   The inequalities of $\\mathcal{Q}$ are given by:\n",
    "   \n",
    "   $$\n",
    "   \\begin{align}\n",
    "    4x_1 + x_2       & \\leq 1\\\\\n",
    "    3x_1 + 5x_2        & \\leq 1\\\\\n",
    "    -x_1       & \\leq 0\\\\\n",
    "    -x_2       & \\leq 0\n",
    "    \\end{align}\n",
    "   $$\n",
    "   \n",
    "   which corresponds to:\n",
    "   \n",
    "   $$\n",
    "   \\begin{align}\n",
    "    x_2       & \\leq 1 - 4x_1\\\\\n",
    "    x_2       & \\leq 1/5 - (3/5)x_1\\\\\n",
    "    x_1       & \\geq 0\\\\\n",
    "    x_2       & \\geq 0\n",
    "    \\end{align}\n",
    "   $$\n",
    "   \n",
    "   The vertices are given by:\n",
    "   \n",
    "   $$V=\\{(0, 0), (0, 1/5), (1/4, 0), (4/17, 1/17)\\}$$\n",
    "   \n",
    "   The labels of our vertices (using the ordering of the inequalities):\n",
    "   \n",
    "   \n",
    "   - $(0, 0)$: $\\{2, 3\\}$\n",
    "   - $(0, 1/5)$: $\\{1, 2\\}$\n",
    "   - $(1/4, 0)$: $\\{0, 3\\}$\n",
    "   - $(4/17, 1/17)$: $\\{0, 1\\}$\n",
    "       \n",
    "       \n",
    "   The only fully labeled vertex pair is given by:\n",
    "   \n",
    "   $$((3/19, 4/19), (4/17, 1/17))$$\n",
    "   \n",
    "   which gives the normalised Nash equilibrium:\n",
    "   \n",
    "   $$((3/7, 4/7), (4/5, 1/5))$$\n",
    "   \n",
    "   Here is some code to verify this numerically:"
   ]
  },
  {
   "cell_type": "code",
   "execution_count": 16,
   "metadata": {},
   "outputs": [
    {
     "name": "stdout",
     "output_type": "stream",
     "text": [
      "[ 0.2  0. ]\n",
      "[ 0.    0.25]\n",
      "[ 0.15789474  0.21052632]\n"
     ]
    }
   ],
   "source": [
    "# Obtaining the row player best response polytope vertices\n",
    "B = np.array([[1, 5], [4, 1]])\n",
    "halfspaces = nash.polytope.build_halfspaces(B.transpose())\n",
    "for v, l in nash.polytope.non_trivial_vertices(halfspaces):\n",
    "    print(v)"
   ]
  },
  {
   "cell_type": "code",
   "execution_count": 17,
   "metadata": {},
   "outputs": [
    {
     "name": "stdout",
     "output_type": "stream",
     "text": [
      "[ 0.   0.2]\n",
      "[ 0.23529412  0.05882353]\n",
      "[  2.50000000e-01   1.38777878e-17]\n"
     ]
    }
   ],
   "source": [
    "# Obtaining the column player best response polytope vertices\n",
    "A = np.array([[4, 1], [3, 5]])\n",
    "halfspaces = nash.polytope.build_halfspaces(A)\n",
    "for v, l in nash.polytope.non_trivial_vertices(halfspaces):\n",
    "    print(v)"
   ]
  },
  {
   "cell_type": "code",
   "execution_count": 18,
   "metadata": {},
   "outputs": [
    {
     "data": {
      "text/plain": [
       "([(array([ 0.42857143,  0.57142857]), array([ 0.8,  0.2]))],\n",
       " (0.42857142857142855, 0.5714285714285714),\n",
       " (0.8, 0.2))"
      ]
     },
     "execution_count": 18,
     "metadata": {},
     "output_type": "execute_result"
    }
   ],
   "source": [
    "# Verifying the Nash equilibria:\n",
    "A = A - 2  # Scaling back down (note this makes no difference)\n",
    "B = B - 3 \n",
    "game = nash.Game(A, B)\n",
    "list(game.vertex_enumeration()), (3 / 7, 4 / 7), (4 / 5, 1 / 5)"
   ]
  }
 ],
 "metadata": {
  "anaconda-cloud": {},
  "celltoolbar": "Tags",
  "kernelspec": {
   "display_name": "Python [conda env:gt]",
   "language": "python",
   "name": "conda-env-gt-py"
  },
  "language_info": {
   "codemirror_mode": {
    "name": "ipython",
    "version": 3
   },
   "file_extension": ".py",
   "mimetype": "text/x-python",
   "name": "python",
   "nbconvert_exporter": "python",
   "pygments_lexer": "ipython3",
   "version": "3.6.1"
  }
 },
 "nbformat": 4,
 "nbformat_minor": 2
}
