{
 "cells": [
  {
   "cell_type": "markdown",
   "metadata": {},
   "source": [
    "# Mock exam paper - solutions\n",
    "\n",
    "## Question 1\n",
    "\n",
    "\n",
    "### (a) **definition of a Normal form game**:\n",
    "\n",
    "An \\\\(N\\\\) player normal form game consists of:\n",
    "\n",
    "- A finite set of $N$ players\n",
    "- Strategy spaces for the players: $\\{S_1,S_2,S_3,\\dots,S_N\\}$;\n",
    "- Payoff functions for the players: $u_i:S_1\\times S_2\\dots\\times S_N\\to\\mathbb{R}$\n",
    "\n",
    "[2]\n",
    "\n",
    "### (b) **utilities of strategies**\n",
    "\n",
    "(i) $$\\sigma_r A \\sigma_c = 1\\qquad \\sigma_r B \\sigma_c = 1$$ [1]\n",
    "\n",
    "(ii) $$\\sigma_r A \\sigma_c = 3/2\\qquad \\sigma_r B \\sigma_c = 5/3$$ [1]\n",
    "\n",
    "(iii) $$\\sigma_r A \\sigma_c = 7/4\\qquad \\sigma_r B \\sigma_c = 5/2$$ [1]\n",
    "\n",
    "Some code to verify:"
   ]
  },
  {
   "cell_type": "code",
   "execution_count": 1,
   "metadata": {},
   "outputs": [
    {
     "name": "stdout",
     "output_type": "stream",
     "text": [
      "1 1\n",
      "1.5 1.66666666667\n",
      "1.75 2.5\n"
     ]
    }
   ],
   "source": [
    "import numpy as np\n",
    "A, B = np.array([[3, 1], [0, 2]]), np.array([[2, 1], [0, 3]])\n",
    "strategies = [(np.array([1, 0]), np.array([0, 1])), \n",
    "              (np.array([1/2, 1/2]), np.array([1/3, 2/3])),\n",
    "              (np.array([1/4, 3/4]), np.array([0, 1]))]\n",
    "for sigma_r, sigma_c in strategies:\n",
    "    print(np.dot(sigma_r, np.dot(A, sigma_c)), np.dot(sigma_r, np.dot(B, sigma_c)))"
   ]
  },
  {
   "cell_type": "markdown",
   "metadata": {},
   "source": [
    "### (c)  **define LH**\n",
    "\n",
    "For a nondegenerate 2 player game $(A, B)\\in{\\mathbb{R}^{m\\times n}_{>0}}^2$ the following algorithm returns all nash equilibria:\n",
    "\n",
    "1. Start at the artificial equilibrium: $(0, 0)$ [1]\n",
    "2. Choose a label to drop. [1]\n",
    "3. Remove this label from the corresponding vertex by traversing an edge of the corresponding polytope to another vertex. [1]\n",
    "4. The new vertex will now have a duplicate label in the other polytope. Remove this label from the vertex of the other polytope and traverse an edge of that polytope to another vertex. [1]\n",
    "5. Repeat step 4 until the pair of vertices is fully labelled. [1]"
   ]
  },
  {
   "cell_type": "markdown",
   "metadata": {},
   "source": [
    "### (d) **obtain best response polytopes**\n",
    "\n",
    "We start by scaling $A, B$:\n",
    "\n",
    "$$\n",
    "A \\to A + 1 = \\begin{pmatrix}4&2\\\\1&3\\end{pmatrix} \\qquad B \\to B + 1 =\\begin{pmatrix}3&2\\\\1&4\\end{pmatrix}\n",
    "$$\n",
    "\n",
    "The row player best response polytope $\\mathcal{P}$ is defined by $x\\geq0, xB\\leq 1$:\n",
    "\n",
    "$$\n",
    "x_1 \\geq 0\\\\\n",
    "x_2 \\geq 0\\\\\n",
    "3x_1+x_2 \\leq 1\\\\\n",
    "2x_1+4x_2 \\leq 1\n",
    "$$\n",
    "\n",
    "which corresponds to:\n",
    "\n",
    "$$\n",
    "x_1 \\geq 0\\\\\n",
    "x_2 \\geq 0\\\\\n",
    "x_2 \\leq 1 - 3x_1\\\\\n",
    "x_2 \\leq 1/4-1/2x_1\n",
    "$$\n",
    "\n",
    "[1]\n",
    "\n",
    "The vertices (and their corresponding labels) are then given by:\n",
    "\n",
    "- $a=(0, 0)$ with labels: $\\{0, 1\\}$\n",
    "- $b=(1/3, 0)$ with labels: $\\{1, 2\\}$\n",
    "- $c=(0, 1/4)$ with labels: $\\{0, 3\\}$\n",
    "- $d=(3/10, 1/10)$ with labels: $\\{2, 3\\}$\n",
    "\n",
    "[1]\n",
    "\n",
    "The column player best response polytope $\\mathcal{Q}$ is defined by $Ax\\leq 1, x\\geq0$:\n",
    "\n",
    "$$\n",
    "4x_1+2x_2 \\leq 1\\\\\n",
    "x_1+3x_2 \\leq 1\\\\\n",
    "x_1 \\geq 0\\\\\n",
    "x_2 \\geq 0\\\\\n",
    "$$\n",
    "\n",
    "which corresponds to:\n",
    "\n",
    "$$\n",
    "x_2 \\leq 1/2 - 2x_1\\\\\n",
    "x_2 \\leq 1/3-1/3x_1\\\\\n",
    "x_1 \\geq 0\\\\\n",
    "x_2 \\geq 0\n",
    "$$\n",
    "\n",
    "[1]\n",
    "\n",
    "The vertices (and their corresponding labels) are then given by:\n",
    "\n",
    "- $w=(0, 0)$ with labels: $\\{2, 3\\}$\n",
    "- $x=(1/4, 0)$ with labels: $\\{0, 3\\}$\n",
    "- $y=(0, 1/3)$ with labels: $\\{1, 2\\}$\n",
    "- $z=(1/10, 3/10)$ with labels: $\\{0, 1\\}$\n",
    "\n",
    "[1]\n",
    "\n",
    "### (e) Drawing the best response polytope\n",
    "\n",
    "[1] mark for each polytope."
   ]
  },
  {
   "cell_type": "code",
   "execution_count": 2,
   "metadata": {
    "tags": [
     "nbval-ignore-output"
    ]
   },
   "outputs": [
    {
     "data": {
      "image/png": "[encoded data removed]",
      "text/plain": [
       "<matplotlib.figure.Figure at 0x7f95df6a4ef0>"
      ]
     },
     "metadata": {},
     "output_type": "display_data"
    }
   ],
   "source": [
    "%matplotlib inline\n",
    "\n",
    "import matplotlib.pyplot as plt\n",
    "import numpy as np\n",
    "import scipy.spatial\n",
    "\n",
    "V = [np.array([0, 0]), np.array([1 / 3, 0]), np.array([0, 1 / 4]), np.array([3/10, 1/10])]\n",
    "P = scipy.spatial.ConvexHull(V)\n",
    "scipy.spatial.convex_hull_plot_2d(P)\n",
    "plt.title(\"$\\mathcal{P}$\")\n",
    "plt.text(0.001, .1, \"Label: 0\")\n",
    "plt.text(0.15, .005, \"Label: 1\")\n",
    "plt.text(0.15, .18, \"Label: 3\")\n",
    "plt.text(0.26, .05, \"Label: 2\")\n",
    "for v, s in zip(V, \"abcd\"):\n",
    "    plt.text(v[0] + 0.001, v[1] + 0.001, s);"
   ]
  },
  {
   "cell_type": "code",
   "execution_count": 3,
   "metadata": {
    "tags": [
     "nbval-ignore-output"
    ]
   },
   "outputs": [
    {
     "data": {
      "image/png": "[encoded data removed]",
      "text/plain": [
       "<matplotlib.figure.Figure at 0x7f95cc1123c8>"
      ]
     },
     "metadata": {},
     "output_type": "display_data"
    }
   ],
   "source": [
    "V = [np.array([0, 0]), np.array([1 / 4, 0]), np.array([0, 1 / 3]), np.array([1/10, 3/10])]\n",
    "Q = scipy.spatial.ConvexHull(V)\n",
    "scipy.spatial.convex_hull_plot_2d(Q)\n",
    "plt.title(\"$\\mathcal{Q}$\")\n",
    "plt.text(0.001, .15, \"Label: 2\")\n",
    "plt.text(0.10, .005, \"Label: 3\")\n",
    "plt.text(0.05, .32, \"Label: 1\")\n",
    "plt.text(0.2, .1, \"Label: 0\")\n",
    "for v, s in zip(V, \"wxyz\"):\n",
    "    plt.text(v[0] + 0.001, v[1] + 0.001, s);"
   ]
  },
  {
   "cell_type": "markdown",
   "metadata": {},
   "source": [
    "### (f) Carrying out the LH algorithm\n",
    "\n",
    "Using the plot we can carry out the Lemke-Howson algorithm:\n",
    "\n",
    "- Dropping label 0:\n",
    "\n",
    "  - $(a, w)$ have labels $\\{0, 1\\}, \\{2, 3\\}$. Drop 0.\n",
    "  - $\\to (b, w)$ have labels $\\{1, 2\\}, \\{2, 3\\}$. In $\\mathcal{Q}$ drop 2.\n",
    "  - $\\to (b, x)$ have labels $\\{1, 2\\}, \\{0, 3\\}$. Fully labeled vertex pair.\n",
    "\n",
    "- Dropping label 1:\n",
    "\n",
    "  - $(a, w)$ have labels $\\{0, 1\\}, \\{2, 3\\}$. Drop 1.\n",
    "  - $\\to (c, w)$ have labels $\\{0, 3\\}, \\{2, 3\\}$. In $\\mathcal{Q}$ drop 3.\n",
    "  - $\\to (c, y)$ have labels $\\{0, 3\\}, \\{1, 2\\}$. Fully labeled vertex pair.\n",
    "  \n",
    "- Dropping label 2:\n",
    "\n",
    "  - $(a, w)$ have labels $\\{0, 1\\}, \\{2, 3\\}$. Drop 2.\n",
    "  - $\\to (a, x)$ have labels $\\{0, 1\\}, \\{0, 3\\}$. In $\\mathcal{P}$ drop 0.\n",
    "  - $\\to (b, x)$ have labels $\\{1, 2\\}, \\{0, 3\\}$. Fully labeled vertex pair.\n",
    "\n",
    "- Dropping label 3:\n",
    "\n",
    "  - $(a, w)$ have labels $\\{0, 1\\}, \\{2, 3\\}$. Drop 3.\n",
    "  - $\\to (a, y)$ have labels $\\{0, 1\\}, \\{1, 2\\}$. In $\\mathcal{P}$ drop 1.\n",
    "  - $\\to (c, y)$ have labels $\\{0, 3\\}, \\{1, 2\\}$. Fully labeled vertex pair.\n",
    "  \n",
    "  [2]\n",
    "  \n",
    "We see that we have obtained two equilibria:\n",
    "  \n",
    "$$(b, x) = ((1/3, 0), (1/4, 0))$$\n",
    "\n",
    "$$(c, y) = ((0, 1/4), (0, 1/3))$$\n",
    "\n",
    "which gives the following two Nash equilibria:\n",
    "\n",
    "$$((1, 0), (1, 0))$$\n",
    "\n",
    "$$((0, 1), (0, 1))$$\n",
    "\n",
    "[2]\n",
    "\n",
    "Some code to verify:"
   ]
  },
  {
   "cell_type": "code",
   "execution_count": 4,
   "metadata": {},
   "outputs": [
    {
     "name": "stdout",
     "output_type": "stream",
     "text": [
      "0 (array([ 1.,  0.]), array([ 1.,  0.]))\n",
      "1 (array([ 0.,  1.]), array([ 0.,  1.]))\n",
      "2 (array([ 1.,  0.]), array([ 1.,  0.]))\n",
      "3 (array([ 0.,  1.]), array([ 0.,  1.]))\n"
     ]
    }
   ],
   "source": [
    "import nashpy as nash\n",
    "A, B = np.array([[3, 1], [0, 2]]), np.array([[2, 1], [0, 3]])\n",
    "game = nash.Game(A, B)\n",
    "for label, eq in enumerate(game.lemke_howson_enumeration()):\n",
    "    print(label, eq)"
   ]
  },
  {
   "cell_type": "markdown",
   "metadata": {},
   "source": [
    "### (g)  **Using a different initial vertex pair**\n",
    "\n",
    "- $(b, x)$ has labels $\\{1, 2\\}, \\{0, 3\\}$. Drop 3.\n",
    "- $\\to (b, z)$ have labels $\\{1, 2\\}, \\{0, 1\\}$. In $\\mathcal{P}$ drop 1.\n",
    "- $\\to (d, y)$ have labels $\\{2, 3\\}, \\{0, 1\\}$. Fully labeled vertex pair.\n",
    "\n",
    "[1]\n",
    "\n",
    "This gives the Nash equilibria:\n",
    "\n",
    "$$\n",
    "((3/4, 1/4), (1/4, 3/4))\n",
    "$$\n",
    "\n",
    "some code to verify the result:"
   ]
  },
  {
   "cell_type": "code",
   "execution_count": 5,
   "metadata": {},
   "outputs": [
    {
     "data": {
      "text/plain": [
       "[(array([ 1.,  0.]), array([ 1.,  0.])),\n",
       " (array([ 0.,  1.]), array([ 0.,  1.])),\n",
       " (array([ 0.75,  0.25]), array([ 0.25,  0.75]))]"
      ]
     },
     "execution_count": 5,
     "metadata": {},
     "output_type": "execute_result"
    }
   ],
   "source": [
    "list(game.vertex_enumeration())"
   ]
  },
  {
   "cell_type": "markdown",
   "metadata": {},
   "source": [
    "### (h) Sketch of proof\n",
    "\n",
    "- We know that there is a path between $(0, 0)$ and a fully labelled vertex pair. [1]\n",
    "- Similarly, from a fully labelled vertex pair we can assume that it's possible to drop another fully labelled vertex pairs. [1]\n",
    "- We can construct a graph of pairs of fully labelled vertex pairs. [1]\n",
    "- As we have pairs this corresponds to an even number of fully labelled vertex pairs. Removing $(0, 0)$ this implies there is an odd number of Nash equilibria. [1]"
   ]
  },
  {
   "cell_type": "markdown",
   "metadata": {},
   "source": [
    "## Question 2\n",
    "\n",
    "### (a) Definition of a Prisoner's Dilemma (bookwork)\n",
    "\n",
    "$$\n",
    "A =\n",
    "\\begin{pmatrix}\n",
    "    R & S\\\\\n",
    "    T & P\n",
    "\\end{pmatrix}\\qquad\n",
    "B =\n",
    "\\begin{pmatrix}\n",
    "    R & T\\\\\n",
    "    S & P\n",
    "\\end{pmatrix}\n",
    "$$\n",
    "\n",
    "with the following constraints:\n",
    "\n",
    "$$T > R > P > S$$\n",
    "$$2R > T + S$$\n",
    "\n",
    "[2]\n",
    "\n",
    "### (b) Finding valid Prisoner's Dilemmas\n",
    "\n",
    "(i) \n",
    "\n",
    "For $A, B$ to be valid we need:\n",
    "\n",
    "$$\n",
    "\\begin{pmatrix}\n",
    "    3 & S\\\\\n",
    "    5 & 1\n",
    "\\end{pmatrix}\n",
    "=\n",
    "\\begin{pmatrix}\n",
    "    R & S\\\\\n",
    "    T & P\n",
    "\\end{pmatrix}\n",
    "$$\n",
    "\n",
    "which gives: $R=3, T=5, P=1$\n",
    "\n",
    "further more:\n",
    "\n",
    "$$\n",
    "\\begin{pmatrix}\n",
    "    3 & T\\\\\n",
    "    -1 & 1\n",
    "\\end{pmatrix}\n",
    "=\n",
    "\\begin{pmatrix}\n",
    "    R & T\\\\\n",
    "    S & P\n",
    "\\end{pmatrix}\n",
    "$$\n",
    "\n",
    "[2]\n",
    "\n",
    "which gives: $R=3, S=-1, P=1$\n",
    "\n",
    "Thus we have (R, S, P, T) = (3, -1, 1, 5) which also follows the two required inequalities:\n",
    "\n",
    "$$T > R > P > S \\Leftrightarrow 5 > 3 > 1 > -1$$\n",
    "$$2R > T + S \\Leftrightarrow 6 > 4$$\n",
    "\n",
    "[2]\n",
    "\n",
    "(ii) \n",
    "\n",
    "For $A, B$ to be valid we need:\n",
    "\n",
    "$$\n",
    "\\begin{pmatrix}\n",
    "    2 & S\\\\\n",
    "    -2 & 1\n",
    "\\end{pmatrix}\n",
    "=\n",
    "\\begin{pmatrix}\n",
    "    R & S\\\\\n",
    "    T & P\n",
    "\\end{pmatrix}\n",
    "$$\n",
    "\n",
    "which gives: $R=2, T=-2, P=1$\n",
    "\n",
    "We immediately see that $R > T$ so this cannot be a Prisoner's Dilemma.\n",
    "\n",
    "[4]"
   ]
  },
  {
   "cell_type": "markdown",
   "metadata": {},
   "source": [
    "### (c) Markov chain representation of a reactive player match\n",
    "\n",
    "$$\n",
    "M = \\begin{pmatrix}\n",
    "3/10 & 3/10 & 1/5 & 1/5\\\\\n",
    "3/8 & 3/8 & 1/8 & 1/8\\\\\n",
    "3/20 & 9/20 & 1/10 & 3/10\\\\\n",
    "3/16 & 9/16 & 1/16 & 3/16\\\\\n",
    "\\end{pmatrix}\n",
    "$$\n",
    "\n",
    "### (d) Expected utility (bookwork)\n",
    "\n",
    "The first player:\n",
    "\n",
    "$$s_1s_2\\times R +  s1(1-s_2) \\times S +  (1-s_1)s_2 \\times T + (1-s_1)(1-s_2)\\times P$$\n",
    "\n",
    "The second player:\n",
    "\n",
    "$$s_1s_2\\times R +  s1(1-s_2) \\times T +  (1-s_1)s_2 \\times S + (1-s_1)(1-s_2)\\times P$$\n",
    "\n",
    "where:\n",
    "\n",
    "$$\n",
    "s_1 = \\frac{q_2r_1+p_2}{1-r_1r_2}\\qquad s_2 = \\frac{p_2r_2+q_2}{1-r_1r_2}\n",
    "$$\n",
    "\n",
    "for:\n",
    "\n",
    "$$r_1=p_1-p_2\\qquad r_2=q_1-q_2$$\n",
    "\n",
    "### (e) Expected utility for specific type of player\n",
    "\n",
    "We have:\n",
    "\n",
    "$$r_1=x-x/2=x/2\\qquad r_2=1/2-1/4=1/4$$\n",
    "\n",
    "thus\n",
    "\n",
    "$$\n",
    "s_1 = \\frac{1/4x/2+x/2}{1-x/8}=\\frac{5x}{8-x}\\qquad s_2 = \\frac{1/4x/2+1/4}{1-x/8}=\\frac{x+2}{8-x}\n",
    "$$\n",
    "\n",
    "Direct substitution gives:\n",
    "\n",
    "$$\\frac{5x(x+2)}{(8-x)^2}\\times R \n",
    "  +  \\frac{5x(6-2x)}{(8-x)^2} \\times S \n",
    "  +  \\frac{(8-6x)(x+2)}{(8-x)^2} \\times T \n",
    "  +  \\frac{(8-6x)(6-2x)}{(8-x)^2}\\times P$$\n",
    "  \n",
    "expanding:\n",
    "\n",
    "$$\\frac{R\\times(5x^2+10x) + S\\times (35x-10x^2) + T\\times (-6x^2+16-4x) + P\\times (48-52x+12x^2)}{(8-x)^2}$$\n",
    "\n",
    "substituting $(R, S, T, P)=(3, 0, 4, 1)$:\n",
    "\n",
    "$$\\frac{3x^2 - 38x + 112}{(8-x)^2}$$\n",
    "\n",
    "factorising the $(8-x)$ term gives:\n",
    "\n",
    "$$\\frac{(8-x)(14-3x)}{(8-x)^2}=\n",
    "\\frac{\\left(3 x-14\\right)}{\\left(x - 8\\right)} \n",
    "$$\n",
    "\n"
   ]
  },
  {
   "cell_type": "markdown",
   "metadata": {},
   "source": [
    "Some code to verify the calculations:"
   ]
  },
  {
   "cell_type": "code",
   "execution_count": 6,
   "metadata": {},
   "outputs": [],
   "source": [
    "import sympy as sym\n",
    "x, R, S, T, P = sym.symbols(\"x, R, S, T, P\")\n",
    "\n",
    "expr = R * (5 * x ** 2 + 10 * x) + S * (35 * x - 10 * x ** 2) + T * (-6 * x ** 2 + 16 - 4 * x) + P *(48 - 52 * x + 12 * x ** 2)"
   ]
  },
  {
   "cell_type": "code",
   "execution_count": 7,
   "metadata": {},
   "outputs": [
    {
     "data": {
      "text/plain": [
       "(x - 8)*(3*x - 14)"
      ]
     },
     "execution_count": 7,
     "metadata": {},
     "output_type": "execute_result"
    }
   ],
   "source": [
    "expr.subs({R:3, S:0, T:4, P:1}).factor()"
   ]
  },
  {
   "cell_type": "code",
   "execution_count": 8,
   "metadata": {},
   "outputs": [],
   "source": [
    "import numpy as np\n",
    "\n",
    "def theoretic_steady_state(p, q):\n",
    "    r_1 = p[0] - p[1]\n",
    "    r_2 = q[0] - q[1]\n",
    "    s_1 = (q[1] * r_1 + p[1]) / (1 - r_1 * r_2)\n",
    "    s_2 = (p[1] * r_2 + q[1]) / (1 - r_1 * r_2)\n",
    "    return np.array([s_1 * s_2, s_1 * (1 - s_2), (1 - s_1) * s_2, (1 - s_1) * (1 - s_2)])\n",
    "\n",
    "def theoretic_utility(p, q, rstp=np.array([3, 0, 5, 1])):\n",
    "    pi = theoretic_steady_state(p, q)\n",
    "    return np.dot(pi, rstp)"
   ]
  },
  {
   "cell_type": "code",
   "execution_count": 9,
   "metadata": {},
   "outputs": [
    {
     "data": {
      "text/plain": [
       "(3*x - 14)/(x - 8)"
      ]
     },
     "execution_count": 9,
     "metadata": {},
     "output_type": "execute_result"
    }
   ],
   "source": [
    "p = np.array([x, x / 2])\n",
    "q = np.array([sym.S(1) / 2, sym.S(1) / 4])\n",
    "expr = theoretic_utility(p=p, q=q, rstp=np.array([3, 0, 4, 1]))\n",
    "sym.factor(expr) "
   ]
  },
  {
   "cell_type": "markdown",
   "metadata": {},
   "source": [
    "Here is a plot of the utility (calculated both ways)\n",
    "\n",
    "**Note that this is not requested in the question: just here to help understanding.**"
   ]
  },
  {
   "cell_type": "code",
   "execution_count": 10,
   "metadata": {
    "tags": [
     "nbval-ignore-output"
    ]
   },
   "outputs": [
    {
     "data": {
      "image/png": "[encoded data removed]",
      "text/plain": [
       "<matplotlib.figure.Figure at 0x7f95fd4d04e0>"
      ]
     },
     "metadata": {},
     "output_type": "display_data"
    }
   ],
   "source": [
    "xs = np.linspace(0, 1, 25)\n",
    "ys = [theoretic_utility(p=[x, x / 2], q=q, rstp=np.array([3, 0, 4, 1])) for x in xs]\n",
    "simplified_ys = [(3 * x - 14) / (x - 8) for x in xs]\n",
    "plt.plot(xs, ys, label=\"$u(x)$\")\n",
    "plt.scatter(xs, simplified_ys, label=\"$\\\\frac{3x-14}{x-8}$\")\n",
    "plt.legend();"
   ]
  },
  {
   "cell_type": "markdown",
   "metadata": {},
   "source": [
    "\n",
    "### (f) Identifying the optimal behaviour\n",
    "\n",
    "Direct differentiating gives:\n",
    "\n",
    "$$\n",
    "\\frac{3x - 24 - (3x - 14)}{\\left(x - 8\\right)^2}=\\frac{-10}{\\left(x - 8\\right)^{2}}\n",
    "$$\n",
    "\n",
    "[2]\n",
    "\n",
    "simplifying gives the required result.\n",
    "\n",
    "We see that our function is decreasing for all values of $x$ (it has negative derivative). Thus, the optimal value of $x$ is $0$.\n",
    "\n",
    "[2]"
   ]
  },
  {
   "cell_type": "code",
   "execution_count": 11,
   "metadata": {},
   "outputs": [
    {
     "data": {
      "text/plain": [
       "-10/(x - 8)**2"
      ]
     },
     "execution_count": 11,
     "metadata": {},
     "output_type": "execute_result"
    }
   ],
   "source": [
    "sym.factor(expr.diff(x))"
   ]
  },
  {
   "cell_type": "markdown",
   "metadata": {},
   "source": [
    "## Question 3\n",
    "\n",
    "### (a) Defining equations (bookwork)\n",
    "\n",
    "The matrix $A$ correspods to the utility of a row player in a game where the row player is a given individual and the column player is the population.\n",
    "\n",
    "This gives:\n",
    "\n",
    "$$f_1=ax_1+bx_2\\qquad f_2=cx_1+dx_2$$\n",
    "\n",
    "[1]\n",
    "\n",
    "or equivalently:\n",
    "\n",
    "$$f=Ax\\qquad \\phi=fx$$\n",
    "\n",
    "thus we have the same equation as before but in matrix notation:\n",
    "\n",
    "$$\\frac{dx}{dt}=x(f-\\phi)$$\n",
    "\n",
    "[1]\n",
    "\n",
    "### (b) Defining mutated population (bookwork)\n",
    "\n",
    "\n",
    "Given a strategy vector $x=(x_1, x_2)$, some $\\epsilon>0$ and another strategy $y=(y_1, y_1)$, the post entry population $x_{\\epsilon}$ is given by:\n",
    "\n",
    "$$\n",
    "x_{\\epsilon} = (x_1 + \\epsilon(y_1 - x_1), x_2 + \\epsilon(y_2 - x_2))\n",
    "$$\n",
    "\n",
    "[2]\n",
    "\n",
    "### (c) Defining an evolutionary stable strategy (bookwork)\n",
    "\n",
    "Given a stable population distribution, $x$ it represents an **Evolutionary Stable Strategy** (ESS) if and only if there exists $\\bar\\epsilon>0$:\n",
    "\n",
    "$$u(x, x_{\\epsilon})>u(y, x_{\\epsilon})\\text{ for all }0<\\epsilon<\\bar\\epsilon, y$$\n",
    "\n",
    "[1]\n",
    "\n",
    "where $u(x, y)$ corresponds to the fitness of strategy $x$ in population $y$ which is given by:\n",
    "\n",
    "$$xAy^T$$\n",
    "\n",
    "[1]\n",
    "\n",
    "### (d) Proof of result for ESS (bookwork)\n",
    "\n",
    "**Theorem:**\n",
    "\n",
    "If $x$ is an ESS, then for all $y\\ne x$, either:\n",
    "\n",
    "1. $u(x,x)>u(y,x)$\n",
    "2. $u(x,x)=u(y,x)$ and $u(x,y)>u(y,y)$\n",
    "---\n",
    "\n",
    "\n",
    "Conversely, if either (1) or (2) holds for all $y\\ne x$ then $x$ is an ESS.\n",
    "\n",
    "\n",
    "[2]\n",
    "\n",
    "---\n",
    "\n",
    "**Proof:**\n",
    "\n",
    "---\n",
    "\n",
    "If $x$ is an ESS, then by definition:\n",
    "\n",
    "$$u(x,x_{\\epsilon})>u(y,x_{\\epsilon})$$\n",
    "\n",
    "which corresponds to:\n",
    "\n",
    "$$(1-\\epsilon)u(x,x)+\\epsilon u(x,y)>(1-\\epsilon)u(y,x)+\\epsilon u(y,y)$$\n",
    "\n",
    "- If condition 1 of the theorem holds then the above inequality can be satisfied for \\\\(\\epsilon\\\\) sufficiently small. If condition 2 holds then the inequality is satisfied.\n",
    "- Conversely:\n",
    "\n",
    "    - If $u(x,x) < u(y,x)$ then we can find $\\epsilon$ sufficiently small such that the inequality is violated. [1]\n",
    "\n",
    "    - If $u(x, x) = u(y,x)$ and $u(x,y) \\leq u(y,y)$ then the inequality is violated. [1]"
   ]
  },
  {
   "cell_type": "markdown",
   "metadata": {},
   "source": [
    "### (e) Obtain all ESS for a 2 by 2 game\n",
    "\n",
    "First step is to identify the Nash equilibria. Identify best responses for the associated two player game $(A, A^T)$:\n",
    "\n",
    "$$\n",
    "A=\\begin{pmatrix}\n",
    "1&\\underline{4}\\\\\n",
    "\\underline{2}&1\n",
    "\\end{pmatrix}\\qquad\n",
    "A^T=\\begin{pmatrix}\n",
    "1&\\underline{2}\\\\\n",
    "\\underline{4}&1\n",
    "\\end{pmatrix}\n",
    "$$\n",
    "\n",
    "[1]\n",
    "\n",
    "This immediately gives 2 pure Nash equilibria, which are ESS from the theorem:\n",
    "\n",
    "$$\n",
    "(\\sigma_r, \\sigma_c) \\in \\{((1, 0), (0, 1)), ((0, 1), (1, 0))\\}\n",
    "$$\n",
    "\n",
    "\n",
    "To find the remaining Nash equilibria, we use the support enumeration algorithm which gives:\n",
    "\n",
    "$${\\sigma_r}_1  + 4{\\sigma_r}_2 = 2{\\sigma_r}_1  + {\\sigma_r}_2$$\n",
    "$${\\sigma_c}_1  + 4{\\sigma_c}_2 = 2{\\sigma_c}_1  + {\\sigma_c}_2$$\n",
    "\n",
    "This gives:\n",
    "\n",
    "$$3{\\sigma_r}_2  = {\\sigma_r}_1$$\n",
    "\n",
    "which gives, a final Nash equilibrium of:\n",
    "\n",
    "$$x = (3/4, 1/4)$$\n",
    "\n",
    "[2]\n",
    "\n",
    "some code to verify this:"
   ]
  },
  {
   "cell_type": "code",
   "execution_count": 12,
   "metadata": {},
   "outputs": [
    {
     "data": {
      "text/plain": [
       "[(array([ 1.,  0.]), array([ 0.,  1.])),\n",
       " (array([ 0.,  1.]), array([ 1.,  0.])),\n",
       " (array([ 0.75,  0.25]), array([ 0.75,  0.25]))]"
      ]
     },
     "execution_count": 12,
     "metadata": {},
     "output_type": "execute_result"
    }
   ],
   "source": [
    "A = np.array([[1, 4], [2, 1]])\n",
    "game = nash.Game(A, A.transpose())\n",
    "list(game.support_enumeration())"
   ]
  },
  {
   "cell_type": "markdown",
   "metadata": {},
   "source": [
    "Considering this final equilibria, we have:\n",
    "\n",
    "$$u(x, x)=u(y, x)\\text{ for all }y$$\n",
    "\n",
    "Applying the theorem we thus consider:\n",
    "\n",
    "$$\n",
    "u(x, y)=(5/4)y_1 + (13/4)y_2=(5/4)y_1 + (13/4)(1-y_1)=-2y_1+13/4\n",
    "$$\n",
    "\n",
    "\\begin{align}\n",
    "u(y, y)&=y_1^2+4y_1y_2+2y_1y_2+y_2^2\\\\\n",
    "       &=y_1^2+6y_1-6y_1^2+1 - 2y_1 + y_1^2\\\\\n",
    "       &=1+4y_1-4y_1^2\n",
    "\\end{align}\n",
    "\n",
    "Thus:\n",
    "\n",
    "$$u(x, y) - u(y, y) = 4y_1^2 - 6y_1+9/4 = 4(y_1 - 3/4)^2$$\n",
    "\n",
    "[2]\n",
    "\n",
    "however $y_1\\ne3/4$ thus $x=(3/4, 1/4)$ is an ESS."
   ]
  },
  {
   "cell_type": "markdown",
   "metadata": {},
   "source": [
    "### (f) Discussing the research paper\n",
    "\n",
    "- (i) This paper looks at GT and cancer: it is a proof of concept sitting in literature that already exists on the subject. The main result is confirming intuitive understanding of proliferation/motility. Increased nutrients implies less motility. This is done in two ways: a theoretic game and a simulation. [3]\n",
    "- (ii) The game matrix should in fact be: $\\begin{pmatrix}b/2 & b - c\\\\ b & b - c / 2\\end{pmatrix}$ [2]\n",
    "- (iii) The theorem is used in the paper, although it is not done explicitly it is used to implictely describe the stability of the equilibria. [2]\n",
    "- (iv) Another approach would be to use a Moran process. The main difference with the approach in the paper would be to use a Moran process. This would correspond to considering a finite population size as opposed to the infinite population model used. This would correspond more closely to the simulation model used in the paper. [3]"
   ]
  },
  {
   "cell_type": "markdown",
   "metadata": {},
   "source": [
    "## Question 4\n",
    "\n",
    "### (a) Definition of a Moran process on a game\n",
    "\n",
    "Consider a matrix $A\\in\\mathbb{R}^{m\\times n}$ representing a game with two strategies. \n",
    "\n",
    "$$\n",
    "A=\n",
    "\\begin{pmatrix}\n",
    "    a & b\\\\\n",
    "    c & d\n",
    "\\end{pmatrix}\n",
    "$$\n",
    "\n",
    "The Moran process is as follows:\n",
    "\n",
    "- At a given time step: all individuals play all other individuals.\n",
    "- Obtain their fitness as given by the game.\n",
    "- Randomly select an individual proportional to their fitness as an individual to be reproduced\n",
    "- Uniformly select an individual to be replaced\n",
    "- Proceed to the next time step.\n",
    "- The process terminates when there is only one type of individual in the population.\n",
    "\n",
    "### (b) Theorem\n",
    "\n",
    "**Theorem: Fixation probabilities for the birth death process**\n",
    "\n",
    "Given a birth death process as defined above, the fixation probability $x_i$ is given by:\n",
    "\n",
    "$$x_i=\\frac{1+\\sum_{j=1}^{i-1}\\prod_{k=1}^j\\gamma_k}{1+\\sum_{j=1}^{N-1}\\prod_{k=1}^j\\gamma_k}$$\n",
    "\n",
    "where:\n",
    "\n",
    "$$\n",
    "\\gamma_k = \\frac{p_{k,k-1}}{p_{k,k+1}}\n",
    "$$\n",
    "\n",
    "**Proof**\n",
    "\n",
    "We have:\n",
    "\n",
    "\\begin{align}\n",
    "    p_{i,i+1}x_{i+1} & = -p_{i,i-1}x_{i-1} + x_i(1 - p_{ii}) \\\\ \n",
    "    p_{i,i+1}x_{i+1} & = p_{i,i-1}(x_{i} - x_{i-1}) + x_ip_{i,i+1} \\\\ \n",
    "    x_{i+1} - x_i    & = \\frac{p_{i, i-1}}{p_{i, i+1}}(x_i-x_{i-1})=\\gamma_i(x_i-x_{i-1})\n",
    "\\end{align}\n",
    "\n",
    "We observe that:\n",
    "\n",
    "\\begin{align}\n",
    "    x_2 - x_1 &= \\gamma_1(x_1-x_{0})=\\gamma_1x_1\\\\\n",
    "    x_3 - x_2 &= \\gamma_2(x_2-x_1)=\\gamma_2\\gamma_1x_1\\\\\n",
    "    x_4 - x_3 &= \\gamma_3(x_3-x_2)=\\gamma_3\\gamma_2\\gamma_1x_1\\\\\n",
    "              &\\; \\vdots & \\\\\n",
    "    x_{i+1} - x_i &= \\gamma_i(x_i-x_{i-1})=\\prod_{k=1}^i\\gamma_kx_1\\\\\n",
    "               &\\; \\vdots & \\\\   \n",
    "    x_{N} - x_{N-1} &= \\gamma_{N-1}(x_{N-1}-x_{N-2})=\\prod_{k=1}^{N-1}\\gamma_kx_1\\\\\n",
    "\\end{align}\n",
    "\n",
    "thus we have:\n",
    "\n",
    "$$x_i=\\sum_{j=0}^{i-1}x_{j+1}-x_j=\\left(1+\\sum_{j=1}^{i-1}\\prod_{k=1}^j\\gamma_k\\right)x_1$$\n",
    "\n",
    "we complete the proof by solving the following equation to obtain $x_1$:\n",
    "\n",
    "$$x_N=1=\\left(1+\\sum_{j=1}^{N-1}\\prod_{k=1}^j\\gamma_k\\right)x_1$$\n",
    "\n",
    "\n",
    "### (c) Moran process for the game\n",
    "\n",
    "Assuming $i$ individuals of the first type, for this game we have $N=5$ and $(a, b, c, d)=(4, 1, 6, 2)$ the fitness of both types is given respectively by:\n",
    "\n",
    "$$f_{1i}=\\frac{a(i-1)+b(N-i)}{N-1}=\\frac{4i-4+5-i}{4}=\\frac{3i+1}{4}$$\n",
    "$$f_{2i}=\\frac{c(i)+d(N-i-1)}{N-1}=\\frac{6i+2(4-i)}{4}=\\frac{4i+8}{4}=i$$\n",
    "\n",
    "which gives:\n",
    "\n",
    "$$\\gamma_i=\\frac{f_{2i}}{f_{1i}}=\\frac{4i+8}{3i+1}$$\n",
    "\n",
    "thus:\n",
    "\n",
    "$$\n",
    "x_1=\\frac{1}{1+\\sum_{j=1}^{4}\\prod_{k=1}^j\\frac{4k+8}{3k+1}}=\\frac{1}{1+3+3(16/7)+3(16/7)2+3(16/7)2(24/13)}=\\frac{91}{4540}\n",
    "$$\n",
    "\n",
    "$$\n",
    "x_{4}=\\frac{1+\\sum_{j=1}^{3}\\prod_{k=1}^j\\frac{4k+8}{3k+1}}{1+\\sum_{j=1}^{4}\\prod_{k=1}^j\\frac{4k+8}{3k+1}}=\\frac{1+3+3(16/7)+3(16/7)2}{1+3+3(16/7)+3(16/7)2+3(16/7)2(24/13)}=\\frac{559}{1135}\n",
    "$$\n",
    "\n",
    "Thus the two fixation probabilities $x_1$ are:\n",
    "\n",
    "\n",
    "- Cooperation: $\\frac{91}{4540}\\approx 0.02$\n",
    "- Defection $1-\\frac{559}{1135}=\\frac{576}{1135}\\approx 0.51$\n",
    "\n",
    "Some code to verify the result:"
   ]
  },
  {
   "cell_type": "code",
   "execution_count": 13,
   "metadata": {},
   "outputs": [],
   "source": [
    "def theoretic_fixation(N, game, i=1):\n",
    "    \"\"\"\n",
    "    Calculate x_i as given by the above formula\n",
    "    \"\"\"\n",
    "    f_ones = np.array([(game[0, 0] * (i - 1) + game[0, 1] * (N - i)) / (N - 1) for i in range(1, N)])\n",
    "    f_twos = np.array([(game[1, 0] * i + game[1, 1] * (N - i - 1)) / (N - 1) for i in range(1, N)])\n",
    "    gammas = f_twos / f_ones\n",
    "    return (1 + np.sum(np.cumprod(gammas[:i-1]))) / (1 + np.sum(np.cumprod(gammas)))"
   ]
  },
  {
   "cell_type": "code",
   "execution_count": 14,
   "metadata": {},
   "outputs": [
    {
     "data": {
      "text/plain": [
       "(91/4540, 576/1135)"
      ]
     },
     "execution_count": 14,
     "metadata": {},
     "output_type": "execute_result"
    }
   ],
   "source": [
    "import sympy as sym\n",
    "game = np.array([[sym.S(4), sym.S(1)], [sym.S(6), sym.S(2)]])\n",
    "theoretic_fixation(N=5, game=game), 1- theoretic_fixation(N=5, game=game, i=4)"
   ]
  },
  {
   "cell_type": "code",
   "execution_count": 15,
   "metadata": {
    "tags": [
     "nbval-ignore-output"
    ]
   },
   "outputs": [
    {
     "data": {
      "text/plain": [
       "[0.020044052863436124, 0.507488986784141]"
      ]
     },
     "execution_count": 15,
     "metadata": {},
     "output_type": "execute_result"
    }
   ],
   "source": [
    "[float(x) for x in _]"
   ]
  },
  {
   "cell_type": "markdown",
   "metadata": {},
   "source": [
    "### (d) Game for TfT vs Alternator\n",
    "\n",
    "The history of 5 turns would give between TfT and Alternator\n",
    "\n",
    "1. TfT: C Alternator: C with scores: (4, 4)\n",
    "2. TfT: C Alternator: D with scores: (1, 6)\n",
    "3. TfT: D Alternator: C with scores: (6, 1)\n",
    "4. TfT: C Alternator: D with scores: (1, 6)\n",
    "5. TfT: D Alternator: C with scores: (6, 1)\n",
    "\n",
    "The history of 5 turns would give between TfT and TfT\n",
    "\n",
    "1. TfT: C TfT: C with scores: (4, 4)\n",
    "2. TfT: C TfT: C with scores: (4, 4)\n",
    "3. TfT: C TfT: C with scores: (4, 4)\n",
    "4. TfT: C TfT: C with scores: (4, 4)\n",
    "5. TfT: C TfT: C with scores: (4, 4)\n",
    "\n",
    "The history of 5 turns between Alternator and Alternator:\n",
    "\n",
    "1. Alternator: C Alternator: C with scores: (4, 4)\n",
    "2. Alternator: D Alternator: D with scores: (2, 2)\n",
    "3. Alternator: C Alternator: C with scores: (4, 4)\n",
    "4. Alternator: D Alternator: D with scores: (2, 2)\n",
    "5. Alternator: C Alternator: C with scores: (4, 4)\n",
    "\n",
    "Summing these, the payoff matrix is thus given by:\n",
    "\n",
    "$$\n",
    "\\begin{pmatrix}\n",
    "20 & 18 \\\\\n",
    "18 & 16\\\\\n",
    "\\end{pmatrix}\n",
    "$$"
   ]
  },
  {
   "cell_type": "markdown",
   "metadata": {},
   "source": [
    "### (e) Moran calculations\n",
    "\n",
    "Repeating the previous calculations:\n",
    "\n",
    "$$f_{1i}=\\frac{a(i-1)+b(N-i)}{N-1}=\\frac{20(i - 1) + 18(5-i)}{4}=\\frac{2i+70}{4}$$\n",
    "$$f_{2i}=\\frac{c(i)+d(N-i-1)}{N-1}=\\frac{18i+16(4-i)}{4}=\\frac{2i+64}{4}=i$$\n",
    "\n",
    "which gives:\n",
    "\n",
    "$$\\gamma_i=\\frac{f_{2i}}{f_{1i}}=\\frac{2i+64}{2i+70}$$\n",
    "\n",
    "thus:\n",
    "\n",
    "$$\n",
    "x_1=\\frac{1}{1+\\sum_{j=1}^{4}\\prod_{k=1}^j\\frac{2k+64}{2k+70}}=\\frac{1}{1+11/12+(11/12)(34/37)+(11/12)(34/37)(35/38)+(11/12)(34/37)(35/38)(12/13)}=\\frac{247}{1050}\n",
    "$$\n",
    "\n",
    "$$\n",
    "x_4=\\frac{1+\\sum_{j=1}^{3}\\prod_{k=1}^j\\frac{2k+64}{2k+70}}{1+\\sum_{j=1}^{4}\\prod_{k=1}^j\\frac{2k+64}{2k+70}}=\\frac{1+11/12+(11/12)(34/37)+(11/12)(34/37)(35/38)}{1+11/12+(11/12)(34/37)+(11/12)(34/37)(35/38)+(11/12)(34/37)(35/38)(12/13)}=\\frac{923}{1110}\n",
    "$$\n",
    "\n",
    "Thus the two fixation probabilities $x_1$ are:\n",
    "\n",
    "- TfT: $\\frac{247}{1050}\\approx 0.24$\n",
    "- Alternator $1-\\frac{923}{1110}=\\frac{187}{1110}\\approx 0.17$\n",
    "\n",
    "Some code to verify the result:"
   ]
  },
  {
   "cell_type": "code",
   "execution_count": 16,
   "metadata": {},
   "outputs": [
    {
     "data": {
      "text/plain": [
       "(247/1050, 187/1110)"
      ]
     },
     "execution_count": 16,
     "metadata": {},
     "output_type": "execute_result"
    }
   ],
   "source": [
    "game = np.array([[sym.S(20), sym.S(18)], [sym.S(18), sym.S(16)]])\n",
    "theoretic_fixation(N=5, game=game), 1 - theoretic_fixation(N=5, game=game, i=4)"
   ]
  },
  {
   "cell_type": "code",
   "execution_count": 17,
   "metadata": {
    "tags": [
     "nbval-ignore-output"
    ]
   },
   "outputs": [
    {
     "data": {
      "text/plain": [
       "[0.23523809523809525, 0.16846846846846847]"
      ]
     },
     "execution_count": 17,
     "metadata": {},
     "output_type": "execute_result"
    }
   ],
   "source": [
    "[float(x) for x in _]"
   ]
  }
 ],
 "metadata": {
  "anaconda-cloud": {},
  "celltoolbar": "Tags",
  "kernelspec": {
   "display_name": "Python [conda env:gt]",
   "language": "python",
   "name": "conda-env-gt-py"
  },
  "language_info": {
   "codemirror_mode": {
    "name": "ipython",
    "version": 3
   },
   "file_extension": ".py",
   "mimetype": "text/x-python",
   "name": "python",
   "nbconvert_exporter": "python",
   "pygments_lexer": "ipython3",
   "version": "3.6.1"
  }
 },
 "nbformat": 4,
 "nbformat_minor": 2
}
