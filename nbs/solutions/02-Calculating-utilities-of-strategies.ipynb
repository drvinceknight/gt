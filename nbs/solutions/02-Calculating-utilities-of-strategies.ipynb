{
 "cells": [
  {
   "cell_type": "markdown",
   "metadata": {},
   "source": [
    "# Calculating utilities of strategies - Solutions\n",
    "\n",
    "1. Give the definition of a mixed strategy.\n",
    "   \n",
    "   Bookwork: https://vknight.org/gt/chapters/02/#Definition-of-mixed-strategies\n",
    "\n",
    "2. For the following vectors explain which ones are valid mixed strategy vectors for a strategy set of size 5. If there are not: explain why.\n",
    "   1. $\\sigma=(1, 0, 0, 0, 0)$: Valid.\n",
    "   2. $\\sigma=(1/4, 1/4, 0, 0, 1/4)$: Not valid, do not sum to 1.\n",
    "   3. $\\sigma=(1/4, 1/4, 1/2, -1/2, 1/2)$: Not valid, non positive values.\n",
    "   4. $\\sigma=(1/4, 1/4, 0, 0, 11/20)$: Not valid, do not sum to 1.\n",
    "   5. $\\sigma=(1/5, 1/5, 1/5, 1/5, 1/5)$: Valid.\n",
    "3. Calculate the utilities (for both the row and column player) for the following game for the following strategy pairs:\n",
    "\n",
    "   $$\n",
    "   A =\n",
    "   \\begin{pmatrix}\n",
    "   1 & -1\\\\\n",
    "   -3 & 1\\end{pmatrix}\n",
    "   \\qquad\n",
    "   B =\n",
    "   \\begin{pmatrix}\n",
    "   -1 & 2\\\\\n",
    "   1 & -1\\end{pmatrix}\n",
    "   $$\n",
    "\n",
    "   1. $\\sigma_r = (.2, .8)\\qquad\\sigma_c = (.6, .4)$\n",
    "   \n",
    "      $$u_r(\\sigma_r, \\sigma_c) = \\sigma_r A \\sigma_c ^T = .2\\times.6\\times 1 + .2\\times .4\\times (-1) + .8\\times.6\\times (-3) + .8\\times .4\\times 1=-1.08$$\n",
    "      \n",
    "      $$u_c(\\sigma_r, \\sigma_c) = \\sigma_r B \\sigma_c ^T = .2\\times.6\\times (-1) + .2\\times .4\\times 2 + .8\\times.6\\times 1 + .8\\times .4\\times (-1)=0.2 $$\n",
    "   2. $\\sigma_r = (.3, .7)\\qquad\\sigma_c = (.2, .8)$\n",
    "      \n",
    "      $$u_r(\\sigma_r, \\sigma_c) = -0.04$$\n",
    "      \n",
    "      $$u_c(\\sigma_r, \\sigma_c) = 0$$\n",
    "   3. $\\sigma_r = (.9, .1)\\qquad\\sigma_c = (.5, .5)$\n",
    "      \n",
    "      $$u_r(\\sigma_r, \\sigma_c) = -0.1$$\n",
    "      \n",
    "      $$u_c(\\sigma_r, \\sigma_c) = 0.45$$\n",
    "    \n",
    "4. Consider two column player strategies $z^{(1)}$ and $z^{(2)}$, obtain a linear algebraic expression for the expected utility to the row player playing against both these strategies, in terms of a row strategy $\\sigma_r$, a payoff matrix $A$ and $\\sigma_c=\\frac{z^{(1)} + z^{(2)}}{2}$:\n",
    "\n",
    "    $$E(u_r(\\sigma_r)) = 1/2u_r(\\sigma_r, z^{(1)}) + 1/2u_r(\\sigma_r, z^{(2)}) = 1/2\\sigma_rA{z^{(2)}}^T +  1/2\\sigma_rA{z^{(1)}}^T = \\sigma_rA\\left(1/2{z^{(2)}}^T +  1/2{z^{(1)}}^T\\right)=\\sigma_rA\\sigma_c^T$$"
   ]
  }
 ],
 "metadata": {
  "anaconda-cloud": {},
  "kernelspec": {
   "display_name": "Python [conda env:gt]",
   "language": "python",
   "name": "conda-env-gt-py"
  },
  "language_info": {
   "codemirror_mode": {
    "name": "ipython",
    "version": 3
   },
   "file_extension": ".py",
   "mimetype": "text/x-python",
   "name": "python",
   "nbconvert_exporter": "python",
   "pygments_lexer": "ipython3",
   "version": "3.6.1"
  }
 },
 "nbformat": 4,
 "nbformat_minor": 2
}
