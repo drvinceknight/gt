{
 "cells": [
  {
   "cell_type": "markdown",
   "metadata": {},
   "source": [
    "# The Lemke-Howson algorithm - solutions\n",
    "\n",
    "1. Define the Lemke-Howson algorithm\n",
    "\n",
    "   Bookwork: https://vknight.org/gt/chapters/07/#The-Lemke-Howson-algorithm\n",
    "\n",
    "2. Draw the best response polytopes and use the Lemke-Howson algorithm (with all possible starting labels) for the following games:\n",
    "   1. $\n",
    "   A =\n",
    "   \\begin{pmatrix}\n",
    "   3 & -1\\\\\n",
    "   2 & 7\\end{pmatrix}\n",
    "   \\qquad\n",
    "   B =\n",
    "   \\begin{pmatrix}\n",
    "   -3 & 1\\\\\n",
    "   1 & -6\\end{pmatrix}\n",
    "   $  \n",
    "   \n",
    "   From the previous exercise sheet https://vknight.org/gt/exercises/06/ we have the vertices of the row player best response polytope $\\mathcal{P}$ (with labels):\n",
    "   \n",
    "   - $a=(0, 0)$: $\\{0, 1\\}$\n",
    "   - $b=(0, 1/8)$: $\\{0, 2\\}$\n",
    "   - $c=(1/8, 0)$: $\\{1, 3\\}$\n",
    "   - $d=(7/60, 1/15)$: $\\{2, 3\\}$\n",
    "   \n",
    "   The vertices for the column player best response polytope $\\mathcal{Q}$ (with labels):\n",
    "   \n",
    "   - $w=(0, 0)$: $\\{2, 3\\}$\n",
    "   - $x=(0, 1/14)$: $\\{1, 2\\}$\n",
    "   - $y=(1/10, 0)$: $\\{0, 3\\}$\n",
    "   - $z=(4/43, 1/86)$: $\\{0, 1\\}$\n",
    "   \n",
    "   Here is the plot of these:"
   ]
  },
  {
   "cell_type": "code",
   "execution_count": 1,
   "metadata": {
    "tags": [
     "nbval-ignore-output"
    ]
   },
   "outputs": [
    {
     "data": {
      "text/plain": [
       "''"
      ]
     },
     "execution_count": 1,
     "metadata": {},
     "output_type": "execute_result"
    },
    {
     "data": {
      "text/plain": [
       "<matplotlib.figure.Figure at 0x7f7ff28aa208>"
      ]
     },
     "metadata": {},
     "output_type": "display_data"
    },
    {
     "data": {
      "image/png": "[encoded data removed]",
      "text/plain": [
       "<matplotlib.figure.Figure at 0x7f8018328898>"
      ]
     },
     "metadata": {},
     "output_type": "display_data"
    },
    {
     "data": {
      "text/plain": [
       "<matplotlib.figure.Figure at 0x7f801ee78208>"
      ]
     },
     "metadata": {},
     "output_type": "display_data"
    },
    {
     "data": {
      "image/png": "[encoded data removed]",
      "text/plain": [
       "<matplotlib.figure.Figure at 0x7f801ee80d30>"
      ]
     },
     "metadata": {},
     "output_type": "display_data"
    }
   ],
   "source": [
    "%matplotlib inline\n",
    "\n",
    "import matplotlib.pyplot as plt\n",
    "import numpy as np\n",
    "import scipy.spatial\n",
    "\n",
    "\n",
    "V = [np.array([0, 0]), np.array([0, 1 / 9]), np.array([1 / 5,  0]), np.array([8 / 41, 1 / 41])]\n",
    "P = scipy.spatial.ConvexHull(V)\n",
    "plt.figure()\n",
    "scipy.spatial.convex_hull_plot_2d(P);\n",
    "plt.title(\"$\\mathcal{P}$\")\n",
    "plt.text(0.001, .06, \"Label: 0\")\n",
    "plt.text(0.05, .002, \"Label: 1\")\n",
    "plt.text(0.07, .09, \"Label: 2\")\n",
    "plt.text(0.16, .015, \"Label: 3\")\n",
    "for v, s in zip(V, \"abcd\"):\n",
    "    plt.text(v[0] + 0.001, v[1] + 0.001, s)\n",
    ";\n",
    "\n",
    "V = [np.array([0, 0]), np.array([0, 1 / 14]), np.array([1 / 10,  0]), np.array([4 / 43, 1 / 86])]\n",
    "Q = scipy.spatial.ConvexHull(V)\n",
    "plt.figure()\n",
    "scipy.spatial.convex_hull_plot_2d(Q);\n",
    "plt.title(\"$\\mathcal{Q}$\")\n",
    "plt.text(0.001, .03, \"Label: 3\")\n",
    "plt.text(0.04, .002, \"Label: 2\")\n",
    "plt.text(0.04, .05, \"Label: 0\")\n",
    "plt.text(0.08, .005, \"Label: 1\")\n",
    "for v, s in zip(V, \"wxyz\"):\n",
    "    plt.text(v[0] + 0.001, v[1] + 0.001, s)\n",
    ";"
   ]
  },
  {
   "cell_type": "markdown",
   "metadata": {},
   "source": [
    "Using the plot we can carry out the Lemke-Howson algorithm:\n",
    "\n",
    "- Dropping label 0:\n",
    "\n",
    "  - $(a, w)$ have labels $\\{0, 1\\}, \\{2, 3\\}$. Drop 0.\n",
    "  - $\\to (c, w)$ have labels $\\{1, 3\\}, \\{2, 3\\}$. In $\\mathcal{Q}$ drop 3.\n",
    "  - $\\to (c, y)$ have labels $\\{1, 3\\}, \\{1, 2\\}$. In $\\mathcal{P}$ drop 1.\n",
    "  - $\\to (d, y)$ have labels $\\{2, 3\\}, \\{1, 2\\}$. In $\\mathcal{Q}$ drop 2.\n",
    "  - $\\to (d, z)$ have labels $\\{2, 3\\}, \\{0, 1\\}$. Fully labeled vertex pair.\n",
    "\n",
    "- Dropping label 1:\n",
    "\n",
    "  - $(a, w)$ have labels $\\{0, 1\\}, \\{2, 3\\}$. Drop 1.\n",
    "  - $\\to (b, w)$ have labels $\\{0, 2\\}, \\{2, 3\\}$. In $\\mathcal{Q}$ drop 2.\n",
    "  - $\\to (b, x)$ have labels $\\{0, 2\\}, \\{0, 3\\}$. In $\\mathcal{P}$ drop 0.\n",
    "  - $\\to (d, x)$ have labels $\\{2, 3\\}, \\{0, 3\\}$. In $\\mathcal{Q}$ drop 3.\n",
    "  - $\\to (d, z)$ have labels $\\{2, 3\\}, \\{0, 1\\}$. Fully labeled vertex pair.\n",
    "  \n",
    "- Dropping label 2:\n",
    "\n",
    "  - $(a, w)$ have labels $\\{0, 1\\}, \\{2, 3\\}$. Drop 2.\n",
    "  - $\\to (a, x)$ have labels $\\{0, 1\\}, \\{0, 3\\}$. In $\\mathcal{P}$ drop 0.\n",
    "  - $\\to (c, x)$ have labels $\\{1, 3\\}, \\{0, 3\\}$. In $\\mathcal{Q}$ drop 3.\n",
    "  - $\\to (c, z)$ have labels $\\{1, 3\\}, \\{0, 1\\}$. In $\\mathcal{P}$ drop 1.\n",
    "  - $\\to (d, z)$ have labels $\\{2, 3\\}, \\{0, 1\\}$. Fully labeled vertex pair.\n",
    "  \n",
    "- Dropping label 3:\n",
    "\n",
    "  - $(a, w)$ have labels $\\{0, 1\\}, \\{2, 3\\}$. Drop 3.\n",
    "  - $\\to (a, y)$ have labels $\\{0, 1\\}, \\{1, 2\\}$. In $\\mathcal{P}$ drop 1.\n",
    "  - $\\to (b, y)$ have labels $\\{0, 2\\}, \\{1, 2\\}$. In $\\mathcal{Q}$ drop 2.\n",
    "  - $\\to (b, z)$ have labels $\\{0, 2\\}, \\{0, 1\\}$. In $\\mathcal{P}$ drop 0.\n",
    "  - $\\to (d, z)$ have labels $\\{2, 3\\}, \\{0, 1\\}$. Fully labeled vertex pair.\n",
    "  \n",
    "For all of these dropped labels the only fully labeled vertex pair is:    \n",
    "\n",
    "\n",
    "$$((7/60, 1/15), (8/41, 1/41))$$\n",
    "\n",
    "which gives the normalised Nash equilibrium:\n",
    "\n",
    "$$((7/11, 4/11), (8/9, 1/9))$$"
   ]
  },
  {
   "cell_type": "markdown",
   "metadata": {},
   "source": [
    "   `2`. $\n",
    "   A =\n",
    "   \\begin{pmatrix}\n",
    "   2 & -1\\\\\n",
    "   2 & 3\\end{pmatrix}\n",
    "   \\qquad\n",
    "   B =\n",
    "   \\begin{pmatrix}\n",
    "   -2 & 1\\\\\n",
    "   1 & -2\\end{pmatrix}\n",
    "   $  \n",
    "   \n",
    "   From the previous exercise sheet https://vknight.org/gt/exercises/06/ we have the vertices of the row player best response polytope $\\mathcal{P}$ (with labels):\n",
    "   \n",
    "   - $a=(0, 0)$: $\\{0, 1\\}$\n",
    "   - $b=(0, 1/4)$: $\\{0, 2\\}$\n",
    "   - $c=(1/5, 0)$: $\\{1, 3\\}$\n",
    "   - $d=(3/19, 4/19)$: $\\{2, 3\\}$\n",
    "   \n",
    "   The vertices for the column player best response polytope $\\mathcal{Q}$ (with labels):\n",
    "   \n",
    "   - $w=(0, 0)$: $\\{2, 3\\}$\n",
    "   - $x=(0, 1/5)$: $\\{1, 2\\}$\n",
    "   - $y=(1/4, 0)$: $\\{0, 3\\}$\n",
    "   - $z=(4/17, 1/17)$: $\\{0, 1\\}$\n",
    "   \n",
    "   Here is the plot of these:"
   ]
  },
  {
   "cell_type": "code",
   "execution_count": 2,
   "metadata": {
    "tags": [
     "nbval-ignore-output"
    ]
   },
   "outputs": [
    {
     "data": {
      "text/plain": [
       "''"
      ]
     },
     "execution_count": 2,
     "metadata": {},
     "output_type": "execute_result"
    },
    {
     "data": {
      "text/plain": [
       "<matplotlib.figure.Figure at 0x7f7ff28ba5f8>"
      ]
     },
     "metadata": {},
     "output_type": "display_data"
    },
    {
     "data": {
      "image/png": "[encoded data removed]",
      "text/plain": [
       "<matplotlib.figure.Figure at 0x7f7ff28ba7b8>"
      ]
     },
     "metadata": {},
     "output_type": "display_data"
    },
    {
     "data": {
      "text/plain": [
       "<matplotlib.figure.Figure at 0x7f7fece7d080>"
      ]
     },
     "metadata": {},
     "output_type": "display_data"
    },
    {
     "data": {
      "image/png": "[encoded data removed]",
      "text/plain": [
       "<matplotlib.figure.Figure at 0x7f801ee80cc0>"
      ]
     },
     "metadata": {},
     "output_type": "display_data"
    }
   ],
   "source": [
    "%matplotlib inline\n",
    "\n",
    "import matplotlib.pyplot as plt\n",
    "import numpy as np\n",
    "import scipy.spatial\n",
    "\n",
    "V = [np.array([0, 0]), np.array([0, 1 / 4]), np.array([1 / 5,  0]), np.array([3/19, 4/19])]\n",
    "P = scipy.spatial.ConvexHull(V)\n",
    "plt.figure()\n",
    "scipy.spatial.convex_hull_plot_2d(P);\n",
    "plt.title(\"$\\mathcal{P}$\")\n",
    "plt.text(0.001, .12, \"Label: 0\")\n",
    "plt.text(0.08, .004, \"Label: 1\")\n",
    "plt.text(0.06, .24, \"Label: 2\")\n",
    "plt.text(0.18, .12, \"Label: 3\")\n",
    "for v, s in zip(V, \"abcd\"):\n",
    "    plt.text(v[0] + 0.001, v[1] + 0.001, s)\n",
    ";\n",
    "\n",
    "V = [np.array([0, 0]), np.array([0, 1 / 5]), np.array([1 / 4,  0]), np.array([4 / 17, 1 / 17])]\n",
    "Q = scipy.spatial.ConvexHull(V)\n",
    "plt.figure()\n",
    "scipy.spatial.convex_hull_plot_2d(Q);\n",
    "plt.title(\"$\\mathcal{Q}$\")\n",
    "plt.text(0.001, .075, \"Label: 2\")\n",
    "plt.text(0.08, .002, \"Label: 3\")\n",
    "plt.text(0.08, .125, \"Label: 1\")\n",
    "plt.text(0.20, .015, \"Label: 0\")\n",
    "for v, s in zip(V, \"wxyz\"):\n",
    "    plt.text(v[0] + 0.001, v[1] + 0.001, s)\n",
    ";"
   ]
  },
  {
   "cell_type": "markdown",
   "metadata": {},
   "source": [
    "Using the plot we can carry out the Lemke-Howson algorithm:\n",
    "\n",
    "- Dropping label 0:\n",
    "\n",
    "  - $(a, w)$ have labels $\\{0, 1\\}, \\{2, 3\\}$. Drop 0.\n",
    "  - $\\to (c, w)$ have labels $\\{1, 3\\}, \\{2, 3\\}$. In $\\mathcal{Q}$ drop 3.\n",
    "  - $\\to (c, y)$ have labels $\\{1, 3\\}, \\{1, 2\\}$. In $\\mathcal{P}$ drop 1.\n",
    "  - $\\to (d, y)$ have labels $\\{2, 3\\}, \\{1, 2\\}$. In $\\mathcal{Q}$ drop 2.\n",
    "  - $\\to (d, z)$ have labels $\\{2, 3\\}, \\{0, 1\\}$. Fully labeled vertex pair.\n",
    "\n",
    "- Dropping label 1:\n",
    "\n",
    "  - $(a, w)$ have labels $\\{0, 1\\}, \\{2, 3\\}$. Drop 1.\n",
    "  - $\\to (b, w)$ have labels $\\{0, 2\\}, \\{2, 3\\}$. In $\\mathcal{Q}$ drop 2.\n",
    "  - $\\to (b, y)$ have labels $\\{0, 2\\}, \\{0, 3\\}$. In $\\mathcal{P}$ drop 0.\n",
    "  - $\\to (d, x)$ have labels $\\{2, 3\\}, \\{0, 3\\}$. In $\\mathcal{Q}$ drop 3.\n",
    "  - $\\to (d, z)$ have labels $\\{2, 3\\}, \\{0, 1\\}$. Fully labeled vertex pair.\n",
    "  \n",
    "- Dropping label 2:\n",
    "\n",
    "  - $(a, w)$ have labels $\\{0, 1\\}, \\{2, 3\\}$. Drop 2.\n",
    "  - $\\to (a, y)$ have labels $\\{0, 1\\}, \\{0, 3\\}$. In $\\mathcal{P}$ drop 0.\n",
    "  - $\\to (c, y)$ have labels $\\{1, 3\\}, \\{0, 3\\}$. In $\\mathcal{Q}$ drop 3.\n",
    "  - $\\to (c, z)$ have labels $\\{1, 3\\}, \\{0, 1\\}$. In $\\mathcal{P}$ drop 1.\n",
    "  - $\\to (d, z)$ have labels $\\{2, 3\\}, \\{0, 1\\}$. Fully labeled vertex pair.\n",
    "  \n",
    "- Dropping label 3:\n",
    "\n",
    "  - $(a, w)$ have labels $\\{0, 1\\}, \\{2, 3\\}$. Drop 3.\n",
    "  - $\\to (a, x)$ have labels $\\{0, 1\\}, \\{1, 2\\}$. In $\\mathcal{P}$ drop 1.\n",
    "  - $\\to (b, x)$ have labels $\\{0, 2\\}, \\{1, 2\\}$. In $\\mathcal{Q}$ drop 2.\n",
    "  - $\\to (b, z)$ have labels $\\{0, 2\\}, \\{0, 1\\}$. In $\\mathcal{P}$ drop 0.\n",
    "  - $\\to (d, z)$ have labels $\\{2, 3\\}, \\{0, 1\\}$. Fully labeled vertex pair.\n",
    "  \n",
    "For all of these dropped labels the only fully labeled vertex pair is:    \n",
    "\n",
    "$$(d, z) = ((3/19, 4/19), (4/17, 1/17))$$\n",
    "\n",
    "which gives the normalised Nash equilibrium:\n",
    "\n",
    "$$((3/7,4/7),(4/5,1/5))$$"
   ]
  },
  {
   "cell_type": "markdown",
   "metadata": {},
   "source": [
    "   \n",
    "`3`. Use the tableaux representation to execute the Lemke-Howson algorithm (with all possible starting labels) on the games of question 2.\n",
    "\n",
    "   We start by ensuring our payoff matrices are positive:\n",
    "\n",
    "   1. $\n",
    "   A \\to A + 2 =\n",
    "   \\begin{pmatrix}\n",
    "   5 & 1\\\\\n",
    "   4 & 9\\end{pmatrix}\n",
    "   \\qquad\n",
    "   B \\to B + 7 =\n",
    "   \\begin{pmatrix}\n",
    "   4 & 8\\\\\n",
    "   8 & 1\\end{pmatrix}\n",
    "   $ \n",
    "   \n",
    "The tableaux are:\n",
    "\n",
    "$$\n",
    "T_r = \n",
    "\\begin{pmatrix}\n",
    "B^T&I &1\\\\\n",
    "\\end{pmatrix} =\n",
    "\\begin{pmatrix}\n",
    "4 & 8 & 1 & 0 & 1\\\\\n",
    "8 & 1 & 0 & 1 & 1\n",
    "\\end{pmatrix}\n",
    "$$\n",
    "\n",
    "$$\n",
    "T_c = \n",
    "\\begin{pmatrix}\n",
    "I&A &1\\\\\n",
    "\\end{pmatrix} =\n",
    "\\begin{pmatrix}\n",
    "1 & 0 & 5 & 1 & 1\\\\\n",
    "0 & 1 & 4 & 9 & 1\n",
    "\\end{pmatrix}\n",
    "$$\n",
    "   \n",
    "Dropping label 0: corresonds to first column of $T_r$ (non basic variables correspond to labels). Looking at the ratios in the first column (to the values in the last column): $1/4$ and $1/8$. So we pivot on the second row, giving:\n",
    "   \n",
    "$$\n",
    "T_r = \n",
    "\\begin{pmatrix}\n",
    "0 & 60 & 8 & -4 & 4\\\\\n",
    "8 & 1 & 0 & 1 & 1\n",
    "\\end{pmatrix}\n",
    "$$\n",
    "\n",
    "This now has labels (non basic variables) $\\{1, 3\\}$. So we need to pivot column 3 in $T_c$. Looking at the fourth column ratios: $1/1$ and $1/9$, thus we pivot on the second row:\n",
    "\n",
    "$$\n",
    "T_c = \n",
    "\\begin{pmatrix}\n",
    "9 & -1 & 41 & 0 & 8\\\\\n",
    "0 & 1 & 4 & 9 & 1\n",
    "\\end{pmatrix}\n",
    "$$\n",
    "\n",
    "\n",
    "This now has labels (non basic variables) $\\{1, 2\\}$. So we need to pivot column 1 in $T_r$. Looking at the second column ratios: $4/60$ and $1/1$, thus we pivot on the first row:\n",
    "\n",
    "$$\n",
    "T_r = \n",
    "\\begin{pmatrix}\n",
    "0 & 60 & 8 & -4 & 4\\\\\n",
    "480 & 0 & -8 & 64 & 56\n",
    "\\end{pmatrix}\n",
    "$$\n",
    "\n",
    "This now has labels (non basic variables) $\\{2, 3\\}$ we wee need to pivot column 2 in $T_c$. Looking at the third column ratios: $8/41$ and $1/4$, thus we pivot on the first row:     \n",
    "\n",
    "$$\n",
    "T_c = \n",
    "\\begin{pmatrix}\n",
    "9 & -1 & 41 & 0 & 8\\\\\n",
    "-36 & 45 & 0 & 369 & 9\n",
    "\\end{pmatrix}\n",
    "$$\n",
    "\n",
    "This now has labels $\\{0, 1\\}$ so we have a fully labeled vertex pair. Setting the non basic variables to 0 in each tableaux gives:\n",
    "\n",
    "$$((56/480, 4/60), (8/41, 9/369)) = ((7/60, 1/15), (8/41, 1/41))$$\n",
    "\n",
    "which gives the normalised Nash equilibrium:\n",
    "\n",
    "$$((7/11, 4/11), (8/9, 1/9))$$\n",
    "\n",
    "Here is some code to carry out the above: "
   ]
  },
  {
   "cell_type": "code",
   "execution_count": 3,
   "metadata": {},
   "outputs": [],
   "source": [
    "import numpy as np\n",
    "row_tableau = np.array([[4, 8, 1, 0, 1],\n",
    "                        [8, 1, 0, 1, 1]])\n",
    "col_tableau = np.array([[1, 0, 5, 1, 1],\n",
    "                        [0, 1, 4, 9, 1]])"
   ]
  },
  {
   "cell_type": "code",
   "execution_count": 4,
   "metadata": {},
   "outputs": [
    {
     "data": {
      "text/plain": [
       "array([[ 0, 60,  8, -4,  4],\n",
       "       [ 8,  1,  0,  1,  1]])"
      ]
     },
     "execution_count": 4,
     "metadata": {},
     "output_type": "execute_result"
    }
   ],
   "source": [
    "import nash\n",
    "# Dropping label 0 from row tableau\n",
    "dropped_label = nash.integer_pivoting.pivot_tableau(row_tableau,\n",
    "                                                    column_index=0)\n",
    "row_tableau"
   ]
  },
  {
   "cell_type": "code",
   "execution_count": 5,
   "metadata": {},
   "outputs": [
    {
     "data": {
      "text/plain": [
       "array([[ 9, -1, 41,  0,  8],\n",
       "       [ 0,  1,  4,  9,  1]])"
      ]
     },
     "execution_count": 5,
     "metadata": {},
     "output_type": "execute_result"
    }
   ],
   "source": [
    "# Dropping label 3 from col tableau\n",
    "dropped_label = nash.integer_pivoting.pivot_tableau(col_tableau,\n",
    "                                                    column_index=3)\n",
    "col_tableau"
   ]
  },
  {
   "cell_type": "code",
   "execution_count": 6,
   "metadata": {},
   "outputs": [
    {
     "data": {
      "text/plain": [
       "array([[  0,  60,   8,  -4,   4],\n",
       "       [480,   0,  -8,  64,  56]])"
      ]
     },
     "execution_count": 6,
     "metadata": {},
     "output_type": "execute_result"
    }
   ],
   "source": [
    "# Dropping label 1 from row tableau\n",
    "dropped_label = nash.integer_pivoting.pivot_tableau(row_tableau,\n",
    "                                                    column_index=1)\n",
    "row_tableau"
   ]
  },
  {
   "cell_type": "code",
   "execution_count": 7,
   "metadata": {},
   "outputs": [
    {
     "data": {
      "text/plain": [
       "array([[  9,  -1,  41,   0,   8],\n",
       "       [-36,  45,   0, 369,   9]])"
      ]
     },
     "execution_count": 7,
     "metadata": {},
     "output_type": "execute_result"
    }
   ],
   "source": [
    "# Dropping label 2 from col tableau\n",
    "dropped_label = nash.integer_pivoting.pivot_tableau(col_tableau,\n",
    "                                                    column_index=2)\n",
    "col_tableau"
   ]
  },
  {
   "cell_type": "markdown",
   "metadata": {},
   "source": [
    "`2`. $\n",
    "   A \\to A + 2 =\n",
    "   \\begin{pmatrix}\n",
    "   4 & 1\\\\\n",
    "   3 & 5\\end{pmatrix}\n",
    "   \\qquad\n",
    "   B \\to B + 3 =\n",
    "   \\begin{pmatrix}\n",
    "   1 & 5\\\\\n",
    "   4 & 1\\end{pmatrix}\n",
    "   $\n",
    "   \n",
    "The tableaux are:\n",
    "\n",
    "$$\n",
    "T_r = \n",
    "\\begin{pmatrix}\n",
    "B^T&I &1\\\\\n",
    "\\end{pmatrix} =\n",
    "\\begin{pmatrix}\n",
    "1 & 4 & 1 & 0 & 1\\\\\n",
    "5 & 1 & 0 & 1 & 1\n",
    "\\end{pmatrix}\n",
    "$$\n",
    "\n",
    "$$\n",
    "T_c = \n",
    "\\begin{pmatrix}\n",
    "I&A &1\\\\\n",
    "\\end{pmatrix} =\n",
    "\\begin{pmatrix}\n",
    "1 & 0 & 4 & 1 & 1\\\\\n",
    "0 & 1 & 3 & 5 & 1\n",
    "\\end{pmatrix}\n",
    "$$\n",
    "   \n",
    "Dropping label 0: corresonds to first column of $T_r$ (non basic variables correspond to labels). Looking at the ratios in the first column (to the values in the last column): $1/4$ and $1/5$. So we pivot on the second row, giving:\n",
    "   \n",
    "$$\n",
    "T_r = \n",
    "\\begin{pmatrix}\n",
    "0 & 19 & 5 & -1 & 4\\\\\n",
    "5 & 1 & 0 & 1 & 1\n",
    "\\end{pmatrix}\n",
    "$$\n",
    "\n",
    "This now has labels (non basic variables) $\\{1, 3\\}$. So we need to pivot column 3 in $T_c$. Looking at the fourth column ratios: $1/1$ and $1/5$, thus we pivot on the second row:\n",
    "\n",
    "$$\n",
    "T_c = \n",
    "\\begin{pmatrix}\n",
    "5 & -1 & 17 & 0 & 4\\\\\n",
    "0 & 1 & 3 & 5 & 1\n",
    "\\end{pmatrix}\n",
    "$$\n",
    "\n",
    "\n",
    "This now has labels (non basic variables) $\\{1, 2\\}$. So we need to pivot column 1 in $T_r$. Looking at the second column ratios: $1/19$ and $1/1$, thus we pivot on the first row:\n",
    "\n",
    "$$\n",
    "T_r = \n",
    "\\begin{pmatrix}\n",
    "0 & 19 & 5 & -1 & 4\\\\\n",
    "95 & 0 & -5 & 20 & 15\n",
    "\\end{pmatrix}\n",
    "$$\n",
    "\n",
    "\n",
    "This now has labels (non basic variables) $\\{2, 3\\}$ we wee need to pivot column 2 in $T_c$. Looking at the third column ratios: $4/17$ and $1/3$, thus we pivot on the first row:     \n",
    "\n",
    "$$\n",
    "T_c = \n",
    "\\begin{pmatrix}\n",
    "5 & -1 & 17 & 0 & 4\\\\\n",
    "-15 & 20 & 0 & 85 & 5\n",
    "\\end{pmatrix}\n",
    "$$\n",
    "\n",
    "This now has labels $\\{0, 1\\}$ so we have a fully labeled vertex pair. Setting the non basic variables to 0 in each tableaux gives:\n",
    "\n",
    "$$((4/19, 15/95), (4/17, 5/85)) = ((7/60, 1/15), (8/41, 1/41))$$\n",
    "\n",
    "which gives the normalised Nash equilibrium:\n",
    "\n",
    "$$((7/11, 4/11), (8/9, 1/9))$$\n",
    "\n",
    "Here is some code to carry out the above: "
   ]
  },
  {
   "cell_type": "code",
   "execution_count": 8,
   "metadata": {},
   "outputs": [],
   "source": [
    "row_tableau = np.array([[1, 4, 1, 0, 1],\n",
    "                        [5, 1, 0, 1, 1]])\n",
    "col_tableau = np.array([[1, 0, 4, 1, 1],\n",
    "                        [0, 1, 3, 5, 1]])"
   ]
  },
  {
   "cell_type": "code",
   "execution_count": 9,
   "metadata": {},
   "outputs": [
    {
     "data": {
      "text/plain": [
       "array([[ 0, 19,  5, -1,  4],\n",
       "       [ 5,  1,  0,  1,  1]])"
      ]
     },
     "execution_count": 9,
     "metadata": {},
     "output_type": "execute_result"
    }
   ],
   "source": [
    "# Dropping label 0 from row tableau\n",
    "dropped_label = nash.integer_pivoting.pivot_tableau(row_tableau,\n",
    "                                                    column_index=0)\n",
    "row_tableau"
   ]
  },
  {
   "cell_type": "code",
   "execution_count": 10,
   "metadata": {},
   "outputs": [
    {
     "data": {
      "text/plain": [
       "array([[ 5, -1, 17,  0,  4],\n",
       "       [ 0,  1,  3,  5,  1]])"
      ]
     },
     "execution_count": 10,
     "metadata": {},
     "output_type": "execute_result"
    }
   ],
   "source": [
    "# Dropping label 3 from col tableau\n",
    "dropped_label = nash.integer_pivoting.pivot_tableau(col_tableau,\n",
    "                                                    column_index=3)\n",
    "col_tableau"
   ]
  },
  {
   "cell_type": "code",
   "execution_count": 11,
   "metadata": {},
   "outputs": [
    {
     "data": {
      "text/plain": [
       "array([[ 0, 19,  5, -1,  4],\n",
       "       [95,  0, -5, 20, 15]])"
      ]
     },
     "execution_count": 11,
     "metadata": {},
     "output_type": "execute_result"
    }
   ],
   "source": [
    "# Dropping label 1 from row tableau\n",
    "dropped_label = nash.integer_pivoting.pivot_tableau(row_tableau,\n",
    "                                                    column_index=1)\n",
    "row_tableau"
   ]
  },
  {
   "cell_type": "code",
   "execution_count": 12,
   "metadata": {},
   "outputs": [
    {
     "data": {
      "text/plain": [
       "array([[  5,  -1,  17,   0,   4],\n",
       "       [-15,  20,   0,  85,   5]])"
      ]
     },
     "execution_count": 12,
     "metadata": {},
     "output_type": "execute_result"
    }
   ],
   "source": [
    "# Dropping label 2 from col tableau\n",
    "dropped_label = nash.integer_pivoting.pivot_tableau(col_tableau,\n",
    "                                                    column_index=2)\n",
    "col_tableau"
   ]
  }
 ],
 "metadata": {
  "anaconda-cloud": {},
  "celltoolbar": "Tags",
  "kernelspec": {
   "display_name": "Python [conda env:gt]",
   "language": "python",
   "name": "conda-env-gt-py"
  },
  "language_info": {
   "codemirror_mode": {
    "name": "ipython",
    "version": 3
   },
   "file_extension": ".py",
   "mimetype": "text/x-python",
   "name": "python",
   "nbconvert_exporter": "python",
   "pygments_lexer": "ipython3",
   "version": "3.6.1"
  }
 },
 "nbformat": 4,
 "nbformat_minor": 2
}
