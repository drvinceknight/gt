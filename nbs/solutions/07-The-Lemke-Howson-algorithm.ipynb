{
 "cells": [
  {
   "cell_type": "markdown",
   "metadata": {},
   "source": [
    "# The Lemke-Howson algorithm - solutions\n",
    "\n",
    "1. Define the Lemke-Howson algorithm\n",
    "\n",
    "   Bookwork: https://vknight.org/gt/chapters/07/#The-Lemke-Howson-algorithm\n",
    "\n",
    "2. Draw the best response polytopes and use the Lemke-Howson algorithm (with all possible starting labels) for the following games:\n",
    "   1. $\n",
    "   A =\n",
    "   \\begin{pmatrix}\n",
    "   3 & -1\\\\\n",
    "   2 & 7\\end{pmatrix}\n",
    "   \\qquad\n",
    "   B =\n",
    "   \\begin{pmatrix}\n",
    "   -3 & 1\\\\\n",
    "   1 & -6\\end{pmatrix}\n",
    "   $  \n",
    "   \n",
    "   From the previous exercise sheet https://vknight.org/gt/exercises/06/ we have the vertices of the row player best response polytope $\\mathcal{P}$ (with labels):\n",
    "   \n",
    "   - $a=(0, 0)$: $\\{0, 1\\}$\n",
    "   - $b=(0, 1/8)$: $\\{0, 2\\}$\n",
    "   - $c=(1/8, 0)$: $\\{1, 3\\}$\n",
    "   - $d=(7/60, 1/15)$: $\\{2, 3\\}$\n",
    "   \n",
    "   The vertices for the column player best response polytope $\\mathcal{Q}$ (with labels):\n",
    "   \n",
    "   - $w=(0, 0)$: $\\{2, 3\\}$\n",
    "   - $x=(0, 1/9)$: $\\{1, 2\\}$\n",
    "   - $y=(1/5, 0)$: $\\{0, 3\\}$\n",
    "   - $z=(8/41, 1/41)$: $\\{0, 1\\}$\n",
    "\n",
    "   Here is the plot of these:"
   ]
  },
  {
   "cell_type": "code",
   "execution_count": 1,
   "metadata": {
    "tags": [
     "nbval-ignore-output"
    ]
   },
   "outputs": [
    {
     "data": {
      "text/plain": [
       "''"
      ]
     },
     "execution_count": 1,
     "metadata": {},
     "output_type": "execute_result"
    },
    {
     "data": {
      "text/plain": [
       "<Figure size 432x288 with 0 Axes>"
      ]
     },
     "metadata": {},
     "output_type": "display_data"
    },
    {
     "data": {
      "image/png": "[encoded data removed]",
      "text/plain": [
       "<Figure size 432x288 with 1 Axes>"
      ]
     },
     "metadata": {
      "needs_background": "light"
     },
     "output_type": "display_data"
    },
    {
     "data": {
      "text/plain": [
       "<Figure size 432x288 with 0 Axes>"
      ]
     },
     "metadata": {},
     "output_type": "display_data"
    },
    {
     "data": {
      "image/png": "[encoded data removed]",
      "text/plain": [
       "<Figure size 432x288 with 1 Axes>"
      ]
     },
     "metadata": {
      "needs_background": "light"
     },
     "output_type": "display_data"
    }
   ],
   "source": [
    "%matplotlib inline\n",
    "\n",
    "import matplotlib.pyplot as plt\n",
    "import numpy as np\n",
    "import scipy.spatial\n",
    "\n",
    "\n",
    "V = [np.array([0, 0]), np.array([0, 1 / 8]), np.array([1 / 8,  0]), np.array([7 / 60, 1 / 15])]\n",
    "P = scipy.spatial.ConvexHull(V)\n",
    "plt.figure()\n",
    "scipy.spatial.convex_hull_plot_2d(P);\n",
    "plt.title(\"$\\mathcal{P}$\")\n",
    "plt.text(0.001, .06, \"Label: 0\")\n",
    "plt.text(0.05, .002, \"Label: 1\")\n",
    "plt.text(0.07, .09, \"Label: 2\")\n",
    "plt.text(0.1, .015, \"Label: 3\")\n",
    "for v, s in zip(V, \"abcd\"):\n",
    "    plt.text(v[0] + 0.001, v[1] + 0.001, s)\n",
    ";\n",
    "\n",
    "V = [np.array([0, 0]), np.array([0, 1 / 9]), np.array([1 / 5,  0]), np.array([8 / 41, 1 / 41])]\n",
    "Q = scipy.spatial.ConvexHull(V)\n",
    "plt.figure()\n",
    "scipy.spatial.convex_hull_plot_2d(Q);\n",
    "plt.title(\"$\\mathcal{Q}$\")\n",
    "plt.text(0.001, .03, \"Label: 2\")\n",
    "plt.text(0.04, .002, \"Label: 3\")\n",
    "plt.text(0.04, .07, \"Label: 1\")\n",
    "plt.text(0.17, .005, \"Label: 0\")\n",
    "for v, s in zip(V, \"wxyz\"):\n",
    "    plt.text(v[0] + 0.001, v[1] + 0.001, s)\n",
    ";"
   ]
  },
  {
   "cell_type": "markdown",
   "metadata": {},
   "source": [
    "Using the plot we can carry out the Lemke-Howson algorithm:\n",
    "\n",
    "- Dropping label 0:\n",
    "\n",
    "  - $(a, w)$ have labels $\\{0, 1\\}, \\{2, 3\\}$. Drop 0.\n",
    "  - $\\to (c, w)$ have labels $\\{1, 3\\}, \\{2, 3\\}$. In $\\mathcal{Q}$ drop 3.\n",
    "  - $\\to (c, x)$ have labels $\\{1, 3\\}, \\{1, 2\\}$. In $\\mathcal{P}$ drop 1.\n",
    "  - $\\to (d, x)$ have labels $\\{2, 3\\}, \\{1, 2\\}$. In $\\mathcal{Q}$ drop 2.\n",
    "  - $\\to (d, z)$ have labels $\\{2, 3\\}, \\{0, 1\\}$. Fully labeled vertex pair.\n",
    "\n",
    "- Dropping label 1:\n",
    "\n",
    "  - $(a, w)$ have labels $\\{0, 1\\}, \\{2, 3\\}$. Drop 1.\n",
    "  - $\\to (b, w)$ have labels $\\{0, 2\\}, \\{2, 3\\}$. In $\\mathcal{Q}$ drop 2.\n",
    "  - $\\to (b, y)$ have labels $\\{0, 2\\}, \\{0, 3\\}$. In $\\mathcal{P}$ drop 0.\n",
    "  - $\\to (d, y)$ have labels $\\{2, 3\\}, \\{0, 3\\}$. In $\\mathcal{Q}$ drop 3.\n",
    "  - $\\to (d, z)$ have labels $\\{2, 3\\}, \\{0, 1\\}$. Fully labeled vertex pair.\n",
    "  \n",
    "- Dropping label 2:\n",
    "\n",
    "  - $(a, w)$ have labels $\\{0, 1\\}, \\{2, 3\\}$. Drop 2.\n",
    "  - $\\to (a, y)$ have labels $\\{0, 1\\}, \\{0, 3\\}$. In $\\mathcal{P}$ drop 0.\n",
    "  - $\\to (c, y)$ have labels $\\{1, 3\\}, \\{0, 3\\}$. In $\\mathcal{Q}$ drop 3.\n",
    "  - $\\to (c, z)$ have labels $\\{1, 3\\}, \\{0, 1\\}$. In $\\mathcal{P}$ drop 1.\n",
    "  - $\\to (d, z)$ have labels $\\{2, 3\\}, \\{0, 1\\}$. Fully labeled vertex pair.\n",
    "  \n",
    "- Dropping label 3:\n",
    "\n",
    "  - $(a, w)$ have labels $\\{0, 1\\}, \\{2, 3\\}$. Drop 3.\n",
    "  - $\\to (a, x)$ have labels $\\{0, 1\\}, \\{1, 2\\}$. In $\\mathcal{P}$ drop 1.\n",
    "  - $\\to (b, x)$ have labels $\\{0, 2\\}, \\{1, 2\\}$. In $\\mathcal{Q}$ drop 2.\n",
    "  - $\\to (b, z)$ have labels $\\{0, 2\\}, \\{0, 1\\}$. In $\\mathcal{P}$ drop 0.\n",
    "  - $\\to (d, z)$ have labels $\\{2, 3\\}, \\{0, 1\\}$. Fully labeled vertex pair.\n",
    "  \n",
    "For all of these dropped labels the only fully labeled vertex pair is:    \n",
    "\n",
    "\n",
    "$$((7/60, 1/15), (8/41, 1/41))$$\n",
    "\n",
    "which gives the normalised Nash equilibrium:\n",
    "\n",
    "$$((7/11, 4/11), (8/9, 1/9))$$"
   ]
  },
  {
   "cell_type": "code",
   "execution_count": 2,
   "metadata": {},
   "outputs": [
    {
     "data": {
      "text/plain": [
       "[(array([0.63636364, 0.36363636]), array([0.88888889, 0.11111111])),\n",
       " (array([0.63636364, 0.36363636]), array([0.88888889, 0.11111111])),\n",
       " (array([0.63636364, 0.36363636]), array([0.88888889, 0.11111111])),\n",
       " (array([0.63636364, 0.36363636]), array([0.88888889, 0.11111111]))]"
      ]
     },
     "execution_count": 2,
     "metadata": {},
     "output_type": "execute_result"
    }
   ],
   "source": [
    "import numpy as np\n",
    "import nashpy as nash\n",
    "A = np.array([[3, -1], [2, 7]])\n",
    "B = np.array([[-3, 1], [1, -6]])\n",
    "game = nash.Game(A, B)\n",
    "list(game.lemke_howson_enumeration())"
   ]
  },
  {
   "cell_type": "code",
   "execution_count": 3,
   "metadata": {},
   "outputs": [
    {
     "data": {
      "text/plain": [
       "((0.6363636363636364, 0.36363636363636365),\n",
       " (0.8888888888888888, 0.1111111111111111))"
      ]
     },
     "execution_count": 3,
     "metadata": {},
     "output_type": "execute_result"
    }
   ],
   "source": [
    "(7 / 11, 4 / 11), (8 / 9, 1 / 9)"
   ]
  },
  {
   "cell_type": "markdown",
   "metadata": {},
   "source": [
    "   `2`. $\n",
    "   A =\n",
    "   \\begin{pmatrix}\n",
    "   2 & -1\\\\\n",
    "   1 & 3\\end{pmatrix}\n",
    "   \\qquad\n",
    "   B =\n",
    "   \\begin{pmatrix}\n",
    "   -2 & 2\\\\\n",
    "   1 & -2\\end{pmatrix}\n",
    "   $  \n",
    "   \n",
    "   From the previous exercise sheet https://vknight.org/gt/exercises/06/ we have the vertices of the row player best response polytope $\\mathcal{P}$ (with labels):\n",
    "   \n",
    "   - $a=(0, 0)$: $\\{0, 1\\}$\n",
    "   - $b=(0, 1/4)$: $\\{0, 2\\}$\n",
    "   - $c=(1/5, 0)$: $\\{1, 3\\}$\n",
    "   - $d=(3/19, 4/19)$: $\\{2, 3\\}$\n",
    "   \n",
    "   The vertices for the column player best response polytope $\\mathcal{Q}$ (with labels):\n",
    "   \n",
    "   - $w=(0, 0)$: $\\{2, 3\\}$\n",
    "   - $x=(0, 1/5)$: $\\{1, 2\\}$\n",
    "   - $y=(1/4, 0)$: $\\{0, 3\\}$\n",
    "   - $z=(4/17, 1/17)$: $\\{0, 1\\}$\n",
    "   \n",
    "   Here is the plot of these:"
   ]
  },
  {
   "cell_type": "code",
   "execution_count": 4,
   "metadata": {
    "tags": [
     "nbval-ignore-output"
    ]
   },
   "outputs": [
    {
     "data": {
      "text/plain": [
       "''"
      ]
     },
     "execution_count": 4,
     "metadata": {},
     "output_type": "execute_result"
    },
    {
     "data": {
      "text/plain": [
       "<Figure size 432x288 with 0 Axes>"
      ]
     },
     "metadata": {},
     "output_type": "display_data"
    },
    {
     "data": {
      "image/png": "[encoded data removed]",
      "text/plain": [
       "<Figure size 432x288 with 1 Axes>"
      ]
     },
     "metadata": {
      "needs_background": "light"
     },
     "output_type": "display_data"
    },
    {
     "data": {
      "text/plain": [
       "<Figure size 432x288 with 0 Axes>"
      ]
     },
     "metadata": {},
     "output_type": "display_data"
    },
    {
     "data": {
      "image/png": "[encoded data removed]",
      "text/plain": [
       "<Figure size 432x288 with 1 Axes>"
      ]
     },
     "metadata": {
      "needs_background": "light"
     },
     "output_type": "display_data"
    }
   ],
   "source": [
    "%matplotlib inline\n",
    "\n",
    "import matplotlib.pyplot as plt\n",
    "import numpy as np\n",
    "import scipy.spatial\n",
    "\n",
    "V = [np.array([0, 0]), np.array([0, 1 / 4]), np.array([1 / 5,  0]), np.array([3/19, 4/19])]\n",
    "P = scipy.spatial.ConvexHull(V)\n",
    "plt.figure()\n",
    "scipy.spatial.convex_hull_plot_2d(P);\n",
    "plt.title(\"$\\mathcal{P}$\")\n",
    "plt.text(0.001, .12, \"Label: 0\")\n",
    "plt.text(0.08, .004, \"Label: 1\")\n",
    "plt.text(0.06, .24, \"Label: 2\")\n",
    "plt.text(0.18, .12, \"Label: 3\")\n",
    "for v, s in zip(V, \"abcd\"):\n",
    "    plt.text(v[0] + 0.001, v[1] + 0.001, s)\n",
    ";\n",
    "\n",
    "V = [np.array([0, 0]), np.array([0, 1 / 5]), np.array([1 / 4,  0]), np.array([4 / 17, 1 / 17])]\n",
    "Q = scipy.spatial.ConvexHull(V)\n",
    "plt.figure()\n",
    "scipy.spatial.convex_hull_plot_2d(Q);\n",
    "plt.title(\"$\\mathcal{Q}$\")\n",
    "plt.text(0.001, .075, \"Label: 2\")\n",
    "plt.text(0.08, .002, \"Label: 3\")\n",
    "plt.text(0.08, .125, \"Label: 1\")\n",
    "plt.text(0.20, .015, \"Label: 0\")\n",
    "for v, s in zip(V, \"wxyz\"):\n",
    "    plt.text(v[0] + 0.001, v[1] + 0.001, s)\n",
    ";"
   ]
  },
  {
   "cell_type": "markdown",
   "metadata": {},
   "source": [
    "Using the plot we can carry out the Lemke-Howson algorithm:\n",
    "\n",
    "- Dropping label 0:\n",
    "\n",
    "  - $(a, w)$ have labels $\\{0, 1\\}, \\{2, 3\\}$. Drop 0.\n",
    "  - $\\to (c, w)$ have labels $\\{1, 3\\}, \\{2, 3\\}$. In $\\mathcal{Q}$ drop 3.\n",
    "  - $\\to (c, y)$ have labels $\\{1, 3\\}, \\{1, 2\\}$. In $\\mathcal{P}$ drop 1.\n",
    "  - $\\to (d, y)$ have labels $\\{2, 3\\}, \\{1, 2\\}$. In $\\mathcal{Q}$ drop 2.\n",
    "  - $\\to (d, z)$ have labels $\\{2, 3\\}, \\{0, 1\\}$. Fully labeled vertex pair.\n",
    "\n",
    "- Dropping label 1:\n",
    "\n",
    "  - $(a, w)$ have labels $\\{0, 1\\}, \\{2, 3\\}$. Drop 1.\n",
    "  - $\\to (b, w)$ have labels $\\{0, 2\\}, \\{2, 3\\}$. In $\\mathcal{Q}$ drop 2.\n",
    "  - $\\to (b, y)$ have labels $\\{0, 2\\}, \\{0, 3\\}$. In $\\mathcal{P}$ drop 0.\n",
    "  - $\\to (d, x)$ have labels $\\{2, 3\\}, \\{0, 3\\}$. In $\\mathcal{Q}$ drop 3.\n",
    "  - $\\to (d, z)$ have labels $\\{2, 3\\}, \\{0, 1\\}$. Fully labeled vertex pair.\n",
    "  \n",
    "- Dropping label 2:\n",
    "\n",
    "  - $(a, w)$ have labels $\\{0, 1\\}, \\{2, 3\\}$. Drop 2.\n",
    "  - $\\to (a, y)$ have labels $\\{0, 1\\}, \\{0, 3\\}$. In $\\mathcal{P}$ drop 0.\n",
    "  - $\\to (c, y)$ have labels $\\{1, 3\\}, \\{0, 3\\}$. In $\\mathcal{Q}$ drop 3.\n",
    "  - $\\to (c, z)$ have labels $\\{1, 3\\}, \\{0, 1\\}$. In $\\mathcal{P}$ drop 1.\n",
    "  - $\\to (d, z)$ have labels $\\{2, 3\\}, \\{0, 1\\}$. Fully labeled vertex pair.\n",
    "  \n",
    "- Dropping label 3:\n",
    "\n",
    "  - $(a, w)$ have labels $\\{0, 1\\}, \\{2, 3\\}$. Drop 3.\n",
    "  - $\\to (a, x)$ have labels $\\{0, 1\\}, \\{1, 2\\}$. In $\\mathcal{P}$ drop 1.\n",
    "  - $\\to (b, x)$ have labels $\\{0, 2\\}, \\{1, 2\\}$. In $\\mathcal{Q}$ drop 2.\n",
    "  - $\\to (b, z)$ have labels $\\{0, 2\\}, \\{0, 1\\}$. In $\\mathcal{P}$ drop 0.\n",
    "  - $\\to (d, z)$ have labels $\\{2, 3\\}, \\{0, 1\\}$. Fully labeled vertex pair.\n",
    "  \n",
    "For all of these dropped labels the only fully labeled vertex pair is:    \n",
    "\n",
    "$$(d, z) = ((3/19, 4/19), (4/17, 1/17))$$\n",
    "\n",
    "which gives the normalised Nash equilibrium:\n",
    "\n",
    "$$((3/7,4/7),(4/5,1/5))$$"
   ]
  },
  {
   "cell_type": "code",
   "execution_count": 5,
   "metadata": {},
   "outputs": [
    {
     "data": {
      "text/plain": [
       "[(array([0.42857143, 0.57142857]), array([0.8, 0.2])),\n",
       " (array([0.42857143, 0.57142857]), array([0.8, 0.2])),\n",
       " (array([0.42857143, 0.57142857]), array([0.8, 0.2])),\n",
       " (array([0.42857143, 0.57142857]), array([0.8, 0.2]))]"
      ]
     },
     "execution_count": 5,
     "metadata": {},
     "output_type": "execute_result"
    }
   ],
   "source": [
    "A = np.array([[2, -1], [1, 3]])\n",
    "B = np.array([[-2, 2], [1, -2]])\n",
    "game = nash.Game(A, B)\n",
    "list(game.lemke_howson_enumeration())"
   ]
  },
  {
   "cell_type": "code",
   "execution_count": 6,
   "metadata": {},
   "outputs": [
    {
     "data": {
      "text/plain": [
       "((0.42857142857142855, 0.5714285714285714), (0.8, 0.2))"
      ]
     },
     "execution_count": 6,
     "metadata": {},
     "output_type": "execute_result"
    }
   ],
   "source": [
    "(3 / 7, 4 / 7), (4 / 5, 1 / 5)"
   ]
  },
  {
   "cell_type": "markdown",
   "metadata": {},
   "source": [
    "   \n",
    "`3`. Use the tableaux representation to execute the Lemke-Howson algorithm (with all possible starting labels) on the games of question 2.\n",
    "\n",
    "   We start by ensuring our payoff matrices are positive:\n",
    "\n",
    "   1. $\n",
    "   A \\to A + 2 =\n",
    "   \\begin{pmatrix}\n",
    "   5 & 1\\\\\n",
    "   4 & 9\\end{pmatrix}\n",
    "   \\qquad\n",
    "   B \\to B + 7 =\n",
    "   \\begin{pmatrix}\n",
    "   4 & 8\\\\\n",
    "   8 & 1\\end{pmatrix}\n",
    "   $ \n",
    "   \n",
    "The tableaux are:\n",
    "\n",
    "$$\n",
    "T_r = \n",
    "\\begin{pmatrix}\n",
    "B^T&I &1\\\\\n",
    "\\end{pmatrix} =\n",
    "\\begin{pmatrix}\n",
    "4 & 8 & 1 & 0 & 1\\\\\n",
    "8 & 1 & 0 & 1 & 1\n",
    "\\end{pmatrix}\n",
    "$$\n",
    "\n",
    "$$\n",
    "T_c = \n",
    "\\begin{pmatrix}\n",
    "I&A &1\\\\\n",
    "\\end{pmatrix} =\n",
    "\\begin{pmatrix}\n",
    "1 & 0 & 5 & 1 & 1\\\\\n",
    "0 & 1 & 4 & 9 & 1\n",
    "\\end{pmatrix}\n",
    "$$\n",
    "   \n",
    "Dropping label 0: corresonds to first column of $T_r$ (non basic variables correspond to labels). Looking at the ratios in the first column (to the values in the last column): $1/4$ and $1/8$. So we pivot on the second row, giving:\n",
    "   \n",
    "$$\n",
    "T_r = \n",
    "\\begin{pmatrix}\n",
    "0 & 60 & 8 & -4 & 4\\\\\n",
    "8 & 1 & 0 & 1 & 1\n",
    "\\end{pmatrix}\n",
    "$$\n",
    "\n",
    "This now has labels (non basic variables) $\\{1, 3\\}$. So we need to pivot column 3 in $T_c$. Looking at the fourth column ratios: $1/1$ and $1/9$, thus we pivot on the second row:\n",
    "\n",
    "$$\n",
    "T_c = \n",
    "\\begin{pmatrix}\n",
    "9 & -1 & 41 & 0 & 8\\\\\n",
    "0 & 1 & 4 & 9 & 1\n",
    "\\end{pmatrix}\n",
    "$$\n",
    "\n",
    "\n",
    "This now has labels (non basic variables) $\\{1, 2\\}$. So we need to pivot column 1 in $T_r$. Looking at the second column ratios: $4/60$ and $1/1$, thus we pivot on the first row:\n",
    "\n",
    "$$\n",
    "T_r = \n",
    "\\begin{pmatrix}\n",
    "0 & 60 & 8 & -4 & 4\\\\\n",
    "480 & 0 & -8 & 64 & 56\n",
    "\\end{pmatrix}\n",
    "$$\n",
    "\n",
    "This now has labels (non basic variables) $\\{2, 3\\}$ we wee need to pivot column 2 in $T_c$. Looking at the third column ratios: $8/41$ and $1/4$, thus we pivot on the first row:     \n",
    "\n",
    "$$\n",
    "T_c = \n",
    "\\begin{pmatrix}\n",
    "9 & -1 & 41 & 0 & 8\\\\\n",
    "-36 & 45 & 0 & 369 & 9\n",
    "\\end{pmatrix}\n",
    "$$\n",
    "\n",
    "This now has labels $\\{0, 1\\}$ so we have a fully labeled vertex pair. Setting the non basic variables to 0 in each tableaux gives:\n",
    "\n",
    "$$((56/480, 4/60), (8/41, 9/369)) = ((7/60, 1/15), (8/41, 1/41))$$\n",
    "\n",
    "which gives the normalised Nash equilibrium:\n",
    "\n",
    "$$((7/11, 4/11), (8/9, 1/9))$$\n",
    "\n",
    "Here is some code to carry out the above: "
   ]
  },
  {
   "cell_type": "code",
   "execution_count": 7,
   "metadata": {},
   "outputs": [],
   "source": [
    "import numpy as np\n",
    "row_tableau = np.array([[4, 8, 1, 0, 1],\n",
    "                        [8, 1, 0, 1, 1]])\n",
    "col_tableau = np.array([[1, 0, 5, 1, 1],\n",
    "                        [0, 1, 4, 9, 1]])"
   ]
  },
  {
   "cell_type": "code",
   "execution_count": 8,
   "metadata": {},
   "outputs": [
    {
     "data": {
      "text/plain": [
       "array([[ 0, 60,  8, -4,  4],\n",
       "       [ 8,  1,  0,  1,  1]])"
      ]
     },
     "execution_count": 8,
     "metadata": {},
     "output_type": "execute_result"
    }
   ],
   "source": [
    "# Dropping label 0 from row tableau\n",
    "dropped_label = nash.integer_pivoting.pivot_tableau(row_tableau,\n",
    "                                                    column_index=0)\n",
    "row_tableau"
   ]
  },
  {
   "cell_type": "code",
   "execution_count": 9,
   "metadata": {},
   "outputs": [
    {
     "data": {
      "text/plain": [
       "array([[ 9, -1, 41,  0,  8],\n",
       "       [ 0,  1,  4,  9,  1]])"
      ]
     },
     "execution_count": 9,
     "metadata": {},
     "output_type": "execute_result"
    }
   ],
   "source": [
    "# Dropping label 3 from col tableau\n",
    "dropped_label = nash.integer_pivoting.pivot_tableau(col_tableau,\n",
    "                                                    column_index=3)\n",
    "col_tableau"
   ]
  },
  {
   "cell_type": "code",
   "execution_count": 10,
   "metadata": {},
   "outputs": [
    {
     "data": {
      "text/plain": [
       "array([[  0,  60,   8,  -4,   4],\n",
       "       [480,   0,  -8,  64,  56]])"
      ]
     },
     "execution_count": 10,
     "metadata": {},
     "output_type": "execute_result"
    }
   ],
   "source": [
    "# Dropping label 1 from row tableau\n",
    "dropped_label = nash.integer_pivoting.pivot_tableau(row_tableau,\n",
    "                                                    column_index=1)\n",
    "row_tableau"
   ]
  },
  {
   "cell_type": "code",
   "execution_count": 11,
   "metadata": {},
   "outputs": [
    {
     "data": {
      "text/plain": [
       "array([[  9,  -1,  41,   0,   8],\n",
       "       [-36,  45,   0, 369,   9]])"
      ]
     },
     "execution_count": 11,
     "metadata": {},
     "output_type": "execute_result"
    }
   ],
   "source": [
    "# Dropping label 2 from col tableau\n",
    "dropped_label = nash.integer_pivoting.pivot_tableau(col_tableau,\n",
    "                                                    column_index=2)\n",
    "col_tableau"
   ]
  },
  {
   "cell_type": "markdown",
   "metadata": {},
   "source": [
    "`2`. $\n",
    "   A \\to A + 2 =\n",
    "   \\begin{pmatrix}\n",
    "   4 & 1\\\\\n",
    "   3 & 5\\end{pmatrix}\n",
    "   \\qquad\n",
    "   B \\to B + 3 =\n",
    "   \\begin{pmatrix}\n",
    "   1 & 5\\\\\n",
    "   4 & 1\\end{pmatrix}\n",
    "   $\n",
    "   \n",
    "The tableaux are:\n",
    "\n",
    "$$\n",
    "T_r = \n",
    "\\begin{pmatrix}\n",
    "B^T&I &1\\\\\n",
    "\\end{pmatrix} =\n",
    "\\begin{pmatrix}\n",
    "1 & 4 & 1 & 0 & 1\\\\\n",
    "5 & 1 & 0 & 1 & 1\n",
    "\\end{pmatrix}\n",
    "$$\n",
    "\n",
    "$$\n",
    "T_c = \n",
    "\\begin{pmatrix}\n",
    "I&A &1\\\\\n",
    "\\end{pmatrix} =\n",
    "\\begin{pmatrix}\n",
    "1 & 0 & 4 & 1 & 1\\\\\n",
    "0 & 1 & 3 & 5 & 1\n",
    "\\end{pmatrix}\n",
    "$$\n",
    "   \n",
    "Dropping label 0: corresonds to first column of $T_r$ (non basic variables correspond to labels). Looking at the ratios in the first column (to the values in the last column): $1/4$ and $1/5$. So we pivot on the second row, giving:\n",
    "   \n",
    "$$\n",
    "T_r = \n",
    "\\begin{pmatrix}\n",
    "0 & 19 & 5 & -1 & 4\\\\\n",
    "5 & 1 & 0 & 1 & 1\n",
    "\\end{pmatrix}\n",
    "$$\n",
    "\n",
    "This now has labels (non basic variables) $\\{1, 3\\}$. So we need to pivot column 3 in $T_c$. Looking at the fourth column ratios: $1/1$ and $1/5$, thus we pivot on the second row:\n",
    "\n",
    "$$\n",
    "T_c = \n",
    "\\begin{pmatrix}\n",
    "5 & -1 & 17 & 0 & 4\\\\\n",
    "0 & 1 & 3 & 5 & 1\n",
    "\\end{pmatrix}\n",
    "$$\n",
    "\n",
    "\n",
    "This now has labels (non basic variables) $\\{1, 2\\}$. So we need to pivot column 1 in $T_r$. Looking at the second column ratios: $4/19$ and $1/1$, thus we pivot on the first row:\n",
    "\n",
    "$$\n",
    "T_r = \n",
    "\\begin{pmatrix}\n",
    "0 & 19 & 5 & -1 & 4\\\\\n",
    "95 & 0 & -5 & 20 & 15\n",
    "\\end{pmatrix}\n",
    "$$\n",
    "\n",
    "\n",
    "This now has labels (non basic variables) $\\{2, 3\\}$ we wee need to pivot column 2 in $T_c$. Looking at the third column ratios: $4/17$ and $1/3$, thus we pivot on the first row:     \n",
    "\n",
    "$$\n",
    "T_c = \n",
    "\\begin{pmatrix}\n",
    "5 & -1 & 17 & 0 & 4\\\\\n",
    "-15 & 20 & 0 & 85 & 5\n",
    "\\end{pmatrix}\n",
    "$$\n",
    "\n",
    "This now has labels $\\{0, 1\\}$ so we have a fully labeled vertex pair. Setting the non basic variables to 0 in each tableaux gives:\n",
    "\n",
    "$$((15/95, 4/19), (4/17, 5/85)) = ((3/19, 4/19), (4/17, 1/17))$$\n",
    "\n",
    "which gives the normalised Nash equilibrium:\n",
    "\n",
    "$$((3/7, 4/7), (4/5, 1/5))$$\n",
    "\n",
    "Here is some code to carry out the above: "
   ]
  },
  {
   "cell_type": "code",
   "execution_count": 12,
   "metadata": {},
   "outputs": [],
   "source": [
    "row_tableau = np.array([[1, 4, 1, 0, 1],\n",
    "                        [5, 1, 0, 1, 1]])\n",
    "col_tableau = np.array([[1, 0, 4, 1, 1],\n",
    "                        [0, 1, 3, 5, 1]])"
   ]
  },
  {
   "cell_type": "code",
   "execution_count": 13,
   "metadata": {},
   "outputs": [
    {
     "data": {
      "text/plain": [
       "array([[ 0, 19,  5, -1,  4],\n",
       "       [ 5,  1,  0,  1,  1]])"
      ]
     },
     "execution_count": 13,
     "metadata": {},
     "output_type": "execute_result"
    }
   ],
   "source": [
    "# Dropping label 0 from row tableau\n",
    "dropped_label = nash.integer_pivoting.pivot_tableau(row_tableau,\n",
    "                                                    column_index=0)\n",
    "row_tableau"
   ]
  },
  {
   "cell_type": "code",
   "execution_count": 14,
   "metadata": {},
   "outputs": [
    {
     "data": {
      "text/plain": [
       "array([[ 5, -1, 17,  0,  4],\n",
       "       [ 0,  1,  3,  5,  1]])"
      ]
     },
     "execution_count": 14,
     "metadata": {},
     "output_type": "execute_result"
    }
   ],
   "source": [
    "# Dropping label 3 from col tableau\n",
    "dropped_label = nash.integer_pivoting.pivot_tableau(col_tableau,\n",
    "                                                    column_index=3)\n",
    "col_tableau"
   ]
  },
  {
   "cell_type": "code",
   "execution_count": 15,
   "metadata": {},
   "outputs": [
    {
     "data": {
      "text/plain": [
       "array([[ 0, 19,  5, -1,  4],\n",
       "       [95,  0, -5, 20, 15]])"
      ]
     },
     "execution_count": 15,
     "metadata": {},
     "output_type": "execute_result"
    }
   ],
   "source": [
    "# Dropping label 1 from row tableau\n",
    "dropped_label = nash.integer_pivoting.pivot_tableau(row_tableau,\n",
    "                                                    column_index=1)\n",
    "row_tableau"
   ]
  },
  {
   "cell_type": "code",
   "execution_count": 16,
   "metadata": {},
   "outputs": [
    {
     "data": {
      "text/plain": [
       "array([[  5,  -1,  17,   0,   4],\n",
       "       [-15,  20,   0,  85,   5]])"
      ]
     },
     "execution_count": 16,
     "metadata": {},
     "output_type": "execute_result"
    }
   ],
   "source": [
    "# Dropping label 2 from col tableau\n",
    "dropped_label = nash.integer_pivoting.pivot_tableau(col_tableau,\n",
    "                                                    column_index=2)\n",
    "col_tableau"
   ]
  },
  {
   "cell_type": "markdown",
   "metadata": {},
   "source": [
    "`4`. Using tableaux, use the Lemke-Howson algorithm to find a Nash equilibria of the following game:\n",
    "\n",
    "   $$\n",
    "   A =\n",
    "   \\begin{pmatrix}\n",
    "   3 & 5\\\\\n",
    "   1 & 6\\\\\n",
    "   4 & 3\\end{pmatrix}\n",
    "   \\qquad\n",
    "   B =\n",
    "   \\begin{pmatrix}\n",
    "   2 & 7\\\\\n",
    "   6 & 4\\\\\n",
    "   4 & 7\\end{pmatrix}\n",
    "   $$ "
   ]
  },
  {
   "cell_type": "code",
   "execution_count": 17,
   "metadata": {},
   "outputs": [],
   "source": [
    "A = np.array([[3, 5], [1, 6], [4, 3]])\n",
    "B = np.array([[2, 7], [6, 4], [4, 7]])\n",
    "game = nash.Game(A, B)"
   ]
  },
  {
   "cell_type": "markdown",
   "metadata": {},
   "source": [
    "Using the definitions, we have:\n",
    "\n",
    "$$\n",
    "T_r = \\begin{pmatrix}\n",
    "        2 & 6 & 4 & 1 & 0 & 1\\\\\n",
    "        7 & 4 & 7 & 0 & 1 & 1\n",
    "      \\end{pmatrix}\n",
    "$$\n",
    "\n",
    "$$\n",
    "T_c = \\begin{pmatrix}\n",
    "      1 & 0 & 0 & 3 & 5 & 1\\\\\n",
    "      0 & 1 & 0 & 1 & 6 & 1\\\\\n",
    "      0 & 0 & 1 & 4 & 3 & 1\n",
    "      \\end{pmatrix}\n",
    "$$\n",
    "\n",
    "- $T_r$ has labels: $\\{0, 1, 3\\}$\n",
    "- $T_c$ has labels: $\\{3, 4\\}$\n",
    "\n",
    "Let us drop label 0 (this is an arbitrary choice):\n",
    "\n",
    "- We drop it from $T_r$.\n",
    "- The minimum ratio test: $1 / 2 > 1 / 7$ so pivot on second row.\n",
    "\n",
    "We will make:\n",
    "\n",
    "$${T_r}_1 \\leftarrow 7{T_{r}}_1 - 2 {T_r}_2$$\n",
    "\n",
    "This gives:\n",
    "\n",
    "$$\n",
    "T_r = \\begin{pmatrix}\n",
    "        0 & 34 & 14 & 7 & -2 & 5\\\\\n",
    "        7 & 4 & 7 & 0 & 1 & 1\n",
    "      \\end{pmatrix}\n",
    "$$\n",
    "\n",
    "$T_r$ now has labels: $\\{1, 2, 4\\}$, we drop 4 in $T_c$:\n",
    "\n",
    "- Minimum ratio test: $1 /6 < 1 / 5 < 1 / 3$ so we pivot on second row.\n",
    "\n",
    "\n",
    "We will make:\n",
    "\n",
    "$${T_c}_1 \\leftarrow 6{T_{c}}_1 - 5 {T_c}_2$$\n",
    "$${T_c}_3 \\leftarrow 6{T_{c}}_3 - 3 {T_c}_2$$\n",
    "\n",
    "This gives:\n",
    "\n",
    "$$\n",
    "T_c = \\begin{pmatrix}\n",
    "      6 & -5 & 0 & 13 & 0 & 1\\\\\n",
    "      0 & 1 & 0 & 1 & 6 & 1\\\\\n",
    "      0 & -3 & 6 & 21 & 0 & 3\n",
    "      \\end{pmatrix}\n",
    "$$\n",
    "\n",
    "$T_c$ now has labels: $\\{1, 3\\}$, we drop 1 in $T_r$:\n",
    "\n",
    "- Minimum ratio test: $5 / 34 < 1 / 4$ so we pivot on first row.\n",
    "\n",
    "We will make:\n",
    "\n",
    "$${T_r}_2 \\leftarrow 34{T_{r}}_2 - 4 {T_r}_1$$\n",
    "\n",
    "This gives:\n",
    "\n",
    "$$\n",
    "T_r = \\begin{pmatrix}\n",
    "        0 & 34 & 14 & 7 & -2 & 5\\\\\n",
    "        238 & 0 & 182 & -28 & 42 & 14\n",
    "      \\end{pmatrix}\n",
    "$$\n",
    "\n",
    "$T_r$ now has labels: $\\{2, 3, 4\\}$, we drop 3 in $T_c$:\n",
    "\n",
    "- Minimum ratio test: $1 / 13 < 3 / 21 < 1$ so we pivot on first row.\n",
    "\n",
    "\n",
    "We will make:\n",
    "\n",
    "$${T_c}_2 \\leftarrow 13 {T_{c}}_2 - {T_c}_1$$\n",
    "$${T_c}_3 \\leftarrow 13{T_{c}}_3 - 21 {T_c}_1$$\n",
    "\n",
    "This gives:\n",
    "\n",
    "$$\n",
    "T_c = \\begin{pmatrix}\n",
    "      6 & -5 & 0 & 13 & 0 & 1\\\\\n",
    "      -6 & 18 & 0 & 0 & 78 & 12\\\\\n",
    "      -126 & 66 & 78 & 0 & 0 & 18\n",
    "      \\end{pmatrix}\n",
    "$$\n",
    "\n",
    "$T_c$ now has labels: $\\{0, 1\\}$ thus we have a fully labeled vertex pair.\n",
    "\n",
    "Reading from $T_r$ we have: $x_3=0$ and: $x_2 = 5 / 34$ and $x_1 = 14 / 238$.\n",
    "\n",
    "Reading from $T_c$ we have: $y_1 = 1 / 13$ and $y_2=12/78$:\n",
    "\n",
    "$$x = (14 / 238, 5 / 34, 0)$$\n",
    "\n",
    "$$y = (1 / 13, 12 / 78)$$\n",
    "\n",
    "Normalising these gives:\n",
    "\n",
    "$$\\sigma_r = \\left(\\frac{14 / 238}{5 / 34 + 14 / 238}, \\frac{5 / 34}{5 / 34 + 14 / 238}, 0\\right) = \\left(\\frac{2}{7}, \\frac{5}{7}, 0\\right)$$\n",
    "\n",
    "and:\n",
    "\n",
    "$$\n",
    "\\sigma_c = \\left(\\frac{1 / 13}{1 / 13 + 12 / 78}, \\frac{12 / 78}{1 / 13 + 12 / 78}\\right) = \\left(\\frac{1}{3}, \\frac{2}{3}\\right)\n",
    "$$\n",
    "\n",
    "Here is some code to carry out the above:"
   ]
  },
  {
   "cell_type": "code",
   "execution_count": 18,
   "metadata": {},
   "outputs": [],
   "source": [
    "row_tableau = np.array([[2, 6, 4, 1, 0, 1],\n",
    "                        [7, 4, 7, 0, 1, 1]])\n",
    "col_tableau = np.array([[1, 0, 0, 3, 5, 1],\n",
    "                        [0, 1, 0, 1, 6, 1],\n",
    "                        [0, 0, 1, 4, 3, 1]])"
   ]
  },
  {
   "cell_type": "code",
   "execution_count": 19,
   "metadata": {},
   "outputs": [
    {
     "data": {
      "text/plain": [
       "array([[ 0, 34, 14,  7, -2,  5],\n",
       "       [ 7,  4,  7,  0,  1,  1]])"
      ]
     },
     "execution_count": 19,
     "metadata": {},
     "output_type": "execute_result"
    }
   ],
   "source": [
    "dropped_label = nash.integer_pivoting.pivot_tableau(row_tableau,\n",
    "                                                    column_index=0)\n",
    "row_tableau"
   ]
  },
  {
   "cell_type": "code",
   "execution_count": 20,
   "metadata": {},
   "outputs": [
    {
     "data": {
      "text/plain": [
       "array([[ 6, -5,  0, 13,  0,  1],\n",
       "       [ 0,  1,  0,  1,  6,  1],\n",
       "       [ 0, -3,  6, 21,  0,  3]])"
      ]
     },
     "execution_count": 20,
     "metadata": {},
     "output_type": "execute_result"
    }
   ],
   "source": [
    "dropped_label = nash.integer_pivoting.pivot_tableau(col_tableau,\n",
    "                                                    column_index=4)\n",
    "col_tableau"
   ]
  },
  {
   "cell_type": "code",
   "execution_count": 21,
   "metadata": {},
   "outputs": [
    {
     "data": {
      "text/plain": [
       "array([[  0,  34,  14,   7,  -2,   5],\n",
       "       [238,   0, 182, -28,  42,  14]])"
      ]
     },
     "execution_count": 21,
     "metadata": {},
     "output_type": "execute_result"
    }
   ],
   "source": [
    "dropped_label = nash.integer_pivoting.pivot_tableau(row_tableau,\n",
    "                                                    column_index=1)\n",
    "row_tableau"
   ]
  },
  {
   "cell_type": "code",
   "execution_count": 22,
   "metadata": {},
   "outputs": [
    {
     "data": {
      "text/plain": [
       "array([[   6,   -5,    0,   13,    0,    1],\n",
       "       [  -6,   18,    0,    0,   78,   12],\n",
       "       [-126,   66,   78,    0,    0,   18]])"
      ]
     },
     "execution_count": 22,
     "metadata": {},
     "output_type": "execute_result"
    }
   ],
   "source": [
    "dropped_label = nash.integer_pivoting.pivot_tableau(col_tableau,\n",
    "                                                    column_index=3)\n",
    "col_tableau"
   ]
  },
  {
   "cell_type": "markdown",
   "metadata": {},
   "source": [
    "Below is some code that runs the Lemke-Howson algorithm with all possible dropped labels:"
   ]
  },
  {
   "cell_type": "code",
   "execution_count": 23,
   "metadata": {},
   "outputs": [
    {
     "name": "stdout",
     "output_type": "stream",
     "text": [
      "(array([0.28571429, 0.71428571, 0.        ]), array([0.33333333, 0.66666667]))\n",
      "(array([0.28571429, 0.71428571, 0.        ]), array([0.33333333, 0.66666667]))\n",
      "(array([0.28571429, 0.71428571, 0.        ]), array([0.33333333, 0.66666667]))\n",
      "(array([0.28571429, 0.71428571, 0.        ]), array([0.33333333, 0.66666667]))\n",
      "(array([0.28571429, 0.71428571, 0.        ]), array([0.33333333, 0.66666667]))\n"
     ]
    }
   ],
   "source": [
    "for eq in game.lemke_howson_enumeration():\n",
    "    print(eq)"
   ]
  }
 ],
 "metadata": {
  "anaconda-cloud": {},
  "celltoolbar": "Tags",
  "kernelspec": {
   "display_name": "Python 3",
   "language": "python",
   "name": "python3"
  },
  "language_info": {
   "codemirror_mode": {
    "name": "ipython",
    "version": 3
   },
   "file_extension": ".py",
   "mimetype": "text/x-python",
   "name": "python",
   "nbconvert_exporter": "python",
   "pygments_lexer": "ipython3",
   "version": "3.8.3"
  }
 },
 "nbformat": 4,
 "nbformat_minor": 2
}
