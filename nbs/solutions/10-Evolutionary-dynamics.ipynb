{
 "cells": [
  {
   "cell_type": "markdown",
   "metadata": {},
   "source": [
    "# Evolutionary dynamics - solutions\n",
    "\n",
    "1. Verify that $x(t)=x_0e^{at}\\text{ where }x_0=x(0)$ is the solution to the following differential equation:\n",
    "   $$\\frac{dx}{dt}=ax$$\n",
    "   \n",
    "   This follows directly through differentiation:\n",
    "   \n",
    "   $$\\frac{dx}{dt}=x_0ae^{at}=a\\frac{dx}{dt}$$\n",
    "   \n",
    "2. Verify that $\\rho(t) = \\rho_0e^{(a-b)t}\\text{ where }\\rho_0=\\rho(0)$ is the expression for $\\rho(t)=\\frac{x(t)}{y(t)}$ where:\n",
    "   $$\\frac{dx}{dt}=ax\\qquad\\frac{dy}{dt}=by$$\n",
    "   \n",
    "   Similarly, follows from differentiation and substitution:\n",
    "   \n",
    "   $$\\frac{d\\rho}{dt}=\\frac{\\frac{dx}{dt}y-\\frac{dy}{dt}x}{y^2}=\\frac{axy-bxy}{y^2}=(a - b)\\frac{x}{y}=(a-b)\\rho$$\n",
    "   \n",
    "   Using question 1 gives the required result.\n",
    "   \n",
    "3. What is the mean fitness in a constant sized population with:\n",
    "\n",
    "   This question is just a substitution exercise asking for $\\phi=ax+by$\n",
    "\n",
    "   1. $x=.6$, $y=.4$ and $a=5$, $b=12$: $\\phi=5\\times.6 + 12\\times.4=7.8$.\n",
    "   2. $x=.2$, $y=.8$ and $a=6$, $b=3$: $\\phi=6\\times.2 + 3\\times.8=3.6$.\n",
    "   3. $x=.5$, $y=.5$ and $a=53$, $b=1$: $\\phi=53\\times.5 + 1\\times.5=27$.\n",
    "\n",
    "4. Show that the following system of differential equations has 3 potential stable solutions (what are they?) for $x+y=1$: $$\\frac{dx}{dt}=x(a - \\phi)\\qquad\\frac{dy}{dt}=y(b - \\phi)$$\n",
    "\n",
    "   $$\\frac{dx}{dt}=x(a-ax-b(1-x))=x(1-x)(a-b)$$\n",
    "\n",
    "   The three stable solutions are solutions to the equation $\\frac{dx}{dt}=0$:\n",
    "   \n",
    "   - $x=0$\n",
    "   - $x=1$\n",
    "   - $a=b$"
   ]
  }
 ],
 "metadata": {
  "anaconda-cloud": {},
  "kernelspec": {
   "display_name": "Python [conda env:gt]",
   "language": "python",
   "name": "conda-env-gt-py"
  },
  "language_info": {
   "codemirror_mode": {
    "name": "ipython",
    "version": 3
   },
   "file_extension": ".py",
   "mimetype": "text/x-python",
   "name": "python",
   "nbconvert_exporter": "python",
   "pygments_lexer": "ipython3",
   "version": "3.6.1"
  }
 },
 "nbformat": 4,
 "nbformat_minor": 2
}
