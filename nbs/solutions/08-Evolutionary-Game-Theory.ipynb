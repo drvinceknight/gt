{
 "cells": [
  {
   "cell_type": "markdown",
   "metadata": {},
   "source": [
    "# Evolutionary game theory - solutions\n",
    "\n",
    "1. Assume the frequency dependent selection model for a population with two types of individuals: $x=(x_1, x_2)$ such that $x_1 + x_2 = 1$. Obtain all the stable distribution for the sytem defined by the following fitness functions:\n",
    "\n",
    "   For all of the functions in question, $x=(0, 1)$ and $x=(1, 0)$ are equilibria. There is a 3rd potential equilibria given by $f_1(x) = f_2(x)$. This is bookwork: https://vknight.org/gt/chapters/11/#Frequency-dependent-selection\n",
    "\n",
    "   1. $f_1(x)=x_1 - x_2\\qquad f_2(x)=x_2 - 2 x_1$\n",
    "      \n",
    "      $f_1(x)=f_2(x)\\Rightarrow x_1 - x_2 = x_2 - 2x_1 \\Rightarrow 3x_1 = 2x_2$ which gives (using the fact that $x_1 + x_2=1$ single solution: $(x_1, x_2)=(2/5, 3/5)$"
   ]
  },
  {
   "cell_type": "code",
   "execution_count": 1,
   "metadata": {},
   "outputs": [
    {
     "data": {
      "text/plain": [
       "{2/5}"
      ]
     },
     "execution_count": 1,
     "metadata": {},
     "output_type": "execute_result"
    }
   ],
   "source": [
    "import sympy as sym\n",
    "x_1 = sym.symbols(\"x_1\")\n",
    "sym.solveset(3 * x_1 - 2 * (1 - x_1), x_1)"
   ]
  },
  {
   "cell_type": "markdown",
   "metadata": {},
   "source": [
    "`B`. $f_1(x)=x_1x_2 - x_2\\qquad f_2(x)=x_2 - x_1 + 1/2$\n",
    "\n",
    "$f_1(x)=f_2(x)\\Rightarrow x_1x_2 - x_2 = x_2 - x_1 + 1/2$ setting $x=x_1$ so that $1 - x = x_2$ gives: $x - x ^ 2 - 1 + x = 1 - x - x + 1/2$ which corresponds to: \n",
    "      \n",
    "$$-x ^ 2 + 4 x - 5/2=0$$\n",
    "\n",
    "This has solution $x=2 \\pm \\sqrt{6}/2$, thus $(x_1, x_2) = (2 - \\sqrt{6}/2, -1 + \\sqrt{6}/2)$ is the only set of solutions for which $1 \\geq x_1 \\geq 0$ and $1\\geq x_2 \\geq 0$."
   ]
  },
  {
   "cell_type": "code",
   "execution_count": 2,
   "metadata": {},
   "outputs": [
    {
     "data": {
      "text/plain": [
       "{-sqrt(6)/2 + 2, sqrt(6)/2 + 2}"
      ]
     },
     "execution_count": 2,
     "metadata": {},
     "output_type": "execute_result"
    }
   ],
   "source": [
    "x = sym.symbols(\"x\", positive=True)\n",
    "res = sym.solveset(- x ** 2 + 4 * x - sym.S(5) / 2, x)\n",
    "res"
   ]
  },
  {
   "cell_type": "code",
   "execution_count": 3,
   "metadata": {},
   "outputs": [
    {
     "name": "stdout",
     "output_type": "stream",
     "text": [
      "-sqrt(6)/2 + 2 0.775255128608411 0.22474487139158905\n",
      "sqrt(6)/2 + 2 3.224744871391589 -2.224744871391589\n"
     ]
    }
   ],
   "source": [
    "for sol in list(res):\n",
    "    print(sol, float(sol), float(1 - sol))"
   ]
  },
  {
   "cell_type": "markdown",
   "metadata": {},
   "source": [
    "`C`. $f_1(x)=x_1 ^ 2 \\qquad f_2(x)=x_2^2$\n",
    "   \n",
    "$f_1(x)=f_2(x)\\Rightarrow x_1 = \\pm x_2$ which has a single solution $(x_1, x_2)=(1/2, 1/2)$.\n",
    "      \n",
    "`2`. For the following games, obtain all the stable distributions for the evolutionary game:\n",
    "\n",
    "   For bother of these we aim to find $x$ such that $(1, 0)Ax^T=(0, 1)Ax^T$.\n",
    "\n",
    "   1. $A = \\begin{pmatrix}2 & 4 \\\\ 5 & 3\\end{pmatrix}$\n",
    "          \n",
    "      $(1, 0)Ax^T=(0, 1)Ax^T\\Rightarrow 2x+4(1-x)=5x+3(1-x)\\Rightarrow x=1/4$\n",
    "     \n",
    "   2. $A = \\begin{pmatrix}1 & 0 \\\\ 0 & 1\\end{pmatrix}$\n",
    "   \n",
    "      $(1, 0)Ax^T=(0, 1)Ax^T\\Rightarrow x=1-x\\Rightarrow x=1/2$\n",
    "   \n",
    "`3`. Define:\n",
    "   1. mutated population.\n",
    "   \n",
    "      Bookwork: https://vknight.org/gt/chapters/11/#Mutated-population\n",
    "   \n",
    "   2. Evolutionary stable strategies\n",
    "   \n",
    "      Bookwork: https://vknight.org/gt/chapters/11/#Evolutionary-Stable-Strategies\n",
    "      \n",
    "`4`. State and prove the general condition for ESS theorem.\n",
    "\n",
    "   Bookwork: https://vknight.org/gt/chapters/11/#General-condition-for-ESS\n",
    "   \n",
    "`5`. Using the general condition for ESS theorem identify what strategies are evolutionarily stable for the games of question 2.\n",
    "\n",
    "   For both these games we start by identifying the Nash equilibria:\n",
    "   \n",
    "   1. $(A, A^T) = (\\begin{pmatrix}2 & \\underline{4} \\\\ \\underline{5} & 3\\end{pmatrix}, \\begin{pmatrix}2 & \\underline{5} \\\\ \\underline{4} & 3\\end{pmatrix})$\n",
    "      \n",
    "      The pure NE are given by $\\{((1, 0), (0, 1)), ((0, 1), (1, 0))\\}$, these are not symmetric so do not correspond to ESS. The mixed nash equilibrium corresonds to the stationary point calculated previously: $x=1/4$.\n",
    "      \n",
    "      For a general $y$, we have $u(x, x)=u(y,x)$ (by the defnining calculation of $x$). Thus, we look at the second condition: \n",
    "      \n",
    "      $$u(x, y)=1/4(2y+4(1-y)) + 3/4(5y+3(1-y))=1/4(4-2y) + 1/4(6y+9)=1/4(4y+13)$$\n",
    "      \n",
    "      $$u(y, y)=y(2y+4(1-y)) + (1-y)(5y+3(1-y))=y(4-2y) + (1-y)(2y+3)=-4y^2+3y+3$$\n",
    "      \n",
    "      thus:\n",
    "      \n",
    "      $$u(x, y) - u(y, y) = 4y^2 - 2y + 1/4=\\frac{(4y-1)^2}{4}$$\n",
    "      \n",
    "      which is $>0$ for $y\\ne 1/4$, thus $x=(1/4, 3/4)$ is an ESS.\n",
    "      \n",
    "   2. $(A, A^T) = (\\begin{pmatrix}\\underline{1} & 0 \\\\ 0 & \\underline{1}\\end{pmatrix}, \\begin{pmatrix}\\underline{1} & 0 \\\\ 0 & \\underline{1}\\end{pmatrix})$\n",
    "      \n",
    "      The pure NE are given by $\\{((1, 0), (1, 0)), ((0, 1), (0, 1))\\}$, these are symmetric, for both we have $u(x, x)=1$ which will be $>u(y, x)$ for all $y\\ne x$ as $x$ is a best response to itself. Thus, these are both ESS.\n",
    "      \n",
    "      We now consider $x=1/2$. For a general $y$, we have $u(x, x)=u(y,x)$ (by the defnining calculation of $x$). Thus, we look at the second condition: \n",
    "      \n",
    "      $$u(x, y)=1/2(y + 1 - y)=1/2$$\n",
    "      \n",
    "      $$u(y, y)=y^2 + (1-y)^2=2y^2-2y+1$$\n",
    "      \n",
    "      thus:\n",
    "      \n",
    "      $$u(x, y) - u(y, y) = -2y^2 + 2 y - 1/2=-\\frac{(2y-1)^2}{2}$$\n",
    "      \n",
    "      which is $<0$ for $y\\ne 1/2$, thus $x=(1/2, 1/2)$ is not an ESS."
   ]
  }
 ],
 "metadata": {
  "anaconda-cloud": {},
  "kernelspec": {
   "display_name": "GT",
   "language": "python",
   "name": "gt"
  },
  "language_info": {
   "codemirror_mode": {
    "name": "ipython",
    "version": 3
   },
   "file_extension": ".py",
   "mimetype": "text/x-python",
   "name": "python",
   "nbconvert_exporter": "python",
   "pygments_lexer": "ipython3",
   "version": "3.6.8"
  }
 },
 "nbformat": 4,
 "nbformat_minor": 2
}
