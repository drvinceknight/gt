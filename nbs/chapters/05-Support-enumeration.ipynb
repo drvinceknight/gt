{
 "cells": [
  {
   "cell_type": "markdown",
   "metadata": {},
   "source": [
    "# Support enumeration\n",
    "\n",
    "The definition implies that a Nash equilibrium is a pair of best responses.\n",
    "\n",
    "We can use this and the best response condition of the previous chapter to find Nash equilibrium.\n",
    "\n",
    "---\n",
    "\n",
    "## Definition of support\n",
    "\n",
    "[Video](https://youtu.be/AlBfCs5bxhk?list=PLnC5h3PY-znxMsG0TRYGOyrnEO-QhVwLb)\n",
    "\n",
    "For a given strategy $\\sigma$, the support of $\\sigma$: $\\mathcal{S}(\\sigma)$ is the set of strategies for which $\\sigma_i>0$:\n",
    "\n",
    "$$\n",
    "i\\in\\mathcal{S}(\\sigma)\\Leftrightarrow \\sigma_i > 0\n",
    "$$\n",
    "\n",
    "---\n",
    "\n",
    "For example:\n",
    "\n",
    "- If $\\sigma=(1/3, 1/2, 0, 0, 1/6)$: $\\mathcal{S}(\\sigma)=\\{1, 2, 5\\}$\n",
    "- If $\\sigma=(0, 0, 1, 0)$: $\\mathcal{S}(\\sigma)=\\{3\\}$"
   ]
  },
  {
   "cell_type": "code",
   "execution_count": 1,
   "metadata": {},
   "outputs": [
    {
     "data": {
      "text/plain": [
       "(array([0, 1, 4]),)"
      ]
     },
     "execution_count": 1,
     "metadata": {},
     "output_type": "execute_result"
    }
   ],
   "source": [
    "import numpy as np\n",
    "sigma = np.array([1/3, 1/2, 0, 0, 1/6])\n",
    "np.where(sigma > 0)  # Recall Python indexing starts at 0"
   ]
  },
  {
   "cell_type": "code",
   "execution_count": 2,
   "metadata": {},
   "outputs": [
    {
     "data": {
      "text/plain": [
       "(array([2]),)"
      ]
     },
     "execution_count": 2,
     "metadata": {},
     "output_type": "execute_result"
    }
   ],
   "source": [
    "sigma = np.array([0, 0, 1, 0])\n",
    "np.where(sigma > 0)  # Recall Python indexing starts at 0"
   ]
  },
  {
   "cell_type": "markdown",
   "metadata": {},
   "source": [
    "---\n",
    "\n",
    "## Definition of nondegenerate games\n",
    "\n",
    "\n",
    "A two player game is called nondegenerate if no mixed strategy of support size $k$ has more than $k$ pure best responses.\n",
    "\n",
    "---\n",
    "\n",
    "For example, the following game is degenerate:\n",
    "\n",
    "$$\n",
    "A = \n",
    "\\begin{pmatrix}\n",
    "    1 & 1 & 0\\\\\n",
    "    2 & 3 & 0\n",
    "\\end{pmatrix}\\qquad\n",
    "B = \n",
    "\\begin{pmatrix}\n",
    "    1/2 & -1 & -1/2\\\\\n",
    "    -1 & -1 & 2\n",
    "\\end{pmatrix}\n",
    "$$\n",
    "\n",
    "Indeed, consider $\\sigma_c=(0, 0, 1)$, we have $|\\mathcal{S}(\\sigma_c)|=1$ and:\n",
    "\n",
    "$$\n",
    "A\\sigma_c^T = \n",
    "\\begin{pmatrix}\n",
    "    0\\\\\n",
    "    0\n",
    "\\end{pmatrix}\n",
    "$$\n",
    "\n",
    "So the number of pure best responses to $\\sigma_c$ is 2.\n",
    "\n",
    "Thus the game considered is indeed degenerate."
   ]
  },
  {
   "cell_type": "code",
   "execution_count": 3,
   "metadata": {},
   "outputs": [
    {
     "data": {
      "text/plain": [
       "array([0, 0])"
      ]
     },
     "execution_count": 3,
     "metadata": {},
     "output_type": "execute_result"
    }
   ],
   "source": [
    "A = np.array([[1, 1, 0], [2, 3, 0]])\n",
    "sigma_c = np.array([0, 0, 1])\n",
    "(np.dot(A, sigma_c))"
   ]
  },
  {
   "cell_type": "markdown",
   "metadata": {},
   "source": [
    "This leads to the following algorithm for identifying Nash equilibria:\n",
    "\n",
    "---\n",
    "\n",
    "## Support enumeration algorithm\n",
    "\n",
    "[Video](https://youtu.be/w5MDcvzNI_A?list=PLnC5h3PY-znxMsG0TRYGOyrnEO-QhVwLb)\n",
    "\n",
    "For a nondegenerate 2 player game $(A, B)\\in{\\mathbb{R}^{m\\times n}}^2$ the following algorithm returns all nash equilibria:\n",
    "\n",
    "1. For all $1\\leq k\\leq \\min(m, n)$;\n",
    "2. For all pairs of support $(I, J)$ with $|I|=|J|=k$\n",
    "3. Solve the following equations (this ensures we have best responses):\n",
    "\n",
    "   $$\\sum_{i\\in I}{\\sigma_{r}}_iB_{ij}=v\\text{ for all }j\\in J$$\n",
    "   \n",
    "   $$\\sum_{j\\in J}A_{ij}{\\sigma_{c}}_j=u\\text{ for all }i\\in I$$\n",
    "\n",
    "4. Solve\n",
    "   - $\\sum_{i=1}^{m}{\\sigma_{r}}_i=1$ and ${\\sigma_{r}}_i\\geq 0$ for all $i$\n",
    "   - $\\sum_{j=1}^{n}{\\sigma_{c}}_i=1$ and ${\\sigma_{c}}_j\\geq 0$ for all $j$\n",
    "5. Check the best response condition.\n",
    "\n",
    "Repeat steps 3,4 and 5 for all potential support pairs.\n",
    "\n",
    "---\n",
    "\n",
    "## 2 by 2 example of support enumeration\n",
    "\n",
    "\n",
    "As an example consider the matching pennies game.\n",
    "\n",
    "$$\n",
    "A=\n",
    "\\begin{pmatrix}\n",
    "1 & -1\\\\\n",
    "-1 & 1\n",
    "\\end{pmatrix}\\qquad\n",
    "B=\n",
    "\\begin{pmatrix}\n",
    "-1 & 1\\\\\n",
    "1 & -1\n",
    "\\end{pmatrix}\n",
    "$$\n",
    "\n",
    "1. Consider $k=1$: so here we are just considering supports of size 1, in other words pairs of pure best responses. The easiest way to identify these is by looking at the best responses:\n",
    "\n",
    "   $$\n",
    "   A=\n",
    "   \\begin{pmatrix}\n",
    "   \\underline{1} & -1\\\\\n",
    "   -1 & \\underline{1}\n",
    "   \\end{pmatrix}\\qquad\n",
    "   B=\n",
    "   \\begin{pmatrix}\n",
    "   -1 & \\underline{1}\\\\\n",
    "   \\underline{1} & -1\n",
    "   \\end{pmatrix}\n",
    "   $$\n",
    "   \n",
    "So there are no pairs.\n",
    "   \n",
    "1. Thus we start again with $k=2$.\n",
    "2. There is only one pair of best responses to be considered: $I=J=\\{1, 2\\}$.\n",
    "3. The equations we need to solve are:\n",
    "\n",
    "   $$-{\\sigma_{r}}_1+{\\sigma_{r}}_2=v$$\n",
    "   $${\\sigma_{r}}_1-{\\sigma_{r}}_2=v$$\n",
    "   \n",
    "   and \n",
    "   \n",
    "   $${\\sigma_{c}}_1-{\\sigma_{c}}_2=u$$\n",
    "   $$-{\\sigma_{c}}_1+{\\sigma_{c}}_2=u$$\n",
    "   \n",
    "   We don't actually care (or know!) the values of $u, v$ so we in fact solve:\n",
    "   \n",
    "   $$-{\\sigma_{r}}_1+{\\sigma_{r}}_2={\\sigma_{r}}_1-{\\sigma_{r}}_2$$\n",
    "   \n",
    "   $${\\sigma_{c}}_1-{\\sigma_{c}}_2=-{\\sigma_{c}}_1+{\\sigma_{c}}_2$$\n",
    "   \n",
    "   which gives:\n",
    "   \n",
    "   $${\\sigma_{r}}_1={\\sigma_{r}}_2$$\n",
    "   \n",
    "   $${\\sigma_{c}}_1={\\sigma_{c}}_2$$\n",
    "   \n",
    "4. This gives: \n",
    "\n",
    "   $$\\sigma_{r}=(1/2, 1/2)$$\n",
    "   \n",
    "   $$\\sigma_{c}=(1/2, 1/2)$$\n",
    "\n",
    "5. Finally we check the best response condition: (we already did this in the previous chapter).\n",
    "\n",
    "Note that for 2 player games with $m=n=2$ step 5 is trivial so in fact to find best mix strategy Nash equilibrium for games of this size simply reduces to finding a solution to 2 linear equations (step 3)."
   ]
  },
  {
   "cell_type": "markdown",
   "metadata": {},
   "source": [
    "Let us consider a large game:\n",
    "\n",
    "\n",
    "   $$\n",
    "   A=\n",
    "   \\begin{pmatrix}\n",
    "   1 & 1 & -1\\\\\n",
    "   2 & -1 & 0\n",
    "   \\end{pmatrix}\\qquad\n",
    "   B=\n",
    "   \\begin{pmatrix}\n",
    "   1/2 & -1 & -1/2\\\\\n",
    "   -1 & 3 & 2\n",
    "   \\end{pmatrix}\n",
    "   $$\n",
    "   \n",
    "   \n",
    "1. It is immediate to note that there are no pairs of pure best responses.\n",
    "2. All possible support pairs are:\n",
    "\n",
    "   - $I=(1, 2)$ and $J=(1,2)$\n",
    "   - $I=(1, 2)$ and $J=(1,3)$\n",
    "   - $I=(1, 2)$ and $J=(2,3)$\n",
    "   \n",
    "3. Let us solve the corresponding linear equations:\n",
    "\n",
    "   - $I=(1, 2)$ and $J=(1, 2)$:\n",
    "     \n",
    "     $$1/2{\\sigma_{r}}_1-{\\sigma_{r}}_2=-{\\sigma_{r}}_1+3{\\sigma_{r}}_2$$\n",
    "     $${\\sigma_{r}}_1=8/3{\\sigma_{r}}_2$$\n",
    "     \n",
    "     $${\\sigma_{c}}_1+{\\sigma_{c}}_2=2{\\sigma_{c}}_1-{\\sigma_{c}}_2$$\n",
    "     $${\\sigma_{c}}_1=2{\\sigma_{c}}_2$$\n",
    "     \n",
    "   - $I=(1, 2)$ and $J=(1,3)$:\n",
    "      \n",
    "     $$1/2{\\sigma_{r}}_1-{\\sigma_{r}}_2=-1/2{\\sigma_{r}}_1+2{\\sigma_{r}}_2$$\n",
    "     $${\\sigma_{r}}_1=3{\\sigma_{r}}_2$$\n",
    "     \n",
    "     $${\\sigma_{c}}_1-{\\sigma_{c}}_3=2{\\sigma_{c}}_1+0{\\sigma_{c}}_3$$\n",
    "     $${\\sigma_{c}}_1=-{\\sigma_{c}}_3$$\n",
    "\n",
    "   - $I=(1, 2)$ and $J=(2,3)$:\n",
    "            \n",
    "     $$-{\\sigma_{r}}_1+3{\\sigma_{r}}_2=-1/2{\\sigma_{r}}_1+2{\\sigma_{r}}_2$$\n",
    "     $${\\sigma_{r}}_1=2{\\sigma_{r}}_2$$\n",
    "     \n",
    "     $${\\sigma_{c}}_2-{\\sigma_{c}}_3=-{\\sigma_{c}}_2+0{\\sigma_{c}}_3$$\n",
    "     $$2{\\sigma_{c}}_2={\\sigma_{c}}_3$$\n",
    "     \n",
    "4. We check which supports give valid mixed strategies:\n",
    "\n",
    "   - $I=(1, 2)$ and $J=(1, 2)$:\n",
    "   \n",
    "     $$\\sigma_r=(8/11, 3/11)$$\n",
    "     $$\\sigma_c=(2/3, 1/3, 0)$$\n",
    "       \n",
    "   - $I=(1, 2)$ and $J=(1, 3)$:\n",
    "   \n",
    "     $$\\sigma_r=(3/4, 1/4)$$\n",
    "     $$\\sigma_c=(k, 0, -k)$$\n",
    "       \n",
    "     **which is not a valid mixed strategy.**\n",
    "     \n",
    "   - $I=(1, 2)$ and $J=(2, 3)$:\n",
    "   \n",
    "     $$\\sigma_r=(2/3, 1/3)$$\n",
    "     $$\\sigma_c=(0, 1/3, 2/3)$$\n",
    "     \n",
    "5. Let us verify the best response condition:\n",
    "\n",
    "   - $I=(1, 2)$ and $J=(1, 2)$:\n",
    "   \n",
    "     $$\\sigma_c=(2/3, 1/3, 0)$$\n",
    "     \n",
    "     $$A\\sigma_c^T=\n",
    "     \\begin{pmatrix}\n",
    "     1\\\\\n",
    "     1\n",
    "     \\end{pmatrix}\n",
    "     $$\n",
    "     \n",
    "     Thus $\\sigma_r$ is a best response to $\\sigma_c$\n",
    "        \n",
    "     $$\\sigma_r=(8/11, 3/11)$$\n",
    "     $$\\sigma_r B=(1/11, 1/11, 2/11)$$\n",
    "     \n",
    "     **Thus $\\sigma_c$ is not a best response to $\\sigma_r$** (because there is a better response outside of the support of $\\sigma_c$).\n",
    "     \n",
    "     \n",
    "   - $I=(1, 2)$ and $J=(2, 3)$:\n",
    "   \n",
    "     $$\\sigma_c=(0, 1/3, 2/3)$$\n",
    "     \n",
    "     $$A\\sigma_c^T=\n",
    "     \\begin{pmatrix}\n",
    "     -1/3\\\\\n",
    "     -1/3\n",
    "     \\end{pmatrix}\n",
    "     $$\n",
    "     \n",
    "     Thus $\\sigma_r$ is a best response to $\\sigma_c$\n",
    "        \n",
    "     $$\\sigma_r=(2/3, 1/3)$$\n",
    "     $$\\sigma_r B=(0, 1/3, 1/3)$$\n",
    "     \n",
    "     Thus $\\sigma_c$ is a best response to $\\sigma_r$.\n",
    "     \n",
    "Thus the (unique) Nash equilibrium for this game is:\n",
    "\n",
    "$$((2/3, 1/3), (0, 1/3, 2/3))$$\n",
    "\n",
    "Note that we can confirm all of this using `nashpy`:"
   ]
  },
  {
   "cell_type": "code",
   "execution_count": 4,
   "metadata": {},
   "outputs": [
    {
     "data": {
      "text/plain": [
       "[(array([0.5, 0.5]), array([0.5, 0.5]))]"
      ]
     },
     "execution_count": 4,
     "metadata": {},
     "output_type": "execute_result"
    }
   ],
   "source": [
    "import nashpy as nash\n",
    "A = np.array([[1,-1], [-1, 1]])\n",
    "game = nash.Game(A)\n",
    "list(game.support_enumeration())"
   ]
  },
  {
   "cell_type": "code",
   "execution_count": 5,
   "metadata": {
    "tags": [
     "nbval-ignore-output"
    ]
   },
   "outputs": [
    {
     "data": {
      "text/plain": [
       "[(array([0.66666667, 0.33333333]),\n",
       "  array([-0.        ,  0.33333333,  0.66666667]))]"
      ]
     },
     "execution_count": 5,
     "metadata": {},
     "output_type": "execute_result"
    }
   ],
   "source": [
    "A = np.array([[1, 1, -1], [2, -1, 0]])\n",
    "B = np.array([[1/2, -1, -1/2], [-1, 3, 2]])\n",
    "game = nash.Game(A, B)\n",
    "list(game.support_enumeration())"
   ]
  },
  {
   "cell_type": "markdown",
   "metadata": {},
   "source": [
    "If you recall the degenerate game mentioned previously:"
   ]
  },
  {
   "cell_type": "code",
   "execution_count": 6,
   "metadata": {},
   "outputs": [
    {
     "data": {
      "text/plain": [
       "[]"
      ]
     },
     "execution_count": 6,
     "metadata": {},
     "output_type": "execute_result"
    }
   ],
   "source": [
    "A = np.array([[1, 1, 0], [2, -1, 0]])\n",
    "B = np.array([[1/2, -1, -1/2], [-1, 3, 2]])\n",
    "game = nash.Game(A, B)\n",
    "list(game.support_enumeration())"
   ]
  },
  {
   "cell_type": "markdown",
   "metadata": {},
   "source": [
    "This result is given without proof:\n",
    "\n",
    "---\n",
    "\n",
    "## Nash's theorem\n",
    "\n",
    "Any game with a finite set of players and finit set of strategies has a Nash equilibrium in mixed strategies.\n",
    "\n",
    "---"
   ]
  }
 ],
 "metadata": {
  "anaconda-cloud": {},
  "celltoolbar": "Tags",
  "kernelspec": {
   "display_name": "GT",
   "language": "python",
   "name": "gt"
  },
  "language_info": {
   "codemirror_mode": {
    "name": "ipython",
    "version": 3
   },
   "file_extension": ".py",
   "mimetype": "text/x-python",
   "name": "python",
   "nbconvert_exporter": "python",
   "pygments_lexer": "ipython3",
   "version": "3.6.1"
  }
 },
 "nbformat": 4,
 "nbformat_minor": 2
}
