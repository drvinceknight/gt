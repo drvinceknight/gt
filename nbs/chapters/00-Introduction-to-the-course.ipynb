{
 "cells": [
  {
   "cell_type": "markdown",
   "metadata": {},
   "source": [
    "## Game Theory: Introduction to the course\n",
    "\n",
    "[Video](https://youtu.be/T50RbGZv-gw)\n",
    "\n",
    "This course will cover the following aspects of Game Theory:\n",
    "\n",
    "- Normal form games and Nash equilibrium\n",
    "- Evolutionary Game Theory\n",
    "- Some contemporary research\n",
    "\n",
    "All course materials are available online at [vknight.org/gt/](http://vknight.org/gt/). You can also find all the source files that create that website at [github.com/drvinceknight/gt/](https://github.com/drvinceknight/gt/).\n",
    "\n",
    "## Course notes\n",
    "\n",
    "The course notes are written using Jupyter notebooks, you will see mathematics but also Python code used to illustrate and confirm certain results.\n",
    "\n",
    "For example here is some code verifying the simple identity:\n",
    "\n",
    "$$\n",
    "(a + b) ^ 2 = a^2 + 2ab + b ^2.\n",
    "$$"
   ]
  },
  {
   "cell_type": "code",
   "execution_count": 1,
   "metadata": {},
   "outputs": [
    {
     "data": {
      "image/png": "[encoded data removed]",
      "text/latex": [
       "$$a^{2} + 2 a b + b^{2}$$"
      ],
      "text/plain": [
       " 2            2\n",
       "a  + 2⋅a⋅b + b "
      ]
     },
     "execution_count": 1,
     "metadata": {},
     "output_type": "execute_result"
    }
   ],
   "source": [
    "import sympy as sym  # A library used for symbolic computations\n",
    "sym.init_printing()  # Use LaTeX to clean up the output\n",
    "a, b = sym.symbols('a, b')\n",
    "((a + b) ** 2).expand()"
   ]
  },
  {
   "cell_type": "markdown",
   "metadata": {},
   "source": [
    "In class we will not follow the course notes: these are there for you to read on your own time. Instead we will use activities and other examples to illustrate the concepts. I have my own notes for those (which are also available to you): http://vkgt.readthedocs.io/en/latest/. \n",
    "\n",
    "If you are interested here is a paper describing some of the pedagogic rational for this approach: https://journals.gre.ac.uk/index.php/msor/article/view/254/254\n",
    "\n",
    "It is possible that the course notes will change: **for things like typos and clarifications**, all of the notes are hosted openly on github and if you're interested you can find a list of all changes here: https://github.com/drvinceknight/gt/commits/master\n",
    "\n",
    "## Technology in class\n",
    "\n",
    "Please use whatever resources you need to be successful in this class. Let me know if I can help with anything.\n",
    "\n",
    "## Office hours\n",
    "\n",
    "I will hold 2-3 hours a week for office hours during which you may come and get help. Specific hours will be determined collaboratively as a class during the first class meeting.\n",
    "\n",
    "## Assessment\n",
    "\n",
    "There are two piece of assessment in this course:\n",
    "\n",
    "- Individual coursework (25%): **The individual coursework includes a programming component.**\n",
    "- Exam (75%)"
   ]
  }
 ],
 "metadata": {
  "anaconda-cloud": {},
  "kernelspec": {
   "display_name": "Python [conda env:gt]",
   "language": "python",
   "name": "conda-env-gt-py"
  },
  "language_info": {
   "codemirror_mode": {
    "name": "ipython",
    "version": 3
   },
   "file_extension": ".py",
   "mimetype": "text/x-python",
   "name": "python",
   "nbconvert_exporter": "python",
   "pygments_lexer": "ipython3",
   "version": "3.6.1"
  }
 },
 "nbformat": 4,
 "nbformat_minor": 2
}
