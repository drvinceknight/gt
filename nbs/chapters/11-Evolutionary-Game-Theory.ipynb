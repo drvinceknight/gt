{
 "cells": [
  {
   "cell_type": "markdown",
   "metadata": {},
   "source": [
    "# Evolutionary Game Theory\n",
    "\n",
    "In the previous chapter, we considered the case of fitness being independant of the distribution of the whole population (the rates of increase of 1 type just depended on the quantity of that type). That was a specific case of Evolutionary game theory which considers **frequency dependent selection**.\n",
    "\n",
    "\n",
    "---\n",
    "\n",
    "## Frequency dependent selection\n",
    "\n",
    "[Video](https://youtu.be/PFtwwrcouXY?list=PLnC5h3PY-znxMsG0TRYGOyrnEO-QhVwLb)\n",
    "\n",
    "Consider. Let $x=(x_1, x_2)$ correspond to the population sizes of both types. The fitness functions are given by:\n",
    "\n",
    "$$f_1(x)\\qquad f_2(x)$$\n",
    "\n",
    "As before we ensure a constant population size: $x_1 + x_2 = 1$. We have:\n",
    "\n",
    "$$\n",
    "\\frac{dx_1}{dt}=x_1(f_1(x)-\\phi) \\qquad \\frac{dx_2}{dt}=x_2(f_2(x)-\\phi)\n",
    "$$\n",
    "\n",
    "we again have:\n",
    "\n",
    "\n",
    "$$\n",
    "\\frac{dx_1}{dt} + \\frac{dx_2}{dt}=x_1(f_1(x)-\\phi) + x_2(f_2(x)-\\phi)=0\n",
    "$$\n",
    "\n",
    "\n",
    "So $\\phi=x_1f_1(x)+x_2f_2(x)$ (the average fitness).\n",
    "\n",
    "We can substitute: $x_2=1-x_1$ to obtain:\n",
    "\n",
    "$$\n",
    "\\frac{dx_1}{dt}=x_1(f_1(x)-x_1f_1(x)-x_2f_2(x))=x_1((1-x_1)f_1(x)-(1-x_1)f_2(x))\n",
    "$$\n",
    "\n",
    "$$\n",
    "\\frac{dx_1}{dt}=x_1(1-x_1)(f_1(x)-f_2(x))\n",
    "$$\n",
    "\n",
    "We see that we have 3 equilibria:\n",
    "\n",
    "- $x_1=0$\n",
    "- $x_2=1$\n",
    "- Whatever distribution of $x$ that ensures: $f_1(x)=f_2(x)$\n",
    "\n",
    "\n",
    "---\n",
    "\n",
    "## Evolutionary Game Theory\n",
    "\n",
    "Now we will consider potential differences of these equilibria. First we will return to considering Normal form games:\n",
    "\n",
    "$$\n",
    "A = \n",
    "\\begin{pmatrix}\n",
    "a & b\\\\\n",
    "c & d\n",
    "\\end{pmatrix}\n",
    "$$\n",
    "\n",
    "Evolutionary Game theory assigns strategies as types in a population, and indivividuals randomly encounter other individuals and play their corresponding strategy. The matrix $A$ correspods to the utility of a row player in a game where the row player is a given individual and the column player is the population.\n",
    "\n",
    "This gives:\n",
    "\n",
    "$$f_1=ax_1+bx_2\\qquad f_2=cx_1+dx_2$$\n",
    "\n",
    "or equivalently:\n",
    "\n",
    "$$f=Ax\\qquad \\phi=fx$$\n",
    "\n",
    "thus we have the same equation as before but in matrix notation:\n",
    "\n",
    "$$\\frac{dx}{dt}=x(f-\\phi)$$\n",
    "\n",
    "---\n",
    "\n",
    "In this case, the 3 stable distributions correspond to:\n",
    "\n",
    "- An entire population playing the first strategy;\n",
    "- An entire population playing the second strategy;\n",
    "- A population playing a mixture of first and second (such that there is indifference between the fitness).\n",
    "\n",
    "---\n",
    "\n",
    "We now consider the utility of a stable population in a **mutated** population.\n",
    "\n",
    "\n",
    "---\n",
    "\n",
    "## Mutated population\n",
    "\n",
    "Given a strategy vector $x=(x_1, x_2)$, some $\\epsilon>0$ and another strategy $y=(y_1, y_2)$, the post entry population $x_{\\epsilon}$ is given by:\n",
    "\n",
    "$$\n",
    "x_{\\epsilon} = (x_1 + \\epsilon(y_1 - x_1), x_2 + \\epsilon(y_2 - x_2))\n",
    "$$\n",
    "\n",
    "\n",
    "\n",
    "---\n",
    "\n",
    "## Evolutionary Stable Strategies\n",
    "\n",
    "[Video](https://youtu.be/lbzcToUM9ic?list=PLnC5h3PY-znxMsG0TRYGOyrnEO-QhVwLb)\n",
    "\n",
    "Given a stable population distribution, $x$ it represents an **Evolutionary Stable Strategy** (ESS) if and only if there exists $\\bar\\epsilon>0$:\n",
    "\n",
    "$$u(x, x_{\\epsilon})>u(y, x_{\\epsilon})\\text{ for all }0<\\epsilon<\\bar\\epsilon, y$$\n",
    "\n",
    "\n",
    "where $u(x, y)$ corresponds to the fitness of strategy $x$ in population $y$ which is given by:\n",
    "\n",
    "$$xAy^T$$\n",
    "\n",
    "---\n",
    "\n",
    "For the first type to be an ESS this corresponds to:\n",
    "\n",
    "$$a(1-\\epsilon)+b\\epsilon > c(1-\\epsilon) + d\\epsilon$$\n",
    "\n",
    "For small values of $\\epsilon$ this corresponds to:\n",
    "\n",
    "$$a>c$$\n",
    "\n",
    "However if $a=c$, this corresponds to:\n",
    "\n",
    "$$b>d$$\n",
    "\n",
    "Thus the first strategy is an ESS (ie resists invasion) iff one of the two hold:\n",
    "\n",
    "1. $a > c$\n",
    "2. $a=c$ and $b > d$"
   ]
  },
  {
   "cell_type": "code",
   "execution_count": 1,
   "metadata": {},
   "outputs": [],
   "source": [
    "import numpy as np\n",
    "import matplotlib.pyplot as plt\n",
    "%matplotlib inline\n",
    "\n",
    "from scipy.integrate import odeint\n",
    "\n",
    "t = np.linspace(0, 10, 100)  # Obtain 100 time points\n",
    "\n",
    "def dx(x, t, A):\n",
    "    \"\"\"\n",
    "    Define the derivate of x.\n",
    "    \"\"\"\n",
    "    f = np.dot(A, x)\n",
    "    phi = np.dot(f, x)\n",
    "    return x * (f - phi)"
   ]
  },
  {
   "cell_type": "markdown",
   "metadata": {},
   "source": [
    "The case of $a>c$:"
   ]
  },
  {
   "cell_type": "code",
   "execution_count": 2,
   "metadata": {
    "tags": [
     "nbval-ignore-output"
    ]
   },
   "outputs": [
    {
     "data": {
      "image/png": "[encoded data removed]",
      "text/plain": [
       "<matplotlib.figure.Figure at 0x7fb1c842e4a8>"
      ]
     },
     "metadata": {},
     "output_type": "display_data"
    }
   ],
   "source": [
    "A = np.array([[4, 3], [2, 1]])\n",
    "epsilon = 10 ** -1\n",
    "xs = odeint(func=dx, y0=[1 - epsilon, epsilon], t=t, args=(A,))\n",
    "plt.plot(xs);"
   ]
  },
  {
   "cell_type": "markdown",
   "metadata": {},
   "source": [
    "The case of $a=c$ and $b>d$:"
   ]
  },
  {
   "cell_type": "code",
   "execution_count": 3,
   "metadata": {
    "tags": [
     "nbval-ignore-output"
    ]
   },
   "outputs": [
    {
     "data": {
      "image/png": "[encoded data removed]",
      "text/plain": [
       "<matplotlib.figure.Figure at 0x7fb19220c7f0>"
      ]
     },
     "metadata": {},
     "output_type": "display_data"
    }
   ],
   "source": [
    "A = np.array([[4, 3], [4, 1]])\n",
    "epsilon = 10 ** -1\n",
    "xs = odeint(func=dx, y0=[1 - epsilon, epsilon], t=t, args=(A,))\n",
    "plt.plot(xs);"
   ]
  },
  {
   "cell_type": "markdown",
   "metadata": {},
   "source": [
    "$a=c$ and $b < d$:"
   ]
  },
  {
   "cell_type": "code",
   "execution_count": 4,
   "metadata": {
    "tags": [
     "nbval-ignore-output"
    ]
   },
   "outputs": [
    {
     "data": {
      "image/png": "[encoded data removed]",
      "text/plain": [
       "<matplotlib.figure.Figure at 0x7fb1920d3da0>"
      ]
     },
     "metadata": {},
     "output_type": "display_data"
    }
   ],
   "source": [
    "A = np.array([[4, 3], [4, 5]])\n",
    "epsilon = 10 ** -1\n",
    "xs = odeint(func=dx, y0=[1 - epsilon, epsilon], t=t, args=(A,))\n",
    "plt.plot(xs);"
   ]
  },
  {
   "cell_type": "markdown",
   "metadata": {},
   "source": [
    "$a < c$:"
   ]
  },
  {
   "cell_type": "code",
   "execution_count": 5,
   "metadata": {
    "tags": [
     "nbval-ignore-output"
    ]
   },
   "outputs": [
    {
     "data": {
      "image/png": "[encoded data removed]",
      "text/plain": [
       "<matplotlib.figure.Figure at 0x7fb1920833c8>"
      ]
     },
     "metadata": {},
     "output_type": "display_data"
    }
   ],
   "source": [
    "A = np.array([[1, 3], [4, 1]])\n",
    "epsilon = 10 ** -1\n",
    "xs = odeint(func=dx, y0=[1 - epsilon, epsilon], t=t, args=(A,))\n",
    "plt.plot(xs);"
   ]
  },
  {
   "cell_type": "markdown",
   "metadata": {},
   "source": [
    "We see in the above case that the population seems to stabilise at a mixed strategy. This leads to the general definition of the fitness of a mixed strategy: $x=(x_1, x_2)$:\n",
    "\n",
    "$$u(x,x) = x_1f_1(x)+x_2f_2(x)$$\n",
    "\n",
    "---\n",
    "\n",
    "## General condition for ESS\n",
    "\n",
    "[Video](https://youtu.be/zkhInay5xQc?list=PLnC5h3PY-znxMsG0TRYGOyrnEO-QhVwLb)\n",
    "\n",
    "If $x$ is an ESS, then for all $y\\ne x$, either:\n",
    "\n",
    "1. $u(x,x)>u(y,x)$\n",
    "2. $u(x,x)=u(y,x)$ and $u(x,y)>u(y,y)$\n",
    "---\n",
    "\n",
    "\n",
    "Conversely, if either (1) or (2) holds for all $y\\ne x$ then $x$ is an ESS.\n",
    "\n",
    "---\n",
    "\n",
    "### Proof\n",
    "\n",
    "---\n",
    "\n",
    "If $x$ is an ESS, then by definition:\n",
    "\n",
    "$$u(x,x_{\\epsilon})>u(y,x_{\\epsilon})$$\n",
    "\n",
    "which corresponds to:\n",
    "\n",
    "$$(1-\\epsilon)u(x,x)+\\epsilon u(x,y)>(1-\\epsilon)u(y,x)+\\epsilon u(y,y)$$\n",
    "\n",
    "- If condition 1 of the theorem holds then the above inequality can be satisfied for \\\\(\\epsilon\\\\) sufficiently small. If condition 2 holds then the inequality is satisfied.\n",
    "- Conversely:\n",
    "\n",
    "    - If $u(x,x) < u(y,x)$ then we can find $\\epsilon$ sufficiently small such that the inequality is violated.\n",
    "\n",
    "    - If $u(x, x) = u(y,x)$ and $u(x,y) \\leq u(y,y)$ then the inequality is violated.\n",
    "\n",
    "This result gives us an efficient way of computing ESS. The first condition is in fact almost a condition for Nash Equilibrium (with a strict inequality), the second is thus a stronger condition that removes certain Nash equilibria from consideration. This becomes particularly relevant when considering Nash equilibrium in mixed strategies.\n",
    "\n",
    "To find ESS in a pairwise context population game we:\n",
    "\n",
    "1. Write down the associated two-player game $(A, A^T)\\in{\\mathbb{R}^{m\\times n}}^2$;\n",
    "2. Identify all symmetric Nash equilibria of the game;\n",
    "3. Test the Nash equilibrium against the two conditions of the above Theorem.\n",
    "\n",
    "Let us apply it to the one example that seemed to stabilise at a mixed strategy:\n",
    "\n",
    "$$\n",
    "A =\\begin{pmatrix}\n",
    "1 & 3\\\\\n",
    "4 & 1\n",
    "\\end{pmatrix}\n",
    "$$"
   ]
  },
  {
   "cell_type": "code",
   "execution_count": 6,
   "metadata": {},
   "outputs": [
    {
     "data": {
      "text/plain": [
       "[(array([ 1.,  0.]), array([ 0.,  1.])),\n",
       " (array([ 0.,  1.]), array([ 1.,  0.])),\n",
       " (array([ 0.4,  0.6]), array([ 0.4,  0.6]))]"
      ]
     },
     "execution_count": 6,
     "metadata": {},
     "output_type": "execute_result"
    }
   ],
   "source": [
    "import nashpy as nash\n",
    "game = nash.Game(A, A.transpose())\n",
    "list(game.support_enumeration())"
   ]
  },
  {
   "cell_type": "markdown",
   "metadata": {},
   "source": [
    "Looking at $x=(.4, .6)$ (which is the only symmetric nash equilibrium), we have\n",
    "\n",
    "$$u(x, x)=u(y, x)$$\n",
    "\n",
    "and (recall $y_1 + y_2 = 1$):\n",
    "\n",
    "$$\n",
    "u(x, y)=2.8y_1 + 1.8y_2=2.8y_1 + 1.8(1-y_1)=y_1+1.8\n",
    "$$\n",
    "\n",
    "\\begin{align}\n",
    "u(y, y)&=y_1^2+3y_1y_2+4y_1y_2+y_2^2\\\\\n",
    "       &=y_1^2+7y_1-7y_1^2+1 - 2y_1 + y_1^2\\\\\n",
    "       &=5y_1-5y_1^2+1\n",
    "\\end{align}\n",
    "\n",
    "Thus:\n",
    "\n",
    "$$u(x, y) - u(y, y) = -4y_1+5y_1^2+.8 = 5(y_1 - .4)^2$$\n",
    "\n",
    "however $y_1\\ne.4$ thus $x=(.4, .6)$ is an ESS.\n",
    "\n",
    "Here is some code to verify the above calculations:"
   ]
  },
  {
   "cell_type": "code",
   "execution_count": 7,
   "metadata": {},
   "outputs": [
    {
     "data": {
      "image/png": "[encoded data removed]",
      "text/latex": [
       "$$\\left ( \\left[\\begin{matrix}1.0 & 3.0\\\\4.0 & 1.0\\end{matrix}\\right], \\quad \\left[\\begin{matrix}y_{1}\\\\y_{2}\\end{matrix}\\right]\\right )$$"
      ],
      "text/plain": [
       "⎛⎡1.0  3.0⎤, ⎡y₁⎤⎞\n",
       "⎜⎢        ⎥  ⎢  ⎥⎟\n",
       "⎝⎣4.0  1.0⎦  ⎣y₂⎦⎠"
      ]
     },
     "execution_count": 7,
     "metadata": {},
     "output_type": "execute_result"
    }
   ],
   "source": [
    "import sympy as sym\n",
    "sym.init_printing()\n",
    "A = sym.Matrix(A)\n",
    "y_1, y_2 = sym.symbols(\"y_1, y_2\")\n",
    "y = sym.Matrix([y_1, y_2])\n",
    "A, y"
   ]
  },
  {
   "cell_type": "code",
   "execution_count": 8,
   "metadata": {},
   "outputs": [
    {
     "data": {
      "image/png": "[encoded data removed]",
      "text/latex": [
       "$$- 5.0 y_{1}^{2} + 5.0 y_{1} + 1.0$$"
      ],
      "text/plain": [
       "        2               \n",
       "- 5.0⋅y₁  + 5.0⋅y₁ + 1.0"
      ]
     },
     "execution_count": 8,
     "metadata": {},
     "output_type": "execute_result"
    }
   ],
   "source": [
    "rhs = sym.expand((y.transpose() * A * y)[0].subs({y_2: 1 - y_1}))\n",
    "rhs"
   ]
  },
  {
   "cell_type": "code",
   "execution_count": 9,
   "metadata": {},
   "outputs": [
    {
     "data": {
      "image/png": "[encoded data removed]",
      "text/latex": [
       "$$1.0 y_{1} + 1.8$$"
      ],
      "text/plain": [
       "1.0⋅y₁ + 1.8"
      ]
     },
     "execution_count": 9,
     "metadata": {},
     "output_type": "execute_result"
    }
   ],
   "source": [
    "lhs = sym.expand((sym.Matrix([[.4, .6]]) * A * y)[0].subs({y_2: 1-y_1}))\n",
    "lhs"
   ]
  },
  {
   "cell_type": "code",
   "execution_count": 10,
   "metadata": {},
   "outputs": [
    {
     "data": {
      "image/png": "[encoded data removed]",
      "text/latex": [
       "$$1.0 \\left(1.0 y_{1} - 0.4\\right)^{2}$$"
      ],
      "text/plain": [
       "                  2\n",
       "1.0⋅(1.0⋅y₁ - 0.4) "
      ]
     },
     "execution_count": 10,
     "metadata": {},
     "output_type": "execute_result"
    }
   ],
   "source": [
    "sym.factor(lhs - rhs)"
   ]
  }
 ],
 "metadata": {
  "anaconda-cloud": {},
  "celltoolbar": "Tags",
  "kernelspec": {
   "display_name": "Python [conda env:gt]",
   "language": "python",
   "name": "conda-env-gt-py"
  },
  "language_info": {
   "codemirror_mode": {
    "name": "ipython",
    "version": 3
   },
   "file_extension": ".py",
   "mimetype": "text/x-python",
   "name": "python",
   "nbconvert_exporter": "python",
   "pygments_lexer": "ipython3",
   "version": "3.6.1"
  }
 },
 "nbformat": 4,
 "nbformat_minor": 2
}
