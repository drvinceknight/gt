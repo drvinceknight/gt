{
 "cells": [
  {
   "cell_type": "markdown",
   "metadata": {},
   "source": [
    "# Best responses\n",
    "\n",
    "---\n",
    "\n",
    "## Definition of a best response\n",
    "\n",
    "[Video](https://youtu.be/cJUZEmfhdcA?list=PLnC5h3PY-znxMsG0TRYGOyrnEO-QhVwLb)\n",
    "\n",
    "In a two player game $(A,B)\\in{\\mathbb{R}^{m\\times n}}^2$ a mixed strategy $\\sigma_r^*$  of the row player is a best response to a column players' strategy $\\sigma_c$ iff:\n",
    "\n",
    "$$\n",
    "\\sigma_r^*=\\text{argmax}_{\\sigma_r\\in S_r}\\sigma_rA\\sigma_c^T.\n",
    "$$\n",
    "\n",
    "Similarly a mixed strategy $\\sigma_c^*$  of the column player is a best response to a row players' strategy $\\sigma_r$ iff:\n",
    "\n",
    "$$\n",
    "\\sigma_c^*=\\text{argmax}_{\\sigma_c\\in S_c}\\sigma_rB\\sigma_c^T.\n",
    "$$\n",
    "\n",
    "---\n",
    "\n",
    "In other words: a best response strategy maximise the utility of a player given a known strategy of the other player.\n",
    "\n",
    "## Best responses in the Prisoners Dilemma\n",
    "\n",
    "Consider the Prisoners Dilemma:\n",
    "\n",
    "$$\n",
    "A = \\begin{pmatrix}\n",
    "3 & 0\\\\\n",
    "5 & 1\n",
    "\\end{pmatrix}\\qquad\n",
    "B = \\begin{pmatrix}\n",
    "3 & 5\\\\\n",
    "0 & 1\n",
    "\\end{pmatrix}\n",
    "$$\n",
    "\n",
    "We can easily identify the pure strategy best responses by underlying the corresponding utilities. For the row player, we will underline the best utility in each column:\n",
    "\n",
    "$$\n",
    "A = \\begin{pmatrix}\n",
    "3 & 0\\\\\n",
    "\\underline{5} & \\underline{1}\n",
    "\\end{pmatrix}\n",
    "$$\n",
    "\n",
    "For the column player we underling the best utility in each row:\n",
    "\n",
    "$$\n",
    "B = \\begin{pmatrix}\n",
    "3 & \\underline{5}\\\\\n",
    "0 & \\underline{1}\n",
    "\\end{pmatrix}\n",
    "$$\n",
    "\n",
    "We see that both players' best responses are their second strategy.\n",
    "\n",
    "## Best responses in matching pennies\n",
    "\n",
    "[Video](https://youtu.be/dLUWbKNxU44?list=PLnC5h3PY-znxMsG0TRYGOyrnEO-QhVwLb)\n",
    "\n",
    "Consider matching pennies with the best responses underlined:\n",
    "\n",
    "$$\n",
    "A = \\begin{pmatrix}\n",
    "\\underline{1} & -1\\\\\n",
    "-1 & \\underline{1}\n",
    "\\end{pmatrix}\\qquad\n",
    "B = \\begin{pmatrix}\n",
    "-1 & \\underline{1}\\\\\n",
    "\\underline{1} & -1\n",
    "\\end{pmatrix}\n",
    "$$\n",
    "\n",
    "We see that the best response now depend on what the opponent does.\n",
    "\n",
    "Let us consider the best responses against a mixed strategy (and apply the previous definition):\n",
    "\n",
    "- Assume $\\sigma_r=(x,1-x)$\n",
    "- Assume $\\sigma_c=(y,1-y)$\n",
    "\n",
    "We have:\n",
    "\n",
    "$$\n",
    "A\\sigma_c^T = \\begin{pmatrix}\n",
    "2y-1\\\\\n",
    "1-2y\n",
    "\\end{pmatrix}\\qquad\n",
    "\\sigma_rB = \\begin{pmatrix}\n",
    "1-2x & 2x-1\n",
    "\\end{pmatrix}\n",
    "$$"
   ]
  },
  {
   "cell_type": "code",
   "execution_count": 1,
   "metadata": {},
   "outputs": [
    {
     "data": {
      "image/png": "[encoded data removed]",
      "text/latex": [
       "$$\\left ( \\left[\\begin{matrix}2 y - 1\\\\- 2 y + 1\\end{matrix}\\right], \\quad \\left[\\begin{matrix}- 2 x + 1 & 2 x - 1\\end{matrix}\\right]\\right )$$"
      ],
      "text/plain": [
       "⎛⎡2⋅y - 1 ⎤, [-2⋅x + 1  2⋅x - 1]⎞\n",
       "⎜⎢        ⎥                     ⎟\n",
       "⎝⎣-2⋅y + 1⎦                     ⎠"
      ]
     },
     "execution_count": 1,
     "metadata": {},
     "output_type": "execute_result"
    }
   ],
   "source": [
    "import sympy as sym\n",
    "import numpy as np\n",
    "sym.init_printing()\n",
    "\n",
    "x, y = sym.symbols('x, y')\n",
    "A = sym.Matrix([[1, -1], [-1, 1]])\n",
    "B = - A\n",
    "sigma_r = sym.Matrix([[x, 1-x]])\n",
    "sigma_c = sym.Matrix([y, 1-y])\n",
    "A * sigma_c, sigma_r * B"
   ]
  },
  {
   "cell_type": "markdown",
   "metadata": {},
   "source": [
    "Those two vectors gives us the utilities to the row/column player when they play either of their pure strategies:\n",
    "\n",
    "- $(A\\sigma_c^T)_i$ is the utility of the row player when playing strategy $i$ against $\\sigma_c=(y, 1-y)$\n",
    "- $(\\sigma_rB)_j$ is the utility of the column player when playing strategy $j$ against $\\sigma_r=(x, 1-x)$\n",
    "\n",
    "Let us plot these (using `matplotlib`):"
   ]
  },
  {
   "cell_type": "code",
   "execution_count": 2,
   "metadata": {
    "tags": [
     "nbval-ignore-output"
    ]
   },
   "outputs": [
    {
     "data": {
      "image/png": "[encoded data removed]",
      "text/plain": [
       "<matplotlib.figure.Figure at 0x7f66bc0d9358>"
      ]
     },
     "metadata": {},
     "output_type": "display_data"
    }
   ],
   "source": [
    "import matplotlib\n",
    "import matplotlib.pyplot as plt\n",
    "%matplotlib inline\n",
    "matplotlib.rc(\"savefig\", dpi=100)  # Increase the quality of the images (not needed)\n",
    "\n",
    "ys = [0, 1]\n",
    "row_us = [[(A * sigma_c)[i].subs({y: val}) for val in ys] for i in range(2)]\n",
    "plt.plot(ys, row_us[0], label=\"$(A\\sigma_c^T)_1$\")\n",
    "plt.plot(ys, row_us[1], label=\"$(A\\sigma_c^T)_2$\")\n",
    "plt.xlabel(\"$\\sigma_c=(y, 1-y)$\")\n",
    "plt.title(\"Utility to player 1\")\n",
    "plt.legend();"
   ]
  },
  {
   "cell_type": "code",
   "execution_count": 3,
   "metadata": {
    "tags": [
     "nbval-ignore-output"
    ]
   },
   "outputs": [
    {
     "data": {
      "image/png": "[encoded data removed]",
      "text/plain": [
       "<matplotlib.figure.Figure at 0x7f66b8795b70>"
      ]
     },
     "metadata": {},
     "output_type": "display_data"
    }
   ],
   "source": [
    "xs = [0, 1]\n",
    "row_us = [[(sigma_r * B)[j].subs({x: val}) for val in xs] for j in range(2)]\n",
    "plt.plot(ys, row_us[0], label=\"$(\\sigma_rB)_1$\")\n",
    "plt.plot(ys, row_us[1], label=\"$(\\sigma_rB)_2$\")\n",
    "plt.xlabel(\"$\\sigma_r=(x, 1-x)$\")\n",
    "plt.title(\"Utility to column player\")\n",
    "plt.legend();"
   ]
  },
  {
   "cell_type": "markdown",
   "metadata": {},
   "source": [
    "We see that the best responses to the mixed strategies are given as:\n",
    "\n",
    "$$\n",
    "\\sigma_r^* = \n",
    "\\begin{cases}\n",
    "(1, 0),&\\text{ if } y > 1/2\\\\\n",
    "(0, 1),&\\text{ if } y < 1/2\\\\\n",
    "\\text{indifferent},&\\text{ if } y = 1/2\n",
    "\\end{cases}\n",
    "\\qquad\n",
    "\\sigma_c^* = \n",
    "\\begin{cases}\n",
    "(0, 1),&\\text{ if } x > 1/2\\\\\n",
    "(1, 0),&\\text{ if } x < 1/2\\\\\n",
    "\\text{indifferent},&\\text{ if } x = 1/2\n",
    "\\end{cases}\n",
    "$$\n",
    "\n",
    "In this particular case we see that for any given strategy, the opponents' best response is either a pure strategy or a mixed strategy in which case they are indifferent between the pure strategies.\n",
    "\n",
    "For example:\n",
    "\n",
    "- If $\\sigma_c=(1/4, 3/4)$ ($y=1/4$) then the best response is $\\sigma_r^*=(0,1)$\n",
    "- If $\\sigma_c=(1/2, 1/2)$ ($y=1/2$) then any mixed strategy is a best response **but** in fact both pure strategies would give the same utility (the lines intersect).\n",
    "\n",
    "This observation generalises to our first theorem:\n",
    "\n",
    "---\n",
    "\n",
    "## Best response condition\n",
    "\n",
    "[Video](https://youtu.be/UQWoNZBifs8?list=PLnC5h3PY-znxMsG0TRYGOyrnEO-QhVwLb)\n",
    "\n",
    "In a two player game $(A,B)\\in{\\mathbb{R}^{m\\times n}}^2$ a mixed strategy $\\sigma_r^*$  of the row player is a best response to a column players' strategy $\\sigma_c$ iff:\n",
    "\n",
    "$${\\sigma_r^*}_i > 0 \\Rightarrow (A\\sigma_c^T)_i = \\max_{k}(A\\sigma_c^T)_k\\text{ for all }1\\leq i\\leq m$$\n",
    "\n",
    "### Proof of best response condition\n",
    "\n",
    "$(A\\sigma_c^T)_i$ is the utility of the row player when they play their $i$th strategy. Thus:\n",
    "\n",
    "$$\\sigma_rA\\sigma_c^T=\\sum_{i=1}^{m}{\\sigma_r}_i(A\\sigma_c^T)_i$$\n",
    "\n",
    "Let $u=\\max_{k}(A\\sigma_c^T)_k$. Thus:\n",
    "\n",
    "$$\n",
    "\\begin{align}\n",
    "\\sigma_rA\\sigma_c^T&=\\sum_{i=1}^{m}{\\sigma_r}_i(u - u + (A\\sigma_c^T)_i)\\\\\n",
    "                   &=\\sum_{i=1}^{m}{\\sigma_r}_iu - \\sum_{i=1}^{m}{\\sigma_r}_i(u - (A\\sigma_c^T)_i)\\\\\n",
    "                   &=u - \\sum_{i=1}^{m}{\\sigma_r}_i(u - (A\\sigma_c^T)_i)\n",
    "\\end{align}$$\n",
    "\n",
    "We know that $u - (A\\sigma_c^T)_i\\geq 0$, thus the largest $\\sigma_rA\\sigma_c^T$ can be is $u$ which occurs iff ${\\sigma_r}_i > 0 \\Rightarrow (A\\sigma_c^T)_i = u$ as required.\n",
    "\n",
    "---\n",
    "\n",
    "Returning to our previous example. If $\\sigma_c=(1/2, 1/2)$, $(A\\sigma_c^T)=(0, 0)$, thus $(A\\sigma_c^T)_i = 0$ for all $i$.\n",
    "\n",
    "Note that while any strategy is a best response to $(1/2, 1/2)$ the pair of strategies $(\\sigma_r, \\sigma_c) = ((1/2, 1/2), (1/2, 1/2))$ are the only two strategies that are best responses to each other. This _coordinate_ is called a **Nash equilibrium**.\n",
    "\n",
    "## Definition of Nash equilibrium\n",
    "\n",
    "[Video](https://youtu.be/b1JBFU0wDyY?list=PLnC5h3PY-znxMsG0TRYGOyrnEO-QhVwLb)\n",
    "\n",
    "In a two player game $(A,B)\\in{\\mathbb{R}^{m\\times n}}^2$, $(\\sigma_r, \\sigma_c)$ is a Nash equilibrium if $\\sigma_r$ is a best response to $\\sigma_c$ and vice versa."
   ]
  }
 ],
 "metadata": {
  "anaconda-cloud": {},
  "celltoolbar": "Tags",
  "kernelspec": {
   "display_name": "Python [conda env:gt]",
   "language": "python",
   "name": "conda-env-gt-py"
  },
  "language_info": {
   "codemirror_mode": {
    "name": "ipython",
    "version": 3
   },
   "file_extension": ".py",
   "mimetype": "text/x-python",
   "name": "python",
   "nbconvert_exporter": "python",
   "pygments_lexer": "ipython3",
   "version": "3.6.1"
  }
 },
 "nbformat": 4,
 "nbformat_minor": 2
}
