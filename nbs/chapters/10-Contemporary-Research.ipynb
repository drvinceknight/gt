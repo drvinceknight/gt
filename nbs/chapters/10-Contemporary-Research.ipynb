{
 "cells": [
  {
   "cell_type": "markdown",
   "metadata": {},
   "source": [
    "# Contemporary research topics\n",
    "\n",
    "In this section of the course, we will look at a number of areas of recent (and ongoing!) mathematical research.\n",
    "\n",
    "In particular 4 pieces of work will be reviewed:\n",
    "\n",
    "- [Measuring the price of anarchy in critical care unit interactions](https://link.springer.com/article/10.1057/s41274-016-0100-8)\n",
    "- [Iterated Prisoner’s Dilemma contains strategies that dominate any evolutionary opponent](http://www.pnas.org/content/109/26/10409.abstract)\n",
    "- [Studying the emergence of invasiveness in tumours using game theory](https://link.springer.com/article/10.1140/epjb/e2008-00249-y)\n",
    "- [Evolution Reinforces Cooperation with the Emergence of Self-Recognition Mechanisms: an empirical study of the Moran process for the iterated Prisoner's dilemma](https://journals.plos.org/plosone/article?id=10.1371/journal.pone.0204981)\n",
    "\n",
    "These four papers offer insights in to modern game theoretic research across the topics studied in this course. As a class we will discuss the papers in turn (so you will need to have read them).\n",
    "\n",
    "This will be examinable. Questions might include:\n",
    "\n",
    "- What is the main area of game theory used in this paper?\n",
    "- What are/is the main result of this paper?\n",
    "- Give an overview of a/some specific proof/calculation/method used in this paper?\n",
    "- Critique this paper: how could it be improved.\n",
    "- How does this paper sit in comparison to the rest of the literature on the subject.\n",
    "\n",
    "## [Measuring the price of anarchy in critical care unit interactions](https://link.springer.com/article/10.1057/s41274-016-0100-8)\n",
    "\n",
    "This is a paper that looks at a 2 player game modelling hospital interactions.\n",
    "\n",
    "## [Iterated Prisoner’s Dilemma contains strategies that dominate any evolutionary opponent](http://www.pnas.org/content/109/26/10409.abstract)\n",
    "\n",
    "This is a paper that considers a particular type of strategy in the Iterated Prisoner's Dilemma\n",
    "\n",
    "## [Studying the emergence of invasiveness in tumours using game theory](https://link.springer.com/article/10.1140/epjb/e2008-00249-y)\n",
    "\n",
    "This is a paper that looks at cancer tumours using evolutionary game theory.\n",
    "\n",
    "## [Evolution Reinforces Cooperation with the Emergence of Self-Recognition Mechanisms: an empirical study of the Moran process for the iterated Prisoner's dilemma](https://journals.plos.org/plosone/article?id=10.1371/journal.pone.0204981)\n",
    "\n",
    "This is a paper that gives an in depth numerical study of Moran processes."
   ]
  }
 ],
 "metadata": {
  "anaconda-cloud": {},
  "kernelspec": {
   "display_name": "GT",
   "language": "python",
   "name": "gt"
  },
  "language_info": {
   "codemirror_mode": {
    "name": "ipython",
    "version": 3
   },
   "file_extension": ".py",
   "mimetype": "text/x-python",
   "name": "python",
   "nbconvert_exporter": "python",
   "pygments_lexer": "ipython3",
   "version": "3.6.1"
  }
 },
 "nbformat": 4,
 "nbformat_minor": 2
}
