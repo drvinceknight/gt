{
 "cells": [
  {
   "cell_type": "markdown",
   "metadata": {},
   "source": [
    "# Moran Processes\n",
    "\n",
    "The evolutionary models discussed in the previous chapters assume an infinite population that can be divided in to infinitessimal parts. Finite populations can also be studied using a model called a Moran Process (first described in 1958).\n",
    "\n",
    "---\n",
    "\n",
    "## Moran process with neutral drift\n",
    "\n",
    "[Video](https://youtu.be/OeMku85hwEc?list=PLnC5h3PY-znxMsG0TRYGOyrnEO-QhVwLb)\n",
    "\n",
    "Consider a population of two types of fixed size $N$. This can be represented as a vector of the form: $(i, N-i)$ where $i\\geq 0$ represents the number of individuals of the first type.\n",
    "\n",
    "The term **neutral** drift refers to the fact that the two types reproduce at the same rate.\n",
    "\n",
    "The Moran process is as follows:\n",
    "\n",
    "- At a given time step: select a random individual for reproduction and a random individual for elimination\n",
    "- The eliminated individual is replaced by a new individual of the same type as the individual chosen for reproduction.\n",
    "- Proceed to the next time step.\n",
    "- The process terminates when there is only one type of individual in the population.\n",
    "\n",
    "---\n",
    "\n",
    "Here is some simple Python code that simulates such a Process assuming an initial population of $(3, 3)$:"
   ]
  },
  {
   "cell_type": "code",
   "execution_count": 1,
   "metadata": {
    "tags": [
     "nbval-ignore-output"
    ]
   },
   "outputs": [
    {
     "data": {
      "image/png": "[encoded data removed]",
      "text/plain": [
       "<Figure size 432x288 with 1 Axes>"
      ]
     },
     "metadata": {
      "needs_background": "light"
     },
     "output_type": "display_data"
    }
   ],
   "source": [
    "import numpy as np\n",
    "import matplotlib.pyplot as plt\n",
    "%matplotlib inline\n",
    "\n",
    "def neutral_moran(N, i=1, seed=0):\n",
    "    \"\"\"\n",
    "    Return the population counts for the Moran process with neutral drift.\n",
    "    \"\"\"\n",
    "\n",
    "    population = [0 for _ in range(i)] + [1 for _ in range(N - i)]\n",
    "    counts = [(population.count(0), population.count(1))]\n",
    "    np.random.seed(seed)\n",
    "    while len(set(population)) == 2:\n",
    "        reproduce_index = np.random.randint(N)\n",
    "        eliminate_index = np.random.randint(N)\n",
    "        population[eliminate_index] = population[reproduce_index]\n",
    "        counts.append((population.count(0), population.count(1)))\n",
    "    return counts\n",
    "    \n",
    "N = 6\n",
    "plt.plot(neutral_moran(N=N, i=3, seed=6));"
   ]
  },
  {
   "cell_type": "markdown",
   "metadata": {},
   "source": [
    "For different seeds we see we obtain different results. What becomes of interest is not the path but the end result: which strategy overcomes the presence of the other?"
   ]
  },
  {
   "cell_type": "code",
   "execution_count": 2,
   "metadata": {},
   "outputs": [],
   "source": [
    "def neutral_fixation(N, i=None, repetitions=10):\n",
    "    \"\"\"\n",
    "    Repeat the neutral Moran process and calculate the fixation probability\n",
    "    \"\"\"\n",
    "    fixation_count = 0\n",
    "    for seed in range(repetitions):\n",
    "        final_counts = neutral_moran(N=N, i=i, seed=seed)\n",
    "        if final_counts[-1][0] > 0:\n",
    "            fixation_count += 1 \n",
    "\n",
    "    return  fixation_count / repetitions "
   ]
  },
  {
   "cell_type": "markdown",
   "metadata": {},
   "source": [
    "Let us take a look at probability of the first strategy taking over for different starting populations:"
   ]
  },
  {
   "cell_type": "code",
   "execution_count": 3,
   "metadata": {
    "tags": [
     "nbval-ignore-output"
    ]
   },
   "outputs": [
    {
     "data": {
      "image/png": "[encoded data removed]",
      "text/plain": [
       "<Figure size 432x288 with 1 Axes>"
      ]
     },
     "metadata": {
      "needs_background": "light"
     },
     "output_type": "display_data"
    }
   ],
   "source": [
    "probabilities = [neutral_fixation(N, i=i, repetitions=500) for i in range(1, N)]\n",
    "plt.scatter(range(1, N), probabilities)\n",
    "plt.xlabel(\"$i$\")\n",
    "plt.ylabel(\"$x_i$\");"
   ]
  },
  {
   "cell_type": "markdown",
   "metadata": {},
   "source": [
    "We see that as the initial population starts with more of a given type, the chance that that type \"takes over\" (becomes fixed) grows.\n",
    "\n",
    "This Moran Process is a specific case of a Markov Process:\n",
    "\n",
    "- A given state of the system can be described by a single integer $0\\leq i\\leq N$;\n",
    "- The state to state transition probabilities are given by:\n",
    "\n",
    "  $$\n",
    "  \\begin{aligned}\n",
    "  p_{i, i-1}&=\\frac{i(N - i)}{N^2}\\\\\n",
    "  p_{i, i+1}&=\\frac{i(N - i)}{N^2}\\\\\n",
    "  p_{i, i}&=1 - p_{i, i-1} - p_{i, i+1}\n",
    "  \\end{aligned}\n",
    "  $$\n",
    "  \n",
    "  We also have two absorbing states (when the Moran process ends):\n",
    "  \n",
    "  $$p_{00}=1\\qquad p_{0i}=0\\text{ for all }i>0$$\n",
    "  \n",
    "  $$\n",
    "  p_{NN}=1\\qquad p_{Ni}=0\\text{ for all } N>i\n",
    "  $$\n",
    "  \n",
    "  these transitions can be represented as a matrix. Here for example is the matrix for $N=6$:"
   ]
  },
  {
   "cell_type": "code",
   "execution_count": 4,
   "metadata": {},
   "outputs": [
    {
     "data": {
      "text/plain": [
       "array([[1.  , 0.  , 0.  , 0.  , 0.  , 0.  , 0.  ],\n",
       "       [0.14, 0.72, 0.14, 0.  , 0.  , 0.  , 0.  ],\n",
       "       [0.  , 0.22, 0.56, 0.22, 0.  , 0.  , 0.  ],\n",
       "       [0.  , 0.  , 0.25, 0.5 , 0.25, 0.  , 0.  ],\n",
       "       [0.  , 0.  , 0.  , 0.22, 0.56, 0.22, 0.  ],\n",
       "       [0.  , 0.  , 0.  , 0.  , 0.14, 0.72, 0.14],\n",
       "       [0.  , 0.  , 0.  , 0.  , 0.  , 0.  , 1.  ]])"
      ]
     },
     "execution_count": 4,
     "metadata": {},
     "output_type": "execute_result"
    }
   ],
   "source": [
    "N = 6\n",
    "p = np.zeros((N + 1, N + 1))\n",
    "p[0, 0] = 1\n",
    "p[N, N] = 1\n",
    "for i in range(1, N):\n",
    "    for j in [i - 1, i + 1]:\n",
    "        p[i, j] = i * (N - i) / (N ** 2)\n",
    "    p[i, i] = 1 - sum(p[i, :])\n",
    "p.round(2)"
   ]
  },
  {
   "cell_type": "markdown",
   "metadata": {},
   "source": [
    "The above corresponds to a particular type of Markov process called a Birth-Death process\n",
    "\n",
    "---\n",
    "\n",
    "## Birth death process\n",
    "\n",
    "[Video](https://youtu.be/zJQQF2tq9AA?list=PLnC5h3PY-znxMsG0TRYGOyrnEO-QhVwLb)\n",
    "\n",
    "A birth death process is a Markov process with the following properties:\n",
    "\n",
    "- $p_{i,i+1}+p_{i,i-1}\\leq 1$\n",
    "- $p_{ii}=1-p_{i,i+1}-p_{i,i-1}$\n",
    "- $p_{00}=1$ and $p_{NN}=1$\n",
    "\n",
    "---\n",
    "\n",
    "Thus we have two absorbing states: $\\{0, N\\}$. Let us denote by $x_i$ the probability of being in $state$ $i$ and eventually reaching state $N$. \n",
    "\n",
    "We have the following linear system:\n",
    "\n",
    "\\begin{align}\n",
    "    x_0&=0\\\\\n",
    "    x_i&=p_{i,i-1}x_{i-1}+p_{ii}x_i+p_{i,i+1}x_{i+1}\\text{ for all }0< i< N-1\\\\\n",
    "    x_N&=1\\\\\n",
    "\\end{align}\n",
    "\n",
    "---\n",
    "\n",
    "## Theorem: Fixation probabilities for the birth death process\n",
    "\n",
    "Given a birth death process as defined above, the fixation probability $x_i$ is given by:\n",
    "\n",
    "$$x_i=\\frac{1+\\sum_{j=1}^{i-1}\\prod_{k=1}^j\\gamma_k}{1+\\sum_{j=1}^{N-1}\\prod_{k=1}^j\\gamma_k}$$\n",
    "\n",
    "where:\n",
    "\n",
    "$$\n",
    "\\gamma_k = \\frac{p_{k,k-1}}{p_{k,k+1}}\n",
    "$$\n",
    "\n",
    "### Proof\n",
    "\n",
    "We have:\n",
    "\n",
    "$$\n",
    "\\begin{aligned}\n",
    "    p_{i,i+1}x_{i+1} & = -p_{i,i-1}x_{i-1} + x_i(1 - p_{ii}) \\\\ \n",
    "    p_{i,i+1}x_{i+1} & = p_{i,i-1}(x_{i} - x_{i-1}) + x_ip_{i,i+1} \\\\ \n",
    "    x_{i+1} - x_i    & = \\frac{p_{i, i-1}}{p_{i, i+1}}(x_i-x_{i-1})=\\gamma_i(x_i-x_{i-1})\n",
    "\\end{aligned}\n",
    "$$\n",
    "\n",
    "We observe that:\n",
    "\n",
    "$$\n",
    "\\begin{aligned}\n",
    "    x_2 - x_1 &= \\gamma_1(x_1-x_{0})=\\gamma_1x_1\\\\\n",
    "    x_3 - x_2 &= \\gamma_2(x_2-x_1)=\\gamma_2\\gamma_1x_1\\\\\n",
    "    x_4 - x_3 &= \\gamma_3(x_3-x_2)=\\gamma_3\\gamma_2\\gamma_1x_1\\\\\n",
    "              &\\; \\vdots & \\\\\n",
    "    x_{i+1} - x_i &= \\gamma_i(x_i-x_{i-1})=\\prod_{k=1}^i\\gamma_kx_1\\\\\n",
    "               &\\; \\vdots & \\\\   \n",
    "    x_{N} - x_{N-1} &= \\gamma_{N-1}(x_{N-1}-x_{N-2})=\\prod_{k=1}^{N-1}\\gamma_kx_1\\\\\n",
    "\\end{aligned}\n",
    "$$\n",
    "\n",
    "thus we have:\n",
    "\n",
    "$$x_i=\\sum_{j=0}^{i-1}x_{j+1}-x_j=\\left(1+\\sum_{j=1}^{i-1}\\prod_{k=1}^j\\gamma_k\\right)x_1$$\n",
    "\n",
    "we complete the proof by solving the following equation to obtain $x_1$:\n",
    "\n",
    "$$x_N=1=\\left(1+\\sum_{j=1}^{N-1}\\prod_{k=1}^j\\gamma_k\\right)x_1$$\n",
    "\n",
    "---\n",
    "\n",
    "In the case of neutral drift (considered above) we have:\n",
    "\n",
    "$$p_{i,i-1}=p_{i,i+1}$$\n",
    "\n",
    "thus:\n",
    "\n",
    "$$\n",
    "\\gamma_i=1\n",
    "$$\n",
    "\n",
    "so:\n",
    "\n",
    "$$\n",
    "x_i=\\frac{1+\\sum_{j=1}^{i-1}\\prod_{k=1}^j\\gamma_k}{1+\\sum_{j=1}^{N-1}\\prod_{k=1}^j\\gamma_k}=\\frac{1+i-1}{1+N-1}=\\frac{i}{N}\n",
    "$$"
   ]
  },
  {
   "cell_type": "code",
   "execution_count": 5,
   "metadata": {
    "tags": [
     "nbval-ignore-output"
    ]
   },
   "outputs": [
    {
     "data": {
      "image/png": "[encoded data removed]",
      "text/plain": [
       "<Figure size 432x288 with 1 Axes>"
      ]
     },
     "metadata": {
      "needs_background": "light"
     },
     "output_type": "display_data"
    }
   ],
   "source": [
    "probabilities = [neutral_fixation(N, i=i, repetitions=500) for i in range(1, N)]\n",
    "plt.scatter(range(1, N), probabilities, label=\"Simulated\")\n",
    "plt.plot(range(1, N), [i / N for i in range(1, N)], label=\"Theoretic: $i/N$\", linestyle=\"dashed\")\n",
    "plt.xlabel(\"$i$\")\n",
    "plt.ylabel(\"$x_i$\")\n",
    "plt.legend();"
   ]
  },
  {
   "cell_type": "markdown",
   "metadata": {},
   "source": [
    "---\n",
    "\n",
    "## Fixation probability\n",
    "\n",
    "The fixation probability in a Moran process is the probability that a give type starting with $i=1$ individuals takes over an entire population. We denote the fixation probabilities of the first/second type as $\\rho_1$ and $\\rho_2$ respectively and we have:\n",
    "\n",
    "$$\n",
    "\\rho_1=x_1\n",
    "$$\n",
    "\n",
    "$$\n",
    "\\rho_2=1-x_{N-1}\n",
    "$$\n",
    "\n",
    "---\n",
    "\n",
    "We will now consider a Moran process on a game:\n",
    "\n",
    "---\n",
    "\n",
    "## Moran process on a game\n",
    "\n",
    "[Video](https://www.youtube.com/watch?v=TpqVoF1fBF8&index=43&list=PLnC5h3PY-znxMsG0TRYGOyrnEO-QhVwLb)\n",
    "\n",
    "\n",
    "Consider a matrix $A\\in\\mathbb{R}^{m\\times n}$ representing a game with two strategies. \n",
    "\n",
    "$$\n",
    "A=\n",
    "\\begin{pmatrix}\n",
    "    a & b\\\\\n",
    "    c & d\n",
    "\\end{pmatrix}\n",
    "$$\n",
    "\n",
    "The Moran process is as follows:\n",
    "\n",
    "- At a given time step: all individuals play all other individuals.\n",
    "- Obtain their fitness as given by the game.\n",
    "- Randomly select an individual proportional to their fitness as an individual to be reproduced\n",
    "- Uniformly select an individual to be replaced\n",
    "- Proceed to the next time step.\n",
    "- The process terminates when there is only one type of individual in the population.\n",
    "\n",
    "\n",
    "Assuming $i$ individuals of the first type, the fitness of both types is given respectively by:\n",
    "\n",
    "$$f_{1i}=\\frac{a(i-1)+b(N-i)}{N-1}$$\n",
    "$$f_{2i}=\\frac{c(i)+d(N-i-1)}{N-1}$$\n",
    "\n",
    "The transition probabilities are then given by:\n",
    "\n",
    "$$p_{i,i+1}=\\frac{if_{1i}}{if_{1i} + (N-i)f_{2i}}\\frac{N-i}{N}$$\n",
    "$$p_{i,i-1}=\\frac{(N-i)f_{2i}}{if_{1i} + (N-i)f_{2i}}\\frac{i}{N}$$\n",
    "\n",
    "which gives:\n",
    "\n",
    "$$\\gamma_i=\\frac{f_{2i}}{f_{1i}}$$\n",
    "\n",
    "thus:\n",
    "\n",
    "$$\n",
    "x_i=\\frac{1+\\sum_{j=1}^{i-1}\\prod_{k=1}^j\\gamma_k}{1+\\sum_{j=1}^{N-1}\\prod_{k=1}^j\\gamma_k}\n",
    "$$\n",
    "\n",
    "---"
   ]
  },
  {
   "cell_type": "markdown",
   "metadata": {},
   "source": [
    "Here is some code to carry out this calculation:"
   ]
  },
  {
   "cell_type": "code",
   "execution_count": 6,
   "metadata": {},
   "outputs": [],
   "source": [
    "def theoretic_fixation(N, game, i=1):\n",
    "    \"\"\"\n",
    "    Calculate x_i as given by the above formula\n",
    "    \"\"\"\n",
    "    f_ones = np.array([(game[0, 0] * (i - 1) + game[0, 1] * (N - i)) / (N - 1) for i in range(1, N)])\n",
    "    f_twos = np.array([(game[1, 0] * i + game[1, 1] * (N - i - 1)) / (N - 1) for i in range(1, N)])\n",
    "    gammas = f_twos / f_ones\n",
    "    return (1 + np.sum(np.cumprod(gammas[:i-1]))) / (1 + np.sum(np.cumprod(gammas)))"
   ]
  },
  {
   "cell_type": "markdown",
   "metadata": {},
   "source": [
    "Here is an example of calculating $x_1$ for the following game for $N=4$:\n",
    "\n",
    "[Video](https://www.youtube.com/watch?v=3sBVrnQhemE&index=44&list=PLnC5h3PY-znxMsG0TRYGOyrnEO-QhVwLb)\n",
    "\n",
    "$$\n",
    "A = \n",
    "\\begin{pmatrix}\n",
    "    4 & 1\\\\\n",
    "    1 & 4\n",
    "\\end{pmatrix}\n",
    "$$"
   ]
  },
  {
   "cell_type": "code",
   "execution_count": 7,
   "metadata": {},
   "outputs": [
    {
     "data": {
      "text/plain": [
       "0.125"
      ]
     },
     "execution_count": 7,
     "metadata": {},
     "output_type": "execute_result"
    }
   ],
   "source": [
    "A = np.array([[4, 1], \n",
    "              [1, 4]])\n",
    "theoretic_fixation(N=4, i=1, game=A)"
   ]
  },
  {
   "cell_type": "markdown",
   "metadata": {},
   "source": [
    "Applying the theorem gives:\n",
    "\n",
    "$$\n",
    "\\begin{aligned}\n",
    "f_{1i}&=\\frac{4(i - 1) + 4 - i}{3} = \\frac{4i-4+4-i}{3}=i\\\\\n",
    "f_{2i}&=\\frac{i + 4(3 - i)}{3} = \\frac{12-3i}{3}=4-i\n",
    "\\end{aligned}\n",
    "$$\n",
    "\n",
    "$$\n",
    "\\gamma_i = \\frac{f_{2i}}{f_{1i}}=\\frac{4-i}{i}=\\frac{4}{i}-1\n",
    "$$\n",
    "\n",
    "Thus:\n",
    "\n",
    "$$\n",
    "\\begin{aligned}\n",
    "x_1 & =\\frac{1 + \\sum_{j=1}^{0}\\prod_{k=1}^{j}\\gamma_k}{1 + \\sum_{j=1}^{4 - 1}\\prod_{k=1}^{j}\\gamma_k}\\\\  \n",
    "    & =\\frac{1}{1 + \\sum_{j=1}^{3}\\prod_{k=1}^{j}\\gamma_k}\\\\ \n",
    "    & =\\frac{1}{1 + \\gamma_1 + \\gamma_1\\times \\gamma_2 + \\gamma_1 \\times \\gamma_2 \\times \\gamma_3}\\\\ \n",
    "    & =\\frac{1}{1+3+3\\times 1 + 3 \\times 1\\times \\frac{1}{3}} = \\frac{1}{1 + 3 + 3 + 1}=\\frac{1}{8}\\\\\n",
    "\\end{aligned}\n",
    "$$"
   ]
  },
  {
   "cell_type": "markdown",
   "metadata": {},
   "source": [
    "Nashpy has the ability to run a single Moran process:"
   ]
  },
  {
   "cell_type": "code",
   "execution_count": 8,
   "metadata": {},
   "outputs": [
    {
     "name": "stdout",
     "output_type": "stream",
     "text": [
      "[0 1 1 1]\n",
      "[0 1 1 1]\n",
      "[0 1 1 1]\n",
      "[0 1 1 1]\n",
      "[0 1 1 1]\n",
      "[0 1 1 1]\n",
      "[0 1 1 1]\n",
      "[0 1 1 1]\n",
      "[0 1 1 1]\n",
      "[1 1 1 1]\n"
     ]
    }
   ],
   "source": [
    "import nashpy as nash\n",
    "\n",
    "game = nash.Game(A)\n",
    "initial_population = np.array((0, 1, 1, 1))\n",
    "np.random.seed(0)\n",
    "generations = game.moran_process(\n",
    "    initial_population=initial_population\n",
    ")\n",
    "for population in generations:\n",
    "    print(population)"
   ]
  },
  {
   "cell_type": "markdown",
   "metadata": {},
   "source": [
    "We see there that in a population of 4 individuals, a single individual of the first type (`0`) does not become fixed. That is just for a single run, to be able to approximate the fixation probability the process needs to be repeated, this can be done in Nashpy:"
   ]
  },
  {
   "cell_type": "code",
   "execution_count": 9,
   "metadata": {},
   "outputs": [],
   "source": [
    "import collections\n",
    "\n",
    "\n",
    "def approximate_fixation(N, A, i=None, repetitions=10):\n",
    "    \"\"\"\n",
    "    Repeat the Moran process and calculate the fixation probability\n",
    "    \n",
    "    This is done by carrying out the following steps:\n",
    "    \n",
    "    1. Creating a game\n",
    "    2. Building an initial population with i individuals \n",
    "       of the first type\n",
    "    3. Getting the fixation probabilities of both types\n",
    "    4. Returning the probability of the first type\n",
    "    \"\"\"\n",
    "    game = nash.Game(A)\n",
    "    initial_population = i * [0] + (N - i) * [1]\n",
    "    probabilities = game.fixation_probabilities(\n",
    "        initial_population=initial_population, \n",
    "        repetitions=repetitions\n",
    "    )\n",
    "    \n",
    "    return probabilities[0]"
   ]
  },
  {
   "cell_type": "markdown",
   "metadata": {},
   "source": [
    "Here is how the fixation probabilities vary for different initial populations:"
   ]
  },
  {
   "cell_type": "code",
   "execution_count": 10,
   "metadata": {
    "tags": [
     "nbval-ignore-output"
    ]
   },
   "outputs": [
    {
     "data": {
      "image/png": "[encoded data removed]",
      "text/plain": [
       "<Figure size 432x288 with 1 Axes>"
      ]
     },
     "metadata": {
      "needs_background": "light"
     },
     "output_type": "display_data"
    }
   ],
   "source": [
    "probabilities = [approximate_fixation(N, i=i, A=A, repetitions=500) for i in range(1, N)]\n",
    "plt.scatter(range(1, N), probabilities, label=\"Simulated\")\n",
    "plt.plot(range(1, N), [i / N for i in range(1, N)], label=\"Neutral: $i/N$\", linestyle=\"dashed\")\n",
    "plt.plot(range(1, N), [theoretic_fixation(N=N, i=i, game=A) for i in range(1, N)], label=\"Theoretic\")\n",
    "plt.xlabel(\"$i$\")\n",
    "plt.ylabel(\"$x_i$\")\n",
    "plt.legend();"
   ]
  }
 ],
 "metadata": {
  "anaconda-cloud": {},
  "celltoolbar": "Tags",
  "kernelspec": {
   "display_name": "Python 3",
   "language": "python",
   "name": "python3"
  },
  "language_info": {
   "codemirror_mode": {
    "name": "ipython",
    "version": 3
   },
   "file_extension": ".py",
   "mimetype": "text/x-python",
   "name": "python",
   "nbconvert_exporter": "python",
   "pygments_lexer": "ipython3",
   "version": "3.8.3"
  },
  "widgets": {
   "state": {},
   "version": "1.0.0"
  }
 },
 "nbformat": 4,
 "nbformat_minor": 2
}
