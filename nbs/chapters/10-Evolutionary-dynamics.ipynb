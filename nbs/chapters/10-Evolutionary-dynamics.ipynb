{
 "cells": [
  {
   "cell_type": "markdown",
   "metadata": {},
   "source": [
    "# Evolutionary Dynamics\n",
    "\n",
    "We will now consider how Game Theory can be used to study evolutionary processes. The main difference is that we now consider not two player games but game with an **infinite** population. The strategies will make up a dynamic population that changes over time.\n",
    "\n",
    "## Reproduction\n",
    "\n",
    "[Video](https://youtu.be/kBhoG3pjyG0?list=PLnC5h3PY-znxMsG0TRYGOyrnEO-QhVwLb)\n",
    "\n",
    "Consider a simple model of population growth: let $x(t)$ denote the size of the population at time $t$ and let as assume that the rate of growth is $a$ per population size:\n",
    "\n",
    "$$\\frac{dx}{dt}=ax$$\n",
    "\n",
    "Note that from here on we will refer to this rate as a **fitness**.\n",
    "\n",
    "The solution of this differential equation is:\n",
    "\n",
    "$$x(t)=x_0e^{at}\\text{ where }x_0=x(0)$$"
   ]
  },
  {
   "cell_type": "code",
   "execution_count": 1,
   "metadata": {},
   "outputs": [
    {
     "data": {
      "image/png": "[encoded data removed]",
      "text/latex": [
       "$$x{\\left (t \\right )} = C_{1} e^{a t}$$"
      ],
      "text/plain": [
       "           a⋅t\n",
       "x(t) = C₁⋅ℯ   "
      ]
     },
     "execution_count": 1,
     "metadata": {},
     "output_type": "execute_result"
    }
   ],
   "source": [
    "import sympy as sym\n",
    "sym.init_printing()\n",
    "x = sym.Function('x')\n",
    "t, a = sym.symbols('t, a')\n",
    "sym.dsolve(sym.Derivative(x(t), t) - a * x(t), x(t))"
   ]
  },
  {
   "cell_type": "markdown",
   "metadata": {},
   "source": [
    "(This is exponential growth.)\n",
    "\n",
    "We can also use scipy to solve this differential equation numerically (relevant for more complex dynamics):"
   ]
  },
  {
   "cell_type": "code",
   "execution_count": 2,
   "metadata": {},
   "outputs": [],
   "source": [
    "import numpy as np\n",
    "import matplotlib.pyplot as plt\n",
    "%matplotlib inline\n",
    "\n",
    "from scipy.integrate import odeint\n",
    "\n",
    "t = np.linspace(0, 10, 100)  # Obtain 100 time points\n",
    "\n",
    "\n",
    "def dx(x, t, a):\n",
    "    \"\"\"Define the derivate of x\"\"\"\n",
    "    return a * x"
   ]
  },
  {
   "cell_type": "markdown",
   "metadata": {},
   "source": [
    "If $a=10>0$:"
   ]
  },
  {
   "cell_type": "code",
   "execution_count": 3,
   "metadata": {
    "tags": [
     "nbval-ignore-output"
    ]
   },
   "outputs": [
    {
     "data": {
      "image/png": "[encoded data removed]",
      "text/plain": [
       "<matplotlib.figure.Figure at 0x10de84c18>"
      ]
     },
     "metadata": {
      "needs_background": "light"
     },
     "output_type": "display_data"
    }
   ],
   "source": [
    "a = 10\n",
    "xs = odeint(func=dx, y0=1, t=t, args=(a,))\n",
    "plt.plot(xs);"
   ]
  },
  {
   "cell_type": "markdown",
   "metadata": {},
   "source": [
    "If $a=-10<0$:"
   ]
  },
  {
   "cell_type": "code",
   "execution_count": 4,
   "metadata": {
    "tags": [
     "nbval-ignore-output"
    ]
   },
   "outputs": [
    {
     "data": {
      "image/png": "[encoded data removed]",
      "text/plain": [
       "<matplotlib.figure.Figure at 0x151dbf6128>"
      ]
     },
     "metadata": {
      "needs_background": "light"
     },
     "output_type": "display_data"
    }
   ],
   "source": [
    "a = -10\n",
    "xs = odeint(func=dx, y0=1, t=t, args=(a,))\n",
    "plt.plot(xs);"
   ]
  },
  {
   "cell_type": "markdown",
   "metadata": {},
   "source": [
    "## Selection\n",
    "\n",
    "[Video](https://youtu.be/ERbQGLLNGYo?list=PLnC5h3PY-znxMsG0TRYGOyrnEO-QhVwLb)\n",
    "\n",
    "Reproduction alone is not enough to study evolutionary processes. Let us consider a population made up of two types of individuals:\n",
    "\n",
    "- $x(t)$ denotes the first type;\n",
    "- $y(t)$ denotes the second type.\n",
    "\n",
    "Let us assume the same expressions for the as before:\n",
    "\n",
    "$$\\frac{dx}{dt}=ax\\qquad\\frac{dy}{dt}=by$$\n",
    "\n",
    "both these population will increase or decrease independantly so there's not much of interest there **but** if we introduce the following:\n",
    "\n",
    "$$\n",
    "\\rho(t) = \\frac{x(t)}{y(t)}\n",
    "$$\n",
    "\n",
    "then $\\lim_{t\\to\\infty}\\rho(t)$ indicates which type takes over the population over time.\n",
    "\n",
    "We have:\n",
    "\n",
    "$$\n",
    "\\frac{d\\rho}{dt} = \\frac{\\frac{dx}{dt}y -  \\frac{dy}{dt}x}{y ^ 2} = \\frac{xy(a - b)}{y^2} \n",
    "$$\n",
    "\n",
    "which gives:\n",
    "\n",
    "$$\n",
    "\\frac{d\\rho}{dt} = (a-b)\\rho\n",
    "$$\n",
    "\n",
    "which has solution (this is just the same differential equation as the previous section):\n",
    "\n",
    "$$\n",
    "\\rho(t) = \\rho_0e^{(a-b)t}\\text{ where }\\rho_0=\\rho(0)\n",
    "$$\n",
    "\n",
    "note that even if both population grow, but one grows faster than the other (eg $a > b$) then the overall population will grow but one will take over:"
   ]
  },
  {
   "cell_type": "code",
   "execution_count": 5,
   "metadata": {
    "tags": [
     "nbval-ignore-output"
    ]
   },
   "outputs": [
    {
     "data": {
      "image/png": "[encoded data removed]",
      "text/plain": [
       "<matplotlib.figure.Figure at 0x151dd09ef0>"
      ]
     },
     "metadata": {
      "needs_background": "light"
     },
     "output_type": "display_data"
    }
   ],
   "source": [
    "def drho(rho, t, a, b):\n",
    "    \"\"\"Define the derivate of x\"\"\"\n",
    "    return (a - b) * rho\n",
    "\n",
    "a, b = 10, 5\n",
    "rhos = odeint(func=drho, y0=1, t=t, args=(a, b))\n",
    "plt.plot(rhos);"
   ]
  },
  {
   "cell_type": "markdown",
   "metadata": {},
   "source": [
    "## Selection with constant population size\n",
    "\n",
    "[Video](https://youtu.be/_bsaV5sq6ZU?list=PLnC5h3PY-znxMsG0TRYGOyrnEO-QhVwLb)\n",
    "\n",
    "Let us consider the case of $x(t) + y(t)=1$: so the case of a constant population size (choosing a constant of 1 is just a question of scale). For this to be possible, the rates need to reduced:\n",
    "\n",
    "$$\\frac{dx}{dt}=x(a - \\phi)\\qquad\\frac{dy}{dt}=y(b - \\phi)$$\n",
    "\n",
    "because $x(t) + y(t)=1$:\n",
    "\n",
    "$$\\frac{dx}{dt} + \\frac{dy}{dt} = 0$$\n",
    "\n",
    "also:\n",
    "\n",
    "$$\\frac{dx}{dt} + \\frac{dy}{dt} = ax + by - \\phi(x + y)= ax + by - \\phi$$\n",
    "\n",
    "thus $\\phi=ax+by$ (this corresponds to the average of the fitness).\n",
    "\n",
    "Substituting $y=1-x$ we have:\n",
    "\n",
    "$$\\frac{dx}{dt}=x(a - ax-b(1-x))=x(a(1 - x)-b(1-x))$$\n",
    "\n",
    "giving:\n",
    "\n",
    "$$\\frac{dx}{dt}=x(a-b)(1-x)$$\n",
    "\n",
    "We do not need to solve this differential equation. There are two stable points:\n",
    "\n",
    "- $x=0$: no population of first type: no change\n",
    "- $x=1$: no population of second type: no change\n",
    "\n",
    "Also:\n",
    "\n",
    "- $a=b$: if both types have the same fitness: no change"
   ]
  },
  {
   "cell_type": "code",
   "execution_count": 6,
   "metadata": {
    "tags": [
     "nbval-ignore-output"
    ]
   },
   "outputs": [
    {
     "data": {
      "image/png": "[encoded data removed]",
      "text/plain": [
       "<matplotlib.figure.Figure at 0x10d0da400>"
      ]
     },
     "metadata": {
      "needs_background": "light"
     },
     "output_type": "display_data"
    }
   ],
   "source": [
    "def dxy(xy, t, a, b):\n",
    "    \"\"\"\n",
    "    Define the derivate of x and y. \n",
    "    It takes `xy` as a vector\n",
    "    \"\"\"\n",
    "    x, y = xy\n",
    "    phi = a * x + b * y\n",
    "    return x * (a - phi), y * (b - phi)\n",
    "\n",
    "a, b = 10, 5\n",
    "xys = odeint(func=dxy, y0=[.5, .5], t=t, args=(a, b))\n",
    "plt.plot(xys);"
   ]
  },
  {
   "cell_type": "code",
   "execution_count": 7,
   "metadata": {
    "tags": [
     "nbval-ignore-output"
    ]
   },
   "outputs": [
    {
     "data": {
      "image/png": "[encoded data removed]",
      "text/plain": [
       "<matplotlib.figure.Figure at 0x151de8c630>"
      ]
     },
     "metadata": {
      "needs_background": "light"
     },
     "output_type": "display_data"
    }
   ],
   "source": [
    "a, b = 10, 5\n",
    "xys = odeint(func=dxy, y0=[1, 0], t=t, args=(a, b))\n",
    "plt.plot(xys);"
   ]
  },
  {
   "cell_type": "code",
   "execution_count": 8,
   "metadata": {
    "tags": [
     "nbval-ignore-output"
    ]
   },
   "outputs": [
    {
     "data": {
      "image/png": "[encoded data removed]",
      "text/plain": [
       "<matplotlib.figure.Figure at 0x151df0dc88>"
      ]
     },
     "metadata": {
      "needs_background": "light"
     },
     "output_type": "display_data"
    }
   ],
   "source": [
    "a, b = 10, 5\n",
    "xys = odeint(func=dxy, y0=[0, 1], t=t, args=(a, b))\n",
    "plt.plot(xys);"
   ]
  },
  {
   "cell_type": "code",
   "execution_count": 9,
   "metadata": {
    "tags": [
     "nbval-ignore-output"
    ]
   },
   "outputs": [
    {
     "data": {
      "image/png": "[encoded data removed]",
      "text/plain": [
       "<matplotlib.figure.Figure at 0x151e07d3c8>"
      ]
     },
     "metadata": {
      "needs_background": "light"
     },
     "output_type": "display_data"
    }
   ],
   "source": [
    "a, b = 5, 5\n",
    "xys = odeint(func=dxy, y0=[.5, .5], t=t, args=(a, b))\n",
    "plt.plot(xys);"
   ]
  }
 ],
 "metadata": {
  "anaconda-cloud": {},
  "celltoolbar": "Tags",
  "kernelspec": {
   "display_name": "GT",
   "language": "python",
   "name": "gt"
  },
  "language_info": {
   "codemirror_mode": {
    "name": "ipython",
    "version": 3
   },
   "file_extension": ".py",
   "mimetype": "text/x-python",
   "name": "python",
   "nbconvert_exporter": "python",
   "pygments_lexer": "ipython3",
   "version": "3.6.1"
  }
 },
 "nbformat": 4,
 "nbformat_minor": 2
}
