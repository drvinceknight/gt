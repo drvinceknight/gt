{
 "cells": [
  {
   "cell_type": "markdown",
   "metadata": {},
   "source": [
    "# Best response polytopes\n",
    "\n",
    "Another useful representation of games is to consider polytopes. A polytope $\\mathcal{P}$ has the following definition:\n",
    "\n",
    "---\n",
    "## Definition of a Polytope as a convex hull\n",
    "\n",
    "[Video](https://www.youtube.com/watch?v=6NaPQhJe2QM&list=PLnC5h3PY-znxMsG0TRYGOyrnEO-QhVwLb&index=20)\n",
    "\n",
    "For a given set of vertices $V\\subseteq\\mathbb{R} ^ K$, a Polytope $\\mathcal{P}$ can be defined as the following set of points:\n",
    "\n",
    "$$\n",
    "\\mathcal{P} = \\left\\{\\sum_{i=1}^{|V|} \\lambda_i v_i \\in\\mathbb{R} ^ K \\;\\left|\\; \\sum_{i=1}^{|V|} \\lambda_i = 1; \\lambda_i\\geq 0;v_i \\in V \\right.\\right\\}\n",
    "$$\n",
    "\n",
    "---\n",
    "\n",
    "This is a higher dimensional generalization of polygons. Let us plot the polytope with vertices:\n",
    "\n",
    "$$\n",
    "V = \\{(0, 0), (1/2, 0), (1/2, 1/4), (0, 1/3)\\}\n",
    "$$"
   ]
  },
  {
   "cell_type": "code",
   "execution_count": 1,
   "metadata": {
    "tags": [
     "nbval-ignore-output"
    ]
   },
   "outputs": [
    {
     "data": {
      "image/png": "[encoded data removed]",
      "text/plain": [
       "<matplotlib.figure.Figure at 0x10fe91400>"
      ]
     },
     "metadata": {
      "needs_background": "light"
     },
     "output_type": "display_data"
    }
   ],
   "source": [
    "%matplotlib inline\n",
    "\n",
    "import matplotlib.pyplot as plt\n",
    "import numpy as np\n",
    "import scipy.spatial\n",
    "\n",
    "V = [\n",
    "    np.array([0, 0]), \n",
    "    np.array([1 / 2, 0]), \n",
    "    np.array([1 / 2, 1 / 4]), \n",
    "    np.array([0, 1 / 3])\n",
    "]\n",
    "P = scipy.spatial.ConvexHull(V)\n",
    "scipy.spatial.convex_hull_plot_2d(P);"
   ]
  },
  {
   "cell_type": "markdown",
   "metadata": {},
   "source": [
    "\n",
    "An equivalent definition of Polytope is as an intersection of boundaries that seperate the space in to two distinct areas.\n",
    "\n",
    "---\n",
    "\n",
    "## Definition of a Polytope as an intersection of halfspaces\n",
    "\n",
    "[Video](https://youtu.be/_JJ2O6q_pEg?list=PLnC5h3PY-znxMsG0TRYGOyrnEO-QhVwLb)\n",
    "\n",
    "For a matrix $M\\in\\mathbb{R} ^ {m\\times n}$ and a vector $b\\in\\mathbb{R}^m$ a Polytope $\\mathcal{P}$ can be defined as the following set of points:\n",
    "\n",
    "$$\n",
    "\\mathcal{P} = \\left\\{x \\in\\mathbb{R} ^ {n} \\;\\left|\\; Mx\\leq b \\right.\\right\\}\n",
    "$$\n",
    "\n",
    "---\n",
    "\n",
    "For example the previous polytope is equivalently described by the following inequalities:\n",
    "\n",
    "$$\n",
    "\\begin{aligned}\n",
    "- x_1       & \\leq 0\\\\\n",
    "-x_2        & \\leq 0\\\\\n",
    "2x_1        & \\leq 1\\\\\n",
    "3x_2        & \\leq 1\\\\\n",
    "x_1 + 6 x_2 & \\leq 2\n",
    "\\end{aligned}\n",
    "$$\n",
    "\n",
    "---\n",
    "\n",
    "## Definition of best response polytopes\n",
    "\n",
    "[Video](https://youtu.be/yGGtYMpSSzY?list=PLnC5h3PY-znxMsG0TRYGOyrnEO-QhVwLb)\n",
    "\n",
    "\n",
    "For a two player game $(A, B)\\in{\\mathbb{R}^{m\\times n}_{>0}}^2$ the row/column player best response polytope $\\mathcal{P}$/$\\mathcal{Q}$ is defined by:\n",
    "\n",
    "$$\n",
    "\\mathcal{P} = \\left\\{x\\in\\mathbb{R}^{m}\\;|\\;x\\geq 0; xB\\leq 1\\right\\}\n",
    "$$\n",
    "\n",
    "$$\n",
    "\\mathcal{Q} = \\left\\{y\\in\\mathbb{R}^{n}\\;|\\; Ay\\leq 1; y\\geq 0 \\right\\}\n",
    "$$\n",
    "\n",
    "---\n",
    "\n",
    "The polytope $\\mathcal{P}$, corresponds to the set of points with an upper bound on the utility of those points when considered as row strategies against which the column player plays.\n",
    "\n",
    "The fact that these polytopes are defined for $A, B > 0$ is not restrictive as we can simply add a constant to our utilities. As an example, let us consider the matching pennies game:\n",
    "\n",
    "$$\n",
    "A = \n",
    "\\begin{pmatrix}\n",
    "    1 & -1\\\\\n",
    "    -1&  1\n",
    "\\end{pmatrix}\\qquad\n",
    "B = \n",
    "\\begin{pmatrix}\n",
    "    -1 & 1\\\\\n",
    "    1&  -1\n",
    "\\end{pmatrix}\n",
    "$$\n",
    "\n",
    "First let us add 2 to all utilities:\n",
    "\n",
    "$$\n",
    "A = \n",
    "\\begin{pmatrix}\n",
    "    3 & 1\\\\\n",
    "    1 &  3\n",
    "\\end{pmatrix}\\qquad\n",
    "B = \n",
    "\\begin{pmatrix}\n",
    "    1 & 3\\\\\n",
    "    3 &  1\n",
    "\\end{pmatrix}\n",
    "$$\n",
    "\n",
    "The inequalities for $\\mathcal{P}$ are then given by:\n",
    "\n",
    "$$\n",
    "\\begin{aligned}\n",
    "-x_1        & \\leq 0\\\\\n",
    "-x_2        & \\leq 0\\\\\n",
    "x_1 + 3 x_2        & \\leq 1\\\\\n",
    "3 x_1 + x_2       & \\leq 1\\\\\n",
    "\\end{aligned}\n",
    "$$\n",
    "\n",
    "which corresponds to:\n",
    "\n",
    "$$\n",
    "\\begin{aligned}\n",
    "x_1        & \\geq 0\\\\\n",
    "x_2        & \\geq 0\\\\\n",
    "x_2        & \\leq 1/3 -x_1/3\\\\\n",
    "x_2       & \\leq 1 - 3x_1\\\\\n",
    "\\end{aligned}\n",
    "$$\n",
    "\n",
    "the intersection of the two non trivial constraints is at the point:\n",
    "\n",
    "$$1/3 -x_1/3=1 - 3x_1$$\n",
    "\n",
    "giving:\n",
    "\n",
    "$$x_1=1/4$$ \n",
    "\n",
    "and\n",
    "\n",
    "$$x_2=1/4$$"
   ]
  },
  {
   "cell_type": "code",
   "execution_count": 2,
   "metadata": {},
   "outputs": [
    {
     "data": {
      "text/plain": [
       "{0.25}"
      ]
     },
     "execution_count": 2,
     "metadata": {},
     "output_type": "execute_result"
    }
   ],
   "source": [
    "import sympy as sym\n",
    "x_1 = sym.symbols('x_1')\n",
    "sym.solveset(1/3 - x_1 / 3 - 1 + 3 * x_1, x_1)"
   ]
  },
  {
   "cell_type": "markdown",
   "metadata": {},
   "source": [
    "This gives 4 vertices:\n",
    "\n",
    "$$\n",
    "V = \\{(0, 0), (1/3, 0), (1/4, 1/4), (0, 1/3)\\}\n",
    "$$"
   ]
  },
  {
   "cell_type": "code",
   "execution_count": 3,
   "metadata": {
    "tags": [
     "nbval-ignore-output"
    ]
   },
   "outputs": [
    {
     "data": {
      "image/png": "[encoded data removed]",
      "text/plain": [
       "<matplotlib.figure.Figure at 0x61f37a780>"
      ]
     },
     "metadata": {
      "needs_background": "light"
     },
     "output_type": "display_data"
    }
   ],
   "source": [
    "V = [\n",
    "    np.array([0, 0]), \n",
    "    np.array([1 / 3, 0]), \n",
    "    np.array([1 / 4, 1 / 4]), \n",
    "    np.array([0, 1 / 3])\n",
    "]\n",
    "P = scipy.spatial.ConvexHull(V)\n",
    "scipy.spatial.convex_hull_plot_2d(P);"
   ]
  },
  {
   "cell_type": "markdown",
   "metadata": {},
   "source": [
    "## Vertex labelling\n",
    "\n",
    "[Video](https://youtu.be/yeatZdnfFY4?list=PLnC5h3PY-znxMsG0TRYGOyrnEO-QhVwLb)\n",
    "\n",
    "These vertices are no longer probability vectors. Recall the four inequalities of this polytope:\n",
    "\n",
    "1. $x_1 \\geq 0$: if this inequality is \"binding\" (ie $x_1=0$) that implies that the row player does not play that strategy.\n",
    "2. $x_2 \\geq 0$: if this inequality is \"binding\" (ie $x_2=0$) that implies that the row player does not play that strategy.\n",
    "3. $x_1 + 3 x_2 \\leq 1$: if this inequality is binding (ie $x_1 + 3 x_2 = 1$) then that implies that the utility to the column player for that particular column is as big as it can be.\n",
    "4. $3x_1 + x_2 \\leq 1$: if this inequality is binding (ie $3x_1 + x_2 = 1$) then that implies that the utility to the column player for that particular column is as big as it can be.\n",
    "\n",
    "We in fact use this notion to **label** our vertices:\n",
    "\n",
    "1. $(0, 0)$ has labels $\\{0, 1\\}$ (we start our indexing at 0).\n",
    "2. $(1/3, 0)$ has labels $\\{1, 3\\}$\n",
    "3. $(1/4, 1/4)$ has labels $\\{2, 3\\}$\n",
    "4. $(0, 1/3)$ has labels $\\{0, 2\\}$\n",
    "\n",
    "Similarly the vertices and labels for $\\mathcal{Q}$ are:\n",
    "\n",
    "1. $(0, 0)$ has labels $\\{2, 3\\}$\n",
    "2. $(1/3, 0)$ has labels $\\{0, 3\\}$\n",
    "3. $(1/4, 1/4)$ has labels $\\{0, 1\\}$\n",
    "4. $(0, 1/3)$ has labels $\\{1, 2\\}$\n",
    "\n",
    "Note that for a given pair of vertices, if the pair is fully labeled (so that the union of the labels is $\\{0, 1, 2, 3\\}$) then either a strategy is not played or it is a best response to the other player's strategies.\n",
    "\n",
    "This leads to a final observation:\n",
    "\n",
    "---\n",
    "## Fully labeled vertex pair\n",
    "\n",
    "For a pair of vertices $(x, y)\\in\\mathcal{P}\\times \\mathcal{Q}$, if the union of the labels of $x$ and $y$ correspond to the set of all labels then $x, y$, when normalised (so that the sum is 1), correspond to a Nash equilibrum.\n",
    "\n",
    "---\n",
    "\n",
    "This leads to another algorithm for finding equilibria:\n",
    "\n",
    "---\n",
    "## Vertex enumeration algorithm\n",
    "\n",
    "[Video](https://youtu.be/LX3zU2en8vc?list=PLnC5h3PY-znxMsG0TRYGOyrnEO-QhVwLb)\n",
    "\n",
    "For a nondegenerate 2 player game $(A, B)\\in{\\mathbb{R}^{m\\times n}_{>0}}^2$ the following algorithm returns all nash equilibria:\n",
    "\n",
    "1. For all pairs of vertices of the best response polytopes\n",
    "2. Check if the vertices have full labels\n",
    "3. Return the normalised probabilities\n",
    "\n",
    "---\n",
    "\n",
    "For our running example, the only pair of vertices that is fully labeled is:\n",
    "\n",
    "$$((1/4, 1/4), (1/4, 1/4))$$\n",
    "\n",
    "which, when normalised (so that the sum is 1) corresponds to:\n",
    "\n",
    "$$((1/2, 1/2), (1/2, 1/2))$$\n",
    "\n",
    "This algorithm is implemented in `Nashpy`:"
   ]
  },
  {
   "cell_type": "code",
   "execution_count": 4,
   "metadata": {},
   "outputs": [
    {
     "data": {
      "text/plain": [
       "[(array([0.5, 0.5]), array([0.5, 0.5]))]"
      ]
     },
     "execution_count": 4,
     "metadata": {},
     "output_type": "execute_result"
    }
   ],
   "source": [
    "import nashpy as nash\n",
    "A = np.array([[1, -1], [-1, 1]])\n",
    "matching_pennies = nash.Game(A)\n",
    "list(matching_pennies.vertex_enumeration())"
   ]
  }
 ],
 "metadata": {
  "anaconda-cloud": {},
  "celltoolbar": "Tags",
  "kernelspec": {
   "display_name": "GT",
   "language": "python",
   "name": "gt"
  },
  "language_info": {
   "codemirror_mode": {
    "name": "ipython",
    "version": 3
   },
   "file_extension": ".py",
   "mimetype": "text/x-python",
   "name": "python",
   "nbconvert_exporter": "python",
   "pygments_lexer": "ipython3",
   "version": "3.6.1"
  }
 },
 "nbformat": 4,
 "nbformat_minor": 2
}
