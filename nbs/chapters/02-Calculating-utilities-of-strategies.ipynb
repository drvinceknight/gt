{
 "cells": [
  {
   "cell_type": "markdown",
   "metadata": {},
   "source": [
    "# Calculating utilities of strategies"
   ]
  },
  {
   "cell_type": "markdown",
   "metadata": {
    "collapsed": true
   },
   "source": [
    "# Player strategies\n",
    "\n",
    "---\n",
    "\n",
    "## Definition of mixed strategies\n",
    "\n",
    "[Video](https://youtu.be/D_UID1t94UI?list=PLnC5h3PY-znxMsG0TRYGOyrnEO-QhVwLb)\n",
    "\n",
    "A mixed strategy for a player with strategy set $S$ is denoted by $\\sigma \\in [0,1]_{\\mathbb{R}}^{|S|}$ and corresponds to a probability distribution over the pure strategies of player $i$. So:\n",
    "\n",
    "$$\n",
    "\\sum_{i=1}^{|S|}\\sigma_i = 1\n",
    "$$\n",
    "\n",
    "---\n",
    "\n",
    "The expected score of a player can then be calculated as a measure over the probability distributions.\n",
    "\n",
    "---\n",
    "\n",
    "## Calculating utilities\n",
    "\n",
    "Considering a game $(A, B)\\in\\mathbb{{R^{m \\times n}}^2}$, if $\\sigma_r$ and $\\sigma_c$ are the mixed strategies for the row/column player (respectively). The utility to the row player is:\n",
    "\n",
    "$$\n",
    "u_r(\\sigma_r, \\sigma_c) = \\sum_{i=1}^m\\sum_{j=1}^nA_{ij}{\\sigma_r}_i{\\sigma_c}_j\n",
    "$$\n",
    "\n",
    "and the utility to the column player is:\n",
    "\n",
    "$$\n",
    "u_c(\\sigma_r, \\sigma_c) = \\sum_{i=1}^m\\sum_{j=1}^nB_{ij}{\\sigma_r}_i{\\sigma_c}_j\n",
    "$$\n",
    "\n",
    "This comes from:\n",
    "\n",
    "- The probability of being in a given cell of $A$ or $B$: ${\\sigma_r}_i{\\sigma_c}_j$\n",
    "- The value of the particular cell: $A_{ij}$ or $B_{ij}$\n",
    "\n",
    "---\n",
    "\n",
    "As an example consider the matching pennies game:\n",
    "\n",
    "$$\n",
    "A =\n",
    "\\begin{pmatrix}\n",
    "    1 & -1\\\\\n",
    "    -1 & 1\n",
    "\\end{pmatrix}\\qquad\n",
    "B =\n",
    "\\begin{pmatrix}\n",
    "    -1 & 1\\\\\n",
    "    1 & -1\n",
    "\\end{pmatrix}\n",
    "$$\n",
    "\n",
    "with the following mixed strategies:\n",
    "\n",
    "$$\n",
    "\\sigma_r = (.2, .8)\n",
    "\\qquad\n",
    "\\sigma_c = (.6, .4)\n",
    "$$\n",
    "\n",
    "We have:\n",
    "\n",
    "$$\n",
    "u_r(\\sigma_r, \\sigma_c) = 0.2 \\times 0.6 \\times 1 + 0.2 \\times 0.4 \\times (-1) + 0.8 \\times 0.6 \\times (-1) + 0.8 \\times 0.4 \\times 1=-0.12,\n",
    "$$\n",
    "\n",
    "$$\n",
    "u_c(\\sigma_r, \\sigma_c) = 0.2 \\times 0.6 \\times (-1) + 0.2 \\times 0.4 \\times 1 + 0.8 \\times 0.6 \\times 1 + 0.8 \\times 0.4 \\times (-1)=0.12.\n",
    "$$\n",
    "\n",
    "---\n",
    "\n",
    "## Linear algebraic calculation\n",
    "\n",
    "[Video](https://youtu.be/X-n0e58vfYw?list=PLnC5h3PY-znxMsG0TRYGOyrnEO-QhVwLb)\n",
    "\n",
    "Note that we can rearrange the expressions for the utilities:\n",
    "\n",
    "$$\n",
    "u_r(\\sigma_r, \\sigma_c) = \\sum_{i=1}^m{\\sigma_r}_i\\sum_{j=1}^nA_{ij}{\\sigma_c}_j\n",
    "$$\n",
    "\n",
    "$$\n",
    "u_c(\\sigma_r, \\sigma_c) = \\sum_{i=1}^m{\\sigma_r}_i\\sum_{j=1}^nB_{ij}{\\sigma_c}_j\n",
    "$$\n",
    "\n",
    "in turn this corresponds to the matrix vector product:\n",
    "\n",
    "$$\n",
    "u_r(\\sigma_r, \\sigma_c) = {\\sigma_r}A\\sigma_c^T\n",
    "$$\n",
    "\n",
    "$$\n",
    "u_c(\\sigma_r, \\sigma_c) = {\\sigma_r}B\\sigma_c^T\n",
    "$$\n",
    "\n",
    "We can use numpy to verify this calculation:"
   ]
  },
  {
   "cell_type": "code",
   "execution_count": 1,
   "metadata": {},
   "outputs": [
    {
     "data": {
      "text/plain": [
       "(-0.11999999999999998, 0.11999999999999998)"
      ]
     },
     "execution_count": 1,
     "metadata": {},
     "output_type": "execute_result"
    }
   ],
   "source": [
    "import numpy as np\n",
    "A = np.array([[1, -1], [-1, 1]])\n",
    "B = np.array([[-1, 1], [1, -1]])\n",
    "sigma_r = np.array([.2, .8])\n",
    "sigma_c = np.array([.6, .4])\n",
    "np.dot(sigma_r, np.dot(A, sigma_c)), np.dot(sigma_r, np.dot(B, sigma_c))"
   ]
  },
  {
   "cell_type": "markdown",
   "metadata": {},
   "source": [
    "Finally we can also directly calculate this using a `nashpy` game:"
   ]
  },
  {
   "cell_type": "code",
   "execution_count": 2,
   "metadata": {},
   "outputs": [
    {
     "data": {
      "text/plain": [
       "array([-0.12,  0.12])"
      ]
     },
     "execution_count": 2,
     "metadata": {},
     "output_type": "execute_result"
    }
   ],
   "source": [
    "import nashpy as nash\n",
    "matching_pennies = nash.Game(A, B)\n",
    "matching_pennies[sigma_r, sigma_c]"
   ]
  }
 ],
 "metadata": {
  "anaconda-cloud": {},
  "kernelspec": {
   "display_name": "GT",
   "language": "python",
   "name": "gt"
  },
  "language_info": {
   "codemirror_mode": {
    "name": "ipython",
    "version": 3
   },
   "file_extension": ".py",
   "mimetype": "text/x-python",
   "name": "python",
   "nbconvert_exporter": "python",
   "pygments_lexer": "ipython3",
   "version": "3.7.3"
  }
 },
 "nbformat": 4,
 "nbformat_minor": 2
}
