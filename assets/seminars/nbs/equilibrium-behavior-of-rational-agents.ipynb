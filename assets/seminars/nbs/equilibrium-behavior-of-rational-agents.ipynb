{
 "cells": [
  {
   "cell_type": "markdown",
   "id": "b4085d09-2610-4350-845a-2c958c21d849",
   "metadata": {},
   "source": [
    "# The coordination game"
   ]
  },
  {
   "cell_type": "code",
   "execution_count": 1,
   "id": "0b2fc4c6-e367-4ef4-a315-97b6d6cb3af0",
   "metadata": {},
   "outputs": [],
   "source": [
    "import numpy as np\n",
    "import nashpy as nash"
   ]
  },
  {
   "cell_type": "code",
   "execution_count": 2,
   "id": "5248ae40-9214-45ca-997b-54fee51fd52d",
   "metadata": {},
   "outputs": [
    {
     "data": {
      "text/plain": [
       "Bi matrix game with payoff matrices:\n",
       "\n",
       "Row player:\n",
       "[[3 1]\n",
       " [0 2]]\n",
       "\n",
       "Column player:\n",
       "[[2 1]\n",
       " [0 3]]"
      ]
     },
     "execution_count": 2,
     "metadata": {},
     "output_type": "execute_result"
    }
   ],
   "source": [
    "A = np.array(\n",
    "    (\n",
    "        (3, 1),\n",
    "        (0, 2),\n",
    "    )\n",
    ")\n",
    "B = np.array(\n",
    "    (\n",
    "        (2, 1),\n",
    "        (0, 3),\n",
    "    )\n",
    ")\n",
    "game = nash.Game(A, B)\n",
    "game"
   ]
  },
  {
   "cell_type": "markdown",
   "id": "3f1a730f-34f8-4c45-a62e-c5353fd225e3",
   "metadata": {},
   "source": [
    "We can enumerate all possible supports of the strategy:"
   ]
  },
  {
   "cell_type": "code",
   "execution_count": 3,
   "id": "d6a09a20-e6c1-43f2-82af-62e9410a774c",
   "metadata": {},
   "outputs": [
    {
     "data": {
      "text/plain": [
       "[(array([1., 0.]), array([1., 0.])),\n",
       " (array([0., 1.]), array([0., 1.])),\n",
       " (array([0.75, 0.25]), array([0.25, 0.75]))]"
      ]
     },
     "execution_count": 3,
     "metadata": {},
     "output_type": "execute_result"
    }
   ],
   "source": [
    "list(game.support_enumeration())"
   ]
  },
  {
   "cell_type": "markdown",
   "id": "c6035583-eadb-4217-8626-d84906eb3944",
   "metadata": {},
   "source": [
    "We can **more efficiently** use the Lemke-Howson algorithm:"
   ]
  },
  {
   "cell_type": "code",
   "execution_count": 4,
   "id": "e94d9951-5004-438c-a4f6-e1b30112a2c3",
   "metadata": {},
   "outputs": [
    {
     "data": {
      "text/plain": [
       "[(array([1., 0.]), array([1., 0.])),\n",
       " (array([0., 1.]), array([0., 1.])),\n",
       " (array([1., 0.]), array([1., 0.])),\n",
       " (array([0., 1.]), array([0., 1.]))]"
      ]
     },
     "execution_count": 4,
     "metadata": {},
     "output_type": "execute_result"
    }
   ],
   "source": [
    "list(game.lemke_howson_enumeration())"
   ]
  },
  {
   "cell_type": "markdown",
   "id": "78aa4cac-d8a2-4587-9415-34e07e876c18",
   "metadata": {},
   "source": [
    "We note that this does not find all the equilibria."
   ]
  }
 ],
 "metadata": {
  "kernelspec": {
   "display_name": "Python 3 (ipykernel)",
   "language": "python",
   "name": "python3"
  },
  "language_info": {
   "codemirror_mode": {
    "name": "ipython",
    "version": 3
   },
   "file_extension": ".py",
   "mimetype": "text/x-python",
   "name": "python",
   "nbconvert_exporter": "python",
   "pygments_lexer": "ipython3",
   "version": "3.11.4"
  }
 },
 "nbformat": 4,
 "nbformat_minor": 5
}
