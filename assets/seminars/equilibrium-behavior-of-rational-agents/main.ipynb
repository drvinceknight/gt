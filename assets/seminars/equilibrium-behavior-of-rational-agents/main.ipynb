{
 "cells": [
  {
   "cell_type": "markdown",
   "id": "6ff45d64-f1e1-4a54-9e0a-90ce2b2a7917",
   "metadata": {
    "editable": true,
    "slideshow": {
     "slide_type": ""
    },
    "tags": []
   },
   "source": [
    "# Equilibrium Behaviour of Rational Agents"
   ]
  },
  {
   "cell_type": "code",
   "execution_count": 1,
   "id": "02a7b76c-5f37-48de-b105-d7e3b45f585c",
   "metadata": {},
   "outputs": [],
   "source": [
    "import numpy as np"
   ]
  },
  {
   "cell_type": "code",
   "execution_count": 2,
   "id": "30146bef-0291-4910-86ca-cd604149fdf0",
   "metadata": {},
   "outputs": [
    {
     "data": {
      "text/plain": [
       "0.42857142857142855"
      ]
     },
     "execution_count": 2,
     "metadata": {},
     "output_type": "execute_result"
    }
   ],
   "source": [
    "A = np.array(\n",
    "    (\n",
    "        (3, 1),\n",
    "        (0, 2),\n",
    "    )\n",
    ")\n",
    "B = np.array(\n",
    "    (\n",
    "        (2, 1),\n",
    "        (0, 3),\n",
    "    )\n",
    ")\n",
    "sigma_r = np.array((1 / 7, 6 / 7))\n",
    "sigma_c = np.array((1, 0))\n",
    "sigma_r @ A @ sigma_c.T"
   ]
  },
  {
   "cell_type": "code",
   "execution_count": 3,
   "id": "e986d818-d807-40e6-bb76-a5ecd4a3f68e",
   "metadata": {},
   "outputs": [
    {
     "data": {
      "text/plain": [
       "0.42857142857142855"
      ]
     },
     "execution_count": 3,
     "metadata": {},
     "output_type": "execute_result"
    }
   ],
   "source": [
    "3/7"
   ]
  },
  {
   "cell_type": "code",
   "execution_count": 4,
   "id": "ad715172-6fb3-49aa-a2f4-23d468ceec99",
   "metadata": {},
   "outputs": [
    {
     "data": {
      "text/plain": [
       "0.2857142857142857"
      ]
     },
     "execution_count": 4,
     "metadata": {},
     "output_type": "execute_result"
    }
   ],
   "source": [
    "sigma_r @ B @ sigma_c.T"
   ]
  },
  {
   "cell_type": "code",
   "execution_count": 5,
   "id": "ce8da371-fbad-4f5a-b470-ed9fd44f6ff0",
   "metadata": {},
   "outputs": [
    {
     "data": {
      "text/plain": [
       "0.2857142857142857"
      ]
     },
     "execution_count": 5,
     "metadata": {},
     "output_type": "execute_result"
    }
   ],
   "source": [
    "2/7"
   ]
  },
  {
   "cell_type": "code",
   "execution_count": 6,
   "id": "83057144-8403-4a57-bf41-511bf274169f",
   "metadata": {},
   "outputs": [],
   "source": [
    "import nashpy as nash"
   ]
  },
  {
   "cell_type": "code",
   "execution_count": 7,
   "id": "184e7b12-f938-4eee-a344-0057c91ce3d5",
   "metadata": {},
   "outputs": [
    {
     "data": {
      "text/plain": [
       "[(array([1., 0.]), array([1., 0.])),\n",
       " (array([0., 1.]), array([0., 1.])),\n",
       " (array([0.75, 0.25]), array([0.25, 0.75]))]"
      ]
     },
     "execution_count": 7,
     "metadata": {},
     "output_type": "execute_result"
    }
   ],
   "source": [
    "game = nash.Game(A, B)\n",
    "list(game.support_enumeration())"
   ]
  },
  {
   "cell_type": "code",
   "execution_count": null,
   "id": "c37e99c8-90a0-401a-8d9f-2fe1e3d30275",
   "metadata": {},
   "outputs": [],
   "source": []
  }
 ],
 "metadata": {
  "kernelspec": {
   "display_name": "Python 3 (ipykernel)",
   "language": "python",
   "name": "python3"
  },
  "language_info": {
   "codemirror_mode": {
    "name": "ipython",
    "version": 3
   },
   "file_extension": ".py",
   "mimetype": "text/x-python",
   "name": "python",
   "nbconvert_exporter": "python",
   "pygments_lexer": "ipython3",
   "version": "3.10.11"
  }
 },
 "nbformat": 4,
 "nbformat_minor": 5
}
