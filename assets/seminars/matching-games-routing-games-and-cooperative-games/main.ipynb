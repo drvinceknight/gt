{
 "cells": [
  {
   "cell_type": "markdown",
   "id": "6ff45d64-f1e1-4a54-9e0a-90ce2b2a7917",
   "metadata": {
    "editable": true,
    "slideshow": {
     "slide_type": ""
    },
    "tags": []
   },
   "source": [
    "# Equilibrium Behaviour of Rational Agents\n",
    "\n",
    "## Auction for N$100. (10 minutes)\n",
    "\n",
    "- Top two bids pay.\n",
    "- Winnner gets N$100.\n",
    "\n",
    "\n",
    "TODO Draw Diagram showing areas of Game Theory"
   ]
  },
  {
   "cell_type": "markdown",
   "id": "512f5d42-2628-434f-abd6-7e911c8137c1",
   "metadata": {},
   "source": [
    "## Normal form games. (15 minutes)\n",
    "\n",
    "A $N$ player **normal form game** consists of:\n",
    "\n",
    "- A finite set of $N$ players.\n",
    "- Action set for the players: $\\{\\mathcal{A}_1, \\mathcal{A}_2, \\dots \\mathcal{A}_N\\}$\n",
    "- Payoff functions for the players: $u_i : \\mathcal{A}_1 \\times \\mathcal{A}_2 \\dots \\times \\mathcal{A}_N \\to \\mathbb{R}$\n",
    "\n",
    "Example:\n",
    "\n",
    "> Assume two neighbouring countries have at their disposal very destructive armies. If both countries attack each other the countries' civilian population will suffer 10 thousand casualties. If one country attacks whilst the other remains peaceful, the peaceful country will lose 15 thousand casualties but would also retaliate causing the offensive country 13 thousand casualties. If both countries remain peaceful then there are no casualties."
   ]
  },
  {
   "cell_type": "markdown",
   "id": "8dd248b0-a53a-4d58-a132-76cbef1c9571",
   "metadata": {},
   "source": [
    "\n",
    "## Strategies (20 minutes)\n",
    "\n",
    "A strategy for a player with action set $\\mathcal{A}$ is a probability\n",
    "distribution over elements of $\\mathcal{A}$.\n",
    "\n",
    "Typically a strategy is denoted by $\\sigma \\in [0, 1]^{|\\mathcal{A}|}_{\\mathbb{R}}$ so that:\n",
    "\n",
    "$$\\sum_{i=1}^{\\mathcal{A}}\\sigma_i = 1$$\n",
    "\n",
    "\n",
    "Asks what we believe the utilities will be.\n",
    "\n",
    "## Best responses. (30 minutes)\n",
    "\n",
    "Show best Response definition for strategies.\n",
    "\n",
    "Prove best response condition.\n",
    "\n",
    "## Support Enumeration. (40 minutes)\n",
    "\n",
    "Show algorithm.\n",
    "\n",
    "Demonstrate calculation for small game.\n",
    "\n",
    "## Best response polytopes. (50 minutes)\n",
    "\n",
    "Give definition of best response polytopes.\n",
    "\n",
    "## Lemke Howson Algorithm (55 minutes)\n",
    "\n",
    "Demonstrate\n",
    "\n",
    "## Some applications. (60 minutes)\n",
    "\n",
    "\n",
    "\n",
    "## Questions that arise."
   ]
  },
  {
   "cell_type": "code",
   "execution_count": 1,
   "id": "02a7b76c-5f37-48de-b105-d7e3b45f585c",
   "metadata": {},
   "outputs": [],
   "source": [
    "import numpy as np"
   ]
  },
  {
   "cell_type": "code",
   "execution_count": 8,
   "id": "30146bef-0291-4910-86ca-cd604149fdf0",
   "metadata": {},
   "outputs": [
    {
     "data": {
      "text/plain": [
       "0.42857142857142855"
      ]
     },
     "execution_count": 8,
     "metadata": {},
     "output_type": "execute_result"
    }
   ],
   "source": [
    "A = np.array(\n",
    "    (\n",
    "        (3, 1),\n",
    "        (0, 2),\n",
    "    )\n",
    ")\n",
    "B = np.array(\n",
    "    (\n",
    "        (2, 1),\n",
    "        (0, 3),\n",
    "    )\n",
    ")\n",
    "sigma_r = np.array((1 / 7, 6 / 7))\n",
    "sigma_c = np.array((1, 0))\n",
    "sigma_r @ A @ sigma_c.T"
   ]
  },
  {
   "cell_type": "code",
   "execution_count": 9,
   "id": "e986d818-d807-40e6-bb76-a5ecd4a3f68e",
   "metadata": {},
   "outputs": [
    {
     "data": {
      "text/plain": [
       "0.42857142857142855"
      ]
     },
     "execution_count": 9,
     "metadata": {},
     "output_type": "execute_result"
    }
   ],
   "source": [
    "3/7"
   ]
  },
  {
   "cell_type": "code",
   "execution_count": 10,
   "id": "ad715172-6fb3-49aa-a2f4-23d468ceec99",
   "metadata": {},
   "outputs": [
    {
     "data": {
      "text/plain": [
       "0.2857142857142857"
      ]
     },
     "execution_count": 10,
     "metadata": {},
     "output_type": "execute_result"
    }
   ],
   "source": [
    "sigma_r @ B @ sigma_c.T"
   ]
  },
  {
   "cell_type": "code",
   "execution_count": 11,
   "id": "ce8da371-fbad-4f5a-b470-ed9fd44f6ff0",
   "metadata": {},
   "outputs": [
    {
     "data": {
      "text/plain": [
       "0.2857142857142857"
      ]
     },
     "execution_count": 11,
     "metadata": {},
     "output_type": "execute_result"
    }
   ],
   "source": [
    "2/7"
   ]
  },
  {
   "cell_type": "code",
   "execution_count": 12,
   "id": "83057144-8403-4a57-bf41-511bf274169f",
   "metadata": {},
   "outputs": [],
   "source": [
    "import nashpy as nash"
   ]
  },
  {
   "cell_type": "code",
   "execution_count": 14,
   "id": "184e7b12-f938-4eee-a344-0057c91ce3d5",
   "metadata": {},
   "outputs": [
    {
     "data": {
      "text/plain": [
       "[(array([1., 0.]), array([1., 0.])),\n",
       " (array([0., 1.]), array([0., 1.])),\n",
       " (array([0.75, 0.25]), array([0.25, 0.75]))]"
      ]
     },
     "execution_count": 14,
     "metadata": {},
     "output_type": "execute_result"
    }
   ],
   "source": [
    "game = nash.Game(A, B)\n",
    "list(game.support_enumeration())"
   ]
  },
  {
   "cell_type": "code",
   "execution_count": null,
   "id": "c37e99c8-90a0-401a-8d9f-2fe1e3d30275",
   "metadata": {},
   "outputs": [],
   "source": []
  }
 ],
 "metadata": {
  "kernelspec": {
   "display_name": "Python 3 (ipykernel)",
   "language": "python",
   "name": "python3"
  },
  "language_info": {
   "codemirror_mode": {
    "name": "ipython",
    "version": 3
   },
   "file_extension": ".py",
   "mimetype": "text/x-python",
   "name": "python",
   "nbconvert_exporter": "python",
   "pygments_lexer": "ipython3",
   "version": "3.11.4"
  }
 },
 "nbformat": 4,
 "nbformat_minor": 5
}
