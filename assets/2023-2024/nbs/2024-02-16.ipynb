{
 "cells": [
  {
   "cell_type": "code",
   "execution_count": 1,
   "id": "0824c9d9-5f27-488c-b0fd-854a5468dea5",
   "metadata": {},
   "outputs": [],
   "source": [
    "import numpy as np\n",
    "import nashpy as nash"
   ]
  },
  {
   "cell_type": "code",
   "execution_count": 2,
   "id": "86095c90-abf8-4b8b-9d57-3ef251e7c5ad",
   "metadata": {},
   "outputs": [],
   "source": [
    "A = np.array(\n",
    "    (\n",
    "        (4, 3, 1, 1),\n",
    "        (4, 4, 1, 1),\n",
    "        (2, 2, 2, 2),\n",
    "        (2, 2, 2, 2),\n",
    "    )\n",
    ")\n",
    "\n",
    "B = np.array(\n",
    "    (\n",
    "        (4, 5, 3, 3),\n",
    "        (2, 2, 3, 3),\n",
    "        (0, 0, 0, 0),\n",
    "        (0, 0, 0, 0),\n",
    "    )\n",
    ")"
   ]
  },
  {
   "cell_type": "code",
   "execution_count": 3,
   "id": "f1f3cbe6-6f61-4e02-b4f8-fc848fbf90fa",
   "metadata": {},
   "outputs": [],
   "source": [
    "game = nash.Game(A, B)"
   ]
  },
  {
   "cell_type": "code",
   "execution_count": 4,
   "id": "d714b39b-8477-4f27-81ae-b16bbb404812",
   "metadata": {},
   "outputs": [
    {
     "data": {
      "text/plain": [
       "Bi matrix game with payoff matrices:\n",
       "\n",
       "Row player:\n",
       "[[4 3 1 1]\n",
       " [4 4 1 1]\n",
       " [2 2 2 2]\n",
       " [2 2 2 2]]\n",
       "\n",
       "Column player:\n",
       "[[4 5 3 3]\n",
       " [2 2 3 3]\n",
       " [0 0 0 0]\n",
       " [0 0 0 0]]"
      ]
     },
     "execution_count": 4,
     "metadata": {},
     "output_type": "execute_result"
    }
   ],
   "source": [
    "game"
   ]
  },
  {
   "cell_type": "code",
   "execution_count": 5,
   "id": "1d19646a-710e-4f21-9f9d-11c0cb225afa",
   "metadata": {},
   "outputs": [
    {
     "name": "stderr",
     "output_type": "stream",
     "text": [
      "/Users/smavak/Library/Python/3.11/lib/python/site-packages/nashpy/algorithms/support_enumeration.py:259: RuntimeWarning: \n",
      "An even number of (4) equilibria was returned. This\n",
      "indicates that the game is degenerate. Consider using another algorithm\n",
      "to investigate.\n",
      "                  \n",
      "  warnings.warn(warning, RuntimeWarning)\n"
     ]
    },
    {
     "data": {
      "text/plain": [
       "[(array([0., 0., 1., 0.]), array([0., 0., 1., 0.])),\n",
       " (array([0., 0., 1., 0.]), array([0., 0., 0., 1.])),\n",
       " (array([0., 0., 0., 1.]), array([0., 0., 1., 0.])),\n",
       " (array([0., 0., 0., 1.]), array([0., 0., 0., 1.]))]"
      ]
     },
     "execution_count": 5,
     "metadata": {},
     "output_type": "execute_result"
    }
   ],
   "source": [
    "list(game.support_enumeration())"
   ]
  },
  {
   "cell_type": "code",
   "execution_count": null,
   "id": "b4da0ee1-c2f1-4500-a6c2-99fefe48c44e",
   "metadata": {},
   "outputs": [],
   "source": []
  }
 ],
 "metadata": {
  "kernelspec": {
   "display_name": "Python 3 (ipykernel)",
   "language": "python",
   "name": "python3"
  },
  "language_info": {
   "codemirror_mode": {
    "name": "ipython",
    "version": 3
   },
   "file_extension": ".py",
   "mimetype": "text/x-python",
   "name": "python",
   "nbconvert_exporter": "python",
   "pygments_lexer": "ipython3",
   "version": "3.11.4"
  }
 },
 "nbformat": 4,
 "nbformat_minor": 5
}
