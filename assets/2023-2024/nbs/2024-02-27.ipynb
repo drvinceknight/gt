{
 "cells": [
  {
   "cell_type": "markdown",
   "id": "e9bdad8b-16f0-4583-9949-05f6ce4e5700",
   "metadata": {},
   "source": [
    "# Simulating the Moran Process\n",
    "\n",
    "## Simulating the Moran Process game with dice (This is not a good way to do this)"
   ]
  },
  {
   "cell_type": "code",
   "execution_count": 1,
   "id": "07e997ca-f46f-4c73-b76c-4b8c168b40bf",
   "metadata": {},
   "outputs": [],
   "source": [
    "import collections\n",
    "import matplotlib.pyplot as plt\n",
    "import numpy as np\n",
    "import nashpy as nash\n",
    "\n",
    "def roll_n_sided_dice(n=6):\n",
    "    \"\"\"\n",
    "    Roll a dice with n sides.\n",
    "    \"\"\"\n",
    "    return np.random.randint(1, n + 1)\n",
    "\n",
    "class MoranProcess:\n",
    "    \"\"\"\n",
    "    A class for a moran process with a population of\n",
    "    size N=3 using the standard Hawk-Dove Game:\n",
    "\n",
    "    A =\n",
    "       [0, 3]\n",
    "       [1, 2]\n",
    "\n",
    "    Note that this is a simulation corresponding to an\n",
    "    in class activity where students roll dice.\n",
    "    \"\"\"\n",
    "    def __init__(self, number_of_hawks=1, seed=None):\n",
    "\n",
    "        if seed is not None:\n",
    "            np.random.seed(seed)\n",
    "\n",
    "        self.number_of_hawks = number_of_hawks\n",
    "        self.number_of_doves = 3 - number_of_hawks\n",
    "\n",
    "        self.dice_and_values_for_hawk_birth = {1: (6, {1, 2, 3}), 2: (4, {1, 2, 3})}\n",
    "        self.dice_and_values_for_hawk_death = {1: (6, {1, 2}), 2: (6, {1, 2, 3, 4})}\n",
    "\n",
    "        self.history = [(self.number_of_hawks, self.number_of_doves)]\n",
    "\n",
    "    def step(self):\n",
    "        \"\"\"\n",
    "        Select a hawk or a dove for birth.\n",
    "        Select a hawk or a dove for death.\n",
    "\n",
    "        Update history and states.\n",
    "        \"\"\"\n",
    "        birth_dice, birth_values = self.dice_and_values_for_hawk_birth[self.number_of_hawks]\n",
    "        death_dice, death_values = self.dice_and_values_for_hawk_death[self.number_of_hawks]\n",
    "\n",
    "        select_hawk_for_birth = self.roll_dice_for_selection(dice=birth_dice, values=birth_values)\n",
    "        select_hawk_for_death = self.roll_dice_for_selection(dice=death_dice, values=death_values)\n",
    "\n",
    "        if select_hawk_for_birth:\n",
    "            self.number_of_hawks += 1\n",
    "        else:\n",
    "            self.number_of_doves += 1\n",
    "\n",
    "        if select_hawk_for_death:\n",
    "            self.number_of_hawks -= 1\n",
    "        else:\n",
    "            self.number_of_doves -= 1\n",
    "\n",
    "        self.history.append((self.number_of_hawks, self.number_of_doves))\n",
    "\n",
    "    def roll_dice_for_selection(self, dice, values):\n",
    "        \"\"\"\n",
    "        Given a dice and values return if the random roll is in the values.\n",
    "        \"\"\"\n",
    "        return roll_n_sided_dice(n=dice) in values\n",
    "\n",
    "    def simulate(self):\n",
    "        \"\"\"\n",
    "        Run the entire simulation: repeatedly step through\n",
    "        until the number of hawks is either 0 or 3.\n",
    "        \"\"\"\n",
    "        while self.number_of_hawks in [1, 2]:\n",
    "            self.step()\n",
    "        return self.number_of_hawks\n",
    "\n",
    "    def __len__(self):\n",
    "        return len(self.history)"
   ]
  },
  {
   "cell_type": "markdown",
   "id": "4b3d6307-9768-43a6-a452-6eddaa41d95b",
   "metadata": {},
   "source": [
    "With 100,000 repetitions:"
   ]
  },
  {
   "cell_type": "code",
   "execution_count": 3,
   "id": "c6ea83be-af1f-4b63-a9c4-8f43354afdf9",
   "metadata": {},
   "outputs": [
    {
     "data": {
      "text/plain": [
       "0.54666"
      ]
     },
     "execution_count": 3,
     "metadata": {},
     "output_type": "execute_result"
    }
   ],
   "source": [
    "repetitions = 100_000\n",
    "end_states = []\n",
    "path_lengths = []\n",
    "for seed in range(repetitions):\n",
    "    mp = MoranProcess(seed=seed)\n",
    "    end_states.append(mp.simulate())\n",
    "    path_lengths.append(len(mp))\n",
    "counts = collections.Counter(end_states)\n",
    "counts[3] / repetitions"
   ]
  },
  {
   "cell_type": "code",
   "execution_count": 4,
   "id": "9c484c52-70a0-4e99-af3b-ad1bfd4a4622",
   "metadata": {},
   "outputs": [
    {
     "data": {
      "text/plain": [
       "2"
      ]
     },
     "execution_count": 4,
     "metadata": {},
     "output_type": "execute_result"
    }
   ],
   "source": [
    "min(path_lengths)"
   ]
  },
  {
   "cell_type": "code",
   "execution_count": 5,
   "id": "bba96924-962a-41e6-ae48-025a515c7b3f",
   "metadata": {},
   "outputs": [
    {
     "data": {
      "text/plain": [
       "53"
      ]
     },
     "execution_count": 5,
     "metadata": {},
     "output_type": "execute_result"
    }
   ],
   "source": [
    "max(path_lengths)"
   ]
  },
  {
   "cell_type": "code",
   "execution_count": 7,
   "id": "87a1bc74-9f82-457d-9fca-863eb306b3f7",
   "metadata": {},
   "outputs": [
    {
     "ename": "SyntaxError",
     "evalue": "'(' was never closed (3242748387.py, line 1)",
     "output_type": "error",
     "traceback": [
      "\u001b[0;36m  Cell \u001b[0;32mIn[7], line 1\u001b[0;36m\u001b[0m\n\u001b[0;31m    A = np.array(\u001b[0m\n\u001b[0m                ^\u001b[0m\n\u001b[0;31mSyntaxError\u001b[0m\u001b[0;31m:\u001b[0m '(' was never closed\n"
     ]
    }
   ],
   "source": [
    "A = np.array(\n",
    "    (\n",
    "        (0, 3), \n",
    "        (1, 2),\n",
    "    )\n",
    ")\n",
    "hawk_dove_game = nash.Game(A)\n",
    "hawk_dove_game.fixation_probabilities(initial_population=(0, 0, 1, 1), repetitions=repetitions)"
   ]
  },
  {
   "cell_type": "code",
   "execution_count": 8,
   "id": "50651c53-8222-4a13-932a-86e1146937d9",
   "metadata": {},
   "outputs": [
    {
     "data": {
      "text/plain": [
       "4"
      ]
     },
     "execution_count": 8,
     "metadata": {},
     "output_type": "execute_result"
    }
   ],
   "source": [
    "2 + 2"
   ]
  },
  {
   "cell_type": "code",
   "execution_count": 9,
   "id": "2318f16b-85c3-43b6-99a7-fa7061ad9163",
   "metadata": {},
   "outputs": [
    {
     "name": "stdout",
     "output_type": "stream",
     "text": [
      "4\n"
     ]
    }
   ],
   "source": [
    "print(2 + 2)"
   ]
  },
  {
   "cell_type": "code",
   "execution_count": null,
   "id": "9d3b2ae7-eeff-4d3d-9970-a954d8f6899e",
   "metadata": {},
   "outputs": [],
   "source": []
  }
 ],
 "metadata": {
  "kernelspec": {
   "display_name": "Python 3 (ipykernel)",
   "language": "python",
   "name": "python3"
  },
  "language_info": {
   "codemirror_mode": {
    "name": "ipython",
    "version": 3
   },
   "file_extension": ".py",
   "mimetype": "text/x-python",
   "name": "python",
   "nbconvert_exporter": "python",
   "pygments_lexer": "ipython3",
   "version": "3.11.4"
  }
 },
 "nbformat": 4,
 "nbformat_minor": 5
}
