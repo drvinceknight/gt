{
 "cells": [
  {
   "cell_type": "code",
   "execution_count": 2,
   "id": "ec7e3919-06c4-49de-9583-3deb4e266619",
   "metadata": {},
   "outputs": [],
   "source": [
    "import numpy as np\n",
    "import nashpy as nash"
   ]
  },
  {
   "cell_type": "code",
   "execution_count": 3,
   "id": "2813960d-4400-46cd-ad46-1e4a3a1e77f5",
   "metadata": {},
   "outputs": [],
   "source": [
    "A = np.array(((2, -2), (-1, 1)))\n",
    "B = - A"
   ]
  },
  {
   "cell_type": "code",
   "execution_count": 4,
   "id": "7f2f0cad-2e23-4c9d-b546-3de10208a5e7",
   "metadata": {},
   "outputs": [
    {
     "data": {
      "text/plain": [
       "array([[ 2, -2],\n",
       "       [-1,  1]])"
      ]
     },
     "execution_count": 4,
     "metadata": {},
     "output_type": "execute_result"
    }
   ],
   "source": [
    "A"
   ]
  },
  {
   "cell_type": "code",
   "execution_count": 5,
   "id": "05640c2b-cc1d-4195-9742-3fae38d36aa5",
   "metadata": {},
   "outputs": [
    {
     "data": {
      "text/plain": [
       "array([[-2,  2],\n",
       "       [ 1, -1]])"
      ]
     },
     "execution_count": 5,
     "metadata": {},
     "output_type": "execute_result"
    }
   ],
   "source": [
    "B"
   ]
  },
  {
   "cell_type": "code",
   "execution_count": 6,
   "id": "edd7560a-5f5a-40d1-9bb6-a498d4406eb0",
   "metadata": {},
   "outputs": [],
   "source": [
    "sigma_r = np.array((.3, .7))\n",
    "sigma_c = np.array((.1, .9))"
   ]
  },
  {
   "cell_type": "code",
   "execution_count": 7,
   "id": "6d3afb46-01b1-4df9-ace4-3395839740f4",
   "metadata": {},
   "outputs": [
    {
     "data": {
      "text/plain": [
       "0.07999999999999999"
      ]
     },
     "execution_count": 7,
     "metadata": {},
     "output_type": "execute_result"
    }
   ],
   "source": [
    "sigma_r @ A @ sigma_c"
   ]
  },
  {
   "cell_type": "code",
   "execution_count": 8,
   "id": "00f45082-4b05-4b19-b13f-c40c155ac64f",
   "metadata": {},
   "outputs": [
    {
     "data": {
      "text/plain": [
       "-0.07999999999999999"
      ]
     },
     "execution_count": 8,
     "metadata": {},
     "output_type": "execute_result"
    }
   ],
   "source": [
    "sigma_r @ B @ sigma_c"
   ]
  },
  {
   "cell_type": "code",
   "execution_count": 9,
   "id": "7dc4df62-61c7-464b-9cd9-a60e4eae07d5",
   "metadata": {},
   "outputs": [
    {
     "data": {
      "text/plain": [
       "Zero sum game with payoff matrices:\n",
       "\n",
       "Row player:\n",
       "[[ 2 -2]\n",
       " [-1  1]]\n",
       "\n",
       "Column player:\n",
       "[[-2  2]\n",
       " [ 1 -1]]"
      ]
     },
     "execution_count": 9,
     "metadata": {},
     "output_type": "execute_result"
    }
   ],
   "source": [
    "matching_pennies = nash.Game(A, B)\n",
    "matching_pennies"
   ]
  },
  {
   "cell_type": "code",
   "execution_count": 10,
   "id": "b3a2cfd2-db4b-4ce1-a7d9-12c4dac507b4",
   "metadata": {},
   "outputs": [
    {
     "data": {
      "text/plain": [
       "array([ 0.08, -0.08])"
      ]
     },
     "execution_count": 10,
     "metadata": {},
     "output_type": "execute_result"
    }
   ],
   "source": [
    "matching_pennies[sigma_r, sigma_c]"
   ]
  },
  {
   "cell_type": "code",
   "execution_count": null,
   "id": "ddcbbced-6a2b-4dcf-a97e-4a2770137ed8",
   "metadata": {},
   "outputs": [],
   "source": []
  }
 ],
 "metadata": {
  "kernelspec": {
   "display_name": "Python 3 (ipykernel)",
   "language": "python",
   "name": "python3"
  },
  "language_info": {
   "codemirror_mode": {
    "name": "ipython",
    "version": 3
   },
   "file_extension": ".py",
   "mimetype": "text/x-python",
   "name": "python",
   "nbconvert_exporter": "python",
   "pygments_lexer": "ipython3",
   "version": "3.11.4"
  }
 },
 "nbformat": 4,
 "nbformat_minor": 5
}
