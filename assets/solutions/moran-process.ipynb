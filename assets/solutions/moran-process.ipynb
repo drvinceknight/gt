{
 "cells": [
  {
   "cell_type": "markdown",
   "metadata": {},
   "source": [
    "# Solutions to Moran process programming exercises\n",
    "\n",
    "https://vknight.org/gt/topics/moran-process.html"
   ]
  },
  {
   "cell_type": "markdown",
   "metadata": {},
   "source": [
    "For each of the following matrices \\\\(A\\\\) and initial populations \\\\(x_0\\\\), for the corresponding normal form game:\n",
    "\n",
    "- create a variable `initial_population` which has value the corresponding `nashpy` initial population.\n",
    "- create a variable `probabilities` which has value the fixation probabilities of the simulated [Moran process](https://nashpy.readthedocs.io/en/stable/how-to/obtain-fixation-probabilities.html) (using the given repetitions and random seed).\n",
    "\n",
    "a. $$\n",
    "    A = \\begin{pmatrix}1 & 2 \\\\ 2 & 1\\end{pmatrix}\n",
    "    \\qquad\n",
    "    x_0 = \\begin{pmatrix}10 & 0\\end{pmatrix}\n",
    "   $$\n",
    "\n",
    "   `repetitions=500` and `seed=0`"
   ]
  },
  {
   "cell_type": "code",
   "execution_count": 1,
   "metadata": {},
   "outputs": [
    {
     "data": {
      "text/plain": [
       "array([1., 0.])"
      ]
     },
     "execution_count": 1,
     "metadata": {},
     "output_type": "execute_result"
    }
   ],
   "source": [
    "import nashpy as nash\n",
    "import numpy as np\n",
    "\n",
    "initial_population = (0, 0, 0, 0, 0, 0, 0, 0, 0, 0)\n",
    "A = np.array(((1, 2), (2, 1)))\n",
    "game = nash.Game(A)\n",
    "\n",
    "np.random.seed(0)\n",
    "probabilities = game.fixation_probabilities(\n",
    "    initial_population=initial_population,\n",
    "    repetitions=500,\n",
    ")\n",
    "probabilities"
   ]
  },
  {
   "cell_type": "markdown",
   "metadata": {},
   "source": [
    "b. $$\n",
    "    A = \\begin{pmatrix}1 & 2 \\\\ 2 & 1\\end{pmatrix}\n",
    "    \\qquad\n",
    "    x_0 = \\begin{pmatrix}3 & 0\\end{pmatrix}\n",
    "   $$\n",
    "\n",
    "   `repetitions=350` and `seed=4`"
   ]
  },
  {
   "cell_type": "code",
   "execution_count": 2,
   "metadata": {},
   "outputs": [
    {
     "data": {
      "text/plain": [
       "array([1., 0.])"
      ]
     },
     "execution_count": 2,
     "metadata": {},
     "output_type": "execute_result"
    }
   ],
   "source": [
    "initial_population = (0, 0, 0)\n",
    "A = np.array(((1, 2), (2, 1)))\n",
    "game = nash.Game(A)\n",
    "\n",
    "np.random.seed(4)\n",
    "probabilities = game.fixation_probabilities(\n",
    "    initial_population=initial_population,\n",
    "    repetitions=350,\n",
    ")\n",
    "probabilities"
   ]
  },
  {
   "cell_type": "markdown",
   "metadata": {},
   "source": [
    "c. $$\n",
    "    A = \\begin{pmatrix}1 & 2 & 3 \\\\ 2 & 1 & 4 \\\\ 2 & 3 & 1\\end{pmatrix}\n",
    "    \\qquad\n",
    "    x_0 = \\begin{pmatrix}3 & 1 & 2\\end{pmatrix}\n",
    "   $$\n",
    "\n",
    "   `repetitions=1` and `seed=2`"
   ]
  },
  {
   "cell_type": "code",
   "execution_count": 3,
   "metadata": {},
   "outputs": [
    {
     "data": {
      "text/plain": [
       "array([1., 0., 0.])"
      ]
     },
     "execution_count": 3,
     "metadata": {},
     "output_type": "execute_result"
    }
   ],
   "source": [
    "initial_population = (0, 0, 0, 1, 2, 2)\n",
    "A = np.array(((1, 2, 3), (2, 1, 4), (2, 3, 1)))\n",
    "game = nash.Game(A)\n",
    "\n",
    "np.random.seed(2)\n",
    "probabilities = game.fixation_probabilities(\n",
    "    initial_population=initial_population,\n",
    "    repetitions=1,\n",
    ")\n",
    "probabilities"
   ]
  },
  {
   "cell_type": "markdown",
   "metadata": {},
   "source": [
    "d. $$\n",
    "    A = \\begin{pmatrix}1 & 2 & 3 \\\\ 2 & 1 & 4 \\\\ 2 & 3 & 1\\end{pmatrix}\n",
    "    \\qquad\n",
    "    x_0 = \\begin{pmatrix}6 & 2 & 4\\end{pmatrix}\n",
    "   $$\n",
    "\n",
    "   `repetitions=350` and `seed=0`"
   ]
  },
  {
   "cell_type": "code",
   "execution_count": 4,
   "metadata": {},
   "outputs": [
    {
     "data": {
      "text/plain": [
       "array([0.51142857, 0.40285714, 0.08571429])"
      ]
     },
     "execution_count": 4,
     "metadata": {},
     "output_type": "execute_result"
    }
   ],
   "source": [
    "initial_population = (0, 0, 0, 0, 0, 0, 1, 1, 2, 2, 2, 2)\n",
    "A = np.array(((1, 2, 3), (2, 1, 4), (2, 3, 1)))\n",
    "game = nash.Game(A)\n",
    "\n",
    "np.random.seed(0)\n",
    "probabilities = game.fixation_probabilities(\n",
    "    initial_population=initial_population,\n",
    "    repetitions=350,\n",
    ")\n",
    "probabilities"
   ]
  },
  {
   "cell_type": "code",
   "execution_count": null,
   "metadata": {},
   "outputs": [],
   "source": []
  }
 ],
 "metadata": {
  "kernelspec": {
   "display_name": "Python 3",
   "language": "python",
   "name": "python3"
  },
  "language_info": {
   "codemirror_mode": {
    "name": "ipython",
    "version": 3
   },
   "file_extension": ".py",
   "mimetype": "text/x-python",
   "name": "python",
   "nbconvert_exporter": "python",
   "pygments_lexer": "ipython3",
   "version": "3.8.3"
  }
 },
 "nbformat": 4,
 "nbformat_minor": 4
}
