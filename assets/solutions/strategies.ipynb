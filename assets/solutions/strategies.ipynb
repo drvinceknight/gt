{
 "cells": [
  {
   "cell_type": "markdown",
   "metadata": {},
   "source": [
    "# Solutions to Strategies programming exercises\n",
    "\n",
    "https://vknight.org/gt/topics/strategies.html"
   ]
  },
  {
   "cell_type": "markdown",
   "metadata": {},
   "source": [
    "1. Create a variable `utilities` which has value the expected utilities for both players for the following Normal Form Game when the row player is playing \\\\(\\sigma_r=(.4, .6)\\\\) and the column player is playing \\\\(\\sigma_c=(0, 1)\\\\):\n",
    "   $$A = \\begin{pmatrix}1 & - 1\\\\ -1 & 1\\end{pmatrix} \\qquad B = \\begin{pmatrix}-1 & 1\\\\ 1 & -1\\end{pmatrix}$$\n"
   ]
  },
  {
   "cell_type": "code",
   "execution_count": 1,
   "metadata": {},
   "outputs": [],
   "source": [
    "import nashpy as nash\n",
    "import numpy as np\n",
    "\n",
    "A = np.array(((1, -1), (-1, 1)))\n",
    "game = nash.Game(A)\n",
    "\n",
    "sigma_r = np.array((.4, .6))\n",
    "sigma_c = np.array((0, 1))\n",
    "\n",
    "utilities = game[sigma_r, sigma_c]"
   ]
  },
  {
   "cell_type": "markdown",
   "metadata": {},
   "source": [
    "2. Output the expected utility for both players for the following Normal Form Game when the row player is playing \\\\(\\sigma_r=(1 / 3, 2 / 3)\\\\) and the column player is playing \\\\(\\sigma_c=(1 / 2, 1 / 2)\\\\):\n",
    "   $$A = \\begin{pmatrix}3 & 2\\\\ 3 & 1\\end{pmatrix} \\qquad B = \\begin{pmatrix}4 & 9\\\\ 5 & 3\\end{pmatrix}$$\n"
   ]
  },
  {
   "cell_type": "code",
   "execution_count": 2,
   "metadata": {},
   "outputs": [
    {
     "data": {
      "text/plain": [
       "array([ 2.16666667, -2.16666667])"
      ]
     },
     "execution_count": 2,
     "metadata": {},
     "output_type": "execute_result"
    }
   ],
   "source": [
    "A = np.array(((3, 2), (3, 1)))\n",
    "B = np.array(((4, 9), (5, 3)))\n",
    "\n",
    "game = nash.Game(A)\n",
    "\n",
    "sigma_r = np.array((1 / 3, 2 / 3))\n",
    "sigma_c = np.array((1 / 2, 1 / 2))\n",
    "\n",
    "game[sigma_r, sigma_c]"
   ]
  },
  {
   "cell_type": "markdown",
   "metadata": {},
   "source": [
    "3. Create a variable `utilities` which has value the expected utilities for both\n",
    "   players for the following zero sum Normal Form Game\n",
    "   defined by:\n",
    "   $$A = \\begin{pmatrix}1 & - 1\\\\ -1 & 1\\end{pmatrix}$$\n",
    "   when the row player is playing \\\\(\\sigma_r=(0, 1)\\\\) and the column player is\n",
    "   playing \\\\(\\sigma_c=(1/4, 3/4)\\\\).\n"
   ]
  },
  {
   "cell_type": "code",
   "execution_count": 3,
   "metadata": {},
   "outputs": [],
   "source": [
    "A = np.array(((1, -1), (-1, 1)))\n",
    "game = nash.Game(A)\n",
    "\n",
    "sigma_r = np.array((0, 1))\n",
    "sigma_c = np.array((1 / 4, 3 / 4))\n",
    "\n",
    "utilities = game[sigma_r, sigma_c]"
   ]
  },
  {
   "cell_type": "markdown",
   "metadata": {},
   "source": [
    "4. Output the expected utilities for both players for the following zero sum Normal Form Game\n",
    "   defined by:\n",
    "   $$A = \\begin{pmatrix}-3 & - 1 & 4\\\\ 2 & -1 &  1\\\\ 0 & 3 & -2\\end{pmatrix}$$\n",
    "   when the row player is playing \\\\(\\sigma_r=(0, 1, 0)\\\\) and the column player is\n",
    "   playing \\\\(\\sigma_c=(1/4, 1/4, 1/2)\\\\).\n"
   ]
  },
  {
   "cell_type": "code",
   "execution_count": 4,
   "metadata": {},
   "outputs": [
    {
     "data": {
      "text/plain": [
       "array([ 0.75, -0.75])"
      ]
     },
     "execution_count": 4,
     "metadata": {},
     "output_type": "execute_result"
    }
   ],
   "source": [
    "A = np.array(((-3, -1, 4), (2, -1, 1), (0, 3, -2)))\n",
    "game = nash.Game(A)\n",
    "\n",
    "sigma_r = np.array((0, 1, 0))\n",
    "sigma_c = np.array((1 / 4, 1 / 4, 1 / 2))\n",
    "\n",
    "game[sigma_r, sigma_c]"
   ]
  }
 ],
 "metadata": {
  "kernelspec": {
   "display_name": "Python 3",
   "language": "python",
   "name": "python3"
  },
  "language_info": {
   "codemirror_mode": {
    "name": "ipython",
    "version": 3
   },
   "file_extension": ".py",
   "mimetype": "text/x-python",
   "name": "python",
   "nbconvert_exporter": "python",
   "pygments_lexer": "ipython3",
   "version": "3.8.3"
  }
 },
 "nbformat": 4,
 "nbformat_minor": 4
}
