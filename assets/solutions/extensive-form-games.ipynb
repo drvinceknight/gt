{
 "cells": [
  {
   "cell_type": "markdown",
   "metadata": {},
   "source": [
    "# Solutions to Extensive Form Game programming exercises\n",
    "\n",
    "https://vknight.org/gt/topics/extensive-form-games.html"
   ]
  },
  {
   "cell_type": "markdown",
   "metadata": {},
   "source": [
    "1. Create a variable `normal_form_game` which has value the Normal Form Game\n",
    "   that corresponds to the extensive form game shown [here](https://nashpy.readthedocs.io/en/stable/_images/main11.png)."
   ]
  },
  {
   "cell_type": "markdown",
   "metadata": {},
   "source": [
    "Looking at the game we have:\n",
    "\n",
    "![](https://nashpy.readthedocs.io/en/stable/_images/main11.png)"
   ]
  },
  {
   "cell_type": "markdown",
   "metadata": {},
   "source": [
    "The information sets that correspond to player 1 are: $\\{\\{A\\}\\}$ and the information sets that correspond to player 2 are: $\\{\\{B_1, B_2\\}\\}$. Thus the action sets are:\n",
    "\n",
    "$$\\mathcal{A}_1 = \\{\\text{Sports}, \\text{Comedy}\\}$$\n",
    "\n",
    "and:\n",
    "\n",
    "$$\\mathcal{A}_2 = \\{\\text{Sports}, \\text{Comedy}\\}$$\n",
    "\n",
    "This in fact corresponds to the basic [Coordination game](https://nashpy.readthedocs.io/en/stable/text-book/normal-form-games.html#motivating-example-coordination-game)."
   ]
  },
  {
   "cell_type": "code",
   "execution_count": 1,
   "metadata": {},
   "outputs": [],
   "source": [
    "import nashpy as nash\n",
    "import numpy as np\n",
    "\n",
    "A = np.array(((3, 1), (0, 2)))\n",
    "B = A.T\n",
    "normal_form_game = nash.Game(A, B)"
   ]
  },
  {
   "cell_type": "markdown",
   "metadata": {},
   "source": [
    "2. Output the Normal Form Game that corresponds to the extensive form game shown\n",
    "   [here](https://nashpy.readthedocs.io/en/stable/_images/main10.png).\n",
    "   \n",
    "Looking at the game we have:\n",
    "\n",
    "![](https://nashpy.readthedocs.io/en/stable/_images/main10.png)\n",
    "\n",
    "The information sets that correspond to player 1 are: $\\{\\{A\\}\\}$ and the information sets that correspond to player 2 are: $\\{\\{B_1\\}, \\{B_2\\}\\}$. Thus the action sets are:\n",
    "\n",
    "$$\\mathcal{A}_1 = \\{\\text{Sports}, \\text{Comedy}\\}$$\n",
    "\n",
    "and:\n",
    "\n",
    "$$\\mathcal{A}_2 = \\{(\\text{Sports}, \\text{Sports}), (\\text{Sports}, \\text{Comedy}), (\\text{Comedy}, \\text{Sports}), (\\text{Comedy}, \\text{Comedy})\\}$$\n",
    "\n",
    "This is different to the basic [Coordination game](https://nashpy.readthedocs.io/en/stable/text-book/normal-form-games.html#motivating-example-coordination-game) as the second player's strategies now depend on the action of the first.\n",
    "\n",
    "Looking at every pair of actions and reading from the extensive form diagram we get:\n",
    "\n",
    "$$\n",
    "A = \\begin{pmatrix}\n",
    "        3 & 3 & 1 & 1\\\\\n",
    "        0 & 2 & 0 & 2\n",
    "    \\end{pmatrix}\n",
    "    \\qquad\n",
    "B = \\begin{pmatrix}\n",
    "        2 & 2 & 1 & 1\\\\\n",
    "        0 & 3 & 0 & 3\n",
    "    \\end{pmatrix}\n",
    "$$"
   ]
  },
  {
   "cell_type": "code",
   "execution_count": 2,
   "metadata": {},
   "outputs": [
    {
     "data": {
      "text/plain": [
       "Bi matrix game with payoff matrices:\n",
       "\n",
       "Row player:\n",
       "[[3 3 1 1]\n",
       " [0 2 0 2]]\n",
       "\n",
       "Column player:\n",
       "[[2 2 1 1]\n",
       " [0 3 0 3]]"
      ]
     },
     "execution_count": 2,
     "metadata": {},
     "output_type": "execute_result"
    }
   ],
   "source": [
    "A = np.array(((3, 3, 1, 1), (0, 2, 0, 2)))\n",
    "B = np.array(((2, 2, 1, 1), (0, 3, 0, 3)))\n",
    "\n",
    "nash.Game(A, B)"
   ]
  }
 ],
 "metadata": {
  "kernelspec": {
   "display_name": "Python 3",
   "language": "python",
   "name": "python3"
  },
  "language_info": {
   "codemirror_mode": {
    "name": "ipython",
    "version": 3
   },
   "file_extension": ".py",
   "mimetype": "text/x-python",
   "name": "python",
   "nbconvert_exporter": "python",
   "pygments_lexer": "ipython3",
   "version": "3.8.3"
  }
 },
 "nbformat": 4,
 "nbformat_minor": 4
}
