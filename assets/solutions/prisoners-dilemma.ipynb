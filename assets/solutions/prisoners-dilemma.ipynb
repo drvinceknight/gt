{
 "cells": [
  {
   "cell_type": "markdown",
   "metadata": {},
   "source": [
    "# Solutions to Prisoners Dilemma programming exercises\n",
    "\n",
    "https://vknight.org/gt/topics/prisoners-dilemma.html"
   ]
  },
  {
   "cell_type": "markdown",
   "metadata": {},
   "source": [
    "1. Output the row player payoff matrix corresponding to an Iterated Prisoners\n",
    "   Dilemma Tournament (with 200 turns) with the following strategies from the Axelrod library:\n",
    "   - [`axelrod.TitForTat`](https://axelrod.readthedocs.io/en/stable/reference/strategy_index.html#axelrod.strategies.titfortat.TitForTat)\n",
    "   - [`axelrod.Random`](https://axelrod.readthedocs.io/en/stable/reference/strategy_index.html#axelrod.strategies.rand.Random)\n",
    "   - [`axelrod.Grudger`](https://axelrod.readthedocs.io/en/stable/reference/strategy_index.html#axelrod.strategies.grudger.Grudger)"
   ]
  },
  {
   "cell_type": "code",
   "execution_count": 1,
   "metadata": {},
   "outputs": [
    {
     "name": "stderr",
     "output_type": "stream",
     "text": [
      "Playing matches: 100%|██████████| 6/6 [00:00<00:00, 45.66it/s]\n",
      "Analysing: 100%|██████████| 25/25 [00:00<00:00, 113.03it/s]\n"
     ]
    },
    {
     "data": {
      "text/plain": [
       "[[3.0, 2.2075000000000005, 3.0],\n",
       " [2.2175000000000002, 2.2537499999999997, 0.5395000000000001],\n",
       " [3.0, 2.962, 3.0]]"
      ]
     },
     "execution_count": 1,
     "metadata": {},
     "output_type": "execute_result"
    }
   ],
   "source": [
    "import axelrod as axl\n",
    "import numpy as np\n",
    "\n",
    "players = (axl.TitForTat(), axl.Random(), axl.Grudger())\n",
    "tournament = axl.Tournament(players=players)\n",
    "results = tournament.play()\n",
    "results.payoff_matrix"
   ]
  },
  {
   "cell_type": "markdown",
   "metadata": {},
   "source": [
    "2. Create a variable `A` which has value the row player payoff matrix\n",
    "corresponding to an Iterated Prisoners Dilemma Tournament (with 200 turns) with\n",
    "the following strategies from the Axelrod library:\n",
    "   - [`axelrod.EvolvedFSM16`](https://axelrod.readthedocs.io/en/stable/reference/strategy_index.html#axelrod.strategies.finite_state_machines.EvolvedFSM16)\n",
    "   - [`axelrod.Adaptive`](https://axelrod.readthedocs.io/en/stable/reference/strategy_index.html#axelrod.strategies.adaptive.Adaptive)\n",
    "   - [`axelrod.GoByMajority`](https://axelrod.readthedocs.io/en/stable/reference/strategy_index.html#axelrod.strategies.gobymajority.GoByMajority)\n"
   ]
  },
  {
   "cell_type": "code",
   "execution_count": 3,
   "metadata": {},
   "outputs": [
    {
     "name": "stderr",
     "output_type": "stream",
     "text": [
      "Playing matches: 100%|██████████| 6/6 [00:00<00:00, 27.46it/s]\n",
      "Analysing: 100%|██████████| 25/25 [00:00<00:00, 111.62it/s]\n"
     ]
    }
   ],
   "source": [
    "players = (axl.EvolvedFSM16(), axl.Adaptive(), axl.GoByMajority())\n",
    "tournament = axl.Tournament(players=players)\n",
    "results = tournament.play()\n",
    "A = results.payoff_matrix"
   ]
  },
  {
   "cell_type": "markdown",
   "metadata": {},
   "source": [
    "3. Output the Nash equilibria (as a list) that corresponds to the Normal Form Game for the\n",
    "   following strategies of an Iterated Prisoners Dilemma Tournament (with 200\n",
    "   turns) from the Axelrod library:\n",
    "   - [`axelrod.TitForTat`](https://axelrod.readthedocs.io/en/stable/reference/strategy_index.html#axelrod.strategies.titfortat.TitForTat)\n",
    "   - [`axelrod.Random`](https://axelrod.readthedocs.io/en/stable/reference/strategy_index.html#axelrod.strategies.rand.Random)\n",
    "   - [`axelrod.Grudger`](https://axelrod.readthedocs.io/en/stable/reference/strategy_index.html#axelrod.strategies.grudger.Grudger)\n",
    "   - [`axelrod.EvolvedFSM16`](https://axelrod.readthedocs.io/en/stable/reference/strategy_index.html#axelrod.strategies.finite_state_machines.EvolvedFSM16)\n",
    "   - [`axelrod.Adaptive`](https://axelrod.readthedocs.io/en/stable/reference/strategy_index.html#axelrod.strategies.adaptive.Adaptive)\n",
    "   - [`axelrod.GoByMajority`](https://axelrod.readthedocs.io/en/stable/reference/strategy_index.html#axelrod.strategies.gobymajority.GoByMajority)\n"
   ]
  },
  {
   "cell_type": "code",
   "execution_count": null,
   "metadata": {},
   "outputs": [],
   "source": [
    "import nashpy as nash\n",
    "\n",
    "players = (\n",
    "    axl.TitForTat(),\n",
    "    axl.Random(),\n",
    "    axl.Grudger(),\n",
    "    axl.EvolvedFSM16(),\n",
    "    axl.Adaptive(),\n",
    "    axl.GoByMajority(),\n",
    ")\n",
    "tournament = axl.Tournament(players=players)\n",
    "results = tournament.play()\n",
    "A = np.array(results.payoff_matrix)\n"
   ]
  }
 ],
 "metadata": {
  "kernelspec": {
   "display_name": "Python 3",
   "language": "python",
   "name": "python3"
  },
  "language_info": {
   "codemirror_mode": {
    "name": "ipython",
    "version": 3
   },
   "file_extension": ".py",
   "mimetype": "text/x-python",
   "name": "python",
   "nbconvert_exporter": "python",
   "pygments_lexer": "ipython3",
   "version": "3.8.3"
  }
 },
 "nbformat": 4,
 "nbformat_minor": 4
}
