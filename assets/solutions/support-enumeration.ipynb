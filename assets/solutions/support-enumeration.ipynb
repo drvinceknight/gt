{
 "cells": [
  {
   "cell_type": "markdown",
   "metadata": {},
   "source": [
    "# Solutions to Support Enumeration programming exercises\n",
    "\n",
    "https://vknight.org/gt/topics/support-enumeration.html"
   ]
  },
  {
   "cell_type": "markdown",
   "metadata": {},
   "source": [
    "1. Create a variable `equilibria` which has value a list containing all equilibria for the Normal Form Game defined by:\n",
    "   $$A = \\begin{pmatrix}1 & - 1\\\\ -1 & 1\\end{pmatrix} \\qquad B = \\begin{pmatrix}-1 & 1\\\\ 1 & -1\\end{pmatrix}$$"
   ]
  },
  {
   "cell_type": "code",
   "execution_count": 1,
   "metadata": {},
   "outputs": [],
   "source": [
    "import nashpy as nash\n",
    "import numpy as np\n",
    "\n",
    "A = np.array(((1, -1), (-1, 1)))\n",
    "game = nash.Game(A)\n",
    "\n",
    "equilibria = list(game.support_enumeration())"
   ]
  },
  {
   "cell_type": "markdown",
   "metadata": {},
   "source": [
    "2. Output a list containing all equilibria for the Normal Form Game defined by:\n",
    "   $$A = \\begin{pmatrix}3 & 2\\\\ 3 & 1\\end{pmatrix} \\qquad B = \\begin{pmatrix}4 & 9\\\\ 5 & 3\\end{pmatrix}$$\n"
   ]
  },
  {
   "cell_type": "code",
   "execution_count": 2,
   "metadata": {},
   "outputs": [
    {
     "data": {
      "text/plain": [
       "[(array([1., 0.]), array([0., 1.]))]"
      ]
     },
     "execution_count": 2,
     "metadata": {},
     "output_type": "execute_result"
    }
   ],
   "source": [
    "A = np.array(((3, 2), (3, 1)))\n",
    "B = np.array(((4, 9), (5, 3)))\n",
    "\n",
    "game = nash.Game(A)\n",
    "\n",
    "list(game.support_enumeration())"
   ]
  },
  {
   "cell_type": "markdown",
   "metadata": {},
   "source": [
    "3. Create a variable `equilibria` which has value a list containing all equilibria for the Normal Form Game defined by:\n",
    "   $$A = \\begin{pmatrix}1 & - 1\\\\ -1 & 1\\end{pmatrix}$$"
   ]
  },
  {
   "cell_type": "code",
   "execution_count": 3,
   "metadata": {},
   "outputs": [],
   "source": [
    "A = np.array(((1, -1), (-1, 1)))\n",
    "game = nash.Game(A)\n",
    "\n",
    "equilibria = list(game.support_enumeration())"
   ]
  },
  {
   "cell_type": "markdown",
   "metadata": {},
   "source": [
    "4. Output a list containing all equilibria for the Zero sum Normal Form Game defined by:\n",
    "   $$A = \\begin{pmatrix}-3 & - 1 & 4\\\\ 2 & -1 &  1\\\\ 0 & 3 & -2\\end{pmatrix}$$\n",
    "\n"
   ]
  },
  {
   "cell_type": "code",
   "execution_count": 4,
   "metadata": {},
   "outputs": [
    {
     "data": {
      "text/plain": [
       "[(array([0.16981132, 0.47169811, 0.35849057]),\n",
       "  array([0.22641509, 0.39622642, 0.37735849]))]"
      ]
     },
     "execution_count": 4,
     "metadata": {},
     "output_type": "execute_result"
    }
   ],
   "source": [
    "A = np.array(((-3, -1, 4), (2, -1, 1), (0, 3, -2)))\n",
    "game = nash.Game(A)\n",
    "\n",
    "list(game.support_enumeration())"
   ]
  }
 ],
 "metadata": {
  "kernelspec": {
   "display_name": "Python 3",
   "language": "python",
   "name": "python3"
  },
  "language_info": {
   "codemirror_mode": {
    "name": "ipython",
    "version": 3
   },
   "file_extension": ".py",
   "mimetype": "text/x-python",
   "name": "python",
   "nbconvert_exporter": "python",
   "pygments_lexer": "ipython3",
   "version": "3.8.3"
  }
 },
 "nbformat": 4,
 "nbformat_minor": 4
}
