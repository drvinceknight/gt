{
 "cells": [
  {
   "cell_type": "markdown",
   "metadata": {},
   "source": [
    "# Solutions to Repeated Games programming exercises\n",
    "\n",
    "https://vknight.org/gt/topics/repeated-games.html"
   ]
  },
  {
   "cell_type": "markdown",
   "metadata": {},
   "source": [
    "1. Create a variable `repeated_game` which has value the Normal Form Game obtained by repeating the following stage game twice:\n",
    "   $$A = \\begin{pmatrix}1 & - 1\\\\ -1 & 1\\end{pmatrix} \\qquad B = \\begin{pmatrix}-1 & 1\\\\ 1 & -1\\end{pmatrix}$$"
   ]
  },
  {
   "cell_type": "code",
   "execution_count": 1,
   "metadata": {},
   "outputs": [],
   "source": [
    "import nashpy as nash\n",
    "import nashpy.repeated_games\n",
    "import numpy as np\n",
    "\n",
    "A = np.array(((1, -1), (-1, 1)))\n",
    "B = - A\n",
    "stage_game = nash.Game(A, B)\n",
    "repeated_game = nash.repeated_games.obtain_repeated_game(\n",
    "    game=stage_game, \n",
    "    repetitions=2,\n",
    ")"
   ]
  },
  {
   "cell_type": "markdown",
   "metadata": {},
   "source": [
    "2. Output the Normal Form Game obtained by repeating the following zero sum game twice:\n",
    "   $$A = \\begin{pmatrix}-3 & - 1 & 4\\\\ 2 & -1 &  1\\end{pmatrix}$$"
   ]
  },
  {
   "cell_type": "code",
   "execution_count": 2,
   "metadata": {},
   "outputs": [
    {
     "data": {
      "text/plain": [
       "Zero sum game with payoff matrices:\n",
       "\n",
       "Row player:\n",
       "[[-6. -6. -6. ...  8.  8.  8.]\n",
       " [-6. -6. -6. ...  8.  8.  8.]\n",
       " [-6. -6. -6. ...  8.  8.  8.]\n",
       " ...\n",
       " [ 4.  4.  4. ...  3.  0.  2.]\n",
       " [ 4.  4.  4. ... -2.  0.  5.]\n",
       " [ 4.  4.  4. ...  3.  0.  2.]]\n",
       "\n",
       "Column player:\n",
       "[[ 6.  6.  6. ... -8. -8. -8.]\n",
       " [ 6.  6.  6. ... -8. -8. -8.]\n",
       " [ 6.  6.  6. ... -8. -8. -8.]\n",
       " ...\n",
       " [-4. -4. -4. ... -3.  0. -2.]\n",
       " [-4. -4. -4. ...  2.  0. -5.]\n",
       " [-4. -4. -4. ... -3.  0. -2.]]"
      ]
     },
     "execution_count": 2,
     "metadata": {},
     "output_type": "execute_result"
    }
   ],
   "source": [
    "A = np.array(((-3, -1, 4), (2, -1, 1)))\n",
    "stage_game = nash.Game(A)\n",
    "nash.repeated_games.obtain_repeated_game(\n",
    "    game=stage_game, \n",
    "    repetitions=2,\n",
    ")"
   ]
  }
 ],
 "metadata": {
  "kernelspec": {
   "display_name": "Python 3",
   "language": "python",
   "name": "python3"
  },
  "language_info": {
   "codemirror_mode": {
    "name": "ipython",
    "version": 3
   },
   "file_extension": ".py",
   "mimetype": "text/x-python",
   "name": "python",
   "nbconvert_exporter": "python",
   "pygments_lexer": "ipython3",
   "version": "3.8.3"
  }
 },
 "nbformat": 4,
 "nbformat_minor": 4
}
