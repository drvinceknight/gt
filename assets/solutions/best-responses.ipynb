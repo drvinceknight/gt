{
 "cells": [
  {
   "cell_type": "markdown",
   "metadata": {},
   "source": [
    "# Solutions to Best Responses programming exercises\n",
    "\n",
    "https://vknight.org/gt/topics/best-responses.html"
   ]
  },
  {
   "cell_type": "markdown",
   "metadata": {},
   "source": [
    "1. Create a variable `are_best_responses` which has value a tuple of booleans indicating if the following pairs of strategies are best responses to each other for the Normal Form Game when the row player is playing \\\\(\\sigma_r=(.4, .6)\\\\) and the column player is playing \\\\(\\sigma_c=(0, 1)\\\\):\n",
    "   $$A = \\begin{pmatrix}1 & - 1\\\\ -1 & 1\\end{pmatrix} \\qquad B = \\begin{pmatrix}-1 & 1\\\\ 1 & -1\\end{pmatrix}$$"
   ]
  },
  {
   "cell_type": "code",
   "execution_count": 1,
   "metadata": {},
   "outputs": [],
   "source": [
    "import nashpy as nash\n",
    "import numpy as np\n",
    "\n",
    "A = np.array(((1, -1), (-1, 1)))\n",
    "game = nash.Game(A)\n",
    "\n",
    "sigma_r = np.array((.4, .6))\n",
    "sigma_c = np.array((0, 1))\n",
    "\n",
    "are_best_responses = game.is_best_response(sigma_r, sigma_c)"
   ]
  },
  {
   "cell_type": "markdown",
   "metadata": {},
   "source": [
    "2. Output a tuple of booleans indicating if the following pairs of strategies are best responses to each other for the Normal Form Game when the row player is playing \\\\(\\sigma_r=(1 / 3, 2 / 3)\\\\) and the column player is playing \\\\(\\sigma_c=(1 / 2, 1 / 2)\\\\):\n",
    "   $$A = \\begin{pmatrix}3 & 2\\\\ 3 & 1\\end{pmatrix} \\qquad B = \\begin{pmatrix}4 & 9\\\\ 5 & 3\\end{pmatrix}$$\n"
   ]
  },
  {
   "cell_type": "code",
   "execution_count": 2,
   "metadata": {},
   "outputs": [
    {
     "data": {
      "text/plain": [
       "(False, False)"
      ]
     },
     "execution_count": 2,
     "metadata": {},
     "output_type": "execute_result"
    }
   ],
   "source": [
    "A = np.array(((3, 2), (3, 1)))\n",
    "B = np.array(((4, 9), (5, 3)))\n",
    "\n",
    "game = nash.Game(A, B)\n",
    "\n",
    "sigma_r = np.array((1 / 3, 2 / 3))\n",
    "sigma_c = np.array((1 / 2, 1 / 2))\n",
    "\n",
    "game.is_best_response(sigma_r, sigma_c)"
   ]
  },
  {
   "cell_type": "markdown",
   "metadata": {},
   "source": [
    "3. Create a variable `are_best_responses` which has value a tuple of booleans indicating if the following pairs of strategies are best responses to each other for the Normal Form Game when the row player is playing \\\\(\\sigma_r=(0, 1)\\\\) and the column player is playing \\\\(\\sigma_c=(1/4, 3/4)\\\\):\n",
    "   $$A = \\begin{pmatrix}1 & - 1\\\\ -1 & 1\\end{pmatrix}$$\n"
   ]
  },
  {
   "cell_type": "code",
   "execution_count": 3,
   "metadata": {},
   "outputs": [],
   "source": [
    "A = np.array(((1, -1), (-1, 1)))\n",
    "game = nash.Game(A)\n",
    "\n",
    "sigma_r = np.array((0, 1))\n",
    "sigma_c = np.array((1 / 4, 3 / 4))\n",
    "\n",
    "are_best_responses = game.is_best_response(sigma_r, sigma_c)"
   ]
  },
  {
   "cell_type": "markdown",
   "metadata": {},
   "source": [
    "4. Output a tuple of booleans indicating if the following pairs of strategies are best responses to each other for the zero sum Normal Form Game when the row player is playing \\\\(\\sigma_r=(0, 1, 0)\\\\) and the column player is playing \\\\(\\sigma_c=(1/4, 1/4, 1/2)\\\\):\n",
    "   $$A = \\begin{pmatrix}-3 & - 1 & 4\\\\ 2 & -1 &  1\\\\ 0 & 3 & -2\\end{pmatrix}$$\n"
   ]
  },
  {
   "cell_type": "code",
   "execution_count": 4,
   "metadata": {},
   "outputs": [
    {
     "data": {
      "text/plain": [
       "(False, False)"
      ]
     },
     "execution_count": 4,
     "metadata": {},
     "output_type": "execute_result"
    }
   ],
   "source": [
    "A = np.array(((-3, -1, 4), (2, -1, 1), (0, 3, -2)))\n",
    "game = nash.Game(A)\n",
    "\n",
    "sigma_r = np.array((0, 1, 0))\n",
    "sigma_c = np.array((1 / 4, 1 / 4, 1 / 2))\n",
    "\n",
    "game.is_best_response(sigma_r, sigma_c)"
   ]
  }
 ],
 "metadata": {
  "kernelspec": {
   "display_name": "Python 3 (ipykernel)",
   "language": "python",
   "name": "python3"
  },
  "language_info": {
   "codemirror_mode": {
    "name": "ipython",
    "version": 3
   },
   "file_extension": ".py",
   "mimetype": "text/x-python",
   "name": "python",
   "nbconvert_exporter": "python",
   "pygments_lexer": "ipython3",
   "version": "3.11.4"
  }
 },
 "nbformat": 4,
 "nbformat_minor": 4
}
