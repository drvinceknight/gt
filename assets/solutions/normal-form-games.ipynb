{
 "cells": [
  {
   "cell_type": "markdown",
   "metadata": {},
   "source": [
    "# Solutions to Normal Form Games programming exercises\n",
    "\n",
    "https://vknight.org/gt/topics/normal-form-games.html"
   ]
  },
  {
   "cell_type": "markdown",
   "metadata": {},
   "source": [
    "1. Create a variable `game` which has value the following Normal Form Game:\n",
    "   $$A = \\begin{pmatrix}1 & - 1\\\\ -1 & 1\\end{pmatrix} \\qquad B = \\begin{pmatrix}-1 & 1\\\\ 1 & -1\\end{pmatrix}$$"
   ]
  },
  {
   "cell_type": "code",
   "execution_count": 1,
   "metadata": {},
   "outputs": [],
   "source": [
    "import nashpy as nash\n",
    "import numpy as np\n",
    "\n",
    "A = np.array(((1, -1), (-1, 1)))\n",
    "game = nash.Game(A)"
   ]
  },
  {
   "cell_type": "markdown",
   "metadata": {},
   "source": [
    "\n",
    "2. Output the following Normal Form Game:\n",
    "   $$A = \\begin{pmatrix}3 & 2\\\\ 3 & 1\\end{pmatrix} \\qquad B = \\begin{pmatrix}4 & 9\\\\ 5 & 3\\end{pmatrix}$$"
   ]
  },
  {
   "cell_type": "code",
   "execution_count": 2,
   "metadata": {},
   "outputs": [
    {
     "data": {
      "text/plain": [
       "Bi matrix game with payoff matrices:\n",
       "\n",
       "Row player:\n",
       "[[3 2]\n",
       " [3 1]]\n",
       "\n",
       "Column player:\n",
       "[[4 9]\n",
       " [5 3]]"
      ]
     },
     "execution_count": 2,
     "metadata": {},
     "output_type": "execute_result"
    }
   ],
   "source": [
    "A = np.array(((3, 2), (3, 1)))\n",
    "B = np.array(((4, 9), (5, 3)))\n",
    "nash.Game(A, B)"
   ]
  },
  {
   "cell_type": "markdown",
   "metadata": {},
   "source": [
    "3. Create a variable `game` which has value the zero sum Normal Form Game\n",
    "   defined by:\n",
    "   $$A = \\begin{pmatrix}1 & - 1\\\\ -1 & 1\\end{pmatrix}$$"
   ]
  },
  {
   "cell_type": "code",
   "execution_count": 3,
   "metadata": {},
   "outputs": [],
   "source": [
    "A = np.array(((1, -1), (-1, 1)))\n",
    "game = nash.Game(A)"
   ]
  },
  {
   "cell_type": "markdown",
   "metadata": {},
   "source": [
    "4. Output the zero sum Normal Form Game\n",
    "   defined by:\n",
    "   $$A = \\begin{pmatrix}-3 & - 1 & 4\\\\ 2 & -1 &  1\\\\ 0 & 3 & -2\\end{pmatrix}$$"
   ]
  },
  {
   "cell_type": "code",
   "execution_count": 4,
   "metadata": {},
   "outputs": [
    {
     "data": {
      "text/plain": [
       "Zero sum game with payoff matrices:\n",
       "\n",
       "Row player:\n",
       "[[-3 -1  4]\n",
       " [ 2 -1  1]\n",
       " [ 0  3 -2]]\n",
       "\n",
       "Column player:\n",
       "[[ 3  1 -4]\n",
       " [-2  1 -1]\n",
       " [ 0 -3  2]]"
      ]
     },
     "execution_count": 4,
     "metadata": {},
     "output_type": "execute_result"
    }
   ],
   "source": [
    "A = np.array(((-3, -1, 4), (2, -1, 1), (0, 3, -2)))\n",
    "nash.Game(A)"
   ]
  }
 ],
 "metadata": {
  "kernelspec": {
   "display_name": "Python 3",
   "language": "python",
   "name": "python3"
  },
  "language_info": {
   "codemirror_mode": {
    "name": "ipython",
    "version": 3
   },
   "file_extension": ".py",
   "mimetype": "text/x-python",
   "name": "python",
   "nbconvert_exporter": "python",
   "pygments_lexer": "ipython3",
   "version": "3.8.3"
  }
 },
 "nbformat": 4,
 "nbformat_minor": 4
}
