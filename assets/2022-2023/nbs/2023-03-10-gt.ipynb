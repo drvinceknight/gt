{
 "cells": [
  {
   "cell_type": "markdown",
   "metadata": {},
   "source": [
    "Here is the counts:\n",
    "\n",
    "1. The number of time the Hawk took over\n",
    "2. The number of total plays"
   ]
  },
  {
   "cell_type": "code",
   "execution_count": 1,
   "metadata": {},
   "outputs": [],
   "source": [
    "number_of_hawk_populations = 0 + 1 + 1 + 1 + 1\n",
    "number_of_plays = 1 + 1 + 1 + 1 + 2 "
   ]
  },
  {
   "cell_type": "markdown",
   "metadata": {},
   "source": [
    "Thus, our simulation gives the total probability of a Hawk taking over:"
   ]
  },
  {
   "cell_type": "code",
   "execution_count": 2,
   "metadata": {},
   "outputs": [
    {
     "data": {
      "text/plain": [
       "0.6666666666666666"
      ]
     },
     "execution_count": 2,
     "metadata": {},
     "output_type": "execute_result"
    }
   ],
   "source": [
    "number_of_hawk_populations / number_of_plays"
   ]
  },
  {
   "cell_type": "code",
   "execution_count": 3,
   "metadata": {},
   "outputs": [],
   "source": [
    "import collections\n",
    "import matplotlib.pyplot as plt\n",
    "import numpy as np\n",
    "import tqdm\n",
    "\n",
    "def roll_n_sided_dice(n=6):\n",
    "    \"\"\"\n",
    "    Roll a dice with n sides.\n",
    "    \"\"\"\n",
    "    return np.random.randint(1, n + 1)\n",
    "\n",
    "class MoranProcess:\n",
    "    \"\"\"\n",
    "    A class for a moran process with a population of\n",
    "    size N=3 using the standard Hawk-Dove Game:\n",
    "\n",
    "    A =\n",
    "       [0, 3]\n",
    "       [1, 2]\n",
    "\n",
    "    Note that this is a simulation corresponding to an\n",
    "    in class activity where students roll dice.\n",
    "    \"\"\"\n",
    "    def __init__(self, number_of_hawks=1, seed=None):\n",
    "\n",
    "        if seed is not None:\n",
    "            np.random.seed(seed)\n",
    "\n",
    "        self.number_of_hawks = number_of_hawks\n",
    "        self.number_of_doves = 3 - number_of_hawks\n",
    "\n",
    "        self.dice_and_values_for_hawk_birth = {1: (6, {1, 2, 3}), 2: (4, {1, 2, 3})}\n",
    "        self.dice_and_values_for_hawk_death = {1: (6, {1, 2}), 2: (6, {1, 2, 3, 4})}\n",
    "\n",
    "        self.history = [(self.number_of_hawks, self.number_of_doves)]\n",
    "\n",
    "    def step(self):\n",
    "        \"\"\"\n",
    "        Select a hawk or a dove for birth.\n",
    "        Select a hawk or a dove for death.\n",
    "\n",
    "        Update history and states.\n",
    "        \"\"\"\n",
    "        birth_dice, birth_values = self.dice_and_values_for_hawk_birth[self.number_of_hawks]\n",
    "        death_dice, death_values = self.dice_and_values_for_hawk_death[self.number_of_hawks]\n",
    "\n",
    "        select_hawk_for_birth = self.roll_dice_for_selection(dice=birth_dice, values=birth_values)\n",
    "        select_hawk_for_death = self.roll_dice_for_selection(dice=death_dice, values=death_values)\n",
    "\n",
    "        if select_hawk_for_birth:\n",
    "            self.number_of_hawks += 1\n",
    "        else:\n",
    "            self.number_of_doves += 1\n",
    "        if select_hawk_for_death:\n",
    "            self.number_of_hawks -= 1\n",
    "        else:\n",
    "            self.number_of_doves -= 1\n",
    "\n",
    "        self.history.append((self.number_of_hawks, self.number_of_doves))\n",
    "\n",
    "    def roll_dice_for_selection(self, dice, values):\n",
    "        \"\"\"\n",
    "        Given a dice and values return if the random roll is in the values.\n",
    "        \"\"\"\n",
    "        return roll_n_sided_dice(n=dice) in values\n",
    "\n",
    "    def simulate(self):\n",
    "        \"\"\"\n",
    "        Run the entire simulation: repeatedly step through\n",
    "        until the number of hawks is either 0 or 3.\n",
    "        \"\"\"\n",
    "        while self.number_of_hawks in [1, 2]:\n",
    "            self.step()\n",
    "        return self.number_of_hawks\n",
    "    \n",
    "    def __len__(self):\n",
    "        return len(self.history)"
   ]
  },
  {
   "cell_type": "code",
   "execution_count": 4,
   "metadata": {},
   "outputs": [
    {
     "data": {
      "text/plain": [
       "0.54666"
      ]
     },
     "execution_count": 4,
     "metadata": {},
     "output_type": "execute_result"
    }
   ],
   "source": [
    "repetitions = 10 ** 5\n",
    "end_states = []\n",
    "path_lengths = []\n",
    "for seed in range(repetitions):\n",
    "    mp = MoranProcess(seed=seed)\n",
    "    end_states.append(mp.simulate())\n",
    "    path_lengths.append(len(mp))\n",
    "counts = collections.Counter(end_states)\n",
    "counts[3] / repetitions"
   ]
  },
  {
   "cell_type": "code",
   "execution_count": 5,
   "metadata": {},
   "outputs": [
    {
     "data": {
      "text/plain": [
       "Zero sum game with payoff matrices:\n",
       "\n",
       "Row player:\n",
       "[[0 3]\n",
       " [1 2]]\n",
       "\n",
       "Column player:\n",
       "[[ 0 -3]\n",
       " [-1 -2]]"
      ]
     },
     "execution_count": 5,
     "metadata": {},
     "output_type": "execute_result"
    }
   ],
   "source": [
    "import nashpy as nash\n",
    "\n",
    "A = np.array([[0, 3], [1, 2]])\n",
    "game = nash.Game(A)\n",
    "game"
   ]
  },
  {
   "cell_type": "code",
   "execution_count": 6,
   "metadata": {},
   "outputs": [
    {
     "data": {
      "text/plain": [
       "array([0.567, 0.433])"
      ]
     },
     "execution_count": 6,
     "metadata": {},
     "output_type": "execute_result"
    }
   ],
   "source": [
    "game.fixation_probabilities(\n",
    "    initial_population=(0, 1, 1), \n",
    "    repetitions=1_000,\n",
    ")"
   ]
  },
  {
   "cell_type": "code",
   "execution_count": null,
   "metadata": {},
   "outputs": [],
   "source": []
  }
 ],
 "metadata": {
  "kernelspec": {
   "display_name": "Python 3",
   "language": "python",
   "name": "python3"
  },
  "language_info": {
   "codemirror_mode": {
    "name": "ipython",
    "version": 3
   },
   "file_extension": ".py",
   "mimetype": "text/x-python",
   "name": "python",
   "nbconvert_exporter": "python",
   "pygments_lexer": "ipython3",
   "version": "3.8.3"
  }
 },
 "nbformat": 4,
 "nbformat_minor": 4
}
