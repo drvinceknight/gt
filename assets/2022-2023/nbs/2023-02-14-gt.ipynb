{
 "cells": [
  {
   "cell_type": "markdown",
   "metadata": {},
   "source": [
    "# The mathematics of Valentine's day"
   ]
  },
  {
   "cell_type": "code",
   "execution_count": 1,
   "metadata": {},
   "outputs": [],
   "source": [
    "import numpy as np\n",
    "import nashpy as nash"
   ]
  },
  {
   "cell_type": "markdown",
   "metadata": {},
   "source": [
    "## Both players like gifts:"
   ]
  },
  {
   "cell_type": "code",
   "execution_count": 2,
   "metadata": {},
   "outputs": [],
   "source": [
    "A = np.array(\n",
    "    (\n",
    "        (3, 2), \n",
    "        (-3, 0),\n",
    "    )\n",
    ")\n",
    "B = np.array(\n",
    "    (\n",
    "        (3, -3), \n",
    "        (2, 0),\n",
    "    )\n",
    ")"
   ]
  },
  {
   "cell_type": "code",
   "execution_count": 3,
   "metadata": {},
   "outputs": [
    {
     "data": {
      "text/plain": [
       "Bi matrix game with payoff matrices:\n",
       "\n",
       "Row player:\n",
       "[[ 3  2]\n",
       " [-3  0]]\n",
       "\n",
       "Column player:\n",
       "[[ 3 -3]\n",
       " [ 2  0]]"
      ]
     },
     "execution_count": 3,
     "metadata": {},
     "output_type": "execute_result"
    }
   ],
   "source": [
    "game = nash.Game(A, B)\n",
    "game"
   ]
  },
  {
   "cell_type": "code",
   "execution_count": 4,
   "metadata": {},
   "outputs": [
    {
     "data": {
      "text/plain": [
       "[(array([1., 0.]), array([1., 0.]))]"
      ]
     },
     "execution_count": 4,
     "metadata": {},
     "output_type": "execute_result"
    }
   ],
   "source": [
    "list(game.support_enumeration())"
   ]
  },
  {
   "cell_type": "markdown",
   "metadata": {},
   "source": [
    "## Both player agree to not buy gifts for each other."
   ]
  },
  {
   "cell_type": "code",
   "execution_count": 5,
   "metadata": {},
   "outputs": [],
   "source": [
    "A = np.array(\n",
    "    (\n",
    "        (3, 1), \n",
    "        (-1, 5),\n",
    "    )\n",
    ")\n",
    "B = np.array(\n",
    "    (\n",
    "        (3, -1), \n",
    "        (1, 5),\n",
    "    )\n",
    ")"
   ]
  },
  {
   "cell_type": "code",
   "execution_count": 6,
   "metadata": {},
   "outputs": [
    {
     "data": {
      "text/plain": [
       "Bi matrix game with payoff matrices:\n",
       "\n",
       "Row player:\n",
       "[[ 3  1]\n",
       " [-1  5]]\n",
       "\n",
       "Column player:\n",
       "[[ 3 -1]\n",
       " [ 1  5]]"
      ]
     },
     "execution_count": 6,
     "metadata": {},
     "output_type": "execute_result"
    }
   ],
   "source": [
    "game = nash.Game(A, B)\n",
    "game"
   ]
  },
  {
   "cell_type": "code",
   "execution_count": 7,
   "metadata": {},
   "outputs": [
    {
     "data": {
      "text/plain": [
       "[(array([1., 0.]), array([1., 0.])),\n",
       " (array([0., 1.]), array([0., 1.])),\n",
       " (array([0.5, 0.5]), array([0.5, 0.5]))]"
      ]
     },
     "execution_count": 7,
     "metadata": {},
     "output_type": "execute_result"
    }
   ],
   "source": [
    "list(game.support_enumeration())"
   ]
  },
  {
   "cell_type": "markdown",
   "metadata": {},
   "source": [
    "Here is a function get the average utility for each equilibria:"
   ]
  },
  {
   "cell_type": "code",
   "execution_count": 8,
   "metadata": {},
   "outputs": [],
   "source": [
    "def get_average_utility(game):\n",
    "    \"\"\"\n",
    "    Get the average utlity.\n",
    "    \"\"\"\n",
    "    A, B = game.payoff_matrices\n",
    "    for sigma_r, sigma_c in game.support_enumeration():\n",
    "        yield (sigma_r @ A @ sigma_c + sigma_r @ B @ sigma_c) / 2"
   ]
  },
  {
   "cell_type": "code",
   "execution_count": 9,
   "metadata": {},
   "outputs": [
    {
     "data": {
      "text/plain": [
       "[3.0, 5.0, 2.0]"
      ]
     },
     "execution_count": 9,
     "metadata": {},
     "output_type": "execute_result"
    }
   ],
   "source": [
    "list(get_average_utility(game))"
   ]
  },
  {
   "cell_type": "markdown",
   "metadata": {},
   "source": [
    "## Consider non symmetrical case"
   ]
  },
  {
   "cell_type": "code",
   "execution_count": 10,
   "metadata": {},
   "outputs": [],
   "source": [
    "A = np.array(\n",
    "    (\n",
    "        (5, 0), \n",
    "        (3, 1),\n",
    "    )\n",
    ")\n",
    "B = np.array(\n",
    "    (\n",
    "        (3, -2), \n",
    "        (3, 1),\n",
    "    )\n",
    ")"
   ]
  },
  {
   "cell_type": "code",
   "execution_count": 11,
   "metadata": {},
   "outputs": [],
   "source": [
    "game = nash.Game(A, B)"
   ]
  },
  {
   "cell_type": "code",
   "execution_count": 12,
   "metadata": {},
   "outputs": [
    {
     "data": {
      "text/plain": [
       "[(array([1., 0.]), array([1., 0.]))]"
      ]
     },
     "execution_count": 12,
     "metadata": {},
     "output_type": "execute_result"
    }
   ],
   "source": [
    "list(game.support_enumeration())"
   ]
  },
  {
   "cell_type": "code",
   "execution_count": 13,
   "metadata": {},
   "outputs": [],
   "source": [
    "def get_worst_best_equilibria_utility(A, B, alpha):\n",
    "    \"\"\"\n",
    "    This returns the best and worse case average utility for\n",
    "    a modification of the game where:\n",
    "    \n",
    "    B = [3, -2]\n",
    "        [3 + alpha, 1 + alpha]\n",
    "    \"\"\"\n",
    "    new_B = B + [0, alpha]\n",
    "    game = nash.Game(A, new_B)\n",
    "    average_utilities = list(get_average_utility(game))\n",
    "    return min(average_utilities), max(average_utilities)"
   ]
  },
  {
   "cell_type": "markdown",
   "metadata": {},
   "source": [
    "Let us confirm the previous result for the base case of $\\alpha=0$:"
   ]
  },
  {
   "cell_type": "code",
   "execution_count": 14,
   "metadata": {},
   "outputs": [
    {
     "data": {
      "text/plain": [
       "(4.0, 4.0)"
      ]
     },
     "execution_count": 14,
     "metadata": {},
     "output_type": "execute_result"
    }
   ],
   "source": [
    "get_worst_best_equilibria_utility(A=A, B=B, alpha=0)"
   ]
  },
  {
   "cell_type": "markdown",
   "metadata": {},
   "source": [
    "Now let us plot this for a range of values of \\\\(\\alpha\\\\):"
   ]
  },
  {
   "cell_type": "code",
   "execution_count": 15,
   "metadata": {},
   "outputs": [],
   "source": [
    "alpha_range = np.linspace(0, 10, 20)\n",
    "utility_ranges = [\n",
    "    get_worst_best_equilibria_utility(\n",
    "        A=A, \n",
    "        B=B, \n",
    "        alpha=alpha,\n",
    "    )\n",
    "    for alpha in alpha_range\n",
    "]"
   ]
  },
  {
   "cell_type": "code",
   "execution_count": 16,
   "metadata": {},
   "outputs": [],
   "source": [
    "import matplotlib.pyplot as plt"
   ]
  },
  {
   "cell_type": "code",
   "execution_count": 17,
   "metadata": {},
   "outputs": [
    {
     "data": {
      "image/png": "[encoded data removed]",
      "text/plain": [
       "<Figure size 432x288 with 1 Axes>"
      ]
     },
     "metadata": {
      "needs_background": "light"
     },
     "output_type": "display_data"
    }
   ],
   "source": [
    "plt.figure()\n",
    "plt.plot(alpha_range, utility_ranges)\n",
    "plt.title(\"Maximum and minimum average utility\")\n",
    "plt.xlabel(r\"$\\alpha$\")\n",
    "plt.savefig(\"2023-02-14-valentines_day.png\", dpi=300)"
   ]
  },
  {
   "cell_type": "markdown",
   "metadata": {},
   "source": [
    "## Sensitivity analysis"
   ]
  },
  {
   "cell_type": "code",
   "execution_count": null,
   "metadata": {},
   "outputs": [],
   "source": []
  }
 ],
 "metadata": {
  "kernelspec": {
   "display_name": "Python 3",
   "language": "python",
   "name": "python3"
  },
  "language_info": {
   "codemirror_mode": {
    "name": "ipython",
    "version": 3
   },
   "file_extension": ".py",
   "mimetype": "text/x-python",
   "name": "python",
   "nbconvert_exporter": "python",
   "pygments_lexer": "ipython3",
   "version": "3.8.3"
  }
 },
 "nbformat": 4,
 "nbformat_minor": 4
}
