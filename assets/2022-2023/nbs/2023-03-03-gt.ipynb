{
 "cells": [
  {
   "cell_type": "code",
   "execution_count": 1,
   "metadata": {},
   "outputs": [],
   "source": [
    "import axelrod as axl\n",
    "import nashpy as nash\n",
    "import numpy as np\n",
    "import matplotlib.pyplot as plt"
   ]
  },
  {
   "cell_type": "code",
   "execution_count": 2,
   "metadata": {},
   "outputs": [],
   "source": [
    "first_tournament_participants_ordered_by_reported_rank = [s() for s in axl.axelrod_first_strategies]"
   ]
  },
  {
   "cell_type": "code",
   "execution_count": 3,
   "metadata": {},
   "outputs": [
    {
     "name": "stderr",
     "output_type": "stream",
     "text": [
      "Playing matches: 100%|██████████| 120/120 [00:03<00:00, 33.14it/s]\n",
      "Analysing: 100%|██████████| 25/25 [00:00<00:00, 105.06it/s]\n"
     ]
    }
   ],
   "source": [
    "tournament = axl.Tournament(\n",
    "     players=first_tournament_participants_ordered_by_reported_rank,\n",
    "     turns=200,\n",
    "     repetitions=5,\n",
    "     seed=1,\n",
    ")\n",
    "results = tournament.play()"
   ]
  },
  {
   "cell_type": "code",
   "execution_count": 4,
   "metadata": {},
   "outputs": [
    {
     "data": {
      "text/plain": [
       "['First by Stein and Rapoport: 0.05: (D, D)',\n",
       " 'First by Grofman',\n",
       " 'First by Shubik',\n",
       " 'Tit For Tat',\n",
       " 'First by Nydegger',\n",
       " 'First by Tideman and Chieruzzi: (D, D)',\n",
       " 'Grudger',\n",
       " 'First by Davis: 10',\n",
       " 'First by Graaskamp: 0.05',\n",
       " 'First by Downing',\n",
       " 'First by Feld: 1.0, 0.5, 200',\n",
       " 'First by Tullock',\n",
       " 'First by Joss: 0.9',\n",
       " 'First by Anonymous',\n",
       " 'Random: 0.5']"
      ]
     },
     "execution_count": 4,
     "metadata": {},
     "output_type": "execute_result"
    }
   ],
   "source": [
    "results.ranked_names"
   ]
  },
  {
   "cell_type": "code",
   "execution_count": 5,
   "metadata": {},
   "outputs": [],
   "source": [
    "A = np.array(results.payoff_matrix)\n",
    "ipd = nash.Game(A, A.T)"
   ]
  },
  {
   "cell_type": "code",
   "execution_count": 6,
   "metadata": {},
   "outputs": [
    {
     "data": {
      "text/plain": [
       "Bi matrix game with payoff matrices:\n",
       "\n",
       "Row player:\n",
       "[[3.     2.975  3.     3.     3.     2.975  3.     3.     2.625  2.985\n",
       "  1.409  1.14   1.469  2.217  2.238 ]\n",
       " [3.     2.98   3.02   3.004  3.     2.98   3.     3.     2.975  1.165\n",
       "  1.297  1.076  1.325  2.824  2.836 ]\n",
       " [3.     2.97   3.     3.     3.     2.97   3.     3.     2.757  0.075\n",
       "  2.22   2.658  2.718  1.57   1.52  ]\n",
       " [3.     2.974  3.     3.     3.     2.974  3.     3.     3.056  0.472\n",
       "  2.088  2.383  2.428  1.995  2.129 ]\n",
       " [3.     2.975  3.     3.     3.     2.975  3.     3.     3.316  1.285\n",
       "  1.343  1.331  1.413  2.802  2.648 ]\n",
       " [3.     2.98   3.02   3.004  3.     2.98   3.     3.     2.63   2.525\n",
       "  1.375  1.191  1.685  2.873  2.928 ]\n",
       " [3.     2.975  3.     3.     3.     2.975  3.     3.     2.043  1.055\n",
       "  1.173  1.111  1.315  3.033  2.967 ]\n",
       " [3.     2.975  3.     3.     3.     2.975  3.     3.     2.047  1.045\n",
       "  1.271  1.121  1.215  3.003  2.915 ]\n",
       " [2.625  2.775  3.162  2.676  1.846  2.605  1.383  1.382  1.5    3.143\n",
       "  1.463  1.371  2.064  2.74   2.892 ]\n",
       " [2.985  1.015  4.9    3.302  1.36   1.1    1.005  1.17   2.748  1.\n",
       "  2.22   2.646  1.19   2.67   2.582 ]\n",
       " [1.434  1.307  3.52   2.828  1.458  1.4    1.173  1.271  1.723  3.495\n",
       "  1.293  1.136  1.315  2.414  2.443 ]\n",
       " [1.165  1.076  3.228  2.753  1.371  1.216  1.111  1.131  1.451  3.211\n",
       "  1.151  1.1675 1.27   2.293  2.327 ]\n",
       " [1.494  1.285  3.188  2.763  1.648  1.71   1.21   1.145  2.369  1.04\n",
       "  1.29   1.2    1.3995 2.317  2.374 ]\n",
       " [2.227  0.909  3.92   2.81   1.127  0.803  0.553  0.648  1.18   1.225\n",
       "  1.824  2.053  1.987  2.265  2.279 ]\n",
       " [2.258  0.891  3.925  2.704  1.168  0.658  0.537  0.68   0.997  1.237\n",
       "  1.833  2.102  1.979  2.304  2.2745]]\n",
       "\n",
       "Column player:\n",
       "[[3.     3.     3.     3.     3.     3.     3.     3.     2.625  2.985\n",
       "  1.434  1.165  1.494  2.227  2.258 ]\n",
       " [2.975  2.98   2.97   2.974  2.975  2.98   2.975  2.975  2.775  1.015\n",
       "  1.307  1.076  1.285  0.909  0.891 ]\n",
       " [3.     3.02   3.     3.     3.     3.02   3.     3.     3.162  4.9\n",
       "  3.52   3.228  3.188  3.92   3.925 ]\n",
       " [3.     3.004  3.     3.     3.     3.004  3.     3.     2.676  3.302\n",
       "  2.828  2.753  2.763  2.81   2.704 ]\n",
       " [3.     3.     3.     3.     3.     3.     3.     3.     1.846  1.36\n",
       "  1.458  1.371  1.648  1.127  1.168 ]\n",
       " [2.975  2.98   2.97   2.974  2.975  2.98   2.975  2.975  2.605  1.1\n",
       "  1.4    1.216  1.71   0.803  0.658 ]\n",
       " [3.     3.     3.     3.     3.     3.     3.     3.     1.383  1.005\n",
       "  1.173  1.111  1.21   0.553  0.537 ]\n",
       " [3.     3.     3.     3.     3.     3.     3.     3.     1.382  1.17\n",
       "  1.271  1.131  1.145  0.648  0.68  ]\n",
       " [2.625  2.975  2.757  3.056  3.316  2.63   2.043  2.047  1.5    2.748\n",
       "  1.723  1.451  2.369  1.18   0.997 ]\n",
       " [2.985  1.165  0.075  0.472  1.285  2.525  1.055  1.045  3.143  1.\n",
       "  3.495  3.211  1.04   1.225  1.237 ]\n",
       " [1.409  1.297  2.22   2.088  1.343  1.375  1.173  1.271  1.463  2.22\n",
       "  1.293  1.151  1.29   1.824  1.833 ]\n",
       " [1.14   1.076  2.658  2.383  1.331  1.191  1.111  1.121  1.371  2.646\n",
       "  1.136  1.1675 1.2    2.053  2.102 ]\n",
       " [1.469  1.325  2.718  2.428  1.413  1.685  1.315  1.215  2.064  1.19\n",
       "  1.315  1.27   1.3995 1.987  1.979 ]\n",
       " [2.217  2.824  1.57   1.995  2.802  2.873  3.033  3.003  2.74   2.67\n",
       "  2.414  2.293  2.317  2.265  2.304 ]\n",
       " [2.238  2.836  1.52   2.129  2.648  2.928  2.967  2.915  2.892  2.582\n",
       "  2.443  2.327  2.374  2.279  2.2745]]"
      ]
     },
     "execution_count": 6,
     "metadata": {},
     "output_type": "execute_result"
    }
   ],
   "source": [
    "ipd"
   ]
  },
  {
   "cell_type": "code",
   "execution_count": 7,
   "metadata": {},
   "outputs": [
    {
     "data": {
      "image/png": "[encoded data removed]",
      "text/plain": [
       "<Figure size 576x216 with 2 Axes>"
      ]
     },
     "metadata": {
      "needs_background": "light"
     },
     "output_type": "display_data"
    }
   ],
   "source": [
    "timepoints = np.linspace(0, 25, 500)\n",
    "xs = ipd.replicator_dynamics(timepoints=timepoints)\n",
    "\n",
    "fig, axarr = plt.subplots(nrows=1, ncols=2, figsize=(8, 3))\n",
    "\n",
    "ax = axarr[0]\n",
    "for i, x in enumerate(zip(*xs)):\n",
    "    if x[-1] > 10 ** -2:\n",
    "        ax.plot(x, label=f\"{i}\")\n",
    "    else:\n",
    "        ax.plot(x)\n",
    "ax.set_ylim(0, 1)\n",
    "ax.set_title(\"Evolution of strategies in Axelrod's 1st tournament\")\n",
    "ax.set_xlabel(\"Time\")\n",
    "ax.set_ylabel(\"Population proportion\")\n",
    "ax.legend()\n",
    "\n",
    "ax = axarr[1]\n",
    "ax.plot(np.sum([x * (A @ x) for x in xs], axis=1))\n",
    "ax.set_ylim(0, 5)\n",
    "ax.set_xlabel(\"Time\")\n",
    "ax.set_title(\"Average per turn utility\")\n",
    "\n",
    "fig.tight_layout()"
   ]
  },
  {
   "cell_type": "code",
   "execution_count": null,
   "metadata": {},
   "outputs": [],
   "source": []
  }
 ],
 "metadata": {
  "kernelspec": {
   "display_name": "Python 3",
   "language": "python",
   "name": "python3"
  },
  "language_info": {
   "codemirror_mode": {
    "name": "ipython",
    "version": 3
   },
   "file_extension": ".py",
   "mimetype": "text/x-python",
   "name": "python",
   "nbconvert_exporter": "python",
   "pygments_lexer": "ipython3",
   "version": "3.8.3"
  }
 },
 "nbformat": 4,
 "nbformat_minor": 4
}
