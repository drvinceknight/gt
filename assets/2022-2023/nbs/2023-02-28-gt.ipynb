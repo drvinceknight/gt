{
 "cells": [
  {
   "cell_type": "code",
   "execution_count": 1,
   "metadata": {},
   "outputs": [],
   "source": [
    "import numpy as np\n",
    "import nashpy as nash"
   ]
  },
  {
   "cell_type": "code",
   "execution_count": 4,
   "metadata": {},
   "outputs": [],
   "source": [
    "A = np.array((\n",
    "    (4, 3, 1, 1),\n",
    "    (4, 4, 1, 1),\n",
    "    (2, 2, 2, 2),\n",
    "    (2, 2, 2, 2),\n",
    "    ))\n",
    "\n",
    "B = np.array((\n",
    "    (4, 5, 3, 3),\n",
    "    (2, 2, 3, 3),\n",
    "    (0, 0, 0, 0),\n",
    "    (0, 0, 0, 0),\n",
    "    ))"
   ]
  },
  {
   "cell_type": "code",
   "execution_count": 5,
   "metadata": {},
   "outputs": [],
   "source": [
    "game = nash.Game(A, B)"
   ]
  },
  {
   "cell_type": "code",
   "execution_count": 6,
   "metadata": {},
   "outputs": [
    {
     "name": "stderr",
     "output_type": "stream",
     "text": [
      "/Users/four/anaconda3/lib/python3.8/site-packages/nashpy/algorithms/support_enumeration.py:259: RuntimeWarning: \n",
      "An even number of (4) equilibria was returned. This\n",
      "indicates that the game is degenerate. Consider using another algorithm\n",
      "to investigate.\n",
      "                  \n",
      "  warnings.warn(warning, RuntimeWarning)\n"
     ]
    },
    {
     "data": {
      "text/plain": [
       "[(array([0., 0., 1., 0.]), array([0., 0., 1., 0.])),\n",
       " (array([0., 0., 1., 0.]), array([0., 0., 0., 1.])),\n",
       " (array([0., 0., 0., 1.]), array([0., 0., 1., 0.])),\n",
       " (array([0., 0., 0., 1.]), array([0., 0., 0., 1.]))]"
      ]
     },
     "execution_count": 6,
     "metadata": {},
     "output_type": "execute_result"
    }
   ],
   "source": [
    "list(game.support_enumeration())"
   ]
  },
  {
   "cell_type": "code",
   "execution_count": null,
   "metadata": {},
   "outputs": [],
   "source": []
  }
 ],
 "metadata": {
  "kernelspec": {
   "display_name": "Python 3",
   "language": "python",
   "name": "python3"
  },
  "language_info": {
   "codemirror_mode": {
    "name": "ipython",
    "version": 3
   },
   "file_extension": ".py",
   "mimetype": "text/x-python",
   "name": "python",
   "nbconvert_exporter": "python",
   "pygments_lexer": "ipython3",
   "version": "3.8.3"
  }
 },
 "nbformat": 4,
 "nbformat_minor": 4
}
