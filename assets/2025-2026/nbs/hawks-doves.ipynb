{
 "cells": [
  {
   "cell_type": "code",
   "execution_count": 2,
   "id": "a3879432-f948-4975-9dda-ba0e47ff545a",
   "metadata": {},
   "outputs": [],
   "source": [
    "numerators = (\n",
    "    1, \n",
    "    2,\n",
    "    2,\n",
    "    4,\n",
    "    0,\n",
    "    2,\n",
    "    2,\n",
    "    1,\n",
    "    5,\n",
    "    2,\n",
    "    1,\n",
    "    0,\n",
    "    0,\n",
    "    0,\n",
    "    1,\n",
    "    0,\n",
    ")\n",
    "denominators = (\n",
    "    1,\n",
    "    4,\n",
    "    3,\n",
    "    10,\n",
    "    1,\n",
    "    2,\n",
    "    2,\n",
    "    6,\n",
    "    8,\n",
    "    2,\n",
    "    3,\n",
    "    1,\n",
    "    1,\n",
    "    1,\n",
    "    2,\n",
    "    2,\n",
    ")\n"
   ]
  },
  {
   "cell_type": "code",
   "execution_count": 5,
   "id": "77498961-327d-4d4a-af9c-28985d794376",
   "metadata": {},
   "outputs": [
    {
     "data": {
      "text/plain": [
       "16"
      ]
     },
     "execution_count": 5,
     "metadata": {},
     "output_type": "execute_result"
    }
   ],
   "source": [
    "len(numerators)"
   ]
  },
  {
   "cell_type": "code",
   "execution_count": 3,
   "id": "fab13625-ced1-4625-a98b-ddb7f125303a",
   "metadata": {},
   "outputs": [
    {
     "data": {
      "text/plain": [
       "0.46938775510204084"
      ]
     },
     "execution_count": 3,
     "metadata": {},
     "output_type": "execute_result"
    }
   ],
   "source": [
    "sum(numerators) / sum(denominators)"
   ]
  },
  {
   "cell_type": "code",
   "execution_count": 6,
   "id": "38c9aa8a-ebd5-4ae9-af0f-13fa3def2460",
   "metadata": {},
   "outputs": [],
   "source": [
    "import collections\n",
    "import matplotlib.pyplot as plt\n",
    "import numpy as np\n",
    "import tqdm\n",
    "\n",
    "def roll_n_sided_dice(n=6):\n",
    "    \"\"\"Roll a dice with n sides.\"\"\"\n",
    "    return np.random.randint(1, n + 1)\n",
    "\n",
    "class MoranProcess:\n",
    "    \"\"\"\n",
    "    A class for a Moran process with a population of size n=3 using the\n",
    "    standard hawk-dove game:\n",
    "\n",
    "        A = [[0, 3],\n",
    "             [1, 2]]\n",
    "\n",
    "    Note that this is a simulation corresponding to an in-class activity\n",
    "    where students roll dice.\n",
    "    \"\"\"\n",
    "    def __init__(self, number_of_hawks=1, seed=None):\n",
    "        if seed is not None:\n",
    "            np.random.seed(seed)\n",
    "\n",
    "        self.number_of_hawks = number_of_hawks\n",
    "        self.number_of_doves = 3 - number_of_hawks\n",
    "\n",
    "        self.dice_and_values_for_hawk_birth = {1: (6, {1, 2, 3}), 2: (4, {1, 2, 3})}\n",
    "        self.dice_and_values_for_hawk_death = {1: (6, {1, 2}), 2: (6, {1, 2, 3, 4})}\n",
    "\n",
    "        self.history = [(self.number_of_hawks, self.number_of_doves)]\n",
    "\n",
    "    def step(self):\n",
    "        \"\"\"Select a hawk or a dove for birth and death, then update.\"\"\"\n",
    "        birth_dice, birth_values = self.dice_and_values_for_hawk_birth[self.number_of_hawks]\n",
    "        death_dice, death_values = self.dice_and_values_for_hawk_death[self.number_of_hawks]\n",
    "\n",
    "        select_hawk_for_birth = self.roll_dice_for_selection(dice=birth_dice, values=birth_values)\n",
    "        select_hawk_for_death = self.roll_dice_for_selection(dice=death_dice, values=death_values)\n",
    "\n",
    "        if select_hawk_for_birth:\n",
    "            self.number_of_hawks += 1\n",
    "        else:\n",
    "            self.number_of_doves += 1\n",
    "\n",
    "        if select_hawk_for_death:\n",
    "            self.number_of_hawks -= 1\n",
    "        else:\n",
    "            self.number_of_doves -= 1\n",
    "\n",
    "        self.history.append((self.number_of_hawks, self.number_of_doves))\n",
    "\n",
    "    def roll_dice_for_selection(self, dice, values):\n",
    "        \"\"\"Return True if the roll is in the target set.\"\"\"\n",
    "        return roll_n_sided_dice(n=dice) in values\n",
    "\n",
    "    def simulate(self):\n",
    "        \"\"\"Run the simulation until the number of hawks is 0 or 3.\"\"\"\n",
    "        while self.number_of_hawks in [1, 2]:\n",
    "            self.step()\n",
    "        return self.number_of_hawks\n",
    "\n",
    "    def __len__(self):\n",
    "        return len(self.history)"
   ]
  },
  {
   "cell_type": "code",
   "execution_count": 7,
   "id": "faf38cdf-9139-4547-89ae-7fb93a189a35",
   "metadata": {},
   "outputs": [
    {
     "data": {
      "text/plain": [
       "0.54666"
      ]
     },
     "execution_count": 7,
     "metadata": {},
     "output_type": "execute_result"
    }
   ],
   "source": [
    "repetitions = 10 ** 5\n",
    "end_states = []\n",
    "path_lengths = []\n",
    "\n",
    "for seed in range(repetitions):\n",
    "    mp = MoranProcess(seed=seed)\n",
    "    end_states.append(mp.simulate())\n",
    "    path_lengths.append(len(mp))\n",
    "\n",
    "counts = collections.Counter(end_states)\n",
    "counts[3] / repetitions"
   ]
  },
  {
   "cell_type": "code",
   "execution_count": null,
   "id": "864d9e4d-d673-41f5-bdf5-f62f3b7d9091",
   "metadata": {},
   "outputs": [],
   "source": []
  }
 ],
 "metadata": {
  "kernelspec": {
   "display_name": "Python 3 (ipykernel)",
   "language": "python",
   "name": "python3"
  },
  "language_info": {
   "codemirror_mode": {
    "name": "ipython",
    "version": 3
   },
   "file_extension": ".py",
   "mimetype": "text/x-python",
   "name": "python",
   "nbconvert_exporter": "python",
   "pygments_lexer": "ipython3",
   "version": "3.13.0"
  }
 },
 "nbformat": 4,
 "nbformat_minor": 5
}
