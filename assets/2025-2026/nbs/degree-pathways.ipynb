{
 "cells": [
  {
   "cell_type": "code",
   "execution_count": 2,
   "id": "00cd98b4-f411-4abb-a02c-0f0eba21d3fd",
   "metadata": {},
   "outputs": [],
   "source": [
    "import numpy as np"
   ]
  },
  {
   "cell_type": "code",
   "execution_count": 9,
   "id": "1967e5bd-a02b-49cc-a339-b8d1313994f1",
   "metadata": {},
   "outputs": [],
   "source": [
    "P = np.array(\n",
    "    (\n",
    "        (.15, .6, 0, 0, 0, 0, .25, 0),\n",
    "        (0, .15, .3, 0, .2, .1, .25, 0),\n",
    "        (0, 0, 0.1, 0.15, 0, 0, .05, 0.7),\n",
    "        (0, 0, 0, .1, 0, 0, 0, .9),\n",
    "        (0, 0, .9, 0, 0, 0, .1, 0),\n",
    "        (0, 0, .9, 0, 0, 0.05, .05, 0),\n",
    "        (0, 0, 0, 0, 0, 0, 1, 0),\n",
    "        (0, 0, 0, 0, 0, 0, 0, 1),\n",
    "    )\n",
    ")\n",
    "assert all(P.sum(axis=1) == 1)"
   ]
  },
  {
   "cell_type": "code",
   "execution_count": 10,
   "id": "e0708401-617d-4500-b627-b0c2ab2ca731",
   "metadata": {},
   "outputs": [
    {
     "data": {
      "text/plain": [
       "array([[0.15, 0.6 , 0.  , 0.  , 0.  , 0.  , 0.25, 0.  ],\n",
       "       [0.  , 0.15, 0.3 , 0.  , 0.2 , 0.1 , 0.25, 0.  ],\n",
       "       [0.  , 0.  , 0.1 , 0.15, 0.  , 0.  , 0.05, 0.7 ],\n",
       "       [0.  , 0.  , 0.  , 0.1 , 0.  , 0.  , 0.  , 0.9 ],\n",
       "       [0.  , 0.  , 0.9 , 0.  , 0.  , 0.  , 0.1 , 0.  ],\n",
       "       [0.  , 0.  , 0.9 , 0.  , 0.  , 0.05, 0.05, 0.  ],\n",
       "       [0.  , 0.  , 0.  , 0.  , 0.  , 0.  , 1.  , 0.  ],\n",
       "       [0.  , 0.  , 0.  , 0.  , 0.  , 0.  , 0.  , 1.  ]])"
      ]
     },
     "execution_count": 10,
     "metadata": {},
     "output_type": "execute_result"
    }
   ],
   "source": [
    "P"
   ]
  },
  {
   "cell_type": "code",
   "execution_count": 11,
   "id": "7d630321-b56f-4866-ba31-52c8a0069b47",
   "metadata": {},
   "outputs": [
    {
     "data": {
      "text/plain": [
       "array([[0.15, 0.6 , 0.  , 0.  , 0.  , 0.  ],\n",
       "       [0.  , 0.15, 0.3 , 0.  , 0.2 , 0.1 ],\n",
       "       [0.  , 0.  , 0.1 , 0.15, 0.  , 0.  ],\n",
       "       [0.  , 0.  , 0.  , 0.1 , 0.  , 0.  ],\n",
       "       [0.  , 0.  , 0.9 , 0.  , 0.  , 0.  ],\n",
       "       [0.  , 0.  , 0.9 , 0.  , 0.  , 0.05]])"
      ]
     },
     "execution_count": 11,
     "metadata": {},
     "output_type": "execute_result"
    }
   ],
   "source": [
    "Q = P[:-2,:-2]\n",
    "Q"
   ]
  },
  {
   "cell_type": "code",
   "execution_count": 12,
   "id": "253a470b-d6e6-4ecc-ab1c-65c08b5f2270",
   "metadata": {},
   "outputs": [
    {
     "data": {
      "text/plain": [
       "array([[0.25, 0.  ],\n",
       "       [0.25, 0.  ],\n",
       "       [0.05, 0.7 ],\n",
       "       [0.  , 0.9 ],\n",
       "       [0.1 , 0.  ],\n",
       "       [0.05, 0.  ]])"
      ]
     },
     "execution_count": 12,
     "metadata": {},
     "output_type": "execute_result"
    }
   ],
   "source": [
    "R = P[:-2,-2:]\n",
    "R"
   ]
  },
  {
   "cell_type": "code",
   "execution_count": 13,
   "id": "e38849bc-b8d6-4bba-a37b-328367d6e598",
   "metadata": {},
   "outputs": [
    {
     "data": {
      "text/plain": [
       "array([[1., 0.],\n",
       "       [0., 1.]])"
      ]
     },
     "execution_count": 13,
     "metadata": {},
     "output_type": "execute_result"
    }
   ],
   "source": [
    "I = P[-2:,-2:]\n",
    "I"
   ]
  },
  {
   "cell_type": "code",
   "execution_count": 14,
   "id": "1f329091-9f8f-4bd9-8238-0bbfbc082d0d",
   "metadata": {},
   "outputs": [
    {
     "data": {
      "text/plain": [
       "array([[1.18, 0.83, 0.53, 0.09, 0.17, 0.09],\n",
       "       [0.  , 1.18, 0.75, 0.13, 0.24, 0.12],\n",
       "       [0.  , 0.  , 1.11, 0.19, 0.  , 0.  ],\n",
       "       [0.  , 0.  , 0.  , 1.11, 0.  , 0.  ],\n",
       "       [0.  , 0.  , 1.  , 0.17, 1.  , 0.  ],\n",
       "       [0.  , 0.  , 1.05, 0.18, 0.  , 1.05]])"
      ]
     },
     "execution_count": 14,
     "metadata": {},
     "output_type": "execute_result"
    }
   ],
   "source": [
    "N = np.linalg.inv(np.eye(len(Q)) - Q)\n",
    "N.round(2)"
   ]
  },
  {
   "cell_type": "code",
   "execution_count": 15,
   "id": "bfcefd0e-430d-46a4-8229-77c091c3ed89",
   "metadata": {},
   "outputs": [
    {
     "data": {
      "text/plain": [
       "array([[0.54922601, 0.45077399],\n",
       "       [0.36140351, 0.63859649],\n",
       "       [0.05555556, 0.94444444],\n",
       "       [0.        , 1.        ],\n",
       "       [0.15      , 0.85      ],\n",
       "       [0.10526316, 0.89473684]])"
      ]
     },
     "execution_count": 15,
     "metadata": {},
     "output_type": "execute_result"
    }
   ],
   "source": [
    "B = N @ R\n",
    "B"
   ]
  },
  {
   "cell_type": "code",
   "execution_count": null,
   "id": "22bf2272-1dbf-4d56-a39c-66a0201e8c09",
   "metadata": {},
   "outputs": [],
   "source": []
  }
 ],
 "metadata": {
  "kernelspec": {
   "display_name": "Python 3 (ipykernel)",
   "language": "python",
   "name": "python3"
  },
  "language_info": {
   "codemirror_mode": {
    "name": "ipython",
    "version": 3
   },
   "file_extension": ".py",
   "mimetype": "text/x-python",
   "name": "python",
   "nbconvert_exporter": "python",
   "pygments_lexer": "ipython3",
   "version": "3.13.0"
  }
 },
 "nbformat": 4,
 "nbformat_minor": 5
}
