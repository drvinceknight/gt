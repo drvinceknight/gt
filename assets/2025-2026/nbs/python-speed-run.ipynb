{
 "cells": [
  {
   "cell_type": "markdown",
   "id": "6b6ba281-1ed7-4142-9be7-6b66405c14ee",
   "metadata": {},
   "source": [
    "# Python refresher.\n",
    "\n",
    "Recommended reading for first time Python users: https://vknight.org/pfm/building-tools/01-variables-conditionals-loops/introduction/main.html"
   ]
  },
  {
   "cell_type": "markdown",
   "id": "24e9cf1e-8921-4386-af77-d593e08ee86e",
   "metadata": {},
   "source": [
    "# Basic Python"
   ]
  },
  {
   "cell_type": "code",
   "execution_count": 1,
   "id": "9dd5b1b1-dcae-43d2-8319-0367ecdba228",
   "metadata": {},
   "outputs": [
    {
     "data": {
      "text/plain": [
       "4"
      ]
     },
     "execution_count": 1,
     "metadata": {},
     "output_type": "execute_result"
    }
   ],
   "source": [
    "2 + 2"
   ]
  },
  {
   "cell_type": "code",
   "execution_count": 2,
   "id": "3275f8f6-f8f9-4e8d-93e6-fbc45498cf33",
   "metadata": {},
   "outputs": [
    {
     "data": {
      "text/plain": [
       "0.402630085711162"
      ]
     },
     "execution_count": 2,
     "metadata": {},
     "output_type": "execute_result"
    }
   ],
   "source": [
    "import random\n",
    "\n",
    "random.random()"
   ]
  },
  {
   "cell_type": "markdown",
   "id": "1f8c4c87-12e5-445f-ba6d-41757f36d393",
   "metadata": {},
   "source": [
    "# Game Theory Libraries"
   ]
  },
  {
   "cell_type": "code",
   "execution_count": 4,
   "id": "939d1c65-1695-433e-9889-d4e9be8d02f4",
   "metadata": {},
   "outputs": [],
   "source": [
    "import numpy as np\n",
    "import nashpy as nash\n",
    "import axelrod as axl"
   ]
  },
  {
   "cell_type": "code",
   "execution_count": 11,
   "id": "9e46a116-1f83-4024-9c32-703a5ce39627",
   "metadata": {},
   "outputs": [
    {
     "data": {
      "text/plain": [
       "array([[3, 0],\n",
       "       [5, 1]])"
      ]
     },
     "execution_count": 11,
     "metadata": {},
     "output_type": "execute_result"
    }
   ],
   "source": [
    "M_r = np.array(\n",
    "    (\n",
    "        (3, 0),\n",
    "        (5, 1),\n",
    "    )\n",
    ")\n",
    "M_r"
   ]
  },
  {
   "cell_type": "code",
   "execution_count": 12,
   "id": "03a97371-7c1b-441e-a439-54b69f9074ac",
   "metadata": {},
   "outputs": [
    {
     "data": {
      "text/plain": [
       "array([[3, 5],\n",
       "       [0, 1]])"
      ]
     },
     "execution_count": 12,
     "metadata": {},
     "output_type": "execute_result"
    }
   ],
   "source": [
    "M_r.T"
   ]
  },
  {
   "cell_type": "markdown",
   "id": "61a947e9-89b2-44eb-9684-15aa410d856b",
   "metadata": {},
   "source": [
    "We will now define the game:"
   ]
  },
  {
   "cell_type": "code",
   "execution_count": 13,
   "id": "dfd0f8cc-c5e8-4089-846f-28aa70a77ddd",
   "metadata": {},
   "outputs": [],
   "source": [
    "pd = nash.Game(M_r, M_r.T)"
   ]
  },
  {
   "cell_type": "code",
   "execution_count": 14,
   "id": "dd8dd38d-21e4-42e4-a405-da5f4ef4ea7b",
   "metadata": {},
   "outputs": [
    {
     "data": {
      "text/plain": [
       "Bi matrix game with payoff matrices:\n",
       "\n",
       "Row player:\n",
       "[[3 0]\n",
       " [5 1]]\n",
       "\n",
       "Column player:\n",
       "[[3 5]\n",
       " [0 1]]"
      ]
     },
     "execution_count": 14,
     "metadata": {},
     "output_type": "execute_result"
    }
   ],
   "source": [
    "pd"
   ]
  },
  {
   "cell_type": "code",
   "execution_count": 15,
   "id": "2f2d31b0-0649-441f-bf4d-fa2d315c60ee",
   "metadata": {},
   "outputs": [],
   "source": [
    "sigma_r = np.array((.2, .8))\n",
    "sigma_c = np.array((.4, .6))"
   ]
  },
  {
   "cell_type": "code",
   "execution_count": 16,
   "id": "7b1134d4-be6c-494f-94c9-b7ee78dcf193",
   "metadata": {},
   "outputs": [
    {
     "data": {
      "text/plain": [
       "array([2.32, 1.32])"
      ]
     },
     "execution_count": 16,
     "metadata": {},
     "output_type": "execute_result"
    }
   ],
   "source": [
    "pd[sigma_r, sigma_c]"
   ]
  },
  {
   "cell_type": "code",
   "execution_count": 18,
   "id": "fc2c50ab-25e8-4c9a-8b11-0fa5e95254c1",
   "metadata": {},
   "outputs": [
    {
     "data": {
      "text/plain": [
       "[(array([0., 1.]), array([0., 1.]))]"
      ]
     },
     "execution_count": 18,
     "metadata": {},
     "output_type": "execute_result"
    }
   ],
   "source": [
    "list(pd.support_enumeration())"
   ]
  },
  {
   "cell_type": "markdown",
   "id": "165da35c-e293-4eba-bd64-05a62d7036c6",
   "metadata": {},
   "source": [
    "Let us see what happens when we model reputation through direct reciprocity (ie repeated versions of the PD):"
   ]
  },
  {
   "cell_type": "code",
   "execution_count": 19,
   "id": "94d297fb-d645-44fe-859c-840b39e275d1",
   "metadata": {},
   "outputs": [],
   "source": [
    "players = (\n",
    "    axl.Cooperator(),\n",
    "    axl.TitForTat(),\n",
    "    axl.Defector(),\n",
    ")"
   ]
  },
  {
   "cell_type": "code",
   "execution_count": 20,
   "id": "12a9c742-11c5-48f8-90a0-11456ae0ceb6",
   "metadata": {},
   "outputs": [],
   "source": [
    "tournament = axl.Tournament(players=players)"
   ]
  },
  {
   "cell_type": "code",
   "execution_count": 21,
   "id": "5c302348-df0c-4ee4-9e03-550d39a067bb",
   "metadata": {},
   "outputs": [
    {
     "name": "stderr",
     "output_type": "stream",
     "text": [
      "Playing matches: 100%|██████████████████████████████████████████████████████████████████████████████████████| 6/6 [00:00<00:00, 111.73it/s]\n",
      "Analysing: 100%|██████████████████████████████████████████████████████████████████████████████████████████| 25/25 [00:00<00:00, 419.19it/s]\n"
     ]
    }
   ],
   "source": [
    "results = tournament.play()"
   ]
  },
  {
   "cell_type": "code",
   "execution_count": 22,
   "id": "f7afd33c-37bf-4516-82ff-9564ef2b2459",
   "metadata": {},
   "outputs": [
    {
     "data": {
      "text/plain": [
       "['Defector', 'Tit For Tat', 'Cooperator']"
      ]
     },
     "execution_count": 22,
     "metadata": {},
     "output_type": "execute_result"
    }
   ],
   "source": [
    "results.ranked_names"
   ]
  },
  {
   "cell_type": "code",
   "execution_count": 27,
   "id": "c8af9e4c-dc9b-495a-8324-daac0edaee4b",
   "metadata": {},
   "outputs": [
    {
     "data": {
      "text/plain": [
       "array([[3.   , 3.   , 0.   ],\n",
       "       [3.   , 3.   , 0.995],\n",
       "       [5.   , 1.02 , 1.   ]])"
      ]
     },
     "execution_count": 27,
     "metadata": {},
     "output_type": "execute_result"
    }
   ],
   "source": [
    "M_r = np.array(results.payoff_matrix)\n",
    "M_r"
   ]
  },
  {
   "cell_type": "code",
   "execution_count": 28,
   "id": "b43e001e-a08e-4906-b59f-2522ff02a1b7",
   "metadata": {},
   "outputs": [],
   "source": [
    "M_c = M_r.T"
   ]
  },
  {
   "cell_type": "code",
   "execution_count": 29,
   "id": "c1903c63-a930-447f-8d0a-2f6c304edbf8",
   "metadata": {},
   "outputs": [],
   "source": [
    "ipd = nash.Game(M_r, M_c)"
   ]
  },
  {
   "cell_type": "code",
   "execution_count": 30,
   "id": "c0e267f5-c32a-4209-a80d-f9eda268dea0",
   "metadata": {},
   "outputs": [
    {
     "name": "stderr",
     "output_type": "stream",
     "text": [
      "/Library/Frameworks/Python.framework/Versions/3.13/lib/python3.13/site-packages/nashpy/algorithms/support_enumeration.py:260: RuntimeWarning: \n",
      "An even number of (2) equilibria was returned. This\n",
      "indicates that the game is degenerate. Consider using another algorithm\n",
      "to investigate.\n",
      "                  \n",
      "  warnings.warn(warning, RuntimeWarning)\n"
     ]
    },
    {
     "data": {
      "text/plain": [
       "[(array([0., 1., 0.]), array([0., 1., 0.])),\n",
       " (array([0., 0., 1.]), array([0., 0., 1.]))]"
      ]
     },
     "execution_count": 30,
     "metadata": {},
     "output_type": "execute_result"
    }
   ],
   "source": [
    "list(ipd.support_enumeration())"
   ]
  },
  {
   "cell_type": "code",
   "execution_count": null,
   "id": "a9a3215c-b677-418a-8a30-5ab2a82e07da",
   "metadata": {},
   "outputs": [],
   "source": []
  }
 ],
 "metadata": {
  "kernelspec": {
   "display_name": "Python 3 (ipykernel)",
   "language": "python",
   "name": "python3"
  },
  "language_info": {
   "codemirror_mode": {
    "name": "ipython",
    "version": 3
   },
   "file_extension": ".py",
   "mimetype": "text/x-python",
   "name": "python",
   "nbconvert_exporter": "python",
   "pygments_lexer": "ipython3",
   "version": "3.13.0"
  }
 },
 "nbformat": 4,
 "nbformat_minor": 5
}
