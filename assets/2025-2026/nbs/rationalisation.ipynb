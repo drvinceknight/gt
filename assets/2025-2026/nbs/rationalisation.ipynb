{
 "cells": [
  {
   "cell_type": "code",
   "execution_count": 2,
   "id": "017a15c1-0481-4713-b2b0-f271f14ee4ab",
   "metadata": {},
   "outputs": [],
   "source": [
    "import random\n",
    "\n",
    "\n",
    "def sigma_1(probability_of_first_row):\n",
    "    \"\"\"\n",
    "    Picks the first row with given probability\n",
    "    \"\"\"\n",
    "    if random.random() < probability_of_first_row:\n",
    "        return \"r_1\"\n",
    "    return \"r_2\""
   ]
  },
  {
   "cell_type": "code",
   "execution_count": 4,
   "id": "940dead7-a754-40aa-b5b0-8fb800f7e7c6",
   "metadata": {},
   "outputs": [
    {
     "name": "stdout",
     "output_type": "stream",
     "text": [
      "r_1\n",
      "r_1\n",
      "r_1\n",
      "r_2\n",
      "r_2\n",
      "r_2\n"
     ]
    }
   ],
   "source": [
    "probability_of_first_row = .2\n",
    "\n",
    "for _ in range(6):\n",
    "    print(sigma_1(probability_of_first_row=probability_of_first_row))"
   ]
  },
  {
   "cell_type": "code",
   "execution_count": 5,
   "id": "803b7534-08b9-453c-bfb3-bac734e65ba9",
   "metadata": {},
   "outputs": [
    {
     "name": "stdout",
     "output_type": "stream",
     "text": [
      "r_1\n",
      "r_1\n",
      "r_1\n",
      "r_1\n",
      "r_1\n",
      "r_1\n"
     ]
    }
   ],
   "source": [
    "probability_of_first_row = .9\n",
    "\n",
    "for _ in range(6):\n",
    "    print(sigma_1(probability_of_first_row=probability_of_first_row))"
   ]
  },
  {
   "cell_type": "code",
   "execution_count": 6,
   "id": "2bedcaee-d0dd-418d-9a2e-43edf988a642",
   "metadata": {},
   "outputs": [
    {
     "name": "stdout",
     "output_type": "stream",
     "text": [
      "r_2\n",
      "r_2\n",
      "r_2\n",
      "r_2\n",
      "r_1\n",
      "r_1\n"
     ]
    }
   ],
   "source": [
    "probability_of_first_row = 1 / 3\n",
    "\n",
    "for _ in range(6):\n",
    "    print(sigma_1(probability_of_first_row=probability_of_first_row))"
   ]
  },
  {
   "cell_type": "code",
   "execution_count": null,
   "id": "a4503e32-65cf-474d-9f6f-ddb9b1127a33",
   "metadata": {},
   "outputs": [],
   "source": []
  }
 ],
 "metadata": {
  "kernelspec": {
   "display_name": "Python 3 (ipykernel)",
   "language": "python",
   "name": "python3"
  },
  "language_info": {
   "codemirror_mode": {
    "name": "ipython",
    "version": 3
   },
   "file_extension": ".py",
   "mimetype": "text/x-python",
   "name": "python",
   "nbconvert_exporter": "python",
   "pygments_lexer": "ipython3",
   "version": "3.13.0"
  }
 },
 "nbformat": 4,
 "nbformat_minor": 5
}
