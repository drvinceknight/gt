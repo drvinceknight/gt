{
 "cells": [
  {
   "cell_type": "markdown",
   "id": "1f420089-3bba-4306-b0b9-e77126331b74",
   "metadata": {},
   "source": [
    "In class we spoke about the replicator dynamics equation: a differential\n",
    "equation that is a building block of evolutionary game theory.\n",
    "\n",
    "You can see a recording of this [here](https://cardiff.cloud.panopto.eu/Panopto/Pages/Viewer.aspx?id=0afdd506-fee8-4a1f-9d47-b2890118f7a0).\n",
    "\n",
    "I asked you all to suggest examples of social conventions. I then picked the\n",
    "idea of asking \"How are you?\" and responding \"Fine\" as a socially\n",
    "conventionally greeting to explore from an evolutionary game theoretic point of\n",
    "view.\n",
    "\n",
    "We used the following game to model this using [Replicator Dynamics](https://vknight.org/gt/topics/replicator-dynamics.html):\n",
    "\n",
    "$$\n",
    "A = \\begin{pmatrix}\n",
    "    2 & -1 \\\\\n",
    "    0 & 2\\\\\n",
    "\\end{pmatrix}\n",
    "$$\n",
    "\n",
    "This assumes a population of two types of individuals:\n",
    "\n",
    "- The first type \\\\(H\\\\): individuals who say \"How are you?\" and expect \"Fine\"\n",
    "  to complete the greeting. These individuals get a utility of 2 when meeting\n",
    "  each other and a utility of -1 when meeting someone who does not follow the\n",
    "  convention.\n",
    "- The second type \\\\(\\bar H\\\\): individuals who use a different type of\n",
    "  greeting. These individuals get a utility of 0 when meeting someone of type\n",
    "  \\\\(H\\\\) and 2 when meeting someone of their own type.\n",
    "\n",
    "We then model a given population using a vector \\\\(x=(x_1, x_2)\\\\) where \\\\(x_1\\\\)\n",
    "corresponds to the **proportion** of individuals of the type \\\\(H\\\\) and\n",
    "\\\\(x_2=1-x_1\\\\) is the **proportion** of the type \\\\(\\bar H\\\\).\n",
    "\n",
    "Let us use `sympy` to create all these variables:"
   ]
  },
  {
   "cell_type": "code",
   "execution_count": 1,
   "id": "8f0b6457-12ac-4a13-82a1-c686f51a15bf",
   "metadata": {},
   "outputs": [],
   "source": [
    "import sympy as sym\n",
    "import nashpy as nash\n",
    "import numpy as np\n",
    "import matplotlib.pyplot as plt"
   ]
  },
  {
   "cell_type": "code",
   "execution_count": 2,
   "id": "aa59e0e2-94d7-411c-97b8-8c2652172af2",
   "metadata": {},
   "outputs": [],
   "source": [
    "x1 = sym.Symbol(\"x_1\")\n",
    "x2 = sym.Symbol(\"x_2\")"
   ]
  },
  {
   "cell_type": "markdown",
   "id": "f3360ad0-33cd-4669-8f56-f50a7c115bd3",
   "metadata": {},
   "source": [
    "We can then compute the average fitness of individuals of each type:\n",
    "\n",
    "$$\n",
    "f_1 = 2x_1 - x_2\n",
    "$$\n",
    "\n",
    "The average fitness of the individuals of the second type are:\n",
    "\n",
    "$$\n",
    "f_2 = 0\\times x_1 + 2x_2 = 2x_2\n",
    "$$"
   ]
  },
  {
   "cell_type": "code",
   "execution_count": 3,
   "id": "e709af22-0b27-447e-94bf-732a4d1d62f2",
   "metadata": {},
   "outputs": [
    {
     "data": {
      "text/latex": [
       "$\\displaystyle 2 x_{1} - x_{2}$"
      ],
      "text/plain": [
       "2*x_1 - x_2"
      ]
     },
     "execution_count": 3,
     "metadata": {},
     "output_type": "execute_result"
    }
   ],
   "source": [
    "f1 = 2 * x1 - x2\n",
    "f1"
   ]
  },
  {
   "cell_type": "code",
   "execution_count": 4,
   "id": "f69f0d32-e0cc-43b7-adf4-e0b23c834834",
   "metadata": {},
   "outputs": [],
   "source": [
    "f2 = 0 * x1 + 2 * x2"
   ]
  },
  {
   "cell_type": "code",
   "execution_count": 5,
   "id": "f4fb5940-ef10-4da4-a495-befeb7c27f18",
   "metadata": {},
   "outputs": [
    {
     "data": {
      "text/latex": [
       "$\\displaystyle 2 x_{2}$"
      ],
      "text/plain": [
       "2*x_2"
      ]
     },
     "execution_count": 5,
     "metadata": {},
     "output_type": "execute_result"
    }
   ],
   "source": [
    "f2"
   ]
  },
  {
   "cell_type": "markdown",
   "id": "370f7337-0dcc-4699-ac92-8981aed25aa5",
   "metadata": {},
   "source": [
    "The average utility over the entire population is then given by:\n",
    "\n",
    "$$\\phi=x_1f_1+x_2f_2$$"
   ]
  },
  {
   "cell_type": "code",
   "execution_count": 6,
   "id": "a6a20efd-fc62-4f58-87ef-9584033d0374",
   "metadata": {},
   "outputs": [
    {
     "data": {
      "text/latex": [
       "$\\displaystyle x_{1} \\left(2 x_{1} - x_{2}\\right) + 2 x_{2}^{2}$"
      ],
      "text/plain": [
       "x_1*(2*x_1 - x_2) + 2*x_2**2"
      ]
     },
     "execution_count": 6,
     "metadata": {},
     "output_type": "execute_result"
    }
   ],
   "source": [
    "phi = x1 * f1 + x2 * f2\n",
    "phi"
   ]
  },
  {
   "cell_type": "markdown",
   "id": "41fac0dd-83a4-4a2b-a0dd-ab72bb6d5c17",
   "metadata": {},
   "source": [
    "In the [notes on Replicator\n",
    "Dynamics](https://nashpy.readthedocs.io/en/stable/text-book/replicator-dynamics.html#)\n",
    "you can find linear algebraic expressions of these quantities \\\\(f\\\\) and\n",
    "\\\\(\\phi\\\\) that extend naturally to populations with more than just 2 types.\n",
    "\n",
    "The **actual** Replicator Dynamics equation is then given by:\n",
    "\n",
    "$$\n",
    "\\frac{dx_i}{dt} = x_i(f_i-\\phi)\\text{ for all}i\n",
    "$$\n",
    "\n",
    "In the case of our game this corresponds to:\n",
    "\n",
    "$$\n",
    "\\begin{align}\n",
    "\\frac{dx_1}{dt} =& x_1 (2x_1 - x_2 - x_1(2x_1 - x_2)-2x_2)\\\\\n",
    "\\frac{dx_2}{dt} =& x_2 (2x_2 - x_2 - x_1(2x_1 - x_2)-2x_2)\n",
    "\\end{align}\n",
    "$$"
   ]
  },
  {
   "cell_type": "code",
   "execution_count": 7,
   "id": "3be71997-b64c-4a10-afd0-ad3ef3618988",
   "metadata": {},
   "outputs": [
    {
     "data": {
      "text/latex": [
       "$\\displaystyle x_{1} \\left(- x_{1} \\left(2 x_{1} - x_{2}\\right) + 2 x_{1} - 2 x_{2}^{2} - x_{2}\\right)$"
      ],
      "text/plain": [
       "x_1*(-x_1*(2*x_1 - x_2) + 2*x_1 - 2*x_2**2 - x_2)"
      ]
     },
     "execution_count": 7,
     "metadata": {},
     "output_type": "execute_result"
    }
   ],
   "source": [
    "rhs_of_dx1dt = x1 * (f1 - phi)\n",
    "rhs_of_dx1dt"
   ]
  },
  {
   "cell_type": "code",
   "execution_count": 8,
   "id": "6a07424f-4b93-4820-9286-8137e5b7f205",
   "metadata": {},
   "outputs": [
    {
     "data": {
      "text/latex": [
       "$\\displaystyle x_{2} \\left(- x_{1} \\left(2 x_{1} - x_{2}\\right) - 2 x_{2}^{2} + 2 x_{2}\\right)$"
      ],
      "text/plain": [
       "x_2*(-x_1*(2*x_1 - x_2) - 2*x_2**2 + 2*x_2)"
      ]
     },
     "execution_count": 8,
     "metadata": {},
     "output_type": "execute_result"
    }
   ],
   "source": [
    "rhs_of_dx2dt = x2 * (f2 - phi)\n",
    "rhs_of_dx2dt"
   ]
  },
  {
   "cell_type": "markdown",
   "id": "c960dd10-7435-483c-b9cc-b5b5a45ec2a8",
   "metadata": {},
   "source": [
    "Let us substitute \\\\(x_2=1-x_1\\\\) and factorise:"
   ]
  },
  {
   "cell_type": "code",
   "execution_count": 9,
   "id": "118891aa-2ffd-46a8-a72f-7b1d79b81579",
   "metadata": {},
   "outputs": [
    {
     "data": {
      "text/latex": [
       "$\\displaystyle - x_{1} \\left(x_{1} - 1\\right) \\left(5 x_{1} - 3\\right)$"
      ],
      "text/plain": [
       "-x_1*(x_1 - 1)*(5*x_1 - 3)"
      ]
     },
     "execution_count": 9,
     "metadata": {},
     "output_type": "execute_result"
    }
   ],
   "source": [
    "sym.factor(rhs_of_dx1dt.subs({x2 : 1 - x1}))"
   ]
  },
  {
   "cell_type": "code",
   "execution_count": 10,
   "id": "8c115d34-facc-4a22-83a3-223b2c8d3e8b",
   "metadata": {},
   "outputs": [
    {
     "data": {
      "text/latex": [
       "$\\displaystyle x_{1} \\left(x_{1} - 1\\right) \\left(5 x_{1} - 3\\right)$"
      ],
      "text/plain": [
       "x_1*(x_1 - 1)*(5*x_1 - 3)"
      ]
     },
     "execution_count": 10,
     "metadata": {},
     "output_type": "execute_result"
    }
   ],
   "source": [
    "sym.factor(rhs_of_dx2dt.subs({x2 : 1 - x1}))"
   ]
  },
  {
   "cell_type": "markdown",
   "id": "8db114c2-d6c7-42d9-8760-b7cd49122560",
   "metadata": {},
   "source": [
    "This gives:\n",
    "\n",
    "$$\n",
    "\\begin{align}\n",
    "\\frac{dx_1}{dt} =& - x_{1} \\left(x_{1} - 1\\right) \\left(5 x_{1} - 3\\right)\\\\\n",
    "\\frac{dx_2}{dt} =& x_{1} \\left(x_{1} - 1\\right) \\left(5 x_{1} - 3\\right)\n",
    "\\end{align}\n",
    "$$\n",
    "\n",
    "We note that \\\\(\\frac{dx_1}{dt}=-\\frac{dx_2}{dt}\\\\) which is expected as we have\n",
    "\\\\(x_1+x_2=1\\\\).\n",
    "\n",
    "And we see (setting the derivatives to be equal to 0) that there are 3 stable\n",
    "populations:"
   ]
  },
  {
   "cell_type": "code",
   "execution_count": 11,
   "id": "b8306650-1fdb-477b-9330-a9ad3e7f5e76",
   "metadata": {},
   "outputs": [
    {
     "data": {
      "text/latex": [
       "$\\displaystyle \\left\\{0, \\frac{3}{5}, 1\\right\\}$"
      ],
      "text/plain": [
       "{0, 3/5, 1}"
      ]
     },
     "execution_count": 11,
     "metadata": {},
     "output_type": "execute_result"
    }
   ],
   "source": [
    "equation = sym.Eq(lhs=rhs_of_dx1dt.subs({x2 : 1 - x1}), rhs=0)\n",
    "sym.solveset(equation, x1)"
   ]
  },
  {
   "cell_type": "markdown",
   "id": "cc58a871-47c6-4d55-8e15-cf009d39f692",
   "metadata": {},
   "source": [
    "\n",
    "- \\\\(x_1=0\\\\): No one uses \"Hello how are you\" as a greeting.\n",
    "- \\\\(x_1=1\\\\): Everyone uses \"Hello how are you\" as a greeting.\n",
    "- \\\\(x_1=3/5\\\\): 60% the population uses \"Hello how are you\" as a greeting.\n",
    "\n",
    "The fact that this is **stable** mathematically (ie the derivatives are zero)\n",
    "corresponds to the game theoretic fact that in these populations every type of\n",
    "individual has the same fitness: **so no one behaviour has an evolutionary\n",
    "advantage.**\n",
    "\n",
    "Let us see how the replicator dynamics equation can be [solved numerically](https://nashpy.readthedocs.io/en/stable/how-to/use-replicator-dynamics.html) so that \n",
    "the populations can be observed over time."
   ]
  },
  {
   "cell_type": "code",
   "execution_count": 12,
   "id": "61d9e817-b54d-4d3a-b333-874048188f32",
   "metadata": {},
   "outputs": [],
   "source": [
    "A = np.array([[2, -1], [0, 2]])\n",
    "game = nash.Game(A)"
   ]
  },
  {
   "cell_type": "markdown",
   "id": "6ad75fe3-221f-4e8a-b5d0-155c3bb73846",
   "metadata": {},
   "source": [
    "## Starting with a uniformly distributed population"
   ]
  },
  {
   "cell_type": "code",
   "execution_count": 13,
   "id": "3586ec5f-60a2-4773-b0a3-2587ee67f9a3",
   "metadata": {},
   "outputs": [
    {
     "data": {
      "image/png": "[encoded data removed]",
      "text/plain": [
       "<Figure size 640x480 with 1 Axes>"
      ]
     },
     "metadata": {},
     "output_type": "display_data"
    }
   ],
   "source": [
    "initial_population = np.array([.5, .5])\n",
    "timepoints = np.linspace(0, 10, 1000)\n",
    "populations = game.replicator_dynamics(y0=initial_population, timepoints=timepoints)\n",
    "x1s, x2s = populations.T\n",
    "\n",
    "\n",
    "plt.figure()\n",
    "plt.plot(x1s, label=\"$x_1$\")\n",
    "plt.plot(x2s, label=\"$x_2$\")\n",
    "plt.legend()\n",
    "plt.xlabel(\"time\")\n",
    "plt.ylabel(\"$x$\");"
   ]
  },
  {
   "cell_type": "markdown",
   "id": "c511f0d9-703d-4731-b5dc-03df5f081cac",
   "metadata": {},
   "source": [
    "We see that if we start with $x=(1/2, 1/2)$ the population converges to no one using \"Hello how are you\" as a greeting."
   ]
  },
  {
   "cell_type": "markdown",
   "id": "ff335a8e-928e-48dd-929c-a8c6ebf9410b",
   "metadata": {},
   "source": [
    "## Starting with a small population of $\\bar H$"
   ]
  },
  {
   "cell_type": "code",
   "execution_count": 14,
   "id": "13ce33e3-7df9-4ac8-acc7-b7d6a7af2c6c",
   "metadata": {},
   "outputs": [
    {
     "data": {
      "image/png": "[encoded data removed]",
      "text/plain": [
       "<Figure size 640x480 with 1 Axes>"
      ]
     },
     "metadata": {},
     "output_type": "display_data"
    }
   ],
   "source": [
    "initial_population = np.array([.9, .1])\n",
    "timepoints = np.linspace(0, 10, 1000)\n",
    "populations = game.replicator_dynamics(y0=initial_population, timepoints=timepoints)\n",
    "x1s, x2s = populations.T\n",
    "\n",
    "\n",
    "plt.figure()\n",
    "plt.plot(x1s, label=\"$x_1$\")\n",
    "plt.plot(x2s, label=\"$x_2$\")\n",
    "plt.legend()\n",
    "plt.xlabel(\"time\")\n",
    "plt.ylabel(\"$x$\");"
   ]
  },
  {
   "cell_type": "markdown",
   "id": "19739ab6-a479-4ee7-8774-aac2bba7efc5",
   "metadata": {},
   "source": [
    "We see that with a small amount of $\\bar H$ that small amount gets rejected by the population."
   ]
  },
  {
   "cell_type": "markdown",
   "id": "04f9c130-f272-4b83-9672-33f93329a77f",
   "metadata": {},
   "source": [
    "## Confirm that $x_1=3/5$ is stable:"
   ]
  },
  {
   "cell_type": "code",
   "execution_count": 15,
   "id": "6f1c0aca-49a6-4b0f-bb78-0b6f15bcb3b3",
   "metadata": {},
   "outputs": [
    {
     "data": {
      "image/png": "[encoded data removed]",
      "text/plain": [
       "<Figure size 640x480 with 1 Axes>"
      ]
     },
     "metadata": {},
     "output_type": "display_data"
    }
   ],
   "source": [
    "initial_population = np.array([3 / 5, 2 / 5])\n",
    "timepoints = np.linspace(0, 10, 1000)\n",
    "populations = game.replicator_dynamics(y0=initial_population, timepoints=timepoints)\n",
    "x1s, x2s = populations.T\n",
    "\n",
    "\n",
    "plt.figure()\n",
    "plt.plot(x1s, label=\"$x_1$\")\n",
    "plt.plot(x2s, label=\"$x_2$\")\n",
    "plt.legend()\n",
    "plt.xlabel(\"time\")\n",
    "plt.ylabel(\"$x$\");"
   ]
  },
  {
   "cell_type": "markdown",
   "id": "b9eb6b75-3534-4aa1-b94e-8b2abd2fbf55",
   "metadata": {},
   "source": [
    "This confirms the 0 derivative. Let us see what happens if we budge slightly from that population.\n",
    "\n",
    "First: a small increase of \\\\(H\\\\):"
   ]
  },
  {
   "cell_type": "code",
   "execution_count": 16,
   "id": "1a5723c1-0371-42ac-b9ce-5032fa185685",
   "metadata": {},
   "outputs": [
    {
     "data": {
      "image/png": "[encoded data removed]",
      "text/plain": [
       "<Figure size 640x480 with 1 Axes>"
      ]
     },
     "metadata": {},
     "output_type": "display_data"
    }
   ],
   "source": [
    "epsilon = 10 ** -3\n",
    "\n",
    "initial_population = np.array([3 / 5 + epsilon, 2 / 5 - epsilon])\n",
    "timepoints = np.linspace(0, 10, 1000)\n",
    "populations = game.replicator_dynamics(y0=initial_population, timepoints=timepoints)\n",
    "x1s, x2s = populations.T\n",
    "\n",
    "\n",
    "plt.figure()\n",
    "plt.plot(x1s, label=\"$x_1$\")\n",
    "plt.plot(x2s, label=\"$x_2$\")\n",
    "plt.legend()\n",
    "plt.xlabel(\"time\")\n",
    "plt.ylabel(\"$x$\");"
   ]
  },
  {
   "cell_type": "markdown",
   "id": "1a21560b-283b-4e9a-bdee-ac312d4671ce",
   "metadata": {},
   "source": [
    "We see that that small nudge is enough to force the population to all adopt \"Hello how are you\" as a greeting.\n",
    "\n",
    "What if the nudge was the other way?"
   ]
  },
  {
   "cell_type": "code",
   "execution_count": 17,
   "id": "f8ad683b-f9c5-44f6-aa2c-09dbe96ad77c",
   "metadata": {},
   "outputs": [
    {
     "data": {
      "image/png": "[encoded data removed]",
      "text/plain": [
       "<Figure size 640x480 with 1 Axes>"
      ]
     },
     "metadata": {},
     "output_type": "display_data"
    }
   ],
   "source": [
    "epsilon = 10 ** -3\n",
    "\n",
    "initial_population = np.array([3 / 5 - epsilon, 2 / 5 + epsilon])\n",
    "timepoints = np.linspace(0, 10, 1000)\n",
    "populations = game.replicator_dynamics(y0=initial_population, timepoints=timepoints)\n",
    "x1s, x2s = populations.T\n",
    "\n",
    "\n",
    "plt.figure()\n",
    "plt.plot(x1s, label=\"$x_1$\")\n",
    "plt.plot(x2s, label=\"$x_2$\")\n",
    "plt.legend()\n",
    "plt.xlabel(\"time\")\n",
    "plt.ylabel(\"$x$\");"
   ]
  },
  {
   "cell_type": "markdown",
   "id": "d98c8a69-c089-4202-9600-f2f367347e76",
   "metadata": {},
   "source": [
    "This is enough to nudge the population to stop using \"Hello how are you\" as a greeting."
   ]
  }
 ],
 "metadata": {
  "kernelspec": {
   "display_name": "Python 3 (ipykernel)",
   "language": "python",
   "name": "python3"
  },
  "language_info": {
   "codemirror_mode": {
    "name": "ipython",
    "version": 3
   },
   "file_extension": ".py",
   "mimetype": "text/x-python",
   "name": "python",
   "nbconvert_exporter": "python",
   "pygments_lexer": "ipython3",
   "version": "3.13.0"
  }
 },
 "nbformat": 4,
 "nbformat_minor": 5
}
