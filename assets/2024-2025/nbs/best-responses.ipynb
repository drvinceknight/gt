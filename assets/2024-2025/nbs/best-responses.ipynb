{
 "cells": [
  {
   "cell_type": "code",
   "execution_count": 12,
   "id": "ab8668f0-abaf-4fef-b794-e8ca3f8c0887",
   "metadata": {},
   "outputs": [],
   "source": [
    "import random\n",
    "\n",
    "def play_strategy(probability_of_r1):\n",
    "    return [\"r_1\", \"r_2\"][random.random() > probability_of_r1]"
   ]
  },
  {
   "cell_type": "code",
   "execution_count": 13,
   "id": "330b8691-85fb-4662-894b-15a43d8b248e",
   "metadata": {},
   "outputs": [
    {
     "data": {
      "text/plain": [
       "'r_2'"
      ]
     },
     "execution_count": 13,
     "metadata": {},
     "output_type": "execute_result"
    }
   ],
   "source": [
    "play_strategy(probability_of_r1=.2)"
   ]
  },
  {
   "cell_type": "code",
   "execution_count": 14,
   "id": "b2926d6c-6d02-4349-a968-8bd50b5eeeaa",
   "metadata": {},
   "outputs": [
    {
     "data": {
      "text/plain": [
       "'r_2'"
      ]
     },
     "execution_count": 14,
     "metadata": {},
     "output_type": "execute_result"
    }
   ],
   "source": [
    "play_strategy(probability_of_r1=.2)"
   ]
  },
  {
   "cell_type": "code",
   "execution_count": 15,
   "id": "5a1d7ec8-f9a4-4cdf-9ab8-abc4d276d9cc",
   "metadata": {},
   "outputs": [
    {
     "data": {
      "text/plain": [
       "'r_2'"
      ]
     },
     "execution_count": 15,
     "metadata": {},
     "output_type": "execute_result"
    }
   ],
   "source": [
    "play_strategy(probability_of_r1=.2)"
   ]
  },
  {
   "cell_type": "code",
   "execution_count": 16,
   "id": "b30395da-5b53-47cb-9f6d-3c25ff054986",
   "metadata": {},
   "outputs": [
    {
     "data": {
      "text/plain": [
       "'r_2'"
      ]
     },
     "execution_count": 16,
     "metadata": {},
     "output_type": "execute_result"
    }
   ],
   "source": [
    "play_strategy(probability_of_r1=.2)"
   ]
  },
  {
   "cell_type": "code",
   "execution_count": 17,
   "id": "3334071a-5d98-41ec-b717-030b824529a5",
   "metadata": {},
   "outputs": [
    {
     "data": {
      "text/plain": [
       "'r_2'"
      ]
     },
     "execution_count": 17,
     "metadata": {},
     "output_type": "execute_result"
    }
   ],
   "source": [
    "play_strategy(probability_of_r1=.2)"
   ]
  },
  {
   "cell_type": "code",
   "execution_count": 18,
   "id": "a4b04e5f-e456-4f7e-97d6-488c6c09ae6e",
   "metadata": {},
   "outputs": [
    {
     "data": {
      "text/plain": [
       "'r_2'"
      ]
     },
     "execution_count": 18,
     "metadata": {},
     "output_type": "execute_result"
    }
   ],
   "source": [
    "play_strategy(probability_of_r1=.2)"
   ]
  },
  {
   "cell_type": "code",
   "execution_count": 31,
   "id": "a3aeecec-06fd-469c-913e-3cb017defc48",
   "metadata": {},
   "outputs": [
    {
     "name": "stdout",
     "output_type": "stream",
     "text": [
      "r_2\n",
      "r_2\n",
      "r_2\n",
      "r_2\n",
      "r_2\n",
      "r_2\n",
      "r_2\n",
      "r_2\n",
      "r_2\n",
      "r_1\n",
      "r_2\n",
      "r_2\n",
      "r_2\n",
      "r_2\n",
      "r_2\n",
      "r_1\n",
      "r_2\n",
      "r_1\n",
      "r_2\n",
      "r_1\n",
      "r_2\n",
      "r_2\n",
      "r_2\n",
      "r_1\n",
      "r_1\n",
      "r_2\n",
      "r_2\n",
      "r_2\n",
      "r_1\n",
      "r_2\n",
      "r_2\n",
      "r_2\n",
      "r_2\n",
      "r_2\n",
      "r_2\n",
      "r_2\n",
      "r_2\n",
      "r_1\n",
      "r_2\n",
      "r_2\n",
      "r_1\n",
      "r_2\n",
      "r_2\n",
      "r_2\n",
      "r_2\n",
      "r_2\n",
      "r_2\n",
      "r_1\n",
      "r_2\n",
      "r_2\n",
      "r_2\n",
      "r_2\n",
      "r_2\n",
      "r_2\n",
      "r_2\n",
      "r_2\n",
      "r_1\n",
      "r_1\n",
      "r_2\n",
      "r_2\n",
      "r_1\n",
      "r_2\n",
      "r_2\n",
      "r_2\n",
      "r_2\n",
      "r_2\n",
      "r_2\n",
      "r_2\n",
      "r_2\n",
      "r_1\n",
      "r_2\n",
      "r_2\n",
      "r_2\n",
      "r_2\n",
      "r_1\n",
      "r_2\n",
      "r_2\n",
      "r_2\n",
      "r_2\n",
      "r_2\n",
      "r_2\n",
      "r_1\n",
      "r_2\n",
      "r_1\n",
      "r_2\n",
      "r_2\n",
      "r_1\n",
      "r_2\n",
      "r_2\n",
      "r_2\n",
      "r_2\n",
      "r_2\n",
      "r_2\n",
      "r_2\n",
      "r_1\n",
      "r_2\n",
      "r_2\n",
      "r_2\n",
      "r_2\n",
      "r_1\n"
     ]
    }
   ],
   "source": [
    "for _ in range(100):\n",
    "    print(play_strategy(probability_of_r1=.2))"
   ]
  },
  {
   "cell_type": "markdown",
   "id": "0ae71153-08cb-47e1-8acc-36b773b3e684",
   "metadata": {},
   "source": [
    "## Second game"
   ]
  },
  {
   "cell_type": "code",
   "execution_count": 19,
   "id": "cb55719b-6659-44db-83ab-bf038baaf29c",
   "metadata": {},
   "outputs": [
    {
     "data": {
      "text/plain": [
       "'r_1'"
      ]
     },
     "execution_count": 19,
     "metadata": {},
     "output_type": "execute_result"
    }
   ],
   "source": [
    "play_strategy(probability_of_r1=.9)"
   ]
  },
  {
   "cell_type": "code",
   "execution_count": 20,
   "id": "6b81a245-be6c-4b27-9d7c-04ebfd7b130d",
   "metadata": {},
   "outputs": [
    {
     "data": {
      "text/plain": [
       "'r_1'"
      ]
     },
     "execution_count": 20,
     "metadata": {},
     "output_type": "execute_result"
    }
   ],
   "source": [
    "play_strategy(probability_of_r1=.9)"
   ]
  },
  {
   "cell_type": "code",
   "execution_count": 21,
   "id": "35d78168-3874-4ecf-8af5-e23c5d3114e4",
   "metadata": {},
   "outputs": [
    {
     "data": {
      "text/plain": [
       "'r_1'"
      ]
     },
     "execution_count": 21,
     "metadata": {},
     "output_type": "execute_result"
    }
   ],
   "source": [
    "play_strategy(probability_of_r1=.9)"
   ]
  },
  {
   "cell_type": "code",
   "execution_count": 22,
   "id": "3ae9deba-150c-445d-98db-6f7c87a16161",
   "metadata": {},
   "outputs": [
    {
     "data": {
      "text/plain": [
       "'r_1'"
      ]
     },
     "execution_count": 22,
     "metadata": {},
     "output_type": "execute_result"
    }
   ],
   "source": [
    "play_strategy(probability_of_r1=.9)"
   ]
  },
  {
   "cell_type": "code",
   "execution_count": 23,
   "id": "2e40bdd5-35e0-4210-bb00-a28fda76eef2",
   "metadata": {},
   "outputs": [
    {
     "data": {
      "text/plain": [
       "'r_1'"
      ]
     },
     "execution_count": 23,
     "metadata": {},
     "output_type": "execute_result"
    }
   ],
   "source": [
    "play_strategy(probability_of_r1=.9)"
   ]
  },
  {
   "cell_type": "code",
   "execution_count": 24,
   "id": "e834f76d-621f-4162-b3b2-9d8e5120c9c3",
   "metadata": {},
   "outputs": [
    {
     "data": {
      "text/plain": [
       "'r_1'"
      ]
     },
     "execution_count": 24,
     "metadata": {},
     "output_type": "execute_result"
    }
   ],
   "source": [
    "play_strategy(probability_of_r1=.9)"
   ]
  },
  {
   "cell_type": "markdown",
   "id": "e95a52ea-4657-4297-ad1c-972a16e9cb26",
   "metadata": {},
   "source": [
    "## third game"
   ]
  },
  {
   "cell_type": "code",
   "execution_count": 25,
   "id": "6cc13292-7350-4f48-a488-b1ddda318f81",
   "metadata": {},
   "outputs": [
    {
     "data": {
      "text/plain": [
       "'r_2'"
      ]
     },
     "execution_count": 25,
     "metadata": {},
     "output_type": "execute_result"
    }
   ],
   "source": [
    "play_strategy(probability_of_r1=1/3)"
   ]
  },
  {
   "cell_type": "code",
   "execution_count": 26,
   "id": "beb4f3bb-6ef8-4c1a-98cd-118cbd0ac1d5",
   "metadata": {},
   "outputs": [
    {
     "data": {
      "text/plain": [
       "'r_2'"
      ]
     },
     "execution_count": 26,
     "metadata": {},
     "output_type": "execute_result"
    }
   ],
   "source": [
    "play_strategy(probability_of_r1=1/3)"
   ]
  },
  {
   "cell_type": "code",
   "execution_count": 27,
   "id": "468850f5-d4b3-44ea-8f9a-a5d4d8850763",
   "metadata": {},
   "outputs": [
    {
     "data": {
      "text/plain": [
       "'r_2'"
      ]
     },
     "execution_count": 27,
     "metadata": {},
     "output_type": "execute_result"
    }
   ],
   "source": [
    "play_strategy(probability_of_r1=1/3)"
   ]
  },
  {
   "cell_type": "code",
   "execution_count": 28,
   "id": "d50991c6-691b-47ab-b472-1c1c55e8d9f2",
   "metadata": {},
   "outputs": [
    {
     "data": {
      "text/plain": [
       "'r_2'"
      ]
     },
     "execution_count": 28,
     "metadata": {},
     "output_type": "execute_result"
    }
   ],
   "source": [
    "play_strategy(probability_of_r1=1/3)"
   ]
  },
  {
   "cell_type": "code",
   "execution_count": 29,
   "id": "82b5d053-a82a-42e3-a7eb-b362a5fb6d8f",
   "metadata": {},
   "outputs": [
    {
     "data": {
      "text/plain": [
       "'r_1'"
      ]
     },
     "execution_count": 29,
     "metadata": {},
     "output_type": "execute_result"
    }
   ],
   "source": [
    "play_strategy(probability_of_r1=1/3)"
   ]
  },
  {
   "cell_type": "code",
   "execution_count": 30,
   "id": "f8a37b2f-fa3b-4740-84f1-d24e8de83675",
   "metadata": {},
   "outputs": [
    {
     "data": {
      "text/plain": [
       "'r_2'"
      ]
     },
     "execution_count": 30,
     "metadata": {},
     "output_type": "execute_result"
    }
   ],
   "source": [
    "play_strategy(probability_of_r1=1/3)"
   ]
  },
  {
   "cell_type": "markdown",
   "id": "3b91b833-674e-4c92-b7ab-9e4437ded2cc",
   "metadata": {},
   "source": [
    "## Using Nashpy"
   ]
  },
  {
   "cell_type": "code",
   "execution_count": 32,
   "id": "109fe383-c7df-4d97-abe2-4829501356e7",
   "metadata": {},
   "outputs": [],
   "source": [
    "import numpy as np\n",
    "import nashpy as nash"
   ]
  },
  {
   "cell_type": "code",
   "execution_count": 33,
   "id": "43fbded5-9f07-4fdd-9dfa-5773aa7a037e",
   "metadata": {},
   "outputs": [],
   "source": [
    "A = np.array(\n",
    "    (\n",
    "        (2, -2),\n",
    "        (-1, 1)\n",
    "    )\n",
    ")\n",
    "game = nash.Game(A)"
   ]
  },
  {
   "cell_type": "code",
   "execution_count": 34,
   "id": "7e29036f-9942-4de2-86d5-881dadcf2bc4",
   "metadata": {},
   "outputs": [
    {
     "data": {
      "text/plain": [
       "Zero sum game with payoff matrices:\n",
       "\n",
       "Row player:\n",
       "[[ 2 -2]\n",
       " [-1  1]]\n",
       "\n",
       "Column player:\n",
       "[[-2  2]\n",
       " [ 1 -1]]"
      ]
     },
     "execution_count": 34,
     "metadata": {},
     "output_type": "execute_result"
    }
   ],
   "source": [
    "game"
   ]
  },
  {
   "cell_type": "code",
   "execution_count": 35,
   "id": "8a0156a2-0235-4135-a383-f1f469705760",
   "metadata": {},
   "outputs": [
    {
     "data": {
      "text/plain": [
       "array([ 0.08, -0.08])"
      ]
     },
     "execution_count": 35,
     "metadata": {},
     "output_type": "execute_result"
    }
   ],
   "source": [
    "sigma_r = np.array((.3, .7))\n",
    "sigma_c = np.array((.1, .9))\n",
    "game[sigma_r, sigma_c]"
   ]
  },
  {
   "cell_type": "code",
   "execution_count": null,
   "id": "9a6129e0-8046-4541-a9b8-7862b3c2b4a3",
   "metadata": {},
   "outputs": [],
   "source": []
  }
 ],
 "metadata": {
  "kernelspec": {
   "display_name": "Python 3 (ipykernel)",
   "language": "python",
   "name": "python3"
  },
  "language_info": {
   "codemirror_mode": {
    "name": "ipython",
    "version": 3
   },
   "file_extension": ".py",
   "mimetype": "text/x-python",
   "name": "python",
   "nbconvert_exporter": "python",
   "pygments_lexer": "ipython3",
   "version": "3.13.0"
  }
 },
 "nbformat": 4,
 "nbformat_minor": 5
}
