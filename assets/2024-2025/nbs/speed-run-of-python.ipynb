{
 "cells": [
  {
   "cell_type": "markdown",
   "id": "2eb5e22c-0dd3-4892-a383-fe491170445f",
   "metadata": {},
   "source": [
    "# Rock Paper Scissors"
   ]
  },
  {
   "cell_type": "code",
   "execution_count": 1,
   "id": "a6418f02-74ed-4c29-9d70-7e23bcefc99c",
   "metadata": {},
   "outputs": [],
   "source": [
    "import numpy as np\n",
    "import nashpy as nash"
   ]
  },
  {
   "cell_type": "code",
   "execution_count": 2,
   "id": "ab3e804a-d98b-4fe2-89e3-4b16b69d95a8",
   "metadata": {},
   "outputs": [
    {
     "data": {
      "text/plain": [
       "array([[ 0, -1,  1],\n",
       "       [ 1,  0, -1],\n",
       "       [-1,  1,  0]])"
      ]
     },
     "execution_count": 2,
     "metadata": {},
     "output_type": "execute_result"
    }
   ],
   "source": [
    "A = np.array(\n",
    "    (\n",
    "        (0, -1, 1),\n",
    "        (1, 0, -1),\n",
    "        (-1, 1, 0),\n",
    "    )\n",
    ")\n",
    "A"
   ]
  },
  {
   "cell_type": "code",
   "execution_count": 3,
   "id": "017ef0b8-f05e-4023-8ea1-6ffa3db280c9",
   "metadata": {},
   "outputs": [
    {
     "data": {
      "text/plain": [
       "Zero sum game with payoff matrices:\n",
       "\n",
       "Row player:\n",
       "[[ 0 -1  1]\n",
       " [ 1  0 -1]\n",
       " [-1  1  0]]\n",
       "\n",
       "Column player:\n",
       "[[ 0  1 -1]\n",
       " [-1  0  1]\n",
       " [ 1 -1  0]]"
      ]
     },
     "execution_count": 3,
     "metadata": {},
     "output_type": "execute_result"
    }
   ],
   "source": [
    "rps = nash.Game(A)\n",
    "rps"
   ]
  },
  {
   "cell_type": "code",
   "execution_count": 5,
   "id": "f58117b0-fd10-4c5d-aeb4-6dcf6fa09f4a",
   "metadata": {},
   "outputs": [
    {
     "data": {
      "text/plain": [
       "((array([0.33333333, 0.33333333, 0.33333333]),\n",
       "  array([0.33333333, 0.33333333, 0.33333333])),)"
      ]
     },
     "execution_count": 5,
     "metadata": {},
     "output_type": "execute_result"
    }
   ],
   "source": [
    "tuple(rps.support_enumeration())"
   ]
  },
  {
   "cell_type": "markdown",
   "id": "bb1ee543-8193-4f93-b826-73ccda1dc531",
   "metadata": {},
   "source": [
    "For a lot of you that will be sufficient. Now let me give an overview of Python."
   ]
  },
  {
   "cell_type": "markdown",
   "id": "583e5a83-4919-4ed8-8fcf-a4377f8c3ef0",
   "metadata": {},
   "source": [
    "## Python"
   ]
  },
  {
   "cell_type": "code",
   "execution_count": 6,
   "id": "35d17467-c94a-45fc-b424-373ea8aaa168",
   "metadata": {},
   "outputs": [],
   "source": [
    "year = 2025 "
   ]
  },
  {
   "cell_type": "code",
   "execution_count": 7,
   "id": "445d515d-bba4-4942-873b-23081ad36dcd",
   "metadata": {},
   "outputs": [
    {
     "data": {
      "text/plain": [
       "2025"
      ]
     },
     "execution_count": 7,
     "metadata": {},
     "output_type": "execute_result"
    }
   ],
   "source": [
    "year"
   ]
  },
  {
   "cell_type": "code",
   "execution_count": 8,
   "id": "dc006422-0de3-427a-968e-dd2a07f817ee",
   "metadata": {},
   "outputs": [
    {
     "data": {
      "text/plain": [
       "int"
      ]
     },
     "execution_count": 8,
     "metadata": {},
     "output_type": "execute_result"
    }
   ],
   "source": [
    "type(year)"
   ]
  },
  {
   "cell_type": "code",
   "execution_count": 9,
   "id": "44ecafe0-136a-4e34-9d3f-54bfb68ebdc8",
   "metadata": {},
   "outputs": [
    {
     "data": {
      "text/plain": [
       "float"
      ]
     },
     "execution_count": 9,
     "metadata": {},
     "output_type": "execute_result"
    }
   ],
   "source": [
    "my_age = 41.02\n",
    "type(my_age)"
   ]
  },
  {
   "cell_type": "code",
   "execution_count": 10,
   "id": "18b0d369-e42f-4764-8f7c-22473f28b774",
   "metadata": {},
   "outputs": [
    {
     "data": {
      "text/plain": [
       "'Juliette'"
      ]
     },
     "execution_count": 10,
     "metadata": {},
     "output_type": "execute_result"
    }
   ],
   "source": [
    "my_one_true_love = \"Juliette\"\n",
    "my_one_true_love"
   ]
  },
  {
   "cell_type": "code",
   "execution_count": 12,
   "id": "74c9d47c-9e96-4f24-bd2b-5cb39fa84e44",
   "metadata": {},
   "outputs": [
    {
     "data": {
      "text/plain": [
       "str"
      ]
     },
     "execution_count": 12,
     "metadata": {},
     "output_type": "execute_result"
    }
   ],
   "source": [
    "type(my_one_true_love)"
   ]
  },
  {
   "cell_type": "markdown",
   "id": "23dbdc0f-c4fc-4e24-a00b-e8a74a4fca5b",
   "metadata": {},
   "source": [
    "Basic numerical manipulation"
   ]
  },
  {
   "cell_type": "code",
   "execution_count": 13,
   "id": "87492e6d-eda4-4f1d-8e0b-5bf8bf64a78a",
   "metadata": {},
   "outputs": [
    {
     "data": {
      "text/plain": [
       "8"
      ]
     },
     "execution_count": 13,
     "metadata": {},
     "output_type": "execute_result"
    }
   ],
   "source": [
    "4 + 4"
   ]
  },
  {
   "cell_type": "code",
   "execution_count": 14,
   "id": "58b26200-93ad-47cb-ba8b-ef94ecd5b7b1",
   "metadata": {},
   "outputs": [
    {
     "data": {
      "text/plain": [
       "1.25"
      ]
     },
     "execution_count": 14,
     "metadata": {},
     "output_type": "execute_result"
    }
   ],
   "source": [
    "5 / 4"
   ]
  },
  {
   "cell_type": "code",
   "execution_count": 15,
   "id": "ec033d66-a48a-4043-812c-93243672da36",
   "metadata": {},
   "outputs": [
    {
     "data": {
      "text/plain": [
       "1"
      ]
     },
     "execution_count": 15,
     "metadata": {},
     "output_type": "execute_result"
    }
   ],
   "source": [
    "5 // 4"
   ]
  },
  {
   "cell_type": "code",
   "execution_count": 17,
   "id": "2ac43589-e2ba-4e32-8d14-35897579c745",
   "metadata": {},
   "outputs": [
    {
     "data": {
      "text/plain": [
       "1"
      ]
     },
     "execution_count": 17,
     "metadata": {},
     "output_type": "execute_result"
    }
   ],
   "source": [
    "int(5 / 4)"
   ]
  },
  {
   "cell_type": "code",
   "execution_count": 18,
   "id": "7e9ed805-8157-4af3-bc0c-083fde5381c5",
   "metadata": {},
   "outputs": [
    {
     "data": {
      "text/plain": [
       "10"
      ]
     },
     "execution_count": 18,
     "metadata": {},
     "output_type": "execute_result"
    }
   ],
   "source": [
    "2 * 5"
   ]
  },
  {
   "cell_type": "code",
   "execution_count": 19,
   "id": "ffd9a0ec-dafd-4f09-8ccd-cb3462435d2d",
   "metadata": {},
   "outputs": [
    {
     "data": {
      "text/plain": [
       "8"
      ]
     },
     "execution_count": 19,
     "metadata": {},
     "output_type": "execute_result"
    }
   ],
   "source": [
    "2 ** 3"
   ]
  },
  {
   "cell_type": "code",
   "execution_count": 23,
   "id": "40f0b714-ef51-41d4-9894-d5045c0d5172",
   "metadata": {},
   "outputs": [
    {
     "data": {
      "text/plain": [
       "2"
      ]
     },
     "execution_count": 23,
     "metadata": {},
     "output_type": "execute_result"
    }
   ],
   "source": [
    "62 % 3"
   ]
  },
  {
   "cell_type": "code",
   "execution_count": 26,
   "id": "90a893aa-84cd-4c16-ac1f-75032fab5b19",
   "metadata": {},
   "outputs": [],
   "source": [
    "my_age = my_age + 50"
   ]
  },
  {
   "cell_type": "code",
   "execution_count": 27,
   "id": "bfd662b4-5d3e-47af-a596-484b255f186f",
   "metadata": {},
   "outputs": [
    {
     "data": {
      "text/plain": [
       "91.02000000000001"
      ]
     },
     "execution_count": 27,
     "metadata": {},
     "output_type": "execute_result"
    }
   ],
   "source": [
    "my_age"
   ]
  },
  {
   "cell_type": "code",
   "execution_count": 28,
   "id": "b16530f2-9ac0-447e-891b-a930a362bd1a",
   "metadata": {},
   "outputs": [],
   "source": [
    "my_age += 32"
   ]
  },
  {
   "cell_type": "code",
   "execution_count": 29,
   "id": "f2227b36-5ad6-4503-a9b6-b5a3695c93cd",
   "metadata": {},
   "outputs": [
    {
     "data": {
      "text/plain": [
       "123.02000000000001"
      ]
     },
     "execution_count": 29,
     "metadata": {},
     "output_type": "execute_result"
    }
   ],
   "source": [
    "my_age"
   ]
  },
  {
   "cell_type": "code",
   "execution_count": 32,
   "id": "b51b3aef-7632-43fa-bf5f-7240ad6e829c",
   "metadata": {},
   "outputs": [],
   "source": [
    "the_name_of_my_wife = \"Juliette\"\n",
    "my_true_love = f\"{the_name_of_my_wife} is my true love\""
   ]
  },
  {
   "cell_type": "code",
   "execution_count": 33,
   "id": "2d354c14-d714-4e33-a503-3a9d198d169c",
   "metadata": {},
   "outputs": [
    {
     "data": {
      "text/plain": [
       "'Juliette is my true love'"
      ]
     },
     "execution_count": 33,
     "metadata": {},
     "output_type": "execute_result"
    }
   ],
   "source": [
    "my_true_love"
   ]
  },
  {
   "cell_type": "code",
   "execution_count": 34,
   "id": "59177bfd-9a5e-4c21-9810-677e25993d7d",
   "metadata": {},
   "outputs": [],
   "source": [
    "boolean = True\n",
    "other_boolean = False"
   ]
  },
  {
   "cell_type": "code",
   "execution_count": 35,
   "id": "37b6392b-00b6-4512-9b16-97e9f745a2a8",
   "metadata": {},
   "outputs": [
    {
     "data": {
      "text/plain": [
       "bool"
      ]
     },
     "execution_count": 35,
     "metadata": {},
     "output_type": "execute_result"
    }
   ],
   "source": [
    "type(boolean)"
   ]
  },
  {
   "cell_type": "code",
   "execution_count": 36,
   "id": "c5e21fdd-7696-448b-86fe-b9c9593eff89",
   "metadata": {},
   "outputs": [
    {
     "data": {
      "text/plain": [
       "False"
      ]
     },
     "execution_count": 36,
     "metadata": {},
     "output_type": "execute_result"
    }
   ],
   "source": [
    "boolean and other_boolean"
   ]
  },
  {
   "cell_type": "code",
   "execution_count": 37,
   "id": "2ff8d84b-2eb5-4036-8127-f6c4d8e0ce60",
   "metadata": {},
   "outputs": [
    {
     "data": {
      "text/plain": [
       "True"
      ]
     },
     "execution_count": 37,
     "metadata": {},
     "output_type": "execute_result"
    }
   ],
   "source": [
    "boolean or other_boolean"
   ]
  },
  {
   "cell_type": "code",
   "execution_count": 38,
   "id": "df7aab43-71dc-4de0-88ea-b50e300234cd",
   "metadata": {},
   "outputs": [
    {
     "data": {
      "text/plain": [
       "(False, False, True, True, False)"
      ]
     },
     "execution_count": 38,
     "metadata": {},
     "output_type": "execute_result"
    }
   ],
   "source": [
    "collection_of_booleans = (False, False, True, True, False)\n",
    "collection_of_booleans"
   ]
  },
  {
   "cell_type": "code",
   "execution_count": 39,
   "id": "4f2090ef-3a4f-4ab8-bcbd-c548cd75483a",
   "metadata": {},
   "outputs": [
    {
     "data": {
      "text/plain": [
       "False"
      ]
     },
     "execution_count": 39,
     "metadata": {},
     "output_type": "execute_result"
    }
   ],
   "source": [
    "all(collection_of_booleans)"
   ]
  },
  {
   "cell_type": "code",
   "execution_count": 40,
   "id": "3d97bae4-d5f8-42b7-adf7-adff1433659d",
   "metadata": {},
   "outputs": [
    {
     "data": {
      "text/plain": [
       "True"
      ]
     },
     "execution_count": 40,
     "metadata": {},
     "output_type": "execute_result"
    }
   ],
   "source": [
    "any(collection_of_booleans)"
   ]
  },
  {
   "cell_type": "code",
   "execution_count": 41,
   "id": "f4a1b262-8feb-4ce5-b8c8-c4da251b9427",
   "metadata": {},
   "outputs": [
    {
     "data": {
      "text/plain": [
       "False"
      ]
     },
     "execution_count": 41,
     "metadata": {},
     "output_type": "execute_result"
    }
   ],
   "source": [
    "not any(collection_of_booleans)"
   ]
  },
  {
   "cell_type": "code",
   "execution_count": 42,
   "id": "2a42c681-dcba-46d6-afd3-52f5617508e3",
   "metadata": {},
   "outputs": [
    {
     "data": {
      "text/plain": [
       "15"
      ]
     },
     "execution_count": 42,
     "metadata": {},
     "output_type": "execute_result"
    }
   ],
   "source": [
    "number = 14\n",
    "if (number % 2 == 0):\n",
    "    number += 1\n",
    "number"
   ]
  },
  {
   "cell_type": "code",
   "execution_count": 43,
   "id": "e77ac2d8-9d4e-4000-83eb-76644d042d9e",
   "metadata": {},
   "outputs": [],
   "source": [
    "if (number % 2 == 0):\n",
    "    number += 1"
   ]
  },
  {
   "cell_type": "code",
   "execution_count": 44,
   "id": "a12a5668-954a-43f5-95aa-781c843cffa1",
   "metadata": {},
   "outputs": [
    {
     "data": {
      "text/plain": [
       "15"
      ]
     },
     "execution_count": 44,
     "metadata": {},
     "output_type": "execute_result"
    }
   ],
   "source": [
    "number"
   ]
  },
  {
   "cell_type": "code",
   "execution_count": 50,
   "id": "3687716c-b692-4443-8773-e1291005b4f1",
   "metadata": {},
   "outputs": [
    {
     "data": {
      "text/plain": [
       "450"
      ]
     },
     "execution_count": 50,
     "metadata": {},
     "output_type": "execute_result"
    }
   ],
   "source": [
    "number = 15\n",
    "if (number % 2 == 0):\n",
    "    number += 1\n",
    "elif number == 15:\n",
    "    number = 450\n",
    "else:\n",
    "    number += 2\n",
    "number"
   ]
  },
  {
   "cell_type": "code",
   "execution_count": 51,
   "id": "9805ee7b-c3b4-4033-9f1c-3f2a34b65569",
   "metadata": {},
   "outputs": [
    {
     "data": {
      "text/plain": [
       "('Riggins', 'Chick', 'Duck', 'Kaitlynn', 'Julien', 'Zoe')"
      ]
     },
     "execution_count": 51,
     "metadata": {},
     "output_type": "execute_result"
    }
   ],
   "source": [
    "family_members = (\"Riggins\", \"Chick\", \"Duck\", \"Kaitlynn\", \"Julien\", \"Zoe\")\n",
    "family_members"
   ]
  },
  {
   "cell_type": "code",
   "execution_count": 52,
   "id": "1e9b8cc0-e969-459b-991f-8928d1c9ec1b",
   "metadata": {},
   "outputs": [],
   "source": [
    "number = 40\n",
    "for name in family_members:\n",
    "    if (len(name) % 2 == 0):\n",
    "        number += len(name)"
   ]
  },
  {
   "cell_type": "code",
   "execution_count": 53,
   "id": "5e0fbe98-e9ee-4d94-9092-a72a090ebd81",
   "metadata": {},
   "outputs": [
    {
     "data": {
      "text/plain": [
       "58"
      ]
     },
     "execution_count": 53,
     "metadata": {},
     "output_type": "execute_result"
    }
   ],
   "source": [
    "number"
   ]
  },
  {
   "cell_type": "code",
   "execution_count": 56,
   "id": "f8780fc7-8fb9-4cef-b2e0-8753cf92facf",
   "metadata": {},
   "outputs": [
    {
     "data": {
      "text/plain": [
       "'Riggins'"
      ]
     },
     "execution_count": 56,
     "metadata": {},
     "output_type": "execute_result"
    }
   ],
   "source": [
    "family_members[0]"
   ]
  },
  {
   "cell_type": "code",
   "execution_count": 57,
   "id": "93363c63-bcf4-47f8-a766-c9f6ebb9809b",
   "metadata": {},
   "outputs": [],
   "source": [
    "number = 40\n",
    "index = 0\n",
    "while index < len(family_members):\n",
    "    name = family_members[index]\n",
    "    index += 1\n",
    "    if (len(name) % 2 == 0):\n",
    "        number += len(name)"
   ]
  },
  {
   "cell_type": "code",
   "execution_count": 58,
   "id": "e0eb1183-f1d2-4d93-a6ef-e92e95f97ace",
   "metadata": {},
   "outputs": [
    {
     "data": {
      "text/plain": [
       "58"
      ]
     },
     "execution_count": 58,
     "metadata": {},
     "output_type": "execute_result"
    }
   ],
   "source": [
    "number"
   ]
  },
  {
   "cell_type": "code",
   "execution_count": 59,
   "id": "b2525c0c-ac3c-4056-920b-da1e3dfecc20",
   "metadata": {},
   "outputs": [
    {
     "data": {
      "text/plain": [
       "('Riggins', 'Chick', 'Duck', 'Kaitlynn', 'Julien', 'Zoe')"
      ]
     },
     "execution_count": 59,
     "metadata": {},
     "output_type": "execute_result"
    }
   ],
   "source": [
    "family_members"
   ]
  },
  {
   "cell_type": "code",
   "execution_count": 61,
   "id": "d4240bdb-d66d-4f5a-b224-575d46e36587",
   "metadata": {},
   "outputs": [
    {
     "data": {
      "text/plain": [
       "(10, 2, 7, 6, 9, 6)"
      ]
     },
     "execution_count": 61,
     "metadata": {},
     "output_type": "execute_result"
    }
   ],
   "source": [
    "performance_review_scores = (10, 2, 7, 6, 9, 6)\n",
    "performance_review_scores"
   ]
  },
  {
   "cell_type": "code",
   "execution_count": 62,
   "id": "b0218995-4261-42b3-990a-e202049cba13",
   "metadata": {},
   "outputs": [
    {
     "name": "stdout",
     "output_type": "stream",
     "text": [
      "Riggins has a score of: 10\n",
      "Chick has a score of: 2\n",
      "Duck has a score of: 7\n",
      "Kaitlynn has a score of: 6\n",
      "Julien has a score of: 9\n",
      "Zoe has a score of: 6\n"
     ]
    }
   ],
   "source": [
    "for name, score in zip(family_members, performance_review_scores):\n",
    "    print(f\"{name} has a score of: {score}\")"
   ]
  },
  {
   "cell_type": "code",
   "execution_count": 63,
   "id": "fa5ccc58-fc69-4541-aae4-5dd4637dea40",
   "metadata": {},
   "outputs": [
    {
     "name": "stdout",
     "output_type": "stream",
     "text": [
      "0. Riggins\n",
      "1. Chick\n",
      "2. Duck\n",
      "3. Kaitlynn\n",
      "4. Julien\n",
      "5. Zoe\n"
     ]
    }
   ],
   "source": [
    "for i, name in enumerate(family_members):\n",
    "    print(f\"{i}. {name}\")"
   ]
  },
  {
   "cell_type": "code",
   "execution_count": 70,
   "id": "315f0d1d-70fe-423a-a56d-b5054843d805",
   "metadata": {},
   "outputs": [],
   "source": [
    "def give_feedback(name, performance_score):\n",
    "    \"\"\"\n",
    "    This take a performance score and carries out a complex algorithm to give feedback\n",
    "    \"\"\"\n",
    "    feedback = f\"Performance review for {name}\"\n",
    "    if performance_score < 3:\n",
    "        feedback += \"\\n\\n This is really bad. Stop peeing inside Chick.\"\n",
    "    if (performance_score > 3) and (performance_score < 10):\n",
    "        feedback += \"\\n\\nGood job, keep trying\"\n",
    "    if performance_score == 10:\n",
    "        feedback += \"\\n\\nGood dog\"\n",
    "    return feedback"
   ]
  },
  {
   "cell_type": "code",
   "execution_count": 72,
   "id": "c06cec3a-8501-4b68-b612-4ea38ecf18cf",
   "metadata": {},
   "outputs": [
    {
     "name": "stdout",
     "output_type": "stream",
     "text": [
      "Performance review for Riggins\n",
      "\n",
      "Good dog\n"
     ]
    }
   ],
   "source": [
    "print(give_feedback(name=\"Riggins\", performance_score=10))"
   ]
  },
  {
   "cell_type": "code",
   "execution_count": 73,
   "id": "8cf98dc0-7c6e-491c-a582-20c4c05915a6",
   "metadata": {},
   "outputs": [
    {
     "name": "stdout",
     "output_type": "stream",
     "text": [
      "Performance review for Chick\n",
      "\n",
      " This is really bad. Stop peeing inside Chick.\n"
     ]
    }
   ],
   "source": [
    "print(give_feedback(name=\"Chick\", performance_score=2))"
   ]
  },
  {
   "cell_type": "code",
   "execution_count": 74,
   "id": "0db8a61b-5033-4436-a46b-0a45b9d08de9",
   "metadata": {},
   "outputs": [
    {
     "name": "stdout",
     "output_type": "stream",
     "text": [
      "Performance review for Riggins\n",
      "\n",
      "Good dog\n",
      "Performance review for Chick\n",
      "\n",
      " This is really bad. Stop peeing inside Chick.\n",
      "Performance review for Duck\n",
      "\n",
      "Good job, keep trying\n",
      "Performance review for Kaitlynn\n",
      "\n",
      "Good job, keep trying\n",
      "Performance review for Julien\n",
      "\n",
      "Good job, keep trying\n",
      "Performance review for Zoe\n",
      "\n",
      "Good job, keep trying\n"
     ]
    }
   ],
   "source": [
    "for name, score in zip(family_members, performance_review_scores):\n",
    "    print(give_feedback(name=name, performance_score=score))"
   ]
  },
  {
   "cell_type": "markdown",
   "id": "d5691194-18ab-417c-b979-11c8468c489c",
   "metadata": {},
   "source": [
    "# Python has two basic iterators:"
   ]
  },
  {
   "cell_type": "code",
   "execution_count": 75,
   "id": "19064e43-3197-4943-bbcb-c504b9408d7a",
   "metadata": {},
   "outputs": [
    {
     "data": {
      "text/plain": [
       "(24, 54, 'dog', 53)"
      ]
     },
     "execution_count": 75,
     "metadata": {},
     "output_type": "execute_result"
    }
   ],
   "source": [
    "thing_I_cannot_change = (24, 54, \"dog\", 53)\n",
    "thing_I_cannot_change"
   ]
  },
  {
   "cell_type": "code",
   "execution_count": 76,
   "id": "15fd72a4-faad-4b02-994d-42f7f5ae4308",
   "metadata": {},
   "outputs": [
    {
     "data": {
      "text/plain": [
       "'dog'"
      ]
     },
     "execution_count": 76,
     "metadata": {},
     "output_type": "execute_result"
    }
   ],
   "source": [
    "thing_I_cannot_change[2]"
   ]
  },
  {
   "cell_type": "code",
   "execution_count": 78,
   "id": "ba6b774f-3e8f-49bf-8165-20a527ee1723",
   "metadata": {},
   "outputs": [
    {
     "data": {
      "text/plain": [
       "53"
      ]
     },
     "execution_count": 78,
     "metadata": {},
     "output_type": "execute_result"
    }
   ],
   "source": [
    "thing_I_cannot_change[-1]"
   ]
  },
  {
   "cell_type": "code",
   "execution_count": 79,
   "id": "08f8f222-2dc9-433f-8b36-90297bcaf4d7",
   "metadata": {},
   "outputs": [
    {
     "data": {
      "text/plain": [
       "tuple"
      ]
     },
     "execution_count": 79,
     "metadata": {},
     "output_type": "execute_result"
    }
   ],
   "source": [
    "type(thing_I_cannot_change)"
   ]
  },
  {
   "cell_type": "code",
   "execution_count": 80,
   "id": "d48f7b12-3a87-4aeb-b348-9ff58c391127",
   "metadata": {},
   "outputs": [
    {
     "ename": "TypeError",
     "evalue": "'tuple' object does not support item assignment",
     "output_type": "error",
     "traceback": [
      "\u001b[0;31m---------------------------------------------------------------------------\u001b[0m",
      "\u001b[0;31mTypeError\u001b[0m                                 Traceback (most recent call last)",
      "Cell \u001b[0;32mIn[80], line 1\u001b[0m\n\u001b[0;32m----> 1\u001b[0m \u001b[43mthing_I_cannot_change\u001b[49m\u001b[43m[\u001b[49m\u001b[38;5;241;43m2\u001b[39;49m\u001b[43m]\u001b[49m \u001b[38;5;241m=\u001b[39m \u001b[38;5;241m32\u001b[39m\n",
      "\u001b[0;31mTypeError\u001b[0m: 'tuple' object does not support item assignment"
     ]
    }
   ],
   "source": [
    "thing_I_cannot_change[2] = 32"
   ]
  },
  {
   "cell_type": "code",
   "execution_count": 81,
   "id": "08f8834c-e816-44fc-92d1-33330dfadc1e",
   "metadata": {},
   "outputs": [
    {
     "data": {
      "text/plain": [
       "[24, 54, 'dog', 53]"
      ]
     },
     "execution_count": 81,
     "metadata": {},
     "output_type": "execute_result"
    }
   ],
   "source": [
    "thing_I_can_change = [24, 54, \"dog\", 53]\n",
    "thing_I_can_change"
   ]
  },
  {
   "cell_type": "code",
   "execution_count": 82,
   "id": "bc103219-759c-4c7d-a247-2e29a2249be9",
   "metadata": {},
   "outputs": [],
   "source": [
    "thing_I_can_change[2] = 32"
   ]
  },
  {
   "cell_type": "code",
   "execution_count": 83,
   "id": "c861bc49-0416-45d7-87d4-4e343785970e",
   "metadata": {},
   "outputs": [
    {
     "data": {
      "text/plain": [
       "[24, 54, 32, 53]"
      ]
     },
     "execution_count": 83,
     "metadata": {},
     "output_type": "execute_result"
    }
   ],
   "source": [
    "thing_I_can_change"
   ]
  },
  {
   "cell_type": "code",
   "execution_count": 84,
   "id": "913f8f1a-d66a-4aae-a793-a8e2dd9f303c",
   "metadata": {},
   "outputs": [
    {
     "data": {
      "text/plain": [
       "[24, 54, 32, 53, 'dog', 'cat', 'mouse', 'viper']"
      ]
     },
     "execution_count": 84,
     "metadata": {},
     "output_type": "execute_result"
    }
   ],
   "source": [
    "thing_I_can_change + [\"dog\", \"cat\", \"mouse\", \"viper\"]"
   ]
  },
  {
   "cell_type": "code",
   "execution_count": 88,
   "id": "1fc565ce-0e39-45e8-90df-52c657900f26",
   "metadata": {},
   "outputs": [
    {
     "data": {
      "text/plain": [
       "numpy.ndarray"
      ]
     },
     "execution_count": 88,
     "metadata": {},
     "output_type": "execute_result"
    }
   ],
   "source": [
    "A = np.array((0, 2, 4, 4))\n",
    "type(A)"
   ]
  },
  {
   "cell_type": "code",
   "execution_count": 89,
   "id": "ad0b1b64-b03c-4ff3-9a8f-0a7d9a3b1913",
   "metadata": {},
   "outputs": [
    {
     "data": {
      "text/plain": [
       "array([0, 2, 4, 4])"
      ]
     },
     "execution_count": 89,
     "metadata": {},
     "output_type": "execute_result"
    }
   ],
   "source": [
    "A"
   ]
  },
  {
   "cell_type": "code",
   "execution_count": 90,
   "id": "caf8246c-2191-40f5-98f0-94ba2fccf18d",
   "metadata": {},
   "outputs": [],
   "source": [
    "my_set = set(A)"
   ]
  },
  {
   "cell_type": "code",
   "execution_count": 91,
   "id": "51826288-7ef3-4b74-a81e-eba143998d3b",
   "metadata": {},
   "outputs": [
    {
     "data": {
      "text/plain": [
       "{np.int64(0), np.int64(2), np.int64(4)}"
      ]
     },
     "execution_count": 91,
     "metadata": {},
     "output_type": "execute_result"
    }
   ],
   "source": [
    "my_set"
   ]
  },
  {
   "cell_type": "code",
   "execution_count": 93,
   "id": "8b922bfd-e94e-4fcc-b136-c1275cd06a46",
   "metadata": {},
   "outputs": [
    {
     "data": {
      "text/plain": [
       "{4, 5, 6, 9}"
      ]
     },
     "execution_count": 93,
     "metadata": {},
     "output_type": "execute_result"
    }
   ],
   "source": [
    "{4, 5, 6} | {4, 5, 9}"
   ]
  },
  {
   "cell_type": "code",
   "execution_count": 94,
   "id": "288c7909-118d-4d81-a695-1c24a8374c23",
   "metadata": {},
   "outputs": [
    {
     "data": {
      "text/plain": [
       "{6, 9}"
      ]
     },
     "execution_count": 94,
     "metadata": {},
     "output_type": "execute_result"
    }
   ],
   "source": [
    "{4, 5, 6} ^ {4, 5, 9}"
   ]
  },
  {
   "cell_type": "code",
   "execution_count": 97,
   "id": "f34c9d95-7baf-4b70-b357-f5e7244dd601",
   "metadata": {},
   "outputs": [
    {
     "data": {
      "text/plain": [
       "True"
      ]
     },
     "execution_count": 97,
     "metadata": {},
     "output_type": "execute_result"
    }
   ],
   "source": [
    " 49 in set(range(50))"
   ]
  },
  {
   "cell_type": "code",
   "execution_count": 98,
   "id": "cdca20bf-420a-4f8e-80d2-01a7a4af4172",
   "metadata": {},
   "outputs": [
    {
     "data": {
      "text/plain": [
       "True"
      ]
     },
     "execution_count": 98,
     "metadata": {},
     "output_type": "execute_result"
    }
   ],
   "source": [
    " 49 in list(range(50))"
   ]
  },
  {
   "cell_type": "code",
   "execution_count": null,
   "id": "5fb210d2-66a5-4c65-a4b2-6ebe06d1e4cd",
   "metadata": {},
   "outputs": [],
   "source": []
  }
 ],
 "metadata": {
  "kernelspec": {
   "display_name": "Python 3 (ipykernel)",
   "language": "python",
   "name": "python3"
  },
  "language_info": {
   "codemirror_mode": {
    "name": "ipython",
    "version": 3
   },
   "file_extension": ".py",
   "mimetype": "text/x-python",
   "name": "python",
   "nbconvert_exporter": "python",
   "pygments_lexer": "ipython3",
   "version": "3.13.0"
  }
 },
 "nbformat": 4,
 "nbformat_minor": 5
}
