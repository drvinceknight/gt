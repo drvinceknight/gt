{
 "cells": [
  {
   "cell_type": "markdown",
   "id": "f2b5f9b3-dd75-415e-b132-910af62f45dd",
   "metadata": {},
   "source": [
    "Simulation values from class:"
   ]
  },
  {
   "cell_type": "code",
   "execution_count": 3,
   "id": "c22af28a-0062-4c38-ae73-eae42196f5f8",
   "metadata": {},
   "outputs": [
    {
     "data": {
      "text/plain": [
       "0.4864864864864865"
      ]
     },
     "execution_count": 3,
     "metadata": {},
     "output_type": "execute_result"
    }
   ],
   "source": [
    "numerator = 1 + 1 + 3 + 0 + 2  + 0 + 2 + 0 + 1 + 1 + 1 + 1 + 2+ 3\n",
    "denominator = 1  + 2 + 3 + 3 + 2 + 2 + 6 + 2 + 4 + 2 + 2 + 1 + 2 + 5\n",
    "numerator / denominator"
   ]
  },
  {
   "cell_type": "markdown",
   "id": "562e3937-763a-465c-a52a-805ee23e081e",
   "metadata": {},
   "source": [
    "Here is some code that simulates the SIMULATION we ran in class with dice."
   ]
  },
  {
   "cell_type": "code",
   "execution_count": 4,
   "id": "5613ef13-0b1e-4e9e-bcef-fc304cbf21ab",
   "metadata": {},
   "outputs": [],
   "source": [
    "import collections\n",
    "import matplotlib.pyplot as plt\n",
    "import numpy as np\n",
    "import tqdm\n",
    "\n",
    "def roll_n_sided_dice(n=6):\n",
    "    \"\"\"\n",
    "    Roll a dice with n sides.\n",
    "    \"\"\"\n",
    "    return np.random.randint(1, n + 1)\n",
    "\n",
    "class MoranProcess:\n",
    "    \"\"\"\n",
    "    A class for a moran process with a population of\n",
    "    size N=3 using the standard Hawk-Dove Game:\n",
    "\n",
    "    A =\n",
    "       [0, 3]\n",
    "       [1, 2]\n",
    "\n",
    "    Note that this is a simulation corresponding to an\n",
    "    in class activity where students roll dice.\n",
    "    \"\"\"\n",
    "    def __init__(self, number_of_hawks=1, seed=None):\n",
    "\n",
    "        if seed is not None:\n",
    "            np.random.seed(seed)\n",
    "\n",
    "        self.number_of_hawks = number_of_hawks\n",
    "        self.number_of_doves = 3 - number_of_hawks\n",
    "\n",
    "        self.dice_and_values_for_hawk_birth = {1: (6, {1, 2, 3}), 2: (4, {1, 2, 3})}\n",
    "        self.dice_and_values_for_hawk_death = {1: (6, {1, 2}), 2: (6, {1, 2, 3, 4})}\n",
    "\n",
    "        self.history = [(self.number_of_hawks, self.number_of_doves)]\n",
    "\n",
    "    def step(self):\n",
    "        \"\"\"\n",
    "        Select a hawk or a dove for birth.\n",
    "        Select a hawk or a dove for death.\n",
    "\n",
    "        Update history and states.\n",
    "        \"\"\"\n",
    "        birth_dice, birth_values = self.dice_and_values_for_hawk_birth[self.number_of_hawks]\n",
    "        death_dice, death_values = self.dice_and_values_for_hawk_death[self.number_of_hawks]\n",
    "\n",
    "        select_hawk_for_birth = self.roll_dice_for_selection(dice=birth_dice, values=birth_values)\n",
    "        select_hawk_for_death = self.roll_dice_for_selection(dice=death_dice, values=death_values)\n",
    "\n",
    "        if select_hawk_for_birth:\n",
    "            self.number_of_hawks += 1\n",
    "        else:\n",
    "            self.number_of_doves += 1\n",
    "\n",
    "        if select_hawk_for_death:\n",
    "            self.number_of_hawks -= 1\n",
    "        else:\n",
    "            self.number_of_doves -= 1\n",
    "\n",
    "        self.history.append((self.number_of_hawks, self.number_of_doves))\n",
    "\n",
    "    def roll_dice_for_selection(self, dice, values):\n",
    "        \"\"\"\n",
    "        Given a dice and values return if the random roll is in the values.\n",
    "        \"\"\"\n",
    "        return roll_n_sided_dice(n=dice) in values\n",
    "\n",
    "    def simulate(self):\n",
    "        \"\"\"\n",
    "        Run the entire simulation: repeatedly step through\n",
    "        until the number of hawks is either 0 or 3.\n",
    "        \"\"\"\n",
    "        while self.number_of_hawks in [1, 2]:\n",
    "            self.step()\n",
    "        return self.number_of_hawks\n",
    "\n",
    "    def __len__(self):\n",
    "        return len(self.history)\n"
   ]
  },
  {
   "cell_type": "code",
   "execution_count": null,
   "id": "4b58d87e-614e-42cb-a435-f906ce43f39a",
   "metadata": {},
   "outputs": [],
   "source": []
  },
  {
   "cell_type": "code",
   "execution_count": 5,
   "id": "a9c62ac4-e783-49e9-b65d-cd0bfc81941a",
   "metadata": {},
   "outputs": [
    {
     "data": {
      "text/plain": [
       "0.54666"
      ]
     },
     "execution_count": 5,
     "metadata": {},
     "output_type": "execute_result"
    }
   ],
   "source": [
    "\n",
    "repetitions = 10 ** 5\n",
    "end_states = []\n",
    "path_lengths = []\n",
    "for seed in range(repetitions):\n",
    "    mp = MoranProcess(seed=seed)\n",
    "    end_states.append(mp.simulate())\n",
    "    path_lengths.append(len(mp))\n",
    "counts = collections.Counter(end_states)\n",
    "counts[3] / repetitions\n"
   ]
  },
  {
   "cell_type": "code",
   "execution_count": null,
   "id": "e2072eb7-4df2-4cf8-8392-6a7ca9c16c96",
   "metadata": {},
   "outputs": [],
   "source": []
  }
 ],
 "metadata": {
  "kernelspec": {
   "display_name": "Python 3 (ipykernel)",
   "language": "python",
   "name": "python3"
  },
  "language_info": {
   "codemirror_mode": {
    "name": "ipython",
    "version": 3
   },
   "file_extension": ".py",
   "mimetype": "text/x-python",
   "name": "python",
   "nbconvert_exporter": "python",
   "pygments_lexer": "ipython3",
   "version": "3.13.0"
  }
 },
 "nbformat": 4,
 "nbformat_minor": 5
}
