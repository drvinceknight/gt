{
 "cells": [
  {
   "cell_type": "markdown",
   "metadata": {
    "editable": true,
    "slideshow": {
     "slide_type": ""
    },
    "tags": []
   },
   "source": [
    "### Game Theory - 2023-2024 individual coursework\n",
    "\n",
    "**Important** Do not delete the cells containing: \n",
    "\n",
    "```\n",
    "### BEGIN SOLUTION\n",
    "\n",
    "\n",
    "### END SOLUTION\n",
    "```\n",
    "\n",
    "write your solution attempts in those cells.\n",
    "\n",
    "To submit this notebook:\n",
    "\n",
    "- Change the name of the notebook from `main` to: `<student_number>`. For example, if your student number is `c1234567` then change the name of the notebook to `c1234567`.\n",
    "- **Write all your solution attempts in the correct locations**;\n",
    "- **Do not delete** any code that is already in the cells;\n",
    "- Save the notebook (`File>Save As`);\n",
    "- Follow the instructions given to submit."
   ]
  },
  {
   "cell_type": "markdown",
   "metadata": {
    "editable": true,
    "slideshow": {
     "slide_type": ""
    },
    "tags": []
   },
   "source": [
    "#### Question 1\n",
    "\n",
    "1. Create a variable `are_best_responses` which has value a tuple of booleans indicating if the following pairs of strategies are best responses to each other for the Normal Form Game when the row player is playing \\\\(\\sigma_r=(.3, .7)\\\\) and the column player is playing \\\\(\\sigma_c=(0, 1)\\\\):\n",
    "   $$A = \\begin{pmatrix}1 & - 1\\\\ -2 & 1\\end{pmatrix} \\qquad B = \\begin{pmatrix}-1 & 1\\\\ 1 & -1\\end{pmatrix}$$\n",
    "\n",
    "_Available marks: 5_"
   ]
  },
  {
   "cell_type": "code",
   "execution_count": 1,
   "metadata": {
    "editable": true,
    "slideshow": {
     "slide_type": ""
    },
    "tags": [
     "answer:q1-a"
    ]
   },
   "outputs": [],
   "source": [
    "import nashpy as nash\n",
    "import numpy as np\n",
    "\n",
    "### BEGIN SOLUTION\n",
    "A = np.array(((1, -1), (-2, 1)))\n",
    "B = np.array(((-1, 1), (1, -1)))\n",
    "sigma_r = np.array((.3, .7))\n",
    "sigma_c = np.array((0, 1))\n",
    "game = nash.Game(A, B)\n",
    "are_best_responses = game.is_best_response(sigma_r=sigma_r, sigma_c=sigma_c)\n",
    "### END SOLUTION"
   ]
  },
  {
   "cell_type": "markdown",
   "metadata": {
    "editable": true,
    "slideshow": {
     "slide_type": ""
    },
    "tags": []
   },
   "source": [
    "2. Output a tuple of booleans indicating if the following pairs of strategies are best responses to each other for the Normal Form Game when the row player is playing \\\\(\\sigma_r=(1 / 3, 2 / 3)\\\\) and the column player is playing \\\\(\\sigma_c=(1 / 2, 1 / 2)\\\\):\n",
    "   $$A = \\begin{pmatrix}5 & 2\\\\ 3 & 2\\end{pmatrix} \\qquad B = \\begin{pmatrix}4 & 9.5\\\\ 5 & 3\\end{pmatrix}$$\n",
    "\n",
    "_Available marks: 5_"
   ]
  },
  {
   "cell_type": "code",
   "execution_count": 4,
   "metadata": {
    "editable": true,
    "slideshow": {
     "slide_type": ""
    },
    "tags": [
     "answer:q1-b"
    ]
   },
   "outputs": [],
   "source": [
    "### BEGIN SOLUTION\n",
    "A = np.array(((5, 2), (3, 2)))\n",
    "B = np.array(((4, 9.5), (5, 3)))\n",
    "sigma_r = np.array((1 / 3, 2 / 3))\n",
    "sigma_c = np.array((1 / 2, 1 / 2))\n",
    "game = nash.Game(A, B)\n",
    "are_best_responses = game.is_best_response(sigma_r=sigma_r, sigma_c=sigma_c)\n",
    "### END SOLUTION"
   ]
  },
  {
   "cell_type": "markdown",
   "metadata": {
    "editable": true,
    "slideshow": {
     "slide_type": ""
    },
    "tags": []
   },
   "source": [
    "3. Create a variable `are_best_responses` which has value a tuple of booleans indicating if the following pairs of strategies are best responses to each other for the Normal Form Game when the row player is playing \\\\(\\sigma_r=(0, 1)\\\\) and the column player is playing \\\\(\\sigma_c=(1/4, 3/4)\\\\):\n",
    "   $$A = \\begin{pmatrix}1 & - 1\\\\ -1 & 1\\end{pmatrix}\\qquad B = \\begin{pmatrix}4 & 4\\\\ 4 & 4\\end{pmatrix}$$\n",
    "\n",
    "_Available marks: 5_"
   ]
  },
  {
   "cell_type": "code",
   "execution_count": 7,
   "metadata": {
    "editable": true,
    "slideshow": {
     "slide_type": ""
    },
    "tags": [
     "answer:q1-c"
    ]
   },
   "outputs": [],
   "source": [
    "### BEGIN SOLUTION\n",
    "A = np.array(((1, -1), (-1, 1)))\n",
    "B = np.array(((4, 4), (4, 4)))\n",
    "sigma_r = np.array((0, 1))\n",
    "sigma_c = np.array((1 / 4, 3 / 4))\n",
    "game = nash.Game(A, B)\n",
    "are_best_responses = game.is_best_response(sigma_r=sigma_r, sigma_c=sigma_c)\n",
    "### END SOLUTION"
   ]
  },
  {
   "cell_type": "markdown",
   "metadata": {
    "editable": true,
    "slideshow": {
     "slide_type": ""
    },
    "tags": []
   },
   "source": [
    "4. Output a tuple of booleans indicating if the following pairs of strategies are best responses to each other for the zero sum Normal Form Game when the row player is playing \\\\(\\sigma_r=(0, 1, 0)\\\\) and the column player is playing \\\\(\\sigma_c=(1/4, 1/4, 1/2)\\\\):\n",
    "   $$A = \\begin{pmatrix}3 & - 1 & 8\\\\ -2 & 1 &  1\\\\ -6 & 3 & 2\\end{pmatrix}$$\n",
    "\n",
    "_Available marks: 5_"
   ]
  },
  {
   "cell_type": "code",
   "execution_count": 10,
   "metadata": {
    "editable": true,
    "slideshow": {
     "slide_type": ""
    },
    "tags": [
     "answer:q1-d"
    ]
   },
   "outputs": [
    {
     "data": {
      "text/plain": [
       "(False, False)"
      ]
     },
     "execution_count": 10,
     "metadata": {},
     "output_type": "execute_result"
    }
   ],
   "source": [
    "### BEGIN SOLUTION\n",
    "A = np.array(((3, -1, 8), (-2, 1, 1), (-6, 3, 2)))\n",
    "sigma_r = np.array((0, 1, 0))\n",
    "sigma_c = np.array((1 / 4, 1 / 4, 1 / 2))\n",
    "game = nash.Game(A)\n",
    "game.is_best_response(sigma_r=sigma_r, sigma_c=sigma_c)\n",
    "### END SOLUTION"
   ]
  },
  {
   "cell_type": "markdown",
   "metadata": {
    "editable": true,
    "slideshow": {
     "slide_type": ""
    },
    "tags": []
   },
   "source": [
    "### Question 2\n",
    "\n",
    "a. Consider the zero sum game defined by the following matrix:\n",
    "\n",
    "   \\\\(A = \\begin{pmatrix}4 & 2 & 5 & 7\\\\ 6 & 1 & 4 & 2 \\\\ 8 & 2 & 1 & 3\\\\ 2 & 3 & 1 & 3\\end{pmatrix}\\\\)\n",
    "\n",
    "   Output a list which has value the Nash equilibria for this game using support enumeration.\n",
    "\n",
    "_Available marks: 8_"
   ]
  },
  {
   "cell_type": "code",
   "execution_count": 13,
   "metadata": {
    "editable": true,
    "slideshow": {
     "slide_type": ""
    },
    "tags": [
     "answer:q2-a"
    ]
   },
   "outputs": [
    {
     "data": {
      "text/plain": [
       "[(array([4.00000000e-01, 0.00000000e+00, 9.43689571e-17, 6.00000000e-01]),\n",
       "  array([0. , 0.8, 0.2, 0. ]))]"
      ]
     },
     "execution_count": 13,
     "metadata": {},
     "output_type": "execute_result"
    }
   ],
   "source": [
    "### BEGIN SOLUTION\n",
    "A = np.array(\n",
    "    (\n",
    "        (4, 2, 5, 7), \n",
    "        (6, 1, 4, 2), \n",
    "        (8, 2, 1, 3),\n",
    "        (2, 3, 1, 1),\n",
    "    )\n",
    ")\n",
    "game = nash.Game(A)\n",
    "list(game.support_enumeration())\n",
    "### END SOLUTION"
   ]
  },
  {
   "cell_type": "markdown",
   "metadata": {
    "editable": true,
    "slideshow": {
     "slide_type": ""
    },
    "tags": []
   },
   "source": [
    "\n",
    "b. Create the variable `k` which had value an integer such that the zero sum game defined by:\n",
    "\n",
    "$$k A$$\n",
    "\n",
    "has the same Nash equilibria as the previous game.\n",
    "\n",
    "_Available marks: 6_"
   ]
  },
  {
   "cell_type": "code",
   "execution_count": 15,
   "metadata": {
    "editable": true,
    "slideshow": {
     "slide_type": ""
    },
    "tags": [
     "answer:q2-b"
    ]
   },
   "outputs": [
    {
     "data": {
      "text/plain": [
       "[(array([4.00000000e-01, 0.00000000e+00, 9.43689571e-17, 6.00000000e-01]),\n",
       "  array([0. , 0.8, 0.2, 0. ]))]"
      ]
     },
     "execution_count": 15,
     "metadata": {},
     "output_type": "execute_result"
    }
   ],
   "source": [
    "### BEGIN SOLUTION\n",
    "k = 4\n",
    "game = nash.Game(k * A)\n",
    "list(game.support_enumeration())\n",
    "### END SOLUTION"
   ]
  },
  {
   "cell_type": "markdown",
   "metadata": {
    "editable": true,
    "slideshow": {
     "slide_type": ""
    },
    "tags": []
   },
   "source": [
    "3. Create a variable `list_of_k` which has value the list of **all** values of `k` which gives a **different** equilibria.\n",
    "\n",
    "_Available marks: 6_"
   ]
  },
  {
   "cell_type": "code",
   "execution_count": 17,
   "metadata": {
    "editable": true,
    "slideshow": {
     "slide_type": ""
    },
    "tags": [
     "answer:q2-c"
    ]
   },
   "outputs": [
    {
     "name": "stderr",
     "output_type": "stream",
     "text": [
      "/Users/smavak/Library/Python/3.11/lib/python/site-packages/nashpy/algorithms/support_enumeration.py:259: RuntimeWarning: \n",
      "An even number of (16) equilibria was returned. This\n",
      "indicates that the game is degenerate. Consider using another algorithm\n",
      "to investigate.\n",
      "                  \n",
      "  warnings.warn(warning, RuntimeWarning)\n"
     ]
    },
    {
     "data": {
      "text/plain": [
       "[(array([1., 0., 0., 0.]), array([1., 0., 0., 0.])),\n",
       " (array([1., 0., 0., 0.]), array([0., 1., 0., 0.])),\n",
       " (array([1., 0., 0., 0.]), array([0., 0., 1., 0.])),\n",
       " (array([1., 0., 0., 0.]), array([0., 0., 0., 1.])),\n",
       " (array([0., 1., 0., 0.]), array([1., 0., 0., 0.])),\n",
       " (array([0., 1., 0., 0.]), array([0., 1., 0., 0.])),\n",
       " (array([0., 1., 0., 0.]), array([0., 0., 1., 0.])),\n",
       " (array([0., 1., 0., 0.]), array([0., 0., 0., 1.])),\n",
       " (array([0., 0., 1., 0.]), array([1., 0., 0., 0.])),\n",
       " (array([0., 0., 1., 0.]), array([0., 1., 0., 0.])),\n",
       " (array([0., 0., 1., 0.]), array([0., 0., 1., 0.])),\n",
       " (array([0., 0., 1., 0.]), array([0., 0., 0., 1.])),\n",
       " (array([0., 0., 0., 1.]), array([1., 0., 0., 0.])),\n",
       " (array([0., 0., 0., 1.]), array([0., 1., 0., 0.])),\n",
       " (array([0., 0., 0., 1.]), array([0., 0., 1., 0.])),\n",
       " (array([0., 0., 0., 1.]), array([0., 0., 0., 1.]))]"
      ]
     },
     "execution_count": 17,
     "metadata": {},
     "output_type": "execute_result"
    }
   ],
   "source": [
    "### BEGIN SOLUTION\n",
    "list_of_k = [0]\n",
    "game = nash.Game(0 * A)\n",
    "list(game.support_enumeration())\n",
    "### END SOLUTION"
   ]
  },
  {
   "cell_type": "markdown",
   "metadata": {
    "editable": true,
    "slideshow": {
     "slide_type": ""
    },
    "tags": []
   },
   "source": [
    "### Question 3\n",
    "\n",
    "Consider the Moran process on the following game\n",
    "\n",
    "$$\n",
    "    A = \\begin{pmatrix}1 & 3 \\\\ 2 & 1\\end{pmatrix}\n",
    "$$\n",
    "\n",
    "with the following initial population:\n",
    "\n",
    "$$\n",
    "x_0 = \\begin{pmatrix}k & 10 - k\\end{pmatrix}\n",
    "$$\n",
    "\n",
    "for some integer value of $0<k<10$\n",
    "\n",
    "a. create a variable `probabilities` which has value the fixation probabilities of the simulated [Moran process](https://nashpy.readthedocs.io/en/stable/how-to/obtain-fixation-probabilities.html) (using the given repetitions and random seed) for $k=1$.\n",
    "\n",
    "\n",
    "_Available marks: 5_"
   ]
  },
  {
   "cell_type": "code",
   "execution_count": 21,
   "metadata": {
    "editable": true,
    "slideshow": {
     "slide_type": ""
    },
    "tags": [
     "answer:q3-a"
    ]
   },
   "outputs": [],
   "source": [
    "seed = 0\n",
    "repetitions = 500\n",
    "\n",
    "### BEGIN SOLUTION\n",
    "A = np.array(((1, 3), (2, 1)))\n",
    "initial_population = [0] * 1 + [1] * 9\n",
    "game = nash.Game(A)\n",
    "\n",
    "np.random.seed(seed)\n",
    "probabilities = game.fixation_probabilities(initial_population=initial_population, repetitions=repetitions)\n",
    "### END SOLUTION"
   ]
  },
  {
   "cell_type": "markdown",
   "metadata": {
    "editable": true,
    "slideshow": {
     "slide_type": ""
    },
    "tags": []
   },
   "source": [
    "b. Create a variable `fixation_probabilities` which has value a list of probabilities that the individuals of the second type become fixed for all possible values of $k$ (using the same number of repetitions and the same seed).\n",
    "\n",
    "_Available marks: 15_"
   ]
  },
  {
   "cell_type": "code",
   "execution_count": 25,
   "metadata": {
    "editable": true,
    "slideshow": {
     "slide_type": ""
    },
    "tags": [
     "answer:q3-b"
    ]
   },
   "outputs": [
    {
     "data": {
      "image/png": "[encoded data removed]",
      "text/plain": [
       "<Figure size 640x480 with 1 Axes>"
      ]
     },
     "metadata": {},
     "output_type": "display_data"
    }
   ],
   "source": [
    "import matplotlib.pyplot as plt\n",
    "\n",
    "values_of_k = list(range(1, 10))\n",
    "\n",
    "### BEGIN SOLUTION\n",
    "fixation_probabilities = []\n",
    "for k in values_of_k:\n",
    "    initial_population = [0] * k + [1] * (10 - k)\n",
    "    np.random.seed(seed)\n",
    "    probabilities = game.fixation_probabilities(initial_population=initial_population, repetitions=repetitions)\n",
    "    fixation_probabilities.append(probabilities[tuple([1] * 10)])\n",
    "fixation_probabilities\n",
    "### END SOLUTION\n",
    "\n",
    "plt.figure()\n",
    "plt.scatter(values_of_k, fixation_probabilities)\n",
    "plt.xlabel(\"Initial number of mutants\")\n",
    "plt.ylabel(\"Probability of taking over the population\");"
   ]
  },
  {
   "cell_type": "markdown",
   "metadata": {
    "editable": true,
    "slideshow": {
     "slide_type": ""
    },
    "tags": []
   },
   "source": [
    "### Question 4\n",
    "\n",
    "Consider he repeated game obtained by repeating the game defined by the following matrices 3 times:\n",
    "\n",
    "$$\n",
    "A = \\begin{pmatrix}0 & 3\\\\ 1 & 2\\end{pmatrix}\n",
    "\\qquad\n",
    "B = \\begin{pmatrix}2 & 1\\\\ 0 & 2\\end{pmatrix}\n",
    "$$\n",
    "\n",
    "\n",
    "a. Create a variable `game` which has value the repeated game.\n",
    "\n",
    "_Available marks: 8_"
   ]
  },
  {
   "cell_type": "code",
   "execution_count": 29,
   "metadata": {
    "editable": true,
    "slideshow": {
     "slide_type": ""
    },
    "tags": [
     "answer:q4-a"
    ]
   },
   "outputs": [],
   "source": [
    "import nashpy.repeated_games\n",
    "\n",
    "A = np.array(((0, 3), (1, 2)))\n",
    "B = np.array(((2, 1), (0, 2)))\n",
    "### BEGIN SOLUTION\n",
    "stage_game = nash.Game(A, B)\n",
    "game = nashpy.repeated_games.obtain_repeated_game(game=stage_game, repetitions=2)\n",
    "### END SOLUTION"
   ]
  },
  {
   "cell_type": "markdown",
   "metadata": {
    "editable": true,
    "slideshow": {
     "slide_type": ""
    },
    "tags": []
   },
   "source": [
    "b. Use [stochastic fictitious play](https://nashpy.readthedocs.io/en/stable/text-book/stochastic-fictitious-play.html) to create a variable `play_counts_and_distributions` which has value a generator that yields the play counts and the distributions for the given `seed` and `iterations`.\n",
    "\n",
    "_Available marks: 12_"
   ]
  },
  {
   "cell_type": "code",
   "execution_count": 32,
   "metadata": {
    "editable": true,
    "slideshow": {
     "slide_type": ""
    },
    "tags": [
     "answer:q4-b"
    ]
   },
   "outputs": [],
   "source": [
    "seed = 0\n",
    "iterations = 50_000\n",
    "\n",
    "### BEGIN SOLUTION\n",
    "np.random.seed(seed=seed)\n",
    "play_counts_and_distributions = game.stochastic_fictitious_play(iterations=iterations)\n",
    "### END SOLUTION"
   ]
  }
 ],
 "metadata": {
  "celltoolbar": "Tags",
  "kernelspec": {
   "display_name": "Python 3 (ipykernel)",
   "language": "python",
   "name": "python3"
  },
  "language_info": {
   "codemirror_mode": {
    "name": "ipython",
    "version": 3
   },
   "file_extension": ".py",
   "mimetype": "text/x-python",
   "name": "python",
   "nbconvert_exporter": "python",
   "pygments_lexer": "ipython3",
   "version": "3.10.11"
  }
 },
 "nbformat": 4,
 "nbformat_minor": 4
}
