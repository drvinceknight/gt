{
 "cells": [
  {
   "cell_type": "markdown",
   "metadata": {},
   "source": [
    "### Game Theory - mock individual coursework\n",
    "\n",
    "**Important** Do not delete the cells containing: \n",
    "\n",
    "```\n",
    "### BEGIN SOLUTION\n",
    "\n",
    "\n",
    "### END SOLUTION\n",
    "```\n",
    "\n",
    "write your solution attempts in those cells.\n",
    "\n",
    "To submit this notebook:\n",
    "\n",
    "- Change the name of the notebook from `main` to: `<student_number>`. For example, if your student number is `c1234567` then change the name of the notebook to `c1234567`.\n",
    "- **Write all your solution attempts in the correct locations**;\n",
    "- **Do not delete** any code that is already in the cells;\n",
    "- Save the notebook (`File>Save As`);\n",
    "- Follow the instructions given to submit."
   ]
  },
  {
   "cell_type": "markdown",
   "metadata": {},
   "source": [
    "#### Question 1\n",
    "\n",
    "For each of the following pairs of matrices, for the corresponding normal form game use [support enumeration](https://nashpy.readthedocs.io/en/stable/how-to/solve-with-support-enumeration.html) to output all Nash equilibria as a list.\n",
    "\n",
    "a. \\\\(\n",
    "    A = \\begin{pmatrix}1 & 2 \\\\ 2 & 1\\end{pmatrix}\n",
    "    \\qquad\n",
    "    B = \\begin{pmatrix}3 & 2 \\\\ 2 & 5\\end{pmatrix}\n",
    "    \\\\)\n",
    "\n",
    "Available marks: 2"
   ]
  },
  {
   "cell_type": "code",
   "execution_count": 57,
   "metadata": {
    "tags": [
     "answer:q1-a"
    ]
   },
   "outputs": [],
   "source": [
    "import nashpy as nash\n",
    "import numpy as np\n",
    "\n",
    "### BEGIN SOLUTION\n",
    "\n",
    "\n",
    "### END SOLUTION"
   ]
  },
  {
   "cell_type": "markdown",
   "metadata": {},
   "source": [
    "b. a. \\\\(\n",
    "    A = \\begin{pmatrix}-1 & 2 & 3\\\\ 4 & -2 & 1 \\\\ 5 & -1 & 2\\end{pmatrix}\n",
    "    \\qquad\n",
    "    B = -A\n",
    "    \\\\)\n",
    "\n",
    "_Available marks: 2_"
   ]
  },
  {
   "cell_type": "code",
   "execution_count": 58,
   "metadata": {
    "tags": [
     "answer:q1-b"
    ]
   },
   "outputs": [],
   "source": [
    "### BEGIN SOLUTION\n",
    "\n",
    "\n",
    "### END SOLUTION"
   ]
  },
  {
   "cell_type": "markdown",
   "metadata": {},
   "source": [
    "c. a. \\\\(\n",
    "    A = \\begin{pmatrix}-1 & 2 & 3\\\\ 4 & -2 & 1\\end{pmatrix}\n",
    "    \\qquad\n",
    "    B = \\begin{pmatrix}-2 & 4 & 3\\\\ 4 & -3 & 1\\end{pmatrix}\n",
    "    \\\\)\n",
    "\n",
    "_Available marks: 2_"
   ]
  },
  {
   "cell_type": "code",
   "execution_count": 60,
   "metadata": {
    "tags": [
     "answer:q1-c"
    ]
   },
   "outputs": [],
   "source": [
    "### BEGIN SOLUTION\n",
    "\n",
    "\n",
    "### END SOLUTION"
   ]
  },
  {
   "cell_type": "markdown",
   "metadata": {},
   "source": [
    "### Question 2\n",
    "\n",
    "\n",
    "a. Create a variable `A` which has value the [payoff matrix](https://axelrod.readthedocs.io/en/stable/how-to/access_tournament_results.html#payoff-matrix) for a prisoners dilemma tournament with 200 turns between the strategies in `strategies`\n",
    "\n",
    "_Available marks: 5_"
   ]
  },
  {
   "cell_type": "code",
   "execution_count": 69,
   "metadata": {
    "tags": [
     "answer:q2-a"
    ]
   },
   "outputs": [],
   "source": [
    "import axelrod as axl\n",
    "\n",
    "players = (\n",
    "    axl.AntiTitForTat(),\n",
    "    axl.APavlov2011(),\n",
    "    axl.EvolvedANN5(),\n",
    "    axl.Winner21(),\n",
    "    axl.WinStayLoseShift(),\n",
    "    axl.TitForTat()\n",
    ")\n",
    "\n",
    "### BEGIN SOLUTION\n",
    "\n",
    "\n",
    "### END SOLUTION"
   ]
  },
  {
   "cell_type": "markdown",
   "metadata": {},
   "source": [
    "b. Using `A`, output a list containing all the Nash equilibria for the associated symmetric 2 player game.\n",
    "\n",
    "_Available marks: 3_"
   ]
  },
  {
   "cell_type": "code",
   "execution_count": 70,
   "metadata": {},
   "outputs": [],
   "source": [
    "### BEGIN SOLUTION\n",
    "\n",
    "\n",
    "### END SOLUTION"
   ]
  },
  {
   "cell_type": "markdown",
   "metadata": {},
   "source": [
    "### Question 3\n",
    "\n",
    "Consider the repeated game over two stages $T = 2$ with the following matrices giving the stage game:\n",
    "\n",
    "$$\n",
    "A = \\begin{pmatrix}\n",
    "        2 & -2 \\\\\n",
    "        -2 & 4\n",
    "    \\end{pmatrix}\n",
    "\\qquad\n",
    "B = \\begin{pmatrix}\n",
    "        -3 & 2 \\\\\n",
    "        1 & -2\n",
    "    \\end{pmatrix}\n",
    "$$\n",
    "\n",
    "a. Using the convention that the tuple `(0, 0)` represents the strategy of playing the first action twice and `(1, 0)` represents the strategy of playing the first strategy and then the first. Create a variable `strategy_space` which is a tuple containing all strategies of the repeated game.\n",
    "\n",
    "_Available marks: 10_"
   ]
  },
  {
   "cell_type": "code",
   "execution_count": 71,
   "metadata": {
    "tags": [
     "answer:q3-a"
    ]
   },
   "outputs": [],
   "source": [
    "### BEGIN SOLUTION\n",
    "\n",
    "\n",
    "### END SOLUTION\n",
    "\n",
    "assert len(strategy_space) == 4, \"The `strategy_space` value should have length 4\""
   ]
  },
  {
   "cell_type": "markdown",
   "metadata": {},
   "source": [
    "b. Create two variables `A_star` and `B_star` that have values the payoff matrices of normal form game that represents the repeated game.\n",
    "\n",
    "_Available marks: 4_"
   ]
  },
  {
   "cell_type": "code",
   "execution_count": 76,
   "metadata": {
    "tags": [
     "answer:q3-b"
    ]
   },
   "outputs": [],
   "source": [
    "### BEGIN SOLUTION\n",
    "\n",
    "\n",
    "### END SOLUTION"
   ]
  },
  {
   "cell_type": "markdown",
   "metadata": {},
   "source": [
    "c. For the corresponding normal form game use support enumeration to output all Nash equilibria as a list.\n",
    "\n",
    "_available marks: 2_"
   ]
  },
  {
   "cell_type": "code",
   "execution_count": 77,
   "metadata": {
    "tags": [
     "answer:q3-c"
    ]
   },
   "outputs": [],
   "source": [
    "### BEGIN SOLUTION\n",
    "\n",
    "\n",
    "### END SOLUTION"
   ]
  },
  {
   "cell_type": "markdown",
   "metadata": {},
   "source": [
    "### Question 4\n",
    "\n",
    "For [matching pennies](https://vknight.org/gt/chapters/01/#Matching-pennies) create a variable `equilibria` with value a list with all Nash equilibria that can be obtained using all possible initial dropped labels of the [Lemke-Howson algorithm](https://nashpy.readthedocs.io/en/stable/discussion/lemke-howson.html#the-lemke-howson-algorithm). (**Note** the Lemke-Howson algorithm is not covered in the course).\n",
    "\n",
    "\n",
    "_Available marks: 5_"
   ]
  },
  {
   "cell_type": "code",
   "execution_count": 78,
   "metadata": {
    "tags": [
     "answer:q4"
    ]
   },
   "outputs": [],
   "source": [
    "### BEGIN SOLUTION\n",
    "\n",
    "\n",
    "### END SOLUTION"
   ]
  }
 ],
 "metadata": {
  "celltoolbar": "Tags",
  "kernelspec": {
   "display_name": "Python 3",
   "language": "python",
   "name": "python3"
  },
  "language_info": {
   "codemirror_mode": {
    "name": "ipython",
    "version": 3
   },
   "file_extension": ".py",
   "mimetype": "text/x-python",
   "name": "python",
   "nbconvert_exporter": "python",
   "pygments_lexer": "ipython3",
   "version": "3.8.3"
  }
 },
 "nbformat": 4,
 "nbformat_minor": 4
}
